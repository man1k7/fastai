{
 "cells": [
  {
   "cell_type": "code",
   "execution_count": 1,
   "metadata": {},
   "outputs": [],
   "source": [
    "%reload_ext autoreload\n",
    "%autoreload 2\n",
    "%matplotlib inline"
   ]
  },
  {
   "cell_type": "markdown",
   "metadata": {},
   "source": [
    "## Translation files"
   ]
  },
  {
   "cell_type": "code",
   "execution_count": 3,
   "metadata": {},
   "outputs": [],
   "source": [
    "from fastai.text import *\n",
    "\n",
    "import warnings\n",
    "warnings.filterwarnings(\"ignore\")"
   ]
  },
  {
   "cell_type": "markdown",
   "metadata": {},
   "source": [
    "French/English parallel texts from http://www.statmt.org/wmt15/translation-task.html .  It was created by Chris Callison-Burch, who crawled millions of web pages and then used *a set of simple heuristics to transform French URLs onto English URLs (i.e. replacing \"fr\" with \"en\" and about 40 other hand-written rules), and assume that these documents are translations of each other*."
   ]
  },
  {
   "cell_type": "code",
   "execution_count": 4,
   "metadata": {},
   "outputs": [],
   "source": [
    "PATH = Path('/fastai/data/translate')\n",
    "TMP_PATH = PATH/'tmp'\n",
    "TMP_PATH.mkdir()\n",
    "fname = 'giga-fren.release2.fixed'\n",
    "en_fname = PATH/f'{fname}.en'\n",
    "fr_fname = PATH/f'{fname}.fr'"
   ]
  },
  {
   "cell_type": "code",
   "execution_count": 6,
   "metadata": {},
   "outputs": [],
   "source": [
    "re_eq = re.compile('^(Wh[^?.!]+\\?)')\n",
    "re_fq = re.compile('^([^?.!]+\\?)')\n",
    "\n",
    "lines = ((re_eq.search(eq), re_fq.search(fq))\n",
    "          for eq,fq in zip(open(str(en_fname), encoding='utf-8'), open(str(fr_fname), encoding='utf-8')))\n",
    "qs = [(e.group(), f.group()) for e,f in lines if e and f]"
   ]
  },
  {
   "cell_type": "code",
   "execution_count": 200,
   "metadata": {},
   "outputs": [
    {
     "data": {
      "text/plain": [
       "52331"
      ]
     },
     "execution_count": 200,
     "metadata": {},
     "output_type": "execute_result"
    }
   ],
   "source": [
    "len(qs)"
   ]
  },
  {
   "cell_type": "code",
   "execution_count": 198,
   "metadata": {},
   "outputs": [
    {
     "data": {
      "text/plain": [
       "-1"
      ]
     },
     "execution_count": 198,
     "metadata": {},
     "output_type": "execute_result"
    }
   ],
   "source": [
    "matN = -1\n",
    "for i in range(len(qs)):\n",
    "    if \"what can not change ?\" in qs[i][0]: \n",
    "        matN = i\n",
    "        break\n",
    "        \n",
    "matN        "
   ]
  },
  {
   "cell_type": "code",
   "execution_count": 190,
   "metadata": {},
   "outputs": [
    {
     "data": {
      "text/plain": [
       "[199]"
      ]
     },
     "execution_count": 190,
     "metadata": {},
     "output_type": "execute_result"
    }
   ],
   "source": [
    "matchSt"
   ]
  },
  {
   "cell_type": "code",
   "execution_count": 197,
   "metadata": {},
   "outputs": [
    {
     "data": {
      "text/plain": [
       "'Where do you go, what do you do, who will take you?'"
      ]
     },
     "execution_count": 197,
     "metadata": {},
     "output_type": "execute_result"
    }
   ],
   "source": [
    "qs[17297][0]"
   ]
  },
  {
   "cell_type": "code",
   "execution_count": 9,
   "metadata": {},
   "outputs": [
    {
     "data": {
      "text/plain": [
       "[('What is light ?', 'Qu’est-ce que la lumière?'),\n",
       " ('Who are we?', 'Où sommes-nous?'),\n",
       " ('Where did we come from?', \"D'où venons-nous?\"),\n",
       " ('What would we do without it?', 'Que ferions-nous sans elle ?'),\n",
       " ('What is the absolute location (latitude and longitude) of Badger, Newfoundland and Labrador?',\n",
       "  'Quelle sont les coordonnées (latitude et longitude) de Badger, à Terre-Neuve-etLabrador?'),\n",
       " ('What is the major aboriginal group on Vancouver Island?',\n",
       "  'Quel est le groupe autochtone principal sur l’île de Vancouver?'),\n",
       " ('What are the advantages and disadvantages of using an online atlas versus a paper atlas?',\n",
       "  'Quels sont les avantages et les désavantages d’utiliser un atlas en ligne comparativement à un atlas en copie papier?'),\n",
       " ('What types of land cover are associated with the colours below?',\n",
       "  'À quel type de couverture des terres associez-vous les couleurs ci-dessous?'),\n",
       " ('What is the population of Canada?', 'Quelle est la population du Canada ?'),\n",
       " ('Which province is the most populated?',\n",
       "  'Quelle est la province la plus peuplée ?'),\n",
       " ('Which province has the highest population density?',\n",
       "  'Quelle est la province ayant la plus forte densité de population ?'),\n",
       " ('Which province is the least populated?',\n",
       "  'Quelle est la province la moins peuplée ?'),\n",
       " ('Which territory is the least populated?',\n",
       "  'Quelle est le territoire le moins peuplé ?'),\n",
       " ('What is the population of Aboriginal people in Canada?',\n",
       "  'Quelle est la population autochtone au Canada ?'),\n",
       " ('What is the percentage of Canadians who speak English as their first language?',\n",
       "  'Quel est le pourcentage de Canadiens ayant l’anglais comme langue maternelle ?'),\n",
       " ('What is the percentage of Canadians who speak French as their first language?',\n",
       "  'Quel est le pourcentage de Canadiens ayant le français comme langue maternelle ?'),\n",
       " ('What is the percentage of Canadians born in other countries?',\n",
       "  'Quel est le pourcentage de Canadiens nés à l’étranger ?'),\n",
       " ('What percentage of the Canadian population is female?',\n",
       "  'Quel est le pourcentage de femmes au sein de la population canadienne ?'),\n",
       " ('What percentage of the Canadian population is male?',\n",
       "  'Quel est le pourcentage d’hommes au sein de la population canadienne?'),\n",
       " (\"What is Canada's population density?\",\n",
       "  'Quelle est la densité de la population canadienne?'),\n",
       " ('Why?', 'Pourquoi ?'),\n",
       " (\"What is Canada's population density?\",\n",
       "  'Quelle est la densité de population au Canada ?'),\n",
       " ('Why?', 'Pourquoi?'),\n",
       " ('What services are provided free of charge?',\n",
       "  'Quels services fournit-il gratuitement?'),\n",
       " ('Why is this of any relevance to potential Canadian exporters?',\n",
       "  'Pourquoi cela intéresse-t-il les exportateurs canadiens éventuels?'),\n",
       " ('What to expect?', \"À quoi faut-il s'attendre?\"),\n",
       " ('What needs to be done?', 'Que faut-il faire?'),\n",
       " ('Which subsector contributed to the growth in the 1990s and early 2000s?',\n",
       "  'Quels sous-secteurs y ont le plus contribué dans les années 1990 et au début des années 2000?'),\n",
       " ('Why the influx of imported vegetables?',\n",
       "  \"Qu'est-ce qui explique l'afflux de légumes importés?\"),\n",
       " ('What is their current product portfolio?',\n",
       "  'Quel est leur portefeuille actuel de produits?'),\n",
       " (\"What's New?\", 'Quoi de neuf?'),\n",
       " ('What is the Canada brand?', \"Qu'est-ce que l'image de marque Canada?\"),\n",
       " (\"What's in it for me?\", 'Quels en sont les avantages pour moi?'),\n",
       " (\"What's in it for the sector?\",\n",
       "  'Quels en sont les avantages pour le secteur?'),\n",
       " ('Who can use the Canada brand?',\n",
       "  \"Qui peut utiliser l'image de marque Canada?\"),\n",
       " ('Who is the best?', 'Qui est le meilleur?'),\n",
       " ('Who sets the standards?', 'Qui détermine les normes de l’industrie?'),\n",
       " ('Where do our competitors stand?',\n",
       "  'Quelle est notre position en comparaison de nos concurrents?'),\n",
       " ('Where is the Fishery Now?', 'Où en est cette pêche maintenant?'),\n",
       " ('Why should we change when it’s not our fault?',\n",
       "  'Pourquoi devrions-nous changer quand ce n’est pas de notre faute?'),\n",
       " (\"What is the Government of Canada's role in food safety?\",\n",
       "  'Quel est le rôle du gouvernement du Canada?'),\n",
       " ('What is a Medicine/Borderline product?',\n",
       "  'What is a Medicine/Borderline product?'),\n",
       " ('What does this mean to the Canadian supply chain?',\n",
       "  'Qu’est-ce que cela signifie pour la chaîne d’approvisionnement canadienne?'),\n",
       " ('What does this really mean for Canadian processors and exporters?',\n",
       "  'Qu’est ce que cela signifie vraiment pour les fabricants et les exportateurs canadiens?'),\n",
       " ('What other marketing tools would be useful to increase Canada’s visibility in the world and promote your products/services?',\n",
       "  'Quels seraient les autres outils utiles pour accroître la visibilité du Canada dans le monde entier et pour promouvoir vos produits et services?'),\n",
       " ('What, if anything, could the Pavilion do in order to enhance your organization’s overall experience in participating as part of the Canada Pavilion in the future?',\n",
       "  'Qu’est-ce que le pavillon pourrait faire, le cas échéant, pour améliorer la participation de votre organisation à l’avenir?'),\n",
       " ('What was the single best thing about the Show?',\n",
       "  'Qu’est-ce que vous avez le plus aimé à propos de la foire commerciale?'),\n",
       " ('What was the single worst thing about the Show?',\n",
       "  'Qu’est-ce que vous avez le moins aimé à propos de la foire commerciale?'),\n",
       " ('Why participate in the CAF?', 'Pourquoi participer à la CAF?'),\n",
       " ('Why join the Canada Pavilion?',\n",
       "  'Pourquoi prendre part au Pavillon du Canada?'),\n",
       " ('Who can I expect to meet?', \"Qui dois-je m'attendre à rencontrer?\"),\n",
       " ('What products do well at FHA2008?',\n",
       "  'Quels produits se vendront bien au salon FHA2008?'),\n",
       " ('Why should I be in the Canadian Pavilion?',\n",
       "  'Pourquoi devrais-je être au Pavillon du Canada?'),\n",
       " ('What is the Canada Food Expo?',\n",
       "  'En quoi consiste le Salon de l’alimentation du Canada?'),\n",
       " ('Why FHA2004?', 'Pourquoi participer au FHA2004?'),\n",
       " ('Why is Canada Such a Great Place to Do Business?',\n",
       "  'Pourquoi le Canada est-il un endroit rêvé pour faire des affaires?'),\n",
       " ('What is the criteria for immigration and whom should I contact for more information?',\n",
       "  \"Quels sont les critères d'immigration et où devrais-je m'adresser pour obtenir plus d'information?\"),\n",
       " ('Who can assist me with questions relating to establishing a business in Canada?',\n",
       "  \"Qui peut répondre à mes questions concernant l'implantation d'une entreprise au Canada?\"),\n",
       " (\"What's at Stake for Developing Countries?\",\n",
       "  \"What's at Stake for Developing Countries?\"),\n",
       " ('What Exporters should do?', 'Que devraient faire les exportateurs?'),\n",
       " ('What is being traded?', 'En quoi consistent les échanges?'),\n",
       " ('What if I am unsure how much of my crop will be sold as organic, and how much will be sold as conventional?',\n",
       "  \"Qu'arrive-t-il si je ne suis pas certain de la quantité de grain que je vendrai comme grain biologique et comme grain conventionnel?\"),\n",
       " ('What happens if I complete a delivery contract and later do a PDS sale?',\n",
       "  \"Qu'arrive-t-il si je conclus un contrat de livraison et que plus tard j'effectue une vente directe?\"),\n",
       " ('What type of program do you expect from a manufacturer?',\n",
       "  \"Quel type de programme attendez-vous d'un fabricant?\"),\n",
       " (\"What goes into the manufacturer's final price or quoted cost?\",\n",
       "  \"Que comprend le prix final ou le coût indiqué d'un fabricant?\"),\n",
       " ('What type of commitment are you seeking from whom once a product is listed?',\n",
       "  \"Quel type d'engagement recherchez-vous et de qui une fois les frais de présentation payés?\"),\n",
       " ('What type of frozen (or other) products are you seeking?',\n",
       "  'Quels types de produits surgelés ou autres recherchez-vous?'),\n",
       " ('Who is the Distributor?', \"Qu'est-ce qu'un distributeur?\"),\n",
       " ('What Products Do Distributors Sell?',\n",
       "  'Quels produits les distributeurs vendent-ils?'),\n",
       " ('Where will the canned market go?',\n",
       "  'Où s’en va le marché des aliments en conserve?'),\n",
       " ('What will your competition be doing?', 'Que feront vos concurrents?'),\n",
       " ('What will sell in that market?',\n",
       "  \"Qu'est-ce qui se vend bien sur ce marché?\"),\n",
       " ('What will sell in the market?',\n",
       "  \"Qu'est-ce qui se vend bien sur ce marché?\"),\n",
       " ('What is the approximate selling price of your product?',\n",
       "  'Quel est le prix de vente approximatif de votre produit?'),\n",
       " ('What will it take to have them perceive, and accept the product?',\n",
       "  \"Comment faire en sorte que ces personnes aient la bonne perception de votre produit et qu'elles l'acceptent?\"),\n",
       " ('Who is the Distributor?', 'Qu’est-ce qu’un distributeur?'),\n",
       " ('What will happen if a shipment arrives at the border and this information has not been provided?',\n",
       "  'Que se passera-t-il si un envoi arrive B la frontiPre et que les renseignements n’ont pas été communiqués?'),\n",
       " ('When can prior notice be provided?',\n",
       "  'A quel moment peut-on envoyer la déclaration préalable?'),\n",
       " ('Where can I obtain more information concerning these rules?',\n",
       "  'Oj puis-je obtenir plus d’information sur cette réglementation?'),\n",
       " ('Which timeline must I follow?', 'Quel calendrier dois-je suivre?'),\n",
       " (\"What is Canada's position vis-B-vis the new FDA rules?\",\n",
       "  'Quelle est la position du Canada B l’égard de la nouvelle réglementation de la FDA?'),\n",
       " ('What should we start?', 'Dans quoi se lance-t-on?'),\n",
       " ('Which target market(s)?', 'Quel(s) marché(s) cibler?'),\n",
       " ('What can we use to judge if something is a reliable source?',\n",
       "  'Que pouvons-nous utiliser pour juger si quelque chose est une source fiable?'),\n",
       " ('What would you like?', 'Que préfériez-vous?'),\n",
       " ('What should we consider \"fact\" and what should we consider \"legend\"?',\n",
       "  'Que devrions-nous considérer des « faits » et que devrions-nous considérer des « légendes »?'),\n",
       " ('What does this mean for you?', 'Qu’est-ce que cela signifie pour vous?'),\n",
       " ('Why should you be interested in a career in automotive manufacturing?',\n",
       "  'Pourquoi une carrière en fabrication automobile pourrait-elle vous intéresser?'),\n",
       " ('Why suggest a career in automotive manufacturing?',\n",
       "  'Pourquoi suggérer une carrière en fabrication automobile?'),\n",
       " ('What is the Council for Automotive Human Resources (CAHR)?',\n",
       "  'Qu’est-ce que le Conseil des ressources humaines de l’automobile (CRHA)?'),\n",
       " ('What is a Sector Council?', 'Qu’est-ce qu’un conseil sectoriel?'),\n",
       " ('Why was CAHR formed?', 'Pourquoi le CRHA a-t-il été fondé?'),\n",
       " (\"What is CAHR's mandate?\", 'Quel est le mandat du CRHA?'),\n",
       " (\"What is CAHR's Mission and Vision?\",\n",
       "  'Quelles sont la mission et la vision du CRHA?'),\n",
       " ('What does CAHR do for the automotive manufacturing industry in Canada?',\n",
       "  'Qu’accomplit le CRHA pour l’industrie de la fabrication automobile au canada?'),\n",
       " ('Who does CAHR work for?',\n",
       "  'À qui les produits et services du CRHA s’adressent-ils?'),\n",
       " (\"Who are the members of CAHR's Board of Directors?\",\n",
       "  'Qui sont les membres du Conseil d’administration du CRHA?'),\n",
       " ('Where can I find the First Nation Profiles?',\n",
       "  'Quel est la définition de citoyen « aîné » pour le gouvernement du Canada?'),\n",
       " ('Where can I find information about Internet connectivity in Canadian Aboriginal communities?',\n",
       "  \"Comment puis-je faire une demande de carte d'identité de Sécurité de la vieillesse?\"),\n",
       " (\"Where are Canada's peacekeepers active in the world?\",\n",
       "  \"Y a t-il de l'aide financière disponible pour les aînés à faible revenu vivants séparés involontairement?\"),\n",
       " ('Where can I find information about programs and services for children?',\n",
       "  'Où puis-je trouver des renseignements au sujet de la connectivité Internet dans les collectivités autochtones du Canada?'),\n",
       " ('Where can I find help?',\n",
       "  'Je cherche des renseignements sur les échanges; où puis-je en trouver?'),\n",
       " ('What is monetary policy and who determines it?',\n",
       "  \"Où puis-je trouver de l'information sur les indicateurs économiques les plus récents?\"),\n",
       " ('Where can I find information on the latest economic indicators?',\n",
       "  'Où puis-je trouver des données sur les tendances concernant les industries canadiennes?'),\n",
       " ('Where can I find out about trends in Canadian industry?',\n",
       "  'Pourquoi le commerce international est-il important pour le Canada?'),\n",
       " ('Where can I find information about environmental assessments?',\n",
       "  'Comment trouver un emploi?'),\n",
       " ('Where can I find out about sustainable development in Canada?',\n",
       "  'Comment trouver les normes du travail qui me concernent?'),\n",
       " ('Where can I find weather forecasts?',\n",
       "  \"Comment trouver de l'information sur les façons d'améliorer mes compétences?\"),\n",
       " (\"Where can I learn about Canada's agricultural production?\",\n",
       "  'Comment faire un choix de carrière?'),\n",
       " ('What is a Registered Education Savings Plan (RESP)?',\n",
       "  'Êtes-vous préoccupé au sujet de la sécurité du dispositif de retenue pour enfants dans les voitures?'),\n",
       " ('What kinds of foods will contribute to better health?',\n",
       "  'Où puis-je obtenir des renseignements sur le développement durable au Canada?'),\n",
       " ('Where can I find advisories for food, drugs, medical devices, natural health products and consumer products?',\n",
       "  'Où puis-je obtenir des renseignements sur les évaluations environnementales?'),\n",
       " ('What should I do after losing my wallet?',\n",
       "  \"Comment produire une déclaration d'impôt?\"),\n",
       " ('Where can I find information about living in Canada and adapting to Canadian life?',\n",
       "  'Êtes-vous préocupé au sujet de la sécurité du dispositif de retenue pour enfants dans les voitures?'),\n",
       " ('Where should I send the information?',\n",
       "  'Comment puis-je trouver un emploi au Canada?'),\n",
       " ('Where can I discuss rural issues with other rural Canadians?',\n",
       "  \"Comment puis-je obtenir de l'aide pour rendre ma maison accessible aux personnes handicapées?\"),\n",
       " ('What assistance programs exist for science and technology research?',\n",
       "  \"Comment faire une demande pour un prêt d'études canadien?\"),\n",
       " ('Where can I find information about biotechnology?',\n",
       "  \"Comment faire une demande de numéro d'assurance sociale?\"),\n",
       " ('What programs are available for seniors on fixed incomes who need to make improvements in their homes?',\n",
       "  \"Quels genres d'aliments devrais-je choisir qui pourraient contribuer à protéger et améliorer la santé?\"),\n",
       " ('What can I bring back into Canada from my travels?',\n",
       "  \"Puis-je enregistrer mes armes à feu au moyen de l'Internet?\"),\n",
       " ('What did you like about the Canada Site?',\n",
       "  \"Qu'est-ce que vous aimez à propos du Site du Canada?\"),\n",
       " ('What did you not like about the Canada Site?',\n",
       "  \"Qu'est-ce que vous n'aimez pas à propos du Site du Canada?\"),\n",
       " ('What can you do with My Government Account?',\n",
       "  'Que pouvez-vous faire avec Mon dossier au gouvernement?'),\n",
       " ('What is the difference between the Simple Search and the Advanced Search?',\n",
       "  'Quelle est la différence entre la recherche simple et la recherche avancée?'),\n",
       " ('What are Boolean operators?', \"Qu'est-ce que les opérateurs booléens?\"),\n",
       " ('What do you mean by the term \"ranking\"?',\n",
       "  'Que veut-on dire par « classement »?'),\n",
       " ('What is the Bilingual Query Module?',\n",
       "  \"Qu'est-ce que le module d'interrogation bilingue?\"),\n",
       " ('Why use the Bilingual Query Module?',\n",
       "  \"Pourquoi utiliser le module d'interrogation bilingue?\"),\n",
       " ('What if the Bilingual Query Module does not find any equivalents for your search terms?',\n",
       "  \"Que faire si le module d'interrogation bilingue ne trouve aucun terme équivalent à votre recherche?\"),\n",
       " ('What should I do if I click on a title and the page returns as not found?',\n",
       "  \"Que dois-je faire si je clique sur le titre d'un site Web et il m'est retourné introuvé?\"),\n",
       " ('What is TERMIUM®?', \"Qu'est-ce que TERMIUM®?\"),\n",
       " ('What is an Index?', \"Qu'est-ce qu'un « index »?\"),\n",
       " ('What is a Word?', \"Qu'est-ce qu'un mot?\"),\n",
       " ('What is a Phrase?', \"Qu'est-ce qu'une expression?\"),\n",
       " ('Where can I find out about getting a job?',\n",
       "  'Où chercher des infos pour trouver un emploi?'),\n",
       " ('Where can I search for health information on-line?',\n",
       "  'Où chercher des renseignements sur la santé?'),\n",
       " ('Where can I learn about starting a business?',\n",
       "  'Où trouver des renseignements pour me lancer en affaires?'),\n",
       " ('Where can we find information about climate change?',\n",
       "  \"Où chercher de l'information sur les changements climatiques?\"),\n",
       " ('When Is My Grain Considered Dry?',\n",
       "  'Quand dois-je considérer mon grain comme sec?'),\n",
       " ('Why Is Change so Hard?',\n",
       "  'Pourquoi est-il si difficile de modifier ses habitudes?'),\n",
       " ('Who Pays for More Secure Cross-Border Trade with the United States?',\n",
       "  'Qui paie pour des échanges commerciaux transfrontaliers plus sûrs avec les États-Unis?'),\n",
       " ('What Makes People Vulnerable to HIV Infection?',\n",
       "  \"Qu'est-ce qui rend les gens vulnérables à l'infection du VIH?\"),\n",
       " ('Why do Leaves Change Colour?',\n",
       "  'Pourquoi les feuilles changent de couleur?'),\n",
       " ('What’s New?', 'Quoi de neuf?'),\n",
       " ('What’s the Navy Doing at Canadian Forces Base Borden?',\n",
       "  'Mais que fait donc la Marine à la base des Forces canadiennes de Borden?'),\n",
       " ('What’s New?', 'Quoi de neuf?'),\n",
       " ('What’s New?', 'Quoi de neuf?'),\n",
       " ('What happens where a claim was not deferred or after the first decision-maker has made a decision that the claimant does not like?',\n",
       "  \"Qu'arrive-t-il si la plainte n'est pas renvoyée ou que la décision de la première instance ne plaît pas au plaignant?\"),\n",
       " ('What Does \"Social Condition\" Mean?',\n",
       "  'Que veut dire « condition sociale »?'),\n",
       " ('What Does Section 67 Mean?', \"Quel est la signification de l'article 67?\"),\n",
       " ('What Defence Would Apply if Section 67 Were Removed?',\n",
       "  \"Quel moyen de défense pourrait être invoqué si l'article 67 était aboli?\"),\n",
       " ('What Kind of Balancing Provision is Needed?',\n",
       "  'Quel type de disposition conviendrait le mieux?'),\n",
       " ('What is Needed for a Revitalized Act?',\n",
       "  'Que faut-il pour revitaliser la Loi?'),\n",
       " (\"What's new?\", 'Quoi de neuf?'),\n",
       " ('Who is eligible?', 'Qui est admissible?'),\n",
       " ('What is the Anti-terrorism Act?', 'Qu’est-ce que la Loi antiterroriste?'),\n",
       " ('Why is the Anti-terrorism Act necessary and why does it continue to be necessary?',\n",
       "  'Pourquoi la Loi antiterroriste est-elle nécessaire et pourquoi continuera-t-elle d’être nécessaire?'),\n",
       " ('What does the Anti-terrorism Act do?', 'Que fait la Loi antiterroriste?'),\n",
       " (\"Why weren't the existing tools in the Criminal Code adequate to deal with terrorist activity?\",\n",
       "  'Pourquoi les mesures actuelles prévues par le Code criminel ne sont-elles pas suffisantes pour lutter contre les actes de terrorisme?'),\n",
       " ('What are some of the safeguards built into the Anti-terrorism Act?',\n",
       "  'Quelles sont quelques-unes des mesures de protection incorporées dans la Loi antiterroriste?'),\n",
       " ('What was the \"recognizance with conditions\" power as enacted by the Anti-terrorism Act?',\n",
       "  'Qu’était l’« engagement assorti de conditions » prescrit par la Loi antiterroriste?'),\n",
       " ('What does Bill S-3 propose?', 'Que propose le projet de loi S-3?'),\n",
       " ('What was the investigative hearing intended to do?',\n",
       "  'Quel était l’objectif de l’investigation?'),\n",
       " ('When did the Parliamentary review of the Anti-terrorism Act take place?',\n",
       "  'Quand l’examen parlementaire de la Loi antiterroriste a-t-il eu lieu?'),\n",
       " ('What is a sunset clause?',\n",
       "  'Qu’est-ce qu’une disposition de temporisation?'),\n",
       " ('Why is the Anti-terrorism Act subject to a sunset clause?',\n",
       "  'Est-ce que l’ensemble de la Loi antiterroriste est assujetti à une clause de temporisation?'),\n",
       " ('Why did the Anti-terrorism Act include an amendment to the Canada Evidence Act creating an Attorney General certificate which would allow the government to protect certain information for national security reasons?',\n",
       "  'Pourquoi la Loi antiterroriste comprend-elle une modification à la Loi sur la preuve au Canada visant à créer un certificat du procureur général qui permettrait au gouvernement de protéger certains renseignements pour des raisons de sécurité nationale?'),\n",
       " ('Why is the Anti-terrorism Act necessary and why does it continue to be necessary?',\n",
       "  'Pourquoi la Loi antiterroriste est-elle nécessaire et pourquoi continue-t-elle d’être nécessaire?'),\n",
       " (\"Why weren't the existing tools in the Criminal Code adequate to deal with terrorist activity?\",\n",
       "  'Pourquoi les mesures actuelles prévues par le Code criminel ne sont-elle pas suffisantes pour lutter contre les actes de terrorisme?'),\n",
       " ('What was the \"recognizance with conditions\" power as enacted by the ATA?',\n",
       "  'Qu’était l’« engagement assorti de conditions » prescrit par la Loi antiterroriste ?'),\n",
       " ('Which of these concern members of your community most?',\n",
       "  'Lesquels (pouvoirs ou dispositions) préoccupent le plus les membres de votre communauté?'),\n",
       " ('What criteria are used to determine whether property may be expropriated or which type of property may be expropriated?',\n",
       "  'Quels sont les critères utilisés pour déterminer si des biens peuvent être expropriés et quels sont les types de biens qui peuvent l’être?'),\n",
       " ('What is necessary?', 'De quoi avons-nous besoin?'),\n",
       " ('What legislative standards could be prescribed with respect to electronic disclosure?',\n",
       "  'Quelles normes législatives pourrait-on adopter en ce qui a trait à la communication électronique de la preuve?'),\n",
       " ('What would be the cost implications of greater electronic disclosure?',\n",
       "  \"Quelles seraient les conséquences, au plan des coûts, d'un recours accru à la communication électronique de la preuve?\"),\n",
       " ('Who should bear the cost of any special computer system required by the defence to receive and use electronic disclosure?',\n",
       "  \"Qui devra prendre en charge le coût d'un système informatique spécial dont aura besoin la défense pour recevoir et utiliser la communication électronique de la preuve?\"),\n",
       " ('What provisions could accompany the disclosure access proposal to minimize practical difficulties in implementation, such as issues of physical access to the materials and providing a means to obtain copies?',\n",
       "  \"• De quelles dispositions pourrait être assorti le droit de consultation des pièces proposé afin de minimiser les difficultés pratiques de mise en œuvre, comme les questions d'accès matériel aux pièces et la fourniture de moyens de faire des copies?\"),\n",
       " ('What implications could a disclosure access proposal have for costs?',\n",
       "  \"• Quelle serait l'incidence du droit de consultation des pièces proposé au plan des coûts?\"),\n",
       " ('What level of court should hear such proceedings?',\n",
       "  'À quel palier de tribunal ces instances devraient-elles être entendues?'),\n",
       " ('What would be the cost implications of greater electronic disclosure?',\n",
       "  'Quelles seraient les conséquences, au plan des coûts, d’un recours accru à la communication électronique de la preuve?'),\n",
       " ('Who should bear the cost of any special computer system required by the defence to receive and use electronic disclosure?',\n",
       "  'Qui devra prendre en charge le coût d’un système informatique spécial dont aura besoin la défense pour recevoir et utiliser la communication électronique de la preuve?'),\n",
       " ('What provisions could accompany the disclosure access proposal to minimize practical difficulties in implementation, such as issues of physical access to the materials and providing a means to obtain copies?',\n",
       "  'De quelles dispositions pourrait être assorti le droit de consultation des pièces proposé afin de minimiser les difficultés pratiques de mise en œuvre, comme les questions d’accès matériel aux pièces et la fourniture de moyens de faire des copies?'),\n",
       " ('What implications could a disclosure access proposal have for costs?',\n",
       "  'Quelle serait l’incidence du droit de consultation des pièces proposé au plan des coûts?'),\n",
       " ('What would be appropriate penalty ranges for the various offences?',\n",
       "  'Auriez-vous des suggestions à faire concernant la gamme de sanctions applicables aux diverses infractions?'),\n",
       " ('What is the difference between a statute, a law and a regulation?',\n",
       "  'Quelle est la différence entre un acte législatif, une loi et un règlement?'),\n",
       " ('What is the difference between a statute, a law and a regulation?',\n",
       "  'Quelle est la différence entre un acte législatif, une loi et un règlement?'),\n",
       " ('Where do I find federal statutes and regulations on the Internet?',\n",
       "  'Où peut-on trouver les lois et règlements fédéraux sur Internet?'),\n",
       " ('Where do I obtain statutes and regulations in printed form?',\n",
       "  'Où peut-on obtenir les lois et règlements fédéraux en version imprimée?'),\n",
       " ('What is a government Bill?',\n",
       "  \"Qu'est-ce qu'un projet de loi gouvernemental?\"),\n",
       " ('Where can I obtain a federal court decision on a specific litigation?',\n",
       "  'Où peut-on obtenir une décision particulière rendue par une cour fédérale?'),\n",
       " ('Where can one find a copy of the Charter or the Canadian constitution?',\n",
       "  'Où peut-on se procurer un exemplaire de la Charte ou de la Constitution du Canada?'),\n",
       " ('Where can I obtain information pertaining to mandatory Child Support?',\n",
       "  'Où peut-on obtenir des renseignements sur les pensions alimentaires pour enfants?'),\n",
       " ('What is Program Evaluation and how is it used?',\n",
       "  \"Qu'est-ce que l'évaluation des programmes et à quoi sert-elle ?\"),\n",
       " ('What is Program Evaluation and how is it used?',\n",
       "  'Qu’est-ce que l’évaluation des programmes et à quoi sert-elle?'),\n",
       " ('Which groups are applying?', 'Quels groupes soumettent des demandes?'),\n",
       " ('Which groups are receiving funds?', 'Quels groupes reçoivent des fonds?'),\n",
       " ('When are calls for proposals made?',\n",
       "  'Quand procède-t-on à des appels de propositions?'),\n",
       " ('What type of feedback will he/she receive?',\n",
       "  'Quel genre de rétroaction recevra-t-il?'),\n",
       " ('What are the nature and the mechanics of working relationships and communications between the regions, the programs, national coordination and the communities?',\n",
       "  'Quelles sont la nature et la mécanique des liens de travail et de communication entre les régions, les programmes, la coordination nationale et les communautés?'),\n",
       " ('What are the amounts available?', 'Quels montants sont disponibles?'),\n",
       " ('Which groups are receiving funds?', 'Quels groupes reçoivent des fonds?'),\n",
       " ('When are calls for proposals made?',\n",
       "  'Quand procède-t-on à des appels de propositions?'),\n",
       " ('What do you think of the Action Plan?',\n",
       "  \"Que pensez-vous du Plan d'action?\"),\n",
       " ('What do you think of the action plan?',\n",
       "  \"Que pensez-vous du Plan d'action?\"),\n",
       " ('What do you think of the Action Plan?',\n",
       "  'Que pensez-vous du Plan d’action?'),\n",
       " ('Who should people be directed to?', 'Vers qui doit-on diriger les gens?'),\n",
       " ('What are the current or potential initiatives within communities that could be linked to the components we are discussing?',\n",
       "  'Quelles sont les initiatives en cours ou potentielles dans les communautés qui pourraient être reliées aux composantes dont nous discutons?'),\n",
       " ('What promotional tools should be used?',\n",
       "  'Quels outils de promotion privilégier?'),\n",
       " ('What is the role of the Department of Justice in La Francophonie ?',\n",
       "  'Quel est le rôle du Ministère de la Justice en Francophonie ?'),\n",
       " ('Which law society, law societies or Bar(s) are you a member of?',\n",
       "  \"Quel est le nombre approximatif d'avocats et d'avocates aptes à offrir des services en français au sein de votre cabinet ?\"),\n",
       " ('What is your status in your firm?',\n",
       "  'Dans quelle province ou territoire exercez-vous de façon habituelle ?'),\n",
       " ('What is the proportion of clients requesting legal services in English who have their legal residence in the province in which you normally practice law?',\n",
       "  'Parmi la clientèle qui demande des services juridiques en français, quelle proportion a sa résidence légale dans la province où vous exercez ?'),\n",
       " ('What is the proportion of clients requesting legal services in English who have completed postsecondary studies?',\n",
       "  'Parmi la clientèle qui demande des services juridiques en français, quelle proportion a complété des études postsecondaires ?'),\n",
       " ('What measures should the federal government put in place in your province or territory to improve access to the justice system in the minority language?',\n",
       "  \"Quelles seraient les mesures que le gouvernement fédéral devrait mettre en œuvre dans votre province en vue d'améliorer l'accès au système de justice dans la langue officielle minoritaire ?\"),\n",
       " ('What are the main barriers blocking access to justice in English in Quebec?',\n",
       "  \"Quels sont les principaux obstacles à l'accès à la justice en français dans votre province ?\"),\n",
       " ('What are the main barriers blocking access to justice in French in your Province?',\n",
       "  \"Quels sont les principaux obstacles à l'accès à la justice en français dans votre province ?\"),\n",
       " ('What happens if you report the abuser?', 'Que se passe-t-il si … ?'),\n",
       " ('What is the Mineral Extraction Industry?',\n",
       "  'Qu’est-ce que le secteur de l’extraction de minéraux?'),\n",
       " ('What did we learn?', \"Qu'avons-nous appris?\"),\n",
       " ('What are the functional variant of archives and what are the implications of these differences?',\n",
       "  'Quelles sont les variantes fonctionnelles des archives et quelles sont les incidences de ces variantes?'),\n",
       " ('Where can I find information on the plug-in which I can provide to our systems administrators?',\n",
       "  \"Pouvez-vous m'indiquer où trouver de l'information sur le plugiciel afin que je puisse l'acheminer à nos administrateurs de système?\"),\n",
       " ('What is a DOCLINE User Account?',\n",
       "  \"Qu'est-ce qu'un compte utilisateur DOCLINE?\"),\n",
       " ('What is the M/A/N Map?', \"Qu'est-ce que la carte M/A/N [M/A/N Map]?\"),\n",
       " ('What do the Actions and Reasons mean?',\n",
       "  'Que signifient « Actions » et « Reasons » ?'),\n",
       " (\"Why don't all of my requests print when I receipt them?\",\n",
       "  \"Pourquoi mes demandes ne s'impriment-elles pas toutes lorsque je les réceptionne?\"),\n",
       " ('What does Beyond Routing Map mean?', 'Que signifie \"Beyond Routing Map\"?'),\n",
       " ('What happens when I make changes to my Routing Table?',\n",
       "  \"Qu'arrive-t-il lorsque j'apporte des changements à ma table d'acheminement?\"),\n",
       " ('What should I do?', 'Que dois-je faire ?'),\n",
       " ('Where can I now access this information?',\n",
       "  'Où puis-je maintenant trouver cette information ?'),\n",
       " ('Why am I being invoiced again?',\n",
       "  \"Comment se fait-il qu'on me demande de payer deux fois ?\"),\n",
       " ('What do I need to do to put this change into effect?',\n",
       "  'Comment dois-je procéder ?'),\n",
       " ('What does it cost?', 'Quels sont les coûts?'),\n",
       " ('What information should I include in my orders?',\n",
       "  'Quels renseignements dois-je inclure dans mes commandes?'),\n",
       " (\"What if NRC-CISTI doesn't have the documents I ordered?\",\n",
       "  \"Puis-je commander un document qui ne fait pas partie de la collection de l'ICIST-CNRC?\"),\n",
       " ('What is CISTI?', \"Qu'est-ce que l'ICIST?\"),\n",
       " (\"What's the most critical collection development issue your organization faces?\",\n",
       "  'Croyez-vous que le libre accès pourrait supplanter un jour les éditeurs commerciaux?'),\n",
       " ('What are the future plans for the OKC?',\n",
       "  \"Quels sont les plans d'avenir de l'OKC?\"),\n",
       " ('Who would fund such an archive?',\n",
       "  'Qui financerait une archive de ce genre?'),\n",
       " ('While some publishers will only archive if it is economically viable, can libraries afford to fund this service?',\n",
       "  \"Si certains éditeurs n'archivent l'information que dans la mesure où c'est économiquement viable, les bibliothèques peuvent-elles financer ce service?\"),\n",
       " ('What are the technical and content specifications of the archive?',\n",
       "  \"Quelles sont les spécifications techniques et relatives au contenu de l'archive?\"),\n",
       " ('What do we mean by an archive?', \"Qu'entend-on par « archive » ?\"),\n",
       " ('What pages were the most popular?',\n",
       "  'Quelles pages sont les plus populaires?'),\n",
       " ('Which important information was hard to find and why?',\n",
       "  'Quels renseignements importants sont difficiles à trouver et pourquoi?'),\n",
       " ('When and how did NavSim become a spin-off?',\n",
       "  \"Quand NavSim est-elle devenue une entreprise dérivée et comment cela s'est-il passé?\"),\n",
       " ('What enticed you to become a spin-off?',\n",
       "  \"Qu'est-ce qui vous a incité à lancer une entreprise dérivée?\"),\n",
       " (\"What is NavSim's current focus?\",\n",
       "  'Quel objectif vise actuellement NavSim?'),\n",
       " (\"What is the proven advantage of NavSim's partnership with NRC-CISTI?\",\n",
       "  \"Quel est l'avantage incontestable du partenariat entre NavSim et l'ICIST-CNRC?\"),\n",
       " ('Where do you see NRC-CISTI heading as an organization?',\n",
       "  \"Quelle est votre vision de l'avenir de l'ICIST-CNRC en tant qu'organisme?\"),\n",
       " ('What can NRC-CISTI clients expect in the coming years?',\n",
       "  \"À quoi les clients de l'ICIST-CNRC peuvent-ils s'attendre au cours des prochaines années?\"),\n",
       " ('What are you most looking forward to in your new position?',\n",
       "  'Quel aspect de votre nouveau rôle vous enchante le plus?'),\n",
       " ('What pages were the most popular?',\n",
       "  'Quelles étaient les pages les plus consultées?'),\n",
       " ('Which important information was hard to find and why?',\n",
       "  'Y avait-il des renseignements essentiels difficiles à trouver?'),\n",
       " ('Where have they sought protection?',\n",
       "  'À quel sujet ont-ils cherché à obtenir protection?'),\n",
       " ('Where would you expect to find information on your topic?',\n",
       "  'Où vous attenderiez-vous à trouver des renseignements sur votre sujet?'),\n",
       " (\"What's New?\", 'Quoi de neuf?'),\n",
       " ('Who should use the NRC proxy server?',\n",
       "  'Qui devrait utiliser le serveur mandataire du CNRC?'),\n",
       " ('What is my IP address?', 'Quelle est mon adresse IP?'),\n",
       " ('What is the NRC proxy?', 'Quel est le serveur mandataire du CNRC?'),\n",
       " ('What makes a good buyer?', \"Qu'est-ce qu'un acheteur compétent?\"),\n",
       " ('Who sets the rules?', 'Qui établit les règles?'),\n",
       " ('What are the rules in government buying?',\n",
       "  \"Quelles sont les règles qui s'appliquent aux achats de l'État?\"),\n",
       " ('Why must you buy this way?', 'Pourquoi devez-vous suivre ces règles?'),\n",
       " ('Which criteria will you use to evaluate proposals?',\n",
       "  \"Quels critères appliquerez-vous dans l'évaluation des propositions?\"),\n",
       " ('What is a contractor selection method?',\n",
       "  'En quoi consistent les méthodes de sélection des entrepreneurs?'),\n",
       " ('What if the goods or services are unsatisfactory?',\n",
       "  'Que se produit-il si les biens ou les services ne sont pas satisfaisants?'),\n",
       " ('Where does your authority to buy come from?',\n",
       "  \"Qu'est-ce qui vous autorise à faire des achats?\"),\n",
       " ('What is the statement of work?', \"Qu'est-ce que l'Énoncé des travaux?\"),\n",
       " ('Why security requirements?',\n",
       "  'Pourquoi les cotes de sécurité sont-elles nécessaires?'),\n",
       " ('Why security requirements?', 'Une cote de sécurité est-elle nécessaire?'),\n",
       " ('Who can register for PS Online and what is the process?',\n",
       "  \"Qui peut s'inscrire aux SP en ligne et en quoi consiste le processus ?\"),\n",
       " ('Why register as a supplier?', \"Pourquoi s'inscrire comme fournisseur?\"),\n",
       " ('What is a standing offer?', \"Qu'est-ce qu'une offre à commandes?\"),\n",
       " ('What is the value of the standing offers in the 10 main categories, and what kind of increase in business can suppliers expect?',\n",
       "  \"Quelle est la valeur des offres à commandes faisant partie des 10 catégories principales, et dans quelle mesure les fournisseurs peuvent-ils s'attendre à ce que les activités augmentent?\"),\n",
       " ('Why are you only making certain standing offers mandatory?',\n",
       "  'Pourquoi doit-on avoir recours à certaines offres à commandes uniquement ?'),\n",
       " ('What is the government doing to protect the interests of small businesses?',\n",
       "  'Quelles mesures le gouvernement prend-il pour protéger les intérêts des petites entreprises?'),\n",
       " ('What does this mean for suppliers?',\n",
       "  \"Qu'est-ce que cela signifie pour les fournisseurs?\"),\n",
       " ('What about small and medium-sized businesses?',\n",
       "  'Et les petites et les moyennes entreprises?'),\n",
       " ('What does this mean for your Government of Canada clients?',\n",
       "  \"Qu'est-ce que cela signifie pour les clients du gouvernement du Canada?\"),\n",
       " ('What do I Need to Know about Registering?',\n",
       "  \"Que faut-il savoir sur l'inscription?\"),\n",
       " ('What are the rules of buying?',\n",
       "  'Quelles sont les règles à respecter dans les achats?'),\n",
       " ('Who set the rules?', 'Qui établit les règles?'),\n",
       " ('What can I do if I think I have not been treated fairly?',\n",
       "  \"Que puis-je faire si, à mon avis, je n'ai pas été traité justement?\"),\n",
       " ('Who set the rules?', 'Qui établit les règles?'),\n",
       " ('What are the forms of contract award?',\n",
       "  'Quelles sont les différentes manières de passer un marché?'),\n",
       " ('What if there are no milestones?', \"Que faire s'il n'y a pas d'étape?\"),\n",
       " ('What accomplishments on behalf of Nova Scotia’s tourism industry are you most pleased with?',\n",
       "  'De quelles réalisations accomplies au nom de l’industrie touristique de la province êtes-vous le plus fière?'),\n",
       " ('What do you see as the priorities?',\n",
       "  'Dans cette optique, quelles seront les priorités selon vous?'),\n",
       " ('What, in your vision, are the most important things the CTC can do to help the SMEs move beyond crisis?',\n",
       "  'Selon vous, de quelles façons la CCT peut-elle le mieux aider les PME à se sortir de la crise?'),\n",
       " ('What do you see as management priorities as we move forward?',\n",
       "  'Quelles seront vos priorités de gestion au fil du temps?'),\n",
       " ('What is known about them?', 'Que sait-on de lui?'),\n",
       " ('What do I do?', 'Qu’est-ce que je fais?'),\n",
       " ('What is the reward I offer?',\n",
       "  'Quelles sont mes valeurs organisationnelles?'),\n",
       " ('What do I do differently from others?',\n",
       "  'Qu’est-ce qui me distingue des autres?'),\n",
       " ('What is my key competitive advantage?',\n",
       "  'Quel est mon princ ipal avantage sur la concurrence?'),\n",
       " ('What are my corporate values?', 'Quelle est ma personnalité?'),\n",
       " ('Why Canada?', 'Pourquoi le Canada?'),\n",
       " ('Where are Australians travelling?',\n",
       "  'Où les voyageurs Australiens se rendent-ils?'),\n",
       " ('What aspects are common expectations in the category?',\n",
       "  'Quels sont les éléments qui sont des attentes communes dans cette catégorie?'),\n",
       " ('What aspects of the experience are unique to a particular setting, culture or operator?',\n",
       "  \"Quels sont les éléments de l'expérience qui sont uniques à un cadre, une culture ou une entreprise en particulier?\"),\n",
       " ('What aspects of the experience can the Canadian Tourism Commission promote as a differentiator across Canada?',\n",
       "  \"Quels sont les aspects de l'expérience que la Commission canadienne du tourisme peut mettre en valeur comme élément de différenciation partout au Canada?\"),\n",
       " ('What does the styling look like?', 'Quel style en ressort?'),\n",
       " ('What is your busiest season (fiscal year 2003)?',\n",
       "  'Quelle est votre saison de pointe (exercice financier 2003)?'),\n",
       " ('Where do Australians go for pleasure trips1 ?',\n",
       "  'Quels pays les voyageurs d’agrément australiens visitent-ils 1 ?'),\n",
       " ('What do current Australian visitors and their trips to Canada look like?',\n",
       "  'À quoi ressemblent les visiteurs australiens et leurs voyages au Canada?'),\n",
       " ('Why do Australians travel to Canada?',\n",
       "  'Pour quelles raisons les voyageurs australiens visitent-ils le Canada?'),\n",
       " ('What barriers does Canada face in attracting Australian visitors?',\n",
       "  'Quels sont les obstacles que le Canada doit surmonter pour attirer des visiteurs australiens?'),\n",
       " ('Who can we target?', 'Quels sont les publics que nous pouvons cibler?'),\n",
       " ('What is causing the slide in Japanese visitors to Canada?',\n",
       "  'Quelles sont les causes qui expliquent la chute du nombre de visiteurs japonais au Canada?'),\n",
       " ('What makes an overseas destination attractive?',\n",
       "  'Quels facteurs rendent une destination outre-mer attrayante?'),\n",
       " ('What Else Do We Know About the Mexican Marketplace?',\n",
       "  'Que savons-nous d’autre au sujet du marché mexicain?'),\n",
       " ('Where Are Mexicans Travelling?', 'Où se rendent les mexicains?'),\n",
       " ('What Is Canada’s Potential Among Mexican International Travellers?',\n",
       "  'Quelles sont les chances du Canada auprès des voyageurs mexicains se déplaçant a l’étranger?'),\n",
       " ('What Destination Attributes Are Attractive To Mexicans?',\n",
       "  'Quelles caractéristiques recherchent les mexicains quand ils choisissent une destination de voyage?'),\n",
       " ('What Are the Characteristics of Travellers and Trips To Canada?',\n",
       "  'Quelles sont les caractéristiques des voyageurs et des voyages à destination du Canada?'),\n",
       " ('What Activities and Destinations are Mexicans Interested in for Future Trips To Canada?',\n",
       "  'Quelles sont les activités et les destinations recherchées par les mexicains pour leurs prochains voyages au Canada?'),\n",
       " ('Who Are Some Key Segments for Canada in the Mexican Market?',\n",
       "  'Quels sont les segments du marché mexicain qui revêtent une importance fondamentale pour le Canada?'),\n",
       " ('Why do Indians travel to Canada?',\n",
       "  'Pourquoi les Indiens viennent-ils au Canada?'),\n",
       " ('What is the opportunity for Canada?',\n",
       "  'Quelles sont les possibilités pour le Canada?'),\n",
       " ('Who can we target?', 'Qui pouvons-nous cibler?'),\n",
       " ('What are Indians looking for in their next trip to Canada?',\n",
       "  'À quoi aspirent les Indiens pour leur prochain voyage au Canada?'),\n",
       " ('What do current British visitors and their trips to Canada look like?',\n",
       "  'À quoi ressemblent les visiteurs britanniques et leurs voyages au Canada?'),\n",
       " ('What are British travellers looking for in their next trip to Canada?',\n",
       "  'Que recherchent les voyageurs britanniques lors de leur prochaine visite au Canada?'),\n",
       " ('What do current German visitors and their trips to Canada look like?',\n",
       "  'À quoi ressemblent les visiteurs allemands et leurs voyages au Canada?'),\n",
       " ('Where do they travel to?', 'Destinations de voyage?'),\n",
       " ('Where do the British go for pleasure1 trips?',\n",
       "  'Quels pays les voyageurs d’agrément britanniques visitent-ils1?'),\n",
       " ('What barriers does Canada face in attracting British visitors?',\n",
       "  'Quels sont les obstacles que le Canada doit surmonter pour attirer des visiteurs britanniques?'),\n",
       " ('What is the opportunity for Canada?',\n",
       "  'Quelles sont les possibilités qui s’offrent au Canada?'),\n",
       " ('Why do the French travel to Canada?',\n",
       "  'Pour quelles raisons les voyageurs français visitent-ils le Canada?'),\n",
       " ('What barriers does Canada face in attracting French visitors?',\n",
       "  'Quels sont les obstacles que le Canada doit surmonter pour attirer des visiteurs français?'),\n",
       " ('What are French travellers looking for in their next trip to Canada?',\n",
       "  'Que recherchent les voyageurs français lors de leur prochaine visite au Canada?'),\n",
       " ('Where do Germans go for pleasure5 trips?',\n",
       "  'Quels pays les voyageurs d’agrément allemands visitent-ils5?'),\n",
       " ('What are German travellers looking for in their next trip to Canada?',\n",
       "  'Que recherchent les voyageurs allemands lors de leur prochaine visite au Canada?'),\n",
       " ('What Are The Components of The Ideal Movie?',\n",
       "  'Quels sont les composants d’un scénario idéal?'),\n",
       " ('What Is The Air Market Size & Share?',\n",
       "  'Quelles sont la taille et la part du marché aérien?'),\n",
       " ('What is the air market size & share?',\n",
       "  'Quelles sont la taille et la part du marché aérien?'),\n",
       " ('What was their purpose of travel?',\n",
       "  'Quelle était la raison de leur voyage?'),\n",
       " ('Where are they travelling?', 'Où se sont-ils rendus?'),\n",
       " ('What was their purpose of travel?',\n",
       "  'Caractéristiques et dynamique des voyages Par quel moyen ont-ils voyagé?'),\n",
       " ('What did they do on their trips to Canada?',\n",
       "  'Qu’ont-ils fait pendant leur voyage au Canada?'),\n",
       " ('What are the Key Trends in the Industry?',\n",
       "  'Quelles sont les grandes tendances dans l’industrie?'),\n",
       " ('Where is the Money Made?', 'D’où les spas tirent-ils leurs recettes?'),\n",
       " ('What will you see when the magnificent midnight skies shimmer?',\n",
       "  'Et vous, que verrez-vous lorsque le fabuleux ciel de minuit se parera de lueurs scintillantes?'),\n",
       " ('Which of these emotions trigger the most excitement and become core elements of product positioning in Europe?',\n",
       "  'Lesquelles de ces émotions créent le plus d’engouement et deviennent les éléments principaux du positionnement du produit dans le marché européen?'),\n",
       " ('What kinds of physical involvement is required?',\n",
       "  'Quels types de participation physique sont requis?'),\n",
       " ('What are their media habits?',\n",
       "  'Quelles sont leurs habitudes de consommation des médias?'),\n",
       " ('What is their existing knowledge?',\n",
       "  'Quelles sont leurs connaissances actuelles?'),\n",
       " ('What is their reaction to examples of current Canadian Aboriginal product?',\n",
       "  'Quelle est leur réaction à quelques-uns des produits autochtones actuellement offerts au Canada?'),\n",
       " ('Which cues excited them and why?',\n",
       "  'Quels aspects ont créé de l’engouement chez eux et pourquoi?'),\n",
       " ('Which cues are less saleable and why?',\n",
       "  'Quels sont les aspects les moins vendables et pourquoi?'),\n",
       " ('What trends are developing in the market for Aboriginal tourism and how can Canada capitalize on those trends?',\n",
       "  'Quelles tendances se développent dans le marché en matière de tourisme autochtone et que peut faire le Canada pour en tirer parti?'),\n",
       " ('Which Canadian Aboriginal Product Can Drive European Visitation?',\n",
       "  'Quel produit autochtone canadien a le potentiel d’augmenter le nombre de voyages en provenance de l’Europe?'),\n",
       " ('Which ones are less relevant to the European market and why?',\n",
       "  'Quels produits créent de l’engouement chez eux et pourquoi?'),\n",
       " ('What are their concerns?', 'Quelles sont leurs préoccupations?'),\n",
       " ('What are the underlying emotional needs of Aboriginal experience seekers?',\n",
       "  'Quels sont les besoins émotifs fondamentaux des voyageurs à la recherche d’expériences autochtones?'),\n",
       " ('What are their demographics?', 'Quel est leur profil démographique?'),\n",
       " ('Which sites in particular did you or would you visit for information on Aboriginal attractions, celebrations and experiences in Canada?',\n",
       "  'Quels sites en particulier avez-vous visité ou visiteriez-vous à la recherche d’information sur des attractions, célébrations et expériences autochtones au Canada?'),\n",
       " ('What can Canada’s Aboriginal Tourism Stakeholders Do to Grow the Market?',\n",
       "  'Que peuvent faire les intervenants du tourisme autochtone au Canada pour assurer l’expansion du marché?'),\n",
       " ('Whose Park is it?', 'À qui appartient ce parc?'),\n",
       " ('Why are agencies willing to share such data with others, such as universities, and not with operators?',\n",
       "  'Pourquoi les agences sont-elles prêtes à partager de telles données avec d’autres, comme les universités, mais pas avec les exploitants?'),\n",
       " ('What do you need from international buyers in order to create innovative cultural travel packages and itineraries that meet the needs of their customers?',\n",
       "  'Le Canada offre-t-il suffisamment de produits culturels et patrimoniaux correspondant aux besoins et à la demande de vos clients?'),\n",
       " ('Which of the eight themes presented in Section 3 offers the greatest medium-term potential (two to five years)?',\n",
       "  'Lesquels des huit thèmes énumérés à la section 3 présentent le plus grand potentiel à moyen terme (deux à cinq ans)?'),\n",
       " ('What do you need from international buyers in order to create innovative cultural travel packages and itineraries that meet the needs of their customers?',\n",
       "  'De quels éléments avez-vous besoin de la part des acheteurs internationaux pour pouvoir créer des forfaits et itinéraires touristiques culturels innovateurs qui comblent les besoins de leurs clients?'),\n",
       " ('Why the Increased Interest?',\n",
       "  'Les critères de succès en tourisme culturel et patrimonial?'),\n",
       " ('What information on designated Capitals of Culture do you need to consider adding these destinations to your tours?',\n",
       "  'Que devez-vous savoir sur les capitales culturelles désignées si vous voulez les ajouter à vos circuits?'),\n",
       " ('Where can you turn up terrific opportunities to take home a wonderful work of art?',\n",
       "  'Où peut-on dénicher de formidables occasions de rapporter une magnifique œuvre d’art?'),\n",
       " ('What is the state of the current insurance marketplace and why?',\n",
       "  'Quelle est la situation du marché de l’assurance en ce moment, et pourquoi?'),\n",
       " ('What impact is the current insurance marketplace having on the outdoor tourism sector?',\n",
       "  'Quelles répercussions cette situation a-t-elle sur le secteur du tourisme de plein air?'),\n",
       " ('What are some of the non-traditional insurance tools, concepts, and strategies available?',\n",
       "  'Quels sont les principaux outils, concepts et stratégies d’assurance non conventionnels qui existent?'),\n",
       " ('What other non-insurance options are available in response to the current state of the insurance marketplace?',\n",
       "  'De quelles autres options dispose-t-on, en dehors de l’assurance, pour réagir à la situation?'),\n",
       " ('What have other jurisdictions done to manage their own insurance issues as they pertain to the outdoor tourism sector?',\n",
       "  'Qu’est-ce que d’autres pays, états ou provinces ont fait pour gérer les problèmes d’assurance qui touchent le secteur du tourisme de plein air?'),\n",
       " ('What programs and initiatives already exist and how successful are they?',\n",
       "  'Quels sont les programmes et les initiatives qui existent déjà et quel est leur degré de succès?'),\n",
       " ('Where do I get more information on risk management for outdoor tourism?',\n",
       "  'Où puis-je obtenir plus d’information sur la gestion des risques en tourisme de plein air?'),\n",
       " ('Why does an outdoor operator need insurance?',\n",
       "  'Pourquoi un exploitant d’entreprise de tourisme de plein air a-t-il besoin d’assurance?'),\n",
       " ('Who is covered?', '• les biens assurés?'),\n",
       " ('What property is covered?', '• les risques couverts?'),\n",
       " ('What perils are covered?', '• automatiques?'),\n",
       " ('Where does the coverage apply?', '• facultatives?'),\n",
       " ('What are the conditions of coverage?',\n",
       "  'Quelles sont les conditions d’application de la garantie?'),\n",
       " ('Who should handle the insurance portfolio?',\n",
       "  'Qui doit s’occuper du portefeuille d’assurance?'),\n",
       " ('What are the main components of insurance policies (contracts)?',\n",
       "  'Quels sont les principaux éléments des polices (contrats) d’assurance?'),\n",
       " ('What losses, if any, will be greater than what the business or business owners can absorb?',\n",
       "  'Quelles pertes, le cas échéant, seront plus grandes que ce que l’entreprise ou les propriétaires d’entreprise peuvent absorber?'),\n",
       " ('What is the insurance underwriter’s role?',\n",
       "  'Quel est le rôle du rédacteur production?'),\n",
       " ('What should be contained in the insurance application package?',\n",
       "  'Que devrait contenir le dossier de demande d’assurance?'),\n",
       " ('What should be included in a quote?',\n",
       "  'Que devrait comprendre une proposition de prix?'),\n",
       " ('What types of insurance are available and what is necessary?',\n",
       "  'Quels sont les types d’assurance offerts et qu’est-ce qui est nécessaire?'),\n",
       " ('Who is an insured?', 'Qui est assuré?'),\n",
       " ('What is Cultural Tourism?',\n",
       "  'S’agit-il de la contemplation sous le soleil de minuit d’une œuvre d’art inuit, de musique baroque interprétée dans une salle aux sonorités parfaites, d’un atelier de danse?'),\n",
       " ('What is in store for this year?', 'Que nous réserve l’année actuelle?'),\n",
       " ('What’s it all about?', 'Qu’est-ce que ça signifie?'),\n",
       " ('Where did we find inspiration for the brand?',\n",
       "  'Où avons-nous trouvé l’inspiration pour la marque?'),\n",
       " ('What’s the weather like?', 'À quoi ressemble le climat?'),\n",
       " ('What are the major festivals?', 'Quels sont les principaux festivals?'),\n",
       " ('What are the best scenic driving routes?',\n",
       "  'Quelles sont les meilleures routes panoramiques?'),\n",
       " ('What does the maple leaf stand for?',\n",
       "  'Que représente la feuille d’érable?'),\n",
       " ('What does the Canadian Tourism Commission (CTC) do?',\n",
       "  'Que fait la Commission canadienne du tourisme (CCT)?'),\n",
       " ('Where can I find information on CTC marketing opportunities?',\n",
       "  'Où puis-je obtenir de l’information sur les initiatives de marketing offertes par la CCT?'),\n",
       " ('Where can I find Canadian tourism statistics and learn about industry trends?',\n",
       "  'Où puis-je trouver des statistiques sur le tourisme au Canada et de l’information sur les tendances de l’industrie?'),\n",
       " ('What’s the national anthem?', 'Quel est son hymne national?'),\n",
       " ('What kind of documents do I need to work or study in Canada?',\n",
       "  'Quels types de documents sont requis pour travailler ou étudier au Canada?'),\n",
       " ('Who can it be knocking at my door?', 'Qui va là?'),\n",
       " ('Who’s there (on a cold December night in Newfoundland)?',\n",
       "  'Qui va là (par une froide nuit terre-neuvienne de décembre)?'),\n",
       " ('Who said Canucks were all about the gold?',\n",
       "  'Qui a dit que les Canadiens n’en avaient que pour l’or?'),\n",
       " ('What else would you expect from a city laid out under a glowing 100-foot crucifix?',\n",
       "  'Qu’attendre d’autre d’une ville qui se déploie sous un crucifix scintillant de 30 mètres de haut?'),\n",
       " ('Why do we do it?', 'Pourquoi agissons-nous ainsi?'),\n",
       " ('Why do we scramble for table scraps of glory?',\n",
       "  'Pourquoi nous battons-nous pour des restes de laurier?'),\n",
       " ('What rain?', 'Quelle pluie?'),\n",
       " ('Where can you find totem poles today?',\n",
       "  '\\u2028Où peut-on trouver aujourd’hui des mâts totémiques?'),\n",
       " ('Who knows?', 'Qui sait?'),\n",
       " ('What If There is a War in Iraq?', 'Et si la guerre éclate en Iraq?'),\n",
       " ('Where in Canada do Americans like to visit, and when?',\n",
       "  'Où vont les Américains lorsqu’ils visitent le Canada et à quelle période?'),\n",
       " (\"What's Shaking at NRCan?\", 'Ça bouge à RNCan?'),\n",
       " ('What types of visas are there?',\n",
       "  'Quels sont les différents types de visas?'),\n",
       " ('What are the requirements for a temporary resident visa?',\n",
       "  'Quelles sont les exigences de base pour obtenir un visa de visiteur?'),\n",
       " ('What can I do about it?', 'Que puis-je faire à ce sujet?'),\n",
       " ('What types of temporary resident visas are available?',\n",
       "  'Quels sont les différents types de visas de résident temporaire?'),\n",
       " ('What are the basic requirements for a temporary resident visa?',\n",
       "  'Quelles sont les exigences pour obtenir un visa de résident temporaire?'),\n",
       " ('What are the basic requirements for a study permit?',\n",
       "  \"Quelles sont les exigences de base pour obtenir une autorisation d'études?\"),\n",
       " ('What documents do I need to provide?', 'Quels documents dois-je produire?'),\n",
       " ('What information is required in the Letter of Acceptance?',\n",
       "  \"Quels renseignements doivent figurer dans la lettre d'acceptation?\"),\n",
       " ('What is a Custodianship Declaration?',\n",
       "  \"Qu'est-ce qu'une déclaration du gardien?\"),\n",
       " ('What can I do about it?',\n",
       "  \"Que puis-je faire à ce sujet Vous avez obtenu votre autorisation d'études?\"),\n",
       " ('What is a study permit?', \"Qu'est-ce qu'une autorisation d'études?\"),\n",
       " ('What happens when I arrive in Canada?',\n",
       "  'Que se passe-t-il à mon arrivée au Canada?'),\n",
       " ('What Documents Do You Need?', 'De quels documents avez-vous besoin?'),\n",
       " ('Why is the time right for a foreign policy review?',\n",
       "  'Pourquoi le moment est-il bien choisi pour procéder à un examen de la politique étrangère?'),\n",
       " ('Why is the time right for a review?',\n",
       "  'Pourquoi le moment est-il bien choisi d’examiner notre politique?'),\n",
       " ('What is the Global Partnership Program?',\n",
       "  \"Qu'est-ce que le Programme de partenariat mondial?\"),\n",
       " ('What companies use their services?',\n",
       "  'Quelles entreprises emploient les services de Cronus?'),\n",
       " ('What if there was an affordable spatial database that could pinpoint certain areas on a geomatic image and that users could share?',\n",
       "  \"Et s'il existait une base de données géospatiales abordable qui pourrait localiser certains secteurs sur une image géomatique et que les utilisateurs pourraient partager?\"),\n",
       " ('Why Alfalfa?', 'Pourquoi la luzerne?'),\n",
       " ('Where do you live?', 'Guichet emplois - OÃ¹ habitez-vous?'),\n",
       " ('What is a Veteran?', \"Qu'est-ce qu'un ancien combattant ?\"),\n",
       " ('Why May 20?', 'Pourquoi le 20 mai?'),\n",
       " ('What does this mean?', \"Qu'est-ce que cela signifie?\"),\n",
       " ('Where would the ultimate legislative power and cabinet responsibility lie, if the Senate were elected?',\n",
       "  'Si le Sénat était élu, où résideraient, en dernière analyse, le pouvoir législatif et la responsabilité du Cabinet?'),\n",
       " ('What if we can work towards directing some of this investment into the Aboriginal communities of Canada as well as the indigenous groups of Ecuador?',\n",
       "  \"Et si nous pouvions travailler pour qu'une partie de ces investissements soient réalisés dans les collectivités autochtones du Canada et de l'Équateur?\"),\n",
       " ('Why do some women stay in violent relationships?',\n",
       "  'Pourquoi certaines femmes restent-elles dans des relations marquées par la violence?'),\n",
       " ('What about measures that would facilitate job creation and economic development?',\n",
       "  \"Ne peuvent-ils pas adopter des mesures qui facilitent la création d'emplois et le développement économique ?\"),\n",
       " ('What were Canada’s expectations?', 'Quelles sont les attentes du Canada?'),\n",
       " ('What changes should be made to NATO for it to be able to meet its new challenges?',\n",
       "  'Quels changements faudrait il apporter à l’OTAN pour qu’elle soit en mesure de relever les nouveaux défis qui se posent à elle?'),\n",
       " ('Why are we continuing to stagger from financial crisis to political crisis, then back to financial crisis and again to political crisis, repeating the downward spiral ever downward?',\n",
       "  \"Pourquoi passons-nous constamment d'une crise financière à une crise politique, et vice-versa, impuissante que nous sommes à rompre le cercle vicieux?\"),\n",
       " ('What is the rationale for replacing a program that had households and businesses all over Canada involved in combatting global warming with one that will cost 100 times as much?',\n",
       "  \"Est-ce logique de remplacer un programme qui permettait d'impliquer toutes les familles et toutes les entreprises du Canada dans la lutte au réchauffement planétaire par un autre qui coûte 100 fois plus cher?\"),\n",
       " ('What does the new Conservative government do, honourable senators?',\n",
       "  'Que fait le nouveau gouvernement conservateur, honorables sénateurs?'),\n",
       " ('What is the current situation?', 'Quelle est la situation actuelle?'),\n",
       " ('What if this bill spoke not of senators, but of judges?',\n",
       "  \"Qu'en serait-il si ce projet de loi traitait non pas des sénateurs, mais des juges?\"),\n",
       " ('What if this bill proposed that judges, who are also appointed by the Prime Minister, would be appointed for eight-year terms and at the end of eight years they could be reappointed for another eight years at the absolute discretion of the Prime Minister?',\n",
       "  \"Qu'arriverait-il si ce projet de loi proposait que les juges, qui sont également nommés par le premier ministre, soient nommés pour des mandats de huit ans et qu'au terme de ces huit ans, ils soient reconduits dans leurs fonctions pour huit autres années, à l'entière discrétion du premier ministre?\"),\n",
       " ('Why else would there be notice?',\n",
       "  'Autrement, pourquoi faudrait-il un préavis?'),\n",
       " ('What more could we ask of a human being than that he has dedicated his life to the service of others?',\n",
       "  'Que pouvons-nous demander de plus à un homme qui a consacré sa vie à servir les autres?'),\n",
       " ('When we have special consideration for women, by women, such as the Liberal Women=s Commission, we confront other dilemmas: do we need to consider ourselves a special case, or isn=t the goal to integrate our goals with the larger society and put these associations out of business?',\n",
       "  'Notre force repose-t-elle sur nos différences – par exemple, nous nous soucions davantage du filet de sécurité social – ou repose-t-elle sur les milles et une préoccupations que nous avons en commun avec les hommes?'),\n",
       " ('Why is this Bill necessary?',\n",
       "  'Pourquoi ce projet de loi est-il nécessaire?'),\n",
       " ('What, then, does this bill do?', 'Alors, que fait le projet de loi?'),\n",
       " ('What is needed to make Canadian owners and operators more competitive?',\n",
       "  'Que faut‑il faire pour rendre les propriétaires et les exploitants canadiens plus concurrentiels?'),\n",
       " ('What would the various legitimate, registered lobby firms have to say about this?',\n",
       "  \"Qu'est-ce que les diverses entreprises de lobbying légitimes enregistrées auraient à dire à ce sujet?\"),\n",
       " ('What is the so- called or alleged perception about them?',\n",
       "  'Quelle est cette présumée perception à leur égard?'),\n",
       " (\"Why are we suddenly making such a fundamental change to Canada's political financing system?\",\n",
       "  'Pourquoi apporter subitement des changements fondamentaux au système de financement des partis politiques au Canada?'),\n",
       " ('What has changed?', \"Qu'est-ce qui a changé?\"),\n",
       " ('Who will be made accountable for putting Brian Mulroney and his entire family through such unconscionable turmoil for the past eight years?',\n",
       "  \"Qui devra rendre compte du fait qu'il a soumis Brian Mulroney et toute sa famille à cette tourmente déraisonnable au cours des huit dernières années?\"),\n",
       " ('Who will answer to Canadian taxpayers for the millions wasted?',\n",
       "  'Qui justifiera auprès des contribuables canadiens les millions de dollars gaspillés?'),\n",
       " ('What are the criteria for a group to be identifiable and protected under this section?',\n",
       "  \"Quels sont les critères pour qu'un groupe soit identifiable et protégé aux termes de cet article?\"),\n",
       " ('What else could be added?', \"Que peut-on ajouter d'autre?\"),\n",
       " ('What about severely handicapped individuals like my daughter or those other people who suffer from evident physical or mental disabilities?',\n",
       "  \"Qu'en est-il des gens sévèrement handicapés comme ma fille ou d'autres qui souffrent d'incapacité physique ou mentale évidente?\"),\n",
       " ('What do I Have to do?', 'Que devez-vous faire?'),\n",
       " ('Whom could I talk to at ABC about my project idea and whether I would be a good candidate for receiving funds?',\n",
       "  'Qui puis-je contacter à Entreprise autochtone Canada pour discuter de mon idée de projet et savoir si je suis admissible à un financement?'),\n",
       " ('What does eligible project costs mean?',\n",
       "  \"Que signifie l'expression « coûts admissibles du projet »?\"),\n",
       " ('What are the eligibility criteria for financial assistance from ABC?',\n",
       "  \"Quels sont les critères d'admissibilité à l'aide financière d'Entreprise autochtone Canada?\"),\n",
       " ('Why do I have to provide equity towards the business project?',\n",
       "  'Pourquoi dois-je investir des capitaux propres dans le projet?'),\n",
       " ('What does ABC require in a business plan and what information is available to help me?',\n",
       "  \"Quelles sont les exigences d'Entreprise autochtone Canada en matière de contenu et quelles ressources puis-je consulter pour m'aider?\"),\n",
       " ('What is proactive disclosure?',\n",
       "  \"Qu'entend-on par « divulgation proactive »?\"),\n",
       " ('What is a Letter of Offer?', \"Quel est le contenu de la lettre d'offre?\"),\n",
       " ('What will the Letter of Offer cover?',\n",
       "  \"Que faire en cas d'erreur dans ma lettre d'offre?\"),\n",
       " ('What is involved in submitting a claim for payment?',\n",
       "  'Quelle est la procédure de demande de remboursement?'),\n",
       " ('What will the Letter of Offer cover?',\n",
       "  \"Quel est le contenu de la lettre d'offre?\"),\n",
       " ('What do I do if there is an error in my Letter of Offer?',\n",
       "  \"Que faire en cas d'erreur dans ma lettre d'offre?\"),\n",
       " ('What do I need to know?', 'Que dois-je savoir?'),\n",
       " (\"What if I don't have 100 percent ownership in my business?\",\n",
       "  \"Puis-je présenter une demande d'aide financière si je ne suis pas propriétaire à part entière de mon entreprise?\"),\n",
       " (\"What if I don't have 100 percent ownership in my business?\",\n",
       "  'À quel montant de financement suis-je admissible?'),\n",
       " ('What should the proposal include?', 'Que devrait inclure la proposition?'),\n",
       " ('What are ABC’s program priorities?',\n",
       "  'Quelles sont les priorités du programme?'),\n",
       " ('What’s the difference between a contribution and a grant?',\n",
       "  'Quelle est la différence entre une contribution et une subvention?'),\n",
       " ('What other sources of financial assistance are available to me?',\n",
       "  'Quelles sont les autres sources de financement à ma disposition?'),\n",
       " ('What is Aboriginal Business Canada?',\n",
       "  \"Qu'est-ce qu'Entreprise autochtone Canada?\"),\n",
       " ('What is the impact on the Canadian industry of extending these aircraft negotiations?',\n",
       "  \"Quelles conséquences la prolongation de ces négociations aura-t-elle sur l'industrie canadienne des aéronefs civils?\"),\n",
       " ('What are the next steps?', 'Quelles sont les prochaines étapes?'),\n",
       " ('What is the process?', 'Quelle est la procédure à suivre?'),\n",
       " ('What happens after a proposal is filed with the Official Receiver?',\n",
       "  \"Que se passe-t-il lorsqu'une demande est déposée chez le séquestre officiel?\"),\n",
       " ('What happens if the proposal is rejected?',\n",
       "  \"Qu'arrive-t-il si la proposition est rejetée?\"),\n",
       " ('What if I stop making the payments and default on the performance of the proposal?',\n",
       "  \"Qu'est-ce qui se passe si je cesse de faire les versements et si je ne respecte pas les termes de la proposition?\"),\n",
       " ('What are the duties of a bankrupt?', 'Quels sont les devoirs du failli?'),\n",
       " ('What does the examination with the Official Receiver involve?',\n",
       "  \"Qu'est-ce qu'entraîne l'interrogatoire auquel procède le séquestre officiel?\"),\n",
       " ('When is a bankrupt discharged?', 'Quand un failli est-il libéré?'),\n",
       " ('What is mediation?', 'Qu’est-ce que la médiation?'),\n",
       " ('Why was mediation introduced into the consumer bankruptcy process?',\n",
       "  'Pourquoi a-t-on inclus la médiation dans la procédure de faillite des particuliers?'),\n",
       " ('Who is the mediator?', 'Qui est le médiateur?'),\n",
       " ('What does the mediator do?', 'Que fait le médiateur?'),\n",
       " (\"What is the trustee's role in the mediation?\",\n",
       "  'Quel est le rôle du syndic de faillite pendant la médiation?'),\n",
       " ('Who may attend the mediation session?',\n",
       "  'Qui peut assister à la séance de médiation?'),\n",
       " ('When can mediation be used to resolve disputes?',\n",
       "  'Dans quels cas peut-on demander la médiation?'),\n",
       " ('Who can request surplus income mediation?',\n",
       "  'Qui peut demander une médiation concernant le revenu excédentaire?'),\n",
       " ('Who will be considered for surplus income mediation?',\n",
       "  'Qui a droit à la médiation concernant le revenu excédentaire?'),\n",
       " ('Who can request discharge mediation?',\n",
       "  'Qui peut demander une médiation concernant la libération de la faillite?'),\n",
       " ('Who will be considered for discharge mediation?',\n",
       "  'Qui a droit à la médiation concernant la libération de la faillite?'),\n",
       " ('What happens if the parties agree?',\n",
       "  'Que se passe-t-il lorsque toutes les parties arrivent à s’entendre?'),\n",
       " ('What happens if the parties cannot agree?',\n",
       "  'Que se passe-t-il si les parties n’arrivent pas à s’entendre?'),\n",
       " (\"What if I'm not sure of the spelling?\",\n",
       "  \"Quoi faire si je ne suis pas certain de l'orthographe du nom?\"),\n",
       " ('Who Files For Bankruptcy?', 'Qui fait faillite?'),\n",
       " ('Who is a \"consumer debtor\"?',\n",
       "  \"Qu'entend-on par « débiteur consommateur »?\"),\n",
       " ('Who should decide what kinds of property are exempt from seizure by creditors?',\n",
       "  'À qui revient la décision de déterminer les types de biens qui ne pourront être saisis par les créanciers?'),\n",
       " ('Why a three year contribution clawback?',\n",
       "  'Pourquoi prévoir la récupération de la cotisation sur trois ans?'),\n",
       " ('Why an irrebuttable test?', 'Pourquoi une dévolution irréfutable?'),\n",
       " ('Why not require the debtor to make the lock-in election at the time of acquiring the RRSP, or at the time of each contribution?',\n",
       "  \"Pourquoi ne pas exiger du débiteur qu'il choisisse un reer immobilisé au moment de l'achat, ou au moment de chaque cotisation?\"),\n",
       " (\"Why shouldn't reaffirmation by conduct be allowed?\",\n",
       "  'Pourquoi ne doit-on pas permettre la réaffirmation par la conduite?'),\n",
       " ('Why should reaffirmation of unsecured debt be disallowed?',\n",
       "  \"Pourquoi ne doit-on pas permettre la réaffirmation d'une dette non garantie?\"),\n",
       " ('What does \"assent\" mean?', \"Qu'entend-on par « y consent »?\"),\n",
       " ('What is the current role of bankruptcy within the existing system of credit granting, particularly given the development of sophisticated systems of credit scoring which permit institutional creditors to predict with some accuracy the risk from different consumer markets?',\n",
       "  \"Quel est le rôle de la faillite au sein du système actuel d'octroi du crédit, notamment en raison du développement de systèmes complexes de cotes de solvabilité permettant aux créanciers institutionnels de prédire avec une certaine exactitude le risque des différents marchés de consommation?\"),\n",
       " ('What is the optimal balance of consumer proposals versus bankruptcies and what has been the impact of the 1997 amendments?',\n",
       "  \"Quel est l'équilibre optimal entre les propositions de consommateurs et les faillites et quelle a été l'incidence des modifications de 1997?\"),\n",
       " ('Where do I begin?', 'Par où dois-je commencer?'),\n",
       " ('What does it cost to declare bankruptcy?',\n",
       "  'Combien en coûte-t-il pour déclarer faillite?'),\n",
       " ('Who pays the trustee?', 'Qui paie le syndic?'),\n",
       " ('When can I get credit again?',\n",
       "  'Combien de temps après ma libération pourrai-je obtenir du crédit?'),\n",
       " (\"Whom should I contact to complain about a trustee's conduct?\",\n",
       "  \"Avec qui dois-je communiquer pour porter plainte concernant la conduite d'un syndic?\"),\n",
       " ('What can I doabout this?', 'Que puis-je faire?'),\n",
       " ('What are the advantages of making a consumer proposal rather than declaring bankruptcy?',\n",
       "  \"Quel est l'avantage de faire une proposition de consommateur plutôt qu'une faillite?\"),\n",
       " ('Where do I begin?', 'Par où dois-je commencer?'),\n",
       " ('What does it cost to declare bankruptcy?',\n",
       "  'Combien en coûte-t-il pour déclarer faillite?'),\n",
       " ('Who pays the trustee?', 'Qui paie le syndic?'),\n",
       " ('When can I get credit again?',\n",
       "  'Combien de temps après ma libération pourrai-je obtenir du crédit?'),\n",
       " (\"Whom should I contact to complain about a trustee's conduct?\",\n",
       "  \"Avec qui dois-je communiquer pour porter plainte concernant la conduite d'un syndic?\"),\n",
       " ('What does it mean?', 'Que puis-je faire?'),\n",
       " ('What action can I take?', 'Quelles mesures puis-je prendre?'),\n",
       " ('What are the advantages of making a consumer proposal rather than declaring bankruptcy?',\n",
       "  \"Quel est l'avantage de faire une proposition de consommateur plutôt qu'une faillite?\"),\n",
       " ('Why do I need a CAGE code?', 'Pourquoi ce code est-il nécessaire?'),\n",
       " ('What are the advantages to incorporating federally online?',\n",
       "  'Quels sont les avantages de la constitution en société de régime fédéral en ligne?'),\n",
       " (\"What's in a name?\", 'En quoi consiste une dénomination sociale?'),\n",
       " ('Who can form a corporation?',\n",
       "  'Qui peut constituer une entreprise en société par actions?'),\n",
       " ('What is the CBCA?', \"Qu'est-ce que la LCSA?\"),\n",
       " ('What kinds of businesses can incorporate under the CBCA?',\n",
       "  \"Quels types d'entreprises peuvent être constituées en société sous le régime de la LCSA?\"),\n",
       " ('Where can I get more information about incorporating?',\n",
       "  'Où puis-je obtenir de plus amples renseignements sur la constitution en société?'),\n",
       " ('What are the advantages of incorporating online?',\n",
       "  'Quels sont les avantages de la constitution en société en ligne?'),\n",
       " ('What are the benefits of incorporation?',\n",
       "  'Quels sont les avantages de la constitution en société?'),\n",
       " ('What are the benefits of incorporating at the federal level?',\n",
       "  'Quels sont les avantages de la constitution en société de régime fédéral?'),\n",
       " ('What are the steps that have to be followed when incorporating online?',\n",
       "  'Quelles sont les étapes à suivre pour constituer une société en ligne?'),\n",
       " ('Where can I get more information about incorporating?',\n",
       "  'Où puis-je obtenir plus de renseignements sur la constitution en société?'),\n",
       " ('What kind of businesses can incorporate under the CBCA?',\n",
       "  \"Quels types d'entreprises peut-on constituer en société sous le régime de la LCSA?\"),\n",
       " ('Who can form a corporation?', 'Qui peut constituer une société?'),\n",
       " (\"Why can't Corporations Canada provide the advice I am seeking?\",\n",
       "  \"Pourquoi Corporations Canada ne peut-elle me fournir les conseils dont j'ai besoin?\"),\n",
       " ('Where can I obtain a copy of the CBCA (or another Act) and its Regulations?',\n",
       "  \"Où puis-je obtenir un exemplaire de la LCSA (ou d'une autre loi) et de ses règlements?\"),\n",
       " ('What percentage of directors must be resident Canadian?',\n",
       "  \"Quelle est la proportion d'administrateurs qui doivent être résidents canadiens?\"),\n",
       " ('Where may I register a sole proprietorship or partnership?',\n",
       "  'Où puis-je enregistrer une entreprise à propriétaire unique ou une société de personnes?'),\n",
       " ('What is a NUANS® name search report?',\n",
       "  \"Qu'est-ce qu'un rapport de recherche de dénomination NUANSMD?\"),\n",
       " ('Where can I obtain a NUANS® name search for my proposed corporate name?',\n",
       "  'Comment obtenir un rapport NUANSMD pour le nom proposé de ma société?'),\n",
       " ('Why are online transactions less expensive than regular transactions?',\n",
       "  'Pourquoi les transactions en ligne sont-elles moins coûteuses que les transactions ordinaires?'),\n",
       " ('What is the deadline for filing your first Annual Return (Form 22)?',\n",
       "  'Quelle est la date limite pour produire le premier rapport annuel (formulaire 22)?'),\n",
       " ('What are the steps that have to be followed when incorporating online?',\n",
       "  'Quelles sont les étapes à suivre pour se constituer en société en ligne?'),\n",
       " ('What kinds of businesses can incorporate under the Canada Business Corporations Act (CBCA)?',\n",
       "  \"Quels types d'entreprises peut-on constituer en société sous le régime de la Loi canadienne sur les sociétés par actions (LCSA)?\"),\n",
       " (\"Why can't Corporations Canada provide the advice I am seeking?\",\n",
       "  'Pourquoi Corporations Canada ne peut-il me fournir de conseils?'),\n",
       " ('Who is the training for?', 'Pour qui le cours est-il conçu?'),\n",
       " ('What is the Electronic Training on Federal Corporate Name Granting?',\n",
       "  \"En quoi consiste le cours de formation électronique sur l'octroi fédéral des dénominations sociales?\"),\n",
       " ('Why should I take this training?', 'Pourquoi devrais-je suivre ce cours?'),\n",
       " ('Why do I have to read more than 120 pages to propose an acceptable corporate name?',\n",
       "  'Pourquoi dois-je lire plus de 120 pages pour proposer une dénomination sociale acceptable?'),\n",
       " (\"Why should I go to your electronic training if I've already taken your name training seminar?\",\n",
       "  \"Pourquoi devrais-je suivre votre cours de formation électronique sur les dénominations sociales si j'ai déjà suivi votre séminaire de formation sur le même sujet?\"),\n",
       " (\"What's the advantage of the electronic training over your name-training seminar?\",\n",
       "  \"Quel est l'avantage du cours de formation électronique sur les dénominations sociales par rapport à votre séminaire de formation sur le même sujet?\"),\n",
       " ('What is the deadline for filing your first Annual Return (Form 22)?',\n",
       "  'Quelle est la date limite pour produite le premier rapport annuel (formulaire 22)?'),\n",
       " ('What are they comfortable with?', \"Avec quoi est-il à l'aise?\"),\n",
       " ('What type of technology do they have?',\n",
       "  'De quel type de technologie dispose-t-il?'),\n",
       " ('What factors lead to their adoption or non-adoption of e-business?',\n",
       "  'Quels sont les facteurs qui les ont motivées à adopter ou à ne pas adopter le commerce électronique?'),\n",
       " ('What is High Performance Manufacturing?',\n",
       "  \"Qu'est-ce que les processus de fabrication de haute performance?\"),\n",
       " ('Who can afford to wait?', \"Qui peut se permettre d'attendre?\"),\n",
       " ('Where can I apply for a loan under the Canada Small Business Financing Act (CSBFA)?',\n",
       "  'Où puis-je présenter une demande de prêt en vertu de la Loi sur le financement des petites entreprises du Canada (LFPEC)?'),\n",
       " ('Why do some financial institutions not participate in this program?',\n",
       "  'Pourquoi certains établissements financiers ne participent-ils pas à ce programme?'),\n",
       " ('What businesses are eligible to apply for a loan under this program?',\n",
       "  'Quelles sont les entreprises qui peuvent présenter une demande dans le cadre de ce programme?'),\n",
       " ('What is eligible for financing under this program?',\n",
       "  \"Qu'est-ce qui est admissible au financement dans le cadre de ce programme?\"),\n",
       " ('What is the maximum loan amount I can access under this program?',\n",
       "  'Quel est le montant maximal du prêt que je peux obtenir dans le cadre de ce programme?'),\n",
       " ('Who can be contacted if my application for loan has been refused unfairly?',\n",
       "  'Au cas où ma demande de prêt est refusée, avec qui puis-je communiquer?'),\n",
       " ('Why do some financial institutions choose not to participate in this program?',\n",
       "  'Pourquoi certains établissements financiers ne participent-ils pas à ce programme?'),\n",
       " ('What businesses are eligible to apply under this program?',\n",
       "  'Quelles sont les entreprises qui peuvent présenter une demande dans le cadre de ce programme?'),\n",
       " ('Who can be contacted if my application for a loan has been refused unfairly?',\n",
       "  'Si ma demande de prêt est refusée, avec qui puis-je communiquer?'),\n",
       " ('Where can I apply for a lease under the Capital Leasing Pilot Project (CLPP)?',\n",
       "  'Où puis-je présenter une demande crédit-bail dans le cadre du Projet pilote de location-acquisition (PPLA)?'),\n",
       " ('What businesses are eligible to apply under CLPP?',\n",
       "  'Quelles sont les entreprises qui sont admissibles dans le cadre du PPLA?'),\n",
       " ('What is eligible for financing under CLPP?',\n",
       "  \"Qu'est-ce qui est admissible au financement dans le cadre du PPLA?\"),\n",
       " ('What is the maximum lease amount I can access under CLPP?',\n",
       "  'Quel est le montant maximal de financement dans le cadre du PPLA?'),\n",
       " ('What are the costs related to leases?',\n",
       "  'Quels sont les coûts relatifs au crédit-bail?'),\n",
       " ('What is eligible for financing under CLPP?',\n",
       "  \"Qu'est-ce qui est admissible au financement dans le cadre du PPLA?\"),\n",
       " ('What are the responsibilities of the lender under the CSBFA program?',\n",
       "  'Quelles sont les responsabilités du prêteur dans le cadre du programme FPEC?'),\n",
       " ('What are some of the common errors made when making a CSBF loan that would result in invalidating a claim?',\n",
       "  \"Quelles sont certaines erreurs communes commises lors de l'approbation et d'un prêt FPEC, qui peuvent invalider une demande d'indemnisation éventuelle?\"),\n",
       " ('What are some of the common errors made when making and administrating a CSBF loan that would result in an adjustment to a claim?',\n",
       "  \"Quelles sont certaines erreurs communes commises lors de l'approbation et l'administration d'un prêt FPEC, qui peuvent entraîner l'ajustement d'une demande d'indemnisation?\"),\n",
       " (\"What is the difference between related borrowers and a borrower who is not at arm's length?\",\n",
       "  'Quelle est la différence entre un emprunteur lié et un emprunteur ayant un lien de dépendance?'),\n",
       " ('When an appraisal is required under the program regulations, is it possible to use someone who is not an appraiser member of any professional association?',\n",
       "  \"Lorsqu'une évaluation est requise en vertu du Règlement, est-il possible d'utiliser une personne qui n'est pas un évaluateur membre d'une association professionnelle?\"),\n",
       " ('What is the time delay to submit the request to transfer a loan from another lender and what form do we use?',\n",
       "  \"Quel est le délai pour soumettre une demande de transfert de prêt d'un autre prêteur et quel formulaire devons-nous utiliser?\"),\n",
       " (\"What is the difference between related borrowers and a borrower who is not at arm's length?\",\n",
       "  'Quelle est la différence entre un emprunteur lié et un emprunteur ayant un lien de dépendance?'),\n",
       " ('What can loans be used for under this program?',\n",
       "  'À quoi peuvent servir les prêts consentis dans le cadre de ce programme?'),\n",
       " ('What are the terms of the financing?',\n",
       "  'Quelles sont les conditions du financement?'),\n",
       " ('What is CSR?', \"Qu'est-ce que la RSE?\"),\n",
       " ('Who is eligible to apply for CANtex funding?',\n",
       "  'Qui peut présenter une demande de financement de CANtex?'),\n",
       " ('What projects are eligible?', 'Quels sont les projets admissibles?'),\n",
       " ('Who is eligible to receive CANtex funding?',\n",
       "  'Qui peut recevoir du financement de CANtex?'),\n",
       " ('What projects are eligible for CANtex funding?',\n",
       "  'Quels sont les projets admissibles au financement de CANtex?'),\n",
       " ('What salaries are eligible?', 'Quels sont les salaires admissibles?'),\n",
       " ('What consulting fees are eligible?',\n",
       "  'Quels sont les honoraires de consultant admissibles?'),\n",
       " ('What is the maximum contribution for a CANtex-funded project?',\n",
       "  'Quelle est la contribution maximum pour un projet financé par CANtex?'),\n",
       " ('What formal documentation is issued once a project has been approved?',\n",
       "  \"Quels sont les documents officiels émis une fois qu'un projet a été approuvé?\"),\n",
       " ('Who should I contact to find out more about CANtex, or to obtain an application form?',\n",
       "  \"À qui dois-je m'adresser pour avoir de plus amples renseignements au sujet de CANtex ou pour obtenir un formulaire de demande?\"),\n",
       " ('What is the maximum contribution for \\u2028CANtex-funded project?',\n",
       "  'Quelle est la contribution maximum pour un projet financé par CANtex?'),\n",
       " ('Why Training?', 'Pourquoi la formation?'),\n",
       " ('What Are Companies Doing to Train Employees?',\n",
       "  'Que font les entreprises pour former leurs employés?'),\n",
       " ('What Are Leading-Edge Learning Organisations Doing?',\n",
       "  'Que font les organisations intelligentes d’avant-garde?'),\n",
       " ('What is E-learning?', \"Qu'est-ce que l’apprentissage électronique?\"),\n",
       " ('What Is the Impact of Learning Technologies?',\n",
       "  'Quels sont les impacts des technologies d’apprentissage?'),\n",
       " ('What do you do?', 'Que faire?'),\n",
       " ('What is required to evaluate training?', 'Comment évaluer la formation?'),\n",
       " ('What process should be put in place so that staff can have follow-up support?',\n",
       "  'Quels processus devraient être mis en place pour aider les employés après la formation?'),\n",
       " ('What is a leading-edge learning organisation?',\n",
       "  \"Qu'est-ce qu'une organisation intelligente d'avant-garde?\"),\n",
       " ('Where is the ROI in e-Business?',\n",
       "  'Où est le RCI en affaires électroniques?'),\n",
       " ('What is it and how is it different from traditional approaches?',\n",
       "  'What is it and how is it different from traditional approaches?'),\n",
       " ('What is e-Business?', \"Qu'est-ce que les « affaires électroniques »?\"),\n",
       " ('What is Spam?', \"Qu'est-ce que le pourriel?\"),\n",
       " ('What proof do I have of the transaction?',\n",
       "  \"Quelles preuves me donnera-t-on que la transaction s'est effectivement déroulée?\"),\n",
       " (\"What are your/management's objectives for the site?\",\n",
       "  'Quels sont les objectifs du site?'),\n",
       " ('What will the site address be and what name domain will you use?',\n",
       "  \"Quelle sera l'adresse du site et quel nom de domaine utiliserez-vous?\"),\n",
       " ('What rights do visitors to the site have to reproduce these marks?',\n",
       "  'Les visiteurs du site auront-ils le droit de reproduire ces marques de commerce?'),\n",
       " ('What right do visitors have to duplicate the site content?',\n",
       "  \"Vos visiteurs auront-ils le droit d'en reproduire le contenu?\"),\n",
       " ('What is the potential for the goods or services you are offering to cause personal injury or significant financial loss?',\n",
       "  'Est-il possible que vos produits ou services causent des dommages, des blessures ou des pertes financières importantes?'),\n",
       " ('Why Do You Need Competitive Intelligence?',\n",
       "  'Pourquoi avez-vous besoin de la veille concurrentielle?'),\n",
       " ('Where can you find it?', \"Où trouver l'information?\"),\n",
       " ('What costs and benefits should be considered for your project?',\n",
       "  'Quels sont les coûts et les avantages de votre projet?'),\n",
       " ('What is e-Business?', \"Qu'est-ce que les « affaires électroniques »?\"),\n",
       " ('What changes in staffing, skills and communication/ information flows could potentially result from this exercise?',\n",
       "  \"Quels changements risque-t-il de provoquer en ce qui a trait aux ressources humaines, aux compétences requises et à la circulation de l'information?\"),\n",
       " ('Where should you invest your scarce resources?',\n",
       "  'Où devriez-vous investir vos maigres ressources?'),\n",
       " ('What is SME Direct?', 'Qu’est-ce que PME en direct?'),\n",
       " ('Who’s Sharing What With Whom?', 'Qui partage quoi avec qui?'),\n",
       " ('Who’s Sharing What With Whom?', 'Qui partage quoi avec qui?'),\n",
       " ('Who is interested and why are logistics and SCM cost measurement and agility measurement needed?',\n",
       "  'Qui est intéressé et pourquoi a-t-on besoin de mesurer l’agilité et les coûts de logistique et de GCA?'),\n",
       " ('What should we do?', 'Que faire ?'),\n",
       " ('Where should we stay?', 'Où dormir ?'),\n",
       " ('What is the true value of social capital?',\n",
       "  'Quelle est la valeur réelle des investissements sociaux?'),\n",
       " ('What public policy concerns, if any, are generated by transborder M&As?',\n",
       "  'Quelles préoccupations les fusions et acquisitions transfrontalières suscitent-elles sur le plan des politiques publiques ?'),\n",
       " ('Why has this growth occurred?', 'Pourquoi cette croissance ?'),\n",
       " ('What role should competition policy play when patent protection is either too weak or overreaching?',\n",
       "  'Quel rôle devrait jouer la politique de concurrence lorsque la protection accordée aux brevets est trop faible ou trop grande?'),\n",
       " ('What is a Firm?', \"Qu'est-ce qu'une entreprise ?\"),\n",
       " ('Why Auction the Spectrum?', 'Pourquoi vendre le spectre aux enchères ?'),\n",
       " ('Whatever Happened to Productivity Growth?',\n",
       "  \"Qu'est-il arrivé à la croissance de la productivité ?\"),\n",
       " (\"What's a Country For?\", 'À quoi sert un pays ?'),\n",
       " ('What are the types and levels of skilled labour Canada needs and will need in building an innovative economy?',\n",
       "  \"Quels sont les types et les niveaux de main-d'oeuvre qualifiée dont le Canada a besoin pour bâtir une économie novatrice ?\"),\n",
       " ('Where does Canada stand now in the supply of these types of skilled labour?',\n",
       "  'Quelle est la situation actuelle de l’offre de ces types de main-d’oeuvre au Canada?'),\n",
       " ('What are the current conditions in markets for these types of skilled labour?',\n",
       "  'Quelle est la conjoncture actuelle des marchés pour ces types de main-d’oeuvre qualifiée ?'),\n",
       " ('What institutional barriers are there to adjustments?',\n",
       "  'Quels sont les obstacles institutionnels à l’adaptation?'),\n",
       " ('What are the reasons for retiring?',\n",
       "  'Quelles sont les raisons qui motivent une personne à prendre sa retraite?'),\n",
       " ('What are the barriers that inhibit the continuation in employment for those who otherwise would like to continue and how do those barriers differ depending upon the demographic, human capital and work related characteristics of individuals as well as their location?',\n",
       "  'Quels obstacles empêchent la poursuite de l’emploi chez ceux qui autrement voudraient continuer à travailler et en quoi ces obstacles varient selon les caractéristiques liées à la démographie, au capital humain et au travail ainsi qu’au lieu de résidence?'),\n",
       " ('Why do some people return to work after retirement and how do those reasons differ depending upon the demographic, human capital and work related characteristics of individuals as well as their location?',\n",
       "  'Pourquoi certaines personnes retournent travailler après avoir pris leur retraite et de quelle façon ces raisons varient-elles selon les caractéristiques liées à la démographie, au capital humain et au travail ainsi qu’au lieu de résidence?'),\n",
       " ('What are the determinants of retiring due to mandatory retirement and the expected age of retirement, and how have these changed over time?',\n",
       "  'Quels sont les déterminants du départ à la retraite, motivé par la retraite obligatoire, et l’âge prévu de la retraite, et quelle a été l’évolution de ces facteurs au fil du temps?'),\n",
       " ('What are the implications of age structure change and workforce aging on labour market institutions and the internal HRM practices of firms?',\n",
       "  'Quelles sont les répercussions des modifications à la structure par âge et au vieillissement de la population active sur les autorités chargées du marché du travail et les pratiques en gestion des ressources humaines des entreprises?'),\n",
       " ('What barriers (economic or institutional) are likely to impose significant constraints on the behaviour of employees and employers as the workforce ages and changes in composition?',\n",
       "  'Quels obstacles (économiques ou institutionnels) sont susceptibles de restreindre de façon importante le comportement des employés et des employeurs à mesure que la population active vieillit et que sa composition change?'),\n",
       " ('What is E-commerce?', 'En quoi consiste le commerce électronique?'),\n",
       " ('What are the greatest benefits of e-commerce for most businesses?',\n",
       "  'Quels sont les plus grands avantages du commerce électronique pour la plupart des entreprises?'),\n",
       " ('What types of networks use open network standards and protocols?',\n",
       "  'Quels types de réseaux reposent sur des normes et des protocoles de réseau ouvert?'),\n",
       " ('What is sticky marketing?', \"Qu'entend-on par « marketing accrocheur »?\"),\n",
       " ('Which is still a high concern for most average SMEs six months after launching an e-commerce operation?',\n",
       "  \"Parmi les préoccupations initiales courantes mentionnées ci-après, laquelle continue d'inquiéter la plupart des petites et moyennes entreprises après ce délai?\"),\n",
       " ('What are the most immediate opportunities for a professional services firm through e-commerce?',\n",
       "  \"Quelles sont les possibilités les plus immédiates qu'offre le commerce électronique aux entreprises de services professionnels?\"),\n",
       " (\"What strategy is the most effective to improve rank position in the Internet search engines' query results?\",\n",
       "  \"Quelle est la stratégie la plus efficace pour améliorer le classement d'un site Web dans les résultats des interrogations effectuées au moyen des moteurs de recherche ?\"),\n",
       " ('What are the typical cost percentages to develop an e-commerce web site?',\n",
       "  \"En général, quelle est la répartition des coûts d'aménagement d'un site de commerce électronique ?\"),\n",
       " ('What is the average time to develop an e-commerce web site with online payment processing?',\n",
       "  'Combien de temps faut-il en moyenne pour aménager un site de commerce électronique permettant de traiter les paiements en direct ?'),\n",
       " ('Which party is liable for transactions processed online that use unauthenticated or stolen credit cards?',\n",
       "  \"Qui assume la responsabilité des transactions traitées en direct au moyen d'une carte de crédit volée ou non authentifiée?\"),\n",
       " ('What is an EBM?', \"Mais qu'est-ce qu'un MAÉ?\"),\n",
       " ('What are the key questions that should be asked and how should such questions be answered?',\n",
       "  'Quelles sont les questions clés à se poser et comment y répondre?'),\n",
       " ('What choices must it make?', 'Quels sont les choix à faire?'),\n",
       " ('What are the barriers to the adoption of EB?',\n",
       "  \"Mais tout d'abord quels sont ces prismes de décisions?\"),\n",
       " ('Where To Start New to e-business?',\n",
       "  \"Pour commencer Les affaires électroniques, c'est nouveau pour vous?\"),\n",
       " ('What investment conditions are sought by foreign investors?',\n",
       "  \"Quelles sont les conditions d'investissement recherchées par les investisseurs étrangers?\"),\n",
       " ('What are the current global dynamics and what is the outlook for the future?',\n",
       "  \"Quelles sont les dynamiques mondiales actuelles et quelles sont les perspectives d'avenir?\"),\n",
       " ('What investment conditions are sought by foreign investors?',\n",
       "  \"Quelles sont les conditions d'investissements recherchées par les investisseurs étrangers?\"),\n",
       " ('What are the global relocation dynamics, where are companies expanding and what are the main drivers for these dynamics?',\n",
       "  \"Quelle est la dynamique de la réinstallation à l'échelle internationale, où les entreprises prennent-elles de l'expansion et quels sont les principaux moteurs de cette dynamique?\"),\n",
       " ('What benefits do such markets offer, and what pitfalls should companies be aware of?',\n",
       "  'Quels avantages ces marchés offrent-ils et de quels écueils les entreprises doivent-elle être conscientes?'),\n",
       " ('Which global regions / countries are likely to benefit most from the changes that globally operating companies are making?',\n",
       "  \"Quelles régions / pays bénéficieront le plus des changements qu'effectuent les entreprises exploitant à l'échelle internationale?\"),\n",
       " ('What implications will this have for both the \"winners and the looser\"?',\n",
       "  'Quelles implications cela aura-t-il, à la fois pour les \" gagnants \" et pour les \" perdants \"?'),\n",
       " ('Why are They Important?',\n",
       "  'Pourquoi les chaînes de valeur mondiales sont-elles importantes?'),\n",
       " ('When will an investment be reviewable?',\n",
       "  \"Quand un investissement est-il sujet à l'examen?\"),\n",
       " ('What does \"net benefit\" mean?',\n",
       "  \"Que signifie l'expression « avantage net »?\"),\n",
       " ('What happens if the Minister is not satisfied of \"net benefit\" and does not approve the investment?',\n",
       "  \"Qu'arrive-t-il si le ministre n'est pas d'avis que l'investissement sera à l'« avantage net » du Canada et qu'il ne l'approuve pas?\"),\n",
       " (\"What's next?\", 'Quelle sera la prochaine innovation?'),\n",
       " ('What is a Notice of Approval?', \"Qu'est-ce qu'un avis d'approbation?\"),\n",
       " ('Why is an approval required?',\n",
       "  'Pourquoi une approbation est-elle requise?'),\n",
       " ('Who can apply to obtain an approval?',\n",
       "  \"Qui peut faire une demande d'approbation?\"),\n",
       " ('What do they mean?', \"Qu'est-ce qu'un appareil de mesure?\"),\n",
       " ('Who are the Technical Coordinator that provide information on the legal requirements applicable to my device?',\n",
       "  \"Qui sont les coordonnateurs techniques qui peuvent me donner l'information relative aux exigences juridiques régissant mon appareil?\"),\n",
       " ('What happens if I am unable to correct the noncompliance within the set time limit?',\n",
       "  \"Qu'arrive-t-il si je suis incapable de corriger la non-conformité dans le délai prescrit?\"),\n",
       " ('What is the Approval Services Laboratory?',\n",
       "  \"Qu'est-ce que le Laboratoire des services d'approbation?\"),\n",
       " ('Who are we?', 'Qui sommes-nous?'),\n",
       " ('Why are Changes to the Weights and Measures Act and the Electricity and Gas Inspection Act necessary?',\n",
       "  'Pourquoi faut-il apporter des modifications à la Loi sur les poids et mesures et à la Loi sur l’inspection de l’électricité et du gaz?'),\n",
       " ('What is the scope of the Legislative Review?',\n",
       "  'Quelle est la portée de la révision de la législation?'),\n",
       " ('Which Units Of Measurement Are Legal?',\n",
       "  'Quelles sont les unités de mesure légales?'),\n",
       " ('What can I use to promote my accreditation (or registration) status?',\n",
       "  'Que puis-je utiliser pour faire connaître mon accréditation (ou mon enregistrement)?'),\n",
       " ('What if a company has several locations, only some of which are accredited or registered?',\n",
       "  'Qu’en est-il si une entreprise compte plusieurs emplacements, dont seuls quelques-uns sont accrédités ou enregistrés?'),\n",
       " ('What happens if my accreditation or registration status is revoked?',\n",
       "  'Qu’arrive-t-il si mon accréditation ou mon enregistrement est revoqué?'),\n",
       " ('Which measuring devices are covered by the Evaluation Program?',\n",
       "  'Le Programme d’évaluation vise quels types d’appareils de mesure?'),\n",
       " ('Why is the Evaluation Program important?',\n",
       "  'Pourquoi le Programme d’évaluation est-il important?'),\n",
       " ('What is a Business Network?', \"Qu'est-ce qu'un réseau d'affaires?\"),\n",
       " ('Why Network?', 'Pourquoi constituer un réseau?'),\n",
       " ('What do Networks do?', 'Que font les réseaux?'),\n",
       " ('What attitude does your company have towards business networking?',\n",
       "  \"Que pensez-vous du concept des réseaux d'affaires?\"),\n",
       " (\"What aspects of the company's corporate culture must be taken into account when seeking network partners?\",\n",
       "  \"Quels sont les aspects de votre culture d'entreprise qui compteront dans votre recherche de partenaires?\"),\n",
       " (\"What is the company's business idea?\", 'Quel est son principal objectif?'),\n",
       " (\"What is the company's main corporate goal?\",\n",
       "  'Quels produits ou services devraient avoir la priorité?'),\n",
       " ('What are our market priorities?',\n",
       "  'Quelles sont nos priorités commerciales?'),\n",
       " ('What are the important purchasing criteria?',\n",
       "  \"Quels sont nos plus importants critères d'achat?\"),\n",
       " ('What are our core areas of competence?',\n",
       "  'Quelles sont nos principales sphères de compétence?'),\n",
       " ('What technology is most important to us?',\n",
       "  'Quelle technologie nous importe le plus?'),\n",
       " ('What are the critical success factors for us to achieve our goal?',\n",
       "  'Quels facteurs de réussite cruciaux devons-nous atteindre?'),\n",
       " ('What projects will allow us to achieve our goal?',\n",
       "  'Quels projets nous mèneront vers notre but?'),\n",
       " ('What kind of network project does the company have in mind?',\n",
       "  'Quel genre de réseau envisage-t-elle de créer?'),\n",
       " ('What directions for development would the company like to pursue?',\n",
       "  'Quelles avenues de développement entend-elle prendre?'),\n",
       " (\"What aspects of the company's corporate culture or values must be taken into account when seeking network partners?\",\n",
       "  \"Quels aspects de la culture ou des valeurs de l'entreprise entrent en ligne de compte dans la recherche de partenaires?\"),\n",
       " ('What about the business culture of a potential foreign partner?',\n",
       "  \"Qu'en est-il de la culture d'entreprise si celle-ci est étrangère?\"),\n",
       " ('Who designs the product?', '• Qui le concevra?'),\n",
       " ('Who is responsible if a customer is injured?',\n",
       "  '• Qui sera responsable si un client est blessé?'),\n",
       " ('What happens if the product infringes on the intellectual property rights of someone else?',\n",
       "  \"• Qu'arrivera-t-il si le produit empiète sur les droits de propriété intellectuelle de quelqu'un d'autre?\"),\n",
       " ('What other relevant business management subjects or topics would you like to be covered on this site?',\n",
       "  \"Quels autres sujets ou renseignements pertinents sur la gestion d'entreprise voudriez-vous voir figurer sur ce site?\"),\n",
       " ('What improvements or modifications should be made to the Managing for Business Success website?',\n",
       "  'Quelles améliorations ou changements devraient être apportés au site Gérer pour réussir en affaires?'),\n",
       " ('What would he need to do to undertake such a challenge?',\n",
       "  'De quoi avait-il besoin pour relever un tel défi?'),\n",
       " ('What are the external conditions under which voluntary approaches tend to be most and least successful?',\n",
       "  'Dans quelles circonstances les codes ou autres instruments volontaires ont-ils tendance à donner les meilleurs résultats?'),\n",
       " ('What Kind of Casket?', 'Quel type de cercueil?'),\n",
       " ('What will you save if you prepay?',\n",
       "  'Combien économiserez-vous si vous payez avant terme?'),\n",
       " ('What are the costs and savings of a shorter or longer amortization period, or a higher or lower interest rate?',\n",
       "  \"Quels sont les coûts ou les avantages d'une période d'amortissement plus courte ou plus longue, et ceux de taux d'intérêts faibles ou élevés?\"),\n",
       " ('What should you do?', 'Que devriez-vous faire?'),\n",
       " ('What should you do if you are a victim of debit card fraud?',\n",
       "  'Que devez-vous faire lorsque vous êtes victime d’une fraude par carte de débit?'),\n",
       " (\"Why not try the test a few times as it's a different test every time?\",\n",
       "  \"Pourquoi ne pas répondre aux questions du test plus d'une fois puisqu'il est différent chaque fois?\"),\n",
       " ('What about the costs for any subsequent consultations?',\n",
       "  'Quels sont les frais rattachés aux consultations subséquentes?'),\n",
       " ('What will be the total costs (they may be built into your overall monthly payment)?',\n",
       "  'Quels seront les coûts totaux (ils pourront faire partie des paiements mensuels globaux)?'),\n",
       " ('What is the length of the program that you are committing to, and what are the terms and conditions (for example, if you want to opt out)?',\n",
       "  'Quelle est la durée du programme auquel vous vous engagez et quelles en sont les conditions (par exemple, si vous décidez de vous en retirer)?'),\n",
       " ('Why use a voluntary code?', 'Pourquoi utiliser un code volontaire?'),\n",
       " ('When are voluntary codes used?',\n",
       "  'Quand utilise-t-on les codes volontaires?'),\n",
       " ('What is their record like?',\n",
       "  'Quels sont les antécédents de cette entreprise?'),\n",
       " ('Who will prepare them?', 'Qui doit les préparer?'),\n",
       " ('What is replacement value protection?',\n",
       "  \"Qu'est-ce que la couverture de la valeur de remplacement?\"),\n",
       " (\"What's in the Price of Gas?\", 'Que comprend le prix de l’essence?'),\n",
       " ('What are the Small Business Profiles?',\n",
       "  'Que sont les Profils des petites entreprises?'),\n",
       " ('What data items are available?',\n",
       "  'Quels sont les éléments d’information disponibles?'),\n",
       " ('What other information would you like to see?',\n",
       "  'Quels autres renseignements voudriez-vous y voir ?'),\n",
       " ('What are the strengths and weaknesses of Performance Plus?',\n",
       "  'Quels sont les points forts et les points faibles du site Performance Plus?'),\n",
       " ('What improvements or modifications should be made in order to facilitate the use of the Performance Plus website?',\n",
       "  \"Quelles améliorations ou modifications devraient être apportées en vue de faciliter l'usage de Performance Plus?\"),\n",
       " ('What is Electronic Commerce?', \"Qu'est-ce que le commerce électronique?\"),\n",
       " (\"What is the federal government's role in E-com?\",\n",
       "  'Quel est le rôle du gouvernement fédéral dans le commerce électronique?'),\n",
       " ('Where can I find the latest information on E-com developments?',\n",
       "  \"Où puis-je trouver l'information la plus récente sur les progrès réalisés dans le commerce électronique?\"),\n",
       " ('Whatever happened to being an individual?',\n",
       "  \"Où est passée l'individualité?\"),\n",
       " ('What Are You Trying To Do?', 'Que voulez-vous faire?'),\n",
       " ('What kind of store are you planning?',\n",
       "  'Quel genre de magasin voulez-vous ouvrir?'),\n",
       " (\"What are the company's financial capabilities?\",\n",
       "  \"Quelles sont les ressources financières de l'entreprise?\"),\n",
       " ('Which location has the best likelihood of attaining break even status?',\n",
       "  'Quel emplacement est le plus susceptible de vous faire atteindre un seuil de rentabilité?'),\n",
       " ('Who can authorize a markdown?', 'Qui est habilité à autoriser les rabais?'),\n",
       " ('What department has the biggest shrink problem?',\n",
       "  'Quel rayon est le plus touché par un problème de freinte?'),\n",
       " ('What would be the highest month for bank borrowing?',\n",
       "  'À quel mois devrions-nous emprunter le montant le plus élevé à la banque?'),\n",
       " ('What are the inventories like in our best-sellers?',\n",
       "  'Quels sont nos stocks des meilleurs vendeurs?'),\n",
       " ('What inventories are too heavy and should be marked down?',\n",
       "  'Quels stocks sont trop nombreux et devraient être démarqués?'),\n",
       " ('What release is it?', \"De quelle version s'agit-il?\"),\n",
       " ('What do you like best about the product?',\n",
       "  \"Qu'est-ce que vous aimez le plus au sujet du produit?\"),\n",
       " ('What is the biggest problem, if any, that you currently have with the software?',\n",
       "  'Quel est le plus grand problème, le cas échéant, que vous avez actuellement avec le logiciel?'),\n",
       " ('What hardware do you use with it?',\n",
       "  'Quel matériel informatique utilisez-vous pour faire fonctionner le logiciel?'),\n",
       " ('Why is AMT important?', 'Pourquoi les TFP sont-elles importantes?'),\n",
       " ('What is the purpose of this web site?', 'À quoi sert ce site Web?'),\n",
       " ('Why is Industry Canada involved in this project?',\n",
       "  \"Qu'est-ce qui explique la participation d'Industrie Canada à ce projet?\"),\n",
       " ('Why is my feedback important to Industry Canada?',\n",
       "  'En quoi mes commentaires sont-ils importants pour Industrie Canada?'),\n",
       " ('What are the main features of the site?',\n",
       "  'Quelles sont les principales caractéristiques du site?'),\n",
       " ('What are the strengths and weaknesses of Small Business Research and Policy?',\n",
       "  'Quels sont les points forts et les points faibles du site Recherche et politique de la petite entreprise ?'),\n",
       " ('What improvements or modifications should be made in order to facilitate the use of the Small Business Research and Policy website?',\n",
       "  \"Quelles améliorations ou modifications devraient être apportées en vue de faciliter l'usage de Recherche et politique de la petite entreprise ?\"),\n",
       " ('What is the purpose of the Small Business Research and Policy Web site?',\n",
       "  'Quel est le but du site Web Recherche et politique de la petite entreprise?'),\n",
       " ('What is the SME Research Database?',\n",
       "  'En quoi consiste la Base de données de recherche de PME?'),\n",
       " ('What are the Frequently Asked Questions (FAQs)?',\n",
       "  'En quoi consiste la Foire aux questions (FAQ)?'),\n",
       " ('What type of reports can I find on the Small Business Research and Policy web site?',\n",
       "  'Quel genre de rapports puis-je trouver sur le site Web Recherche et politique de la petite entreprise?'),\n",
       " ('What is the SME Financing Data Initiative?',\n",
       "  'En quoi consiste l’Initiative de données sur le financement des PME?'),\n",
       " ('What is the Canada Small Business Financing Act (CSBFA)?',\n",
       "  'Qu’est-ce que la Loi sur le financement des petites entreprises au Canada (LFPEC)?'),\n",
       " ('What is the Small Business Quarterly publication?',\n",
       "  'En quoi consiste la publication Bulletin trimestriel sur la petite entreprise?'),\n",
       " ('What results is it achieving in increasing commercialization and adoption of eco-efficient tools and technologies?',\n",
       "  'Quels résultats obtient-elle en ce qui a trait à la commercialisation et à l’adoption accrues d’outils écoefficaces?'),\n",
       " ('What results is it achieving in increasing the use by industry, institutions and communities of corporate responsibility and sustainability practices?',\n",
       "  'Quels résultats obtient-elle en ce qui a trait à l’utilisation accrue de pratiques axées sur la responsabilité sociale et la durabilité dans l’industrie, les institutions et les collectivités?'),\n",
       " (\"What results is it achieving in improving IC's SD management system, including the integration of sustainable development objectives into decision making, and the development and delivery of departmental policies, plans and operations?\",\n",
       "  'Quels résultats obtient-elle en ce qui a trait à l’amélioration du système de gestion du développement durable d’IC, y compris l’intégration d’objectifs de développement durable dans la prise de décisions, l’élaboration et l’exécution des politiques, des opérations et des plans ministériels?'),\n",
       " ('Why are SEAs needed?', 'Pourquoi les EES sont-elles nécessaires?'),\n",
       " ('What is an SEA?', \"Qu'est-ce qu'une EES?\"),\n",
       " ('When are Public Statements required?',\n",
       "  'Quand faut-il préparer une déclaration publique?'),\n",
       " (\"What's the difference between licensed and licence-exempt radio equipment?\",\n",
       "  'Quelle est la différence entre les équipements de radiocommunication qui nécessitent une licence et ceux qui en sont exemptés?'),\n",
       " ('What does it mean to be \"non-standard\"?',\n",
       "  'Que veut-on dire par « non normalisé »?'),\n",
       " ('What are these?', \"De quoi s'agit-il?\"),\n",
       " ('What is MURS?', \"Qu'est-ce que le service MURS?\"),\n",
       " ('Why do you no longer mail us our radio licenses each year?',\n",
       "  'Pourquoi les licences radio ne nous sont-elles plus envoyées par la poste chaque année?'),\n",
       " ('Where can I find information on the VHF band plan ?',\n",
       "  \"Où puis-je obtenir de l'information sur le plan d'attribution de la bande VHF?\"),\n",
       " ('Why do I have to pay Industry Canada and just what do they do for me?',\n",
       "  \"◦ Est-il légal d'avoir une fréquence de réception radio de la GRC programmée sur un émetteur-récepteur?\"),\n",
       " ('Why do I have to pay Industry Canada and just what do they do for me?',\n",
       "  \"Comment puis-je savoir si l'utilisation d'un équipement radio exempt de licence est autorisée au Canada?\"),\n",
       " ('What is the DTH grey market?', \"Qu'est-ce que le marché gris du SRD?\"),\n",
       " ('Why does Canada have rules making the reception of American DTH programming illegal?',\n",
       "  'Pourquoi le Canada a-t-il établi des règles interdisant la réception illégale des émissions américaines du SRD par satellite?'),\n",
       " ('What are the risks involved with buying a grey market American satellite DTH system?',\n",
       "  \"Quels sont les autres risques liés à l'achat, sur le marché gris, de systèmes du SRD par satellite provenant des États-Unis?\"),\n",
       " ('What is the DTH black market?', 'En quoi consiste le marché noir du SRD?'),\n",
       " ('What are the risks to purchasing black market equipment?',\n",
       "  \"Quels sont les risques inhérents à l'achat de matériel sur le marché noir?\"),\n",
       " ('What are television distribution rights?',\n",
       "  'En quoi consistent les droits de distribution de la télévision?'),\n",
       " ('What DTH programming is available to Canadians?',\n",
       "  'Quelle programmation du SRD est disponible au Canada?'),\n",
       " ('Who do I contact if I have more questions?',\n",
       "  \"Avec qui puis-je communiquer si j'ai d'autres questions?\"),\n",
       " ('Why are towers necessary?', 'Pourquoi les tours sont-elles nécessaires?'),\n",
       " (\"Why was this location chosen and why can't they use an existing tower?\",\n",
       "  'Pourquoi avoir choisi cet emplacement, et pourquoi ne pas utiliser les tours qui existent déjà?'),\n",
       " ('Why must the tower be painted and have lights?',\n",
       "  'Pourquoi les tours doivent-elles être peintes et munies de lumières?'),\n",
       " ('What should I do if I am concerned about a proposed tower in my community?',\n",
       "  'Que devrais-je faire si un projet de construction de tour dans mon quartier me préoccupe?'),\n",
       " ('What does Industry Canada expect from the consultation process?',\n",
       "  'Qu’attend Industrie Canada du processus de consultation?'),\n",
       " ('What is the role of Industry Canada in evaluating exposure to radiofrequency fields?',\n",
       "  'Quel rôle joue Industrie Canada dans l’évaluation des limites d’exposition aux champs de radiofréquences?'),\n",
       " ('Why are you proposing these changes now when there could be Charter cases on freedom of expression before the Courts?',\n",
       "  \"Pourquoi proposez-vous de modifier la loi alors que des causes sur la liberté d'expression fondées sur la Charte pourraient se trouver devant les tribunaux?\"),\n",
       " ('Why is Industry Canada so concerned about this particular interference problem?',\n",
       "  'Pourquoi Industrie Canada se préoccupe-t-il tellement de ce problème de brouillage particulier?'),\n",
       " ('What is causing the interference?', \"Qu'est-ce qui cause le brouillage?\"),\n",
       " ('What is Industry Canada doing to resolve this interference problem?',\n",
       "  \"Qu'est-ce qu'Industrie Canada fait pour résoudre ce problème de brouillage?\"),\n",
       " ('Where does the Minister of Industry get the authority to take such action?',\n",
       "  \"Qu'est-ce qui confère au Ministre le pouvoir d'entreprendre ces démarches?\"),\n",
       " (\"What is the government's position on the use of black market satellite television decoders?\",\n",
       "  \"Quelle est la position du gouvernement vis-à-vis de l'utilisation de décodeurs de télévision par satellite vendus sur le marché noir?\"),\n",
       " ('What could happen to me if I own or use one of these devices?',\n",
       "  \"Qu'est-ce qui pourrait m'arriver si je possède ou utilise un de ces dispositifs?\"),\n",
       " ('What does the term \"licence-exempt\" mean?',\n",
       "  'Que veut dire le terme « exempt de licence »?'),\n",
       " ('What are the main differences between licensed and licence-exempt radio devices?',\n",
       "  'Quelles sont les principales différences entre les dispositifs radio autorisés par licence et les dispositifs radio exempts de licence?'),\n",
       " ('What else do I need to know when using licence-exempt radio devices?',\n",
       "  \"Qu'est-ce qu'il faut savoir de plus lorsqu'on utilise des dispositifs radio exempts de licence?\"),\n",
       " ('What happens if my licence-exempt radio device causes interference?',\n",
       "  \"Qu'est-ce qui arrive si mon dispositif radio exempt de licence cause du brouillage?\"),\n",
       " ('What happens if my licence-exempt radio device receives interference?',\n",
       "  \"Qu'est-ce qui arrive si mon dispositif radio exempt de licence subit du brouillage?\"),\n",
       " ('What are my options if I want to change frequency bands or even get a radio licence?',\n",
       "  'Quelles sont mes choix si je veux changer de bande de fréquences ou même obtenir une licence radio?'),\n",
       " ('What legislation governs the manufacture, importation, distribution, lease, sale and use of radio equipment in Canada?',\n",
       "  \"Quelle loi régit la fabrication, l'importation, la distribution, la location à bail, la vente et l'utilisation du matériel radio au Canada?\"),\n",
       " ('What are my options if I want to change frequency bands or even get a radio licence?',\n",
       "  'Quelles sont les possibilités si je veux changer de bande de fréquences ou même obtenir une licence radio?'),\n",
       " ('Where can I find more information on technical standards for low-power licence-exempt radio devices?',\n",
       "  'Où puis-je obtenir de plus amples renseignements sur les normes techniques visant les dispositifs radio de faible puissance exempts de licence?'),\n",
       " ('Who should consider micro-credit as a financing option?',\n",
       "  'Qui devrait envisager le micro-crédit comme option financière?'),\n",
       " ('Which mix suits your bankers and your circumstances best?',\n",
       "  \"Quel est l'ensemble d'éléments qui convient le mieux à votre banque et à votre situation propre?\"),\n",
       " ('What other information would you like to see?',\n",
       "  'Quels autres renseignements voudriez-vous y voir figurer ?'),\n",
       " ('What are the strengths and weaknesses of the Sources of Financing website?',\n",
       "  'Quels sont les points forts et les points faibles du site Sources de financement ?'),\n",
       " ('What improvements or modifications should be made in order to facilitate the use of the Sources of Financing website?',\n",
       "  \"Quelles améliorations ou modifications devraient être apportées en vue de faciliter l'usage de Sources de financement?\"),\n",
       " ('What is Micro-Credit?', \"Qu'est-ce qu'un micro-crédit?\"),\n",
       " ('Who Should Consider Micro-Credit?',\n",
       "  'Qui devrait envisager un micro-crédit?'),\n",
       " ('What knowledge and skills does it need?',\n",
       "  'De quelles connaissances et habiletés a-t-elle besoin?'),\n",
       " ('Why a guide to technology roadmapping?',\n",
       "  'Pourquoi développer un guide de carte routière technologique?'),\n",
       " ('Why Produce a Technology Roadmap?',\n",
       "  'Pourquoi élaborer une Carte Routière Technologique?'),\n",
       " ('Where does it fit?', 'Où la carte routière cadre-t-elle?'),\n",
       " ('What is RSS?', \"Qu'est-ce que le RSS?\"),\n",
       " (\"What's the difference between Plain Text and HTML?\",\n",
       "  'Quelle est la différence entre le format texte et le format HTML?'),\n",
       " ('Who does the miller buy his wheat from?',\n",
       "  'De qui le meunier achète-t-il son blé?'),\n",
       " ('Where, When, How?', 'Où, quand, comment?'),\n",
       " ('What additional information would you like to see included?',\n",
       "  'Quelle information supplémentaire auriez-vous aimé qu’il contienne?'),\n",
       " ('What other improvements would you make?',\n",
       "  'Quelles autres améliorations voudriez-vous voir apportées au rapport annuel?'),\n",
       " ('Who’s applying for patents?', 'Qui demande des brevets?'),\n",
       " ('What does it really mean?',\n",
       "  'La propriété intellectuelle : qu’est-ce que c’est vraiment?'),\n",
       " ('What about your company name?',\n",
       "  'Qu’en est-il de votre dénomination sociale?'),\n",
       " ('Why is it important to register your trade-mark?',\n",
       "  'Pourquoi est-ce si important d’enregistrer votre marque de commerce?'),\n",
       " ('What is the difference between a patent and an industrial design?',\n",
       "  'Quelle différence y a-t-il entre un brevet et un dessin industriel?'),\n",
       " ('What about your company name?',\n",
       "  \"Qu'en est-il de votre dénomination sociale?\"),\n",
       " ('Why is it important to register your trade-mark?',\n",
       "  \"Pourquoi est-ce si important d'enregistrer votre marque de commerce?\"),\n",
       " ('What is a copyright?', \"Qu'est-ce qu'un droit d'auteur?\"),\n",
       " ('What is not protected by copyright?',\n",
       "  \"Qu'est-ce qui n'est pas protégé par le droit d'auteur?\"),\n",
       " ('Who owns the copyright?', \"Qui est titulaire du droit d'auteur?\"),\n",
       " ('What are the benefits of copyright registration?',\n",
       "  \"Quels sont les avantages découlant de l'enregistrement du droit d'auteur?\"),\n",
       " ('What is the difference between an assignment and a licence?',\n",
       "  'Quelle différence y a-t-il entre une cession et une licence?'),\n",
       " ('What is copyright infringement?',\n",
       "  \"Qu'est-ce que la violation du droit d'auteur?\"),\n",
       " ('What is \"fair dealing\"?', \"Qu'est-ce que « l'utilisation équitable »?\"),\n",
       " ('What is a copyright?', \"Qu'est-ce que le droit d'auteur?\"),\n",
       " ('What if those inventors had not pursued their idea or invention?',\n",
       "  \"Que serait-il arrivé si ces inventeurs n'avaient pas concrétisé leur idée ou leur invention?\"),\n",
       " ('What if they assumed someone else had already thought of it before them?',\n",
       "  \"Et s'ils avaient supposé que quelqu'un d'autre y avait déjà pensé avant eux?\"),\n",
       " ('What are the steps you should take to protect your intellectual property assets?',\n",
       "  'Quelles sont les étapes à franchir pour protéger vos actifs de propriété intellectuelle?'),\n",
       " ('What would it look like?', 'À quoi ressemblerait le monde?'),\n",
       " ('Who will purchase it and for how much?', \"Qui l'achètera et à quel prix?\"),\n",
       " ('What are your intellectual property assets?',\n",
       "  'Quels sont vos actifs de propriété intellectuelle?'),\n",
       " ('What team should bring the product to the market?',\n",
       "  'Quelle équipe devrait commercialiser le produit?'),\n",
       " ('What is CIPO?', \"C'est quoi l’OPIC?\"),\n",
       " ('What is Intellectual Property?', \"C'est quoi la propriété intellectuelle?\"),\n",
       " ('What is an Integrated Circuit Topography?',\n",
       "  \"Qu'est-ce qu'une topographie de circuits intégrés (TCI)?\"),\n",
       " ('Why obtain Integrated Circuit Topography (ICT) protection?',\n",
       "  \"Pourquoi obtenir une protection à l'égard d'une topographie de circuits intégrés (TCI)?\"),\n",
       " ('Who can register an Integrated Circuit Topography?',\n",
       "  'Qui peut enregistrer une topographie de circuits intégrés?'),\n",
       " ('Why hire an agent?', \"Pourquoi retenir les services d'un agent?\"),\n",
       " ('What are the requirements and steps for obtaining an integrated circuit topography registration?',\n",
       "  \"Quelles sont les exigences et les étapes à franchir en vue d'obtenir un enregistrement de TCI?\"),\n",
       " ('What is an industrial design?', \"Qu'est-ce qu'un dessin industriel?\"),\n",
       " ('What cannot be protected by an industrial design?',\n",
       "  \"Qu'est-ce qui ne peut être protégé par un dessin industriel?\"),\n",
       " ('What do I need in order to apply for industrial design registration?',\n",
       "  \"De quels documents ai-je besoin pour déposer une demande d'enregistrement d'un dessin industriel?\"),\n",
       " ('What type of description do I need to include?',\n",
       "  'Quel type de description dois-je inclure dans la demande?'),\n",
       " ('What type of drawings or photographs are necessary?',\n",
       "  \"Quelle sorte d'esquisses ou de photographies faut-il?\"),\n",
       " ('What is an industrial design?', \"Q1 Qu'est-ce qu'un dessin industriel?\"),\n",
       " ('What cannot be protected by an industrial design?',\n",
       "  \"Q4 Qu'est-ce qui ne peut être protégé par un dessin industriel?\"),\n",
       " ('What do I need in order to apply for industrial design registration?',\n",
       "  \"Q7 De quels documents ai-je besoin pour déposer une demande d'enregistrement d'un dessin industriel?\"),\n",
       " ('What type of description do I need to include?',\n",
       "  'Q8 Quel type de description dois-je inclure dans la demande?'),\n",
       " ('What type of drawings or photographs are necessary?',\n",
       "  \"Q9 Quelle sorte d'esquisses ou de photographies faut-il?\"),\n",
       " ('What are the timelines for the highlights of re-engineering?',\n",
       "  \"Pour ce qui est des principales étapes de la restructuration, quel est l'échéancier?\"),\n",
       " ('Why is the Office proposing to no longer accept drawings showing environmental views?',\n",
       "  \"Pourquoi le Bureau propose-t-il de ne plus accepter d'esquisses qui comportent des vues montrant l'environnement?\"),\n",
       " ('What is an industrial design?', 'Qu’est-ce qu’un dessin industriel?'),\n",
       " ('While you were at the USPTO program, did you discuss colour in terms of design protection?',\n",
       "  'Lorsque vous étiez affectés au programme USPTO, parliez-vous de la protection de la couleur dans les dessins?'),\n",
       " ('Who is behind the Think Link?',\n",
       "  'Qui se cache derrière le carrefour des idées?'),\n",
       " ('What are the advantages of using the Bank of Speakers?',\n",
       "  'Pourquoi avoir recours à la Banque de conférenciers?'),\n",
       " ('What should you do if your patent or patent application fees were underpaid?',\n",
       "  \"Que devez-vous faire si vous n'avez pas payé le montant requis de taxes pour votre brevet ou votre demande de brevet ?\"),\n",
       " ('What will CIPO do?', \"Que fera l'OPIC?\"),\n",
       " ('Why was the Patent Act amended and what is the scope of section 2?',\n",
       "  \"Pourquoi la Loi sur les brevets a-t-elle été modifiée et quelle est la portée de l'article 2?\"),\n",
       " (\"Who is potentially affected by the court's decision?\",\n",
       "  \"Qui risque d'être touché par la décision de la Cour?\"),\n",
       " ('Why wait until February 1, 2006 for the coming into force of section 2 of Bill C-29?',\n",
       "  \"Pourquoi attendre jusqu'au 1er février 2006 pour l'entrée en vigueur de l'article 2 du projet de loi C-29?\"),\n",
       " ('What is a patent?', \"Qu'est-ce qu'un brevet?\"),\n",
       " ('Why obtain a patent?', 'Pourquoi obtenir un brevet?'),\n",
       " ('Who can apply for a patent?', 'Qui peut déposer un brevet?'),\n",
       " ('Why hire a patent agent?',\n",
       "  \"Pourquoi retenir les services d'un agent de brevets?\"),\n",
       " ('What are the steps for obtaining a patent?',\n",
       "  'Quelles sont les étapes pour obtenir un brevet?'),\n",
       " ('Why is the preliminary search important?',\n",
       "  'Pourquoi la recherche préliminaire est-elle importante?'),\n",
       " ('What do I need to include in my application?',\n",
       "  'Que dois-je inclure dans ma demande?'),\n",
       " ('What are the computer program functional modules that are called into play, namely interfaces, the steps to be performed, the sequences, the timing, the location of the modules in the system, processes, algorithms, internal and external logical files and the number and kind of interactive inquiries?',\n",
       "  'Quels sont les modules fonctionnels du programme informatique qui entrent en jeu, notamment les interfaces, les étapes à suivre, les séquences, la synchronisation, l’emplacement des modules dans le système, les procédés, les algorithmes, les fichiers logiques internes et externes et le nombre ainsi que le genre de demandes de renseignements interactives?'),\n",
       " ('What is the form of the output data?',\n",
       "  'Quelle est la forme des données de sortie?'),\n",
       " ('What is the format of data when stored or transmitted?',\n",
       "  'Quel est le format des données lorsque celles-ci sont stockées ou transmises?'),\n",
       " ('What is the flow of the processing?',\n",
       "  'Quel est le déroulement des opérations?'),\n",
       " ('What are the computer program functional modules that are called into play, namely interfaces, the steps to be performed, the sequences, the timing, the location of the modules in the system, processes, algorithms, internal and external logical files and the number and kind of interactive inquiries?',\n",
       "  \"Quels sont les modules fonctionnels du programme informatique qui entrent en jeu, notamment les interfaces, les étapes à suivre, les séquences, la synchronisation, l'emplacement des modules dans le système, les procédés, les algorithmes, les fichiers logiques internes et externes et le nombre ainsi que le genre de demandes de renseignements interactives?\"),\n",
       " ('What can you patent?', 'Que peut-on faire breveter?'),\n",
       " ('What does \"protection\" mean?', \"Qu'entend-on par « protection »?\"),\n",
       " ('Where would we be without patents?',\n",
       "  'Où en serions-nous sans les brevets?'),\n",
       " ('What is a patent?', 'Qu’est-ce qu’un brevet?'),\n",
       " ('Where can I obtain more information?',\n",
       "  'Où puis-je obtenir de l’information plus détaillée?'),\n",
       " ('Who can pay the maintenance fees?',\n",
       "  'Qui doit payer la taxe pour le maintien en état?'),\n",
       " ('What is the process?', 'Comment ce processus fonctionne-t-il?'),\n",
       " ('What happens if I do not pay within the prescribed period?',\n",
       "  'Qu’arrivera-t-il si j’omets de payer la taxe dans le délai prescrit?'),\n",
       " (\"What is generally included in the Federal Government's benefits package?\",\n",
       "  \"En général, qu'est-ce qui est inclus dans les avantages sociaux du gouvernement fédéral?\"),\n",
       " ('When would I be expected to report to work, if I am successful?',\n",
       "  'Si ma candidature est retenue, quand devrai-je me présenter au travail?'),\n",
       " ('What is the cut off date to submit my application?',\n",
       "  'Quelle est la date limite de dépôt de ma demande?'),\n",
       " (\"What's in a Name?\", \"Qu'est-ce qui fait le nom?\"),\n",
       " ('What is the difference between trade-marks and other forms of intellectual property?',\n",
       "  'Quelle différence y a-t-il entre les marques de commerce et les autres formes de propriété intellectuelle?'),\n",
       " ('What is the difference between a registered and an unregistered trade-mark?',\n",
       "  'Quelle est la différence entre une marque de commerce enregistrée et une marque de commerce non enregistrée?'),\n",
       " ('Why register a trade-mark?',\n",
       "  'Pourquoi enregistrer une marque de commerce?'),\n",
       " ('Why hire a trade-mark agent?',\n",
       "  \"Pourquoi retenir les services d'un agent de marques de commerce?\"),\n",
       " ('Who can register a trade-mark?',\n",
       "  'Qui peut enregistrer une marque de commerce?'),\n",
       " ('What is the difference between a trade-mark and a trade name?',\n",
       "  'Quelle est la différence entre une marque de commerce et un nom commercial?'),\n",
       " ('What other kinds of marks may not be registered?',\n",
       "  'Quelles autres sortes de marques ne peuvent pas être enregistrées?'),\n",
       " ('What are the steps of trade-mark registration?',\n",
       "  \"Quelles sont les étapes de l'enregistrement d'une marque de commerce?\"),\n",
       " ('What do I need to include in my application?',\n",
       "  \"Que faut-il inclure dans une demande d'enregistrement?\"),\n",
       " ('What trade-marks can you register?',\n",
       "  'Quels genres de marques de commerce peut-on enregistrer?'),\n",
       " ('Who remembers that the correct terms are \"slide fastener\" and \"moving staircase\"?',\n",
       "  'Qui se rappelle que les termes corrects pour désigner « Zipper » et « Escalator » sont respectivement « fermeture éclair » (slide fastener) et « escalier roulant » (moving staircase)?'),\n",
       " ('Who can register a trade-mark?', 'Q1 Qu’est-ce qu’une marque de commerce?'),\n",
       " ('What is the difference between a trade-mark and a trade name?',\n",
       "  'Q10 Comment faire enregistrer une marque de commerce?'),\n",
       " ('What are the steps of trade-mark registration?',\n",
       "  'Le Bureau des marques de commerce veillera-t-il à ce qu’il n’y ait pas de violation d’une marque de commerce?'),\n",
       " ('What’s in a name?', 'Qu’est-ce qui fait le nom?'),\n",
       " ('What needs to be included in the application?',\n",
       "  \"Que faut-il inclure dans une demande d'enregistrement?\"),\n",
       " ('Who is doing what, where?', 'Qui fait quoi et à quel endroit ?'),\n",
       " ('What does the public expect or want with respect to animal welfare?',\n",
       "  'Qu’attend ou que souhaite le public en matière de bien-être des animaux?'),\n",
       " ('What are the implications of not responding to public concerns?',\n",
       "  'Quelles sont les conséquences du défaut de satisfaire les préoccupations du public?'),\n",
       " ('What is the sector currently doing?',\n",
       "  'Que fait le secteur à l’heure actuelle?'),\n",
       " ('What are the priority areas for response?',\n",
       "  'Quels sont les domaines d’intervention prioritaires?'),\n",
       " ('Why not give the role to corporate players, such as McDonald’s and Burger King, and let them set the standards for suppliers?',\n",
       "  'Pourquoi ne pas concéder ce rôle à des joueurs privés comme McDonald et Burger King, et les laisser fixer les normes s’appliquant aux fournisseurs?'),\n",
       " ('What, Who, When and With What Resources?',\n",
       "  'Quoi, qui, quand et avec quelles ressources?'),\n",
       " ('What are the factors that make the Canadian agricultural sector profitable and competitive in the long run?',\n",
       "  'Quels sont les facteurs qui font du secteur de l’agriculture du Canada un secteur rentable et compétitif à long terme?'),\n",
       " ('What are the expected results of the program?',\n",
       "  'Quels sont les résultats prévus du Programme?'),\n",
       " ('When will the program be available, end or transition?',\n",
       "  'S’agit-il d’un nouveau programme, d’un programme en cours ou d’un programme de transition?'),\n",
       " ('What funding is available?', 'Quel financement est offert?'),\n",
       " ('Who will deliver the service?', 'Qui assurera la prestation du Programme?'),\n",
       " ('When will the program be available, end or transition?',\n",
       "  'Qui est admissible au Programme?'),\n",
       " ('Who should apply for the program?', 'Quel financement est offert?'),\n",
       " ('Who will deliver the service?',\n",
       "  'Quand le Programme sera-t-il offert ou prendra-t-il fin, ou quand la transition aura-t-elle lieu?'),\n",
       " ('What are the expected results of the program?',\n",
       "  'Quels sont les résultats prévus des programmes?'),\n",
       " ('Who should apply for the program?',\n",
       "  'Quand les programmes seront-ils offerts ou prendront-ils fin, ou quand la transition aura-t-elle lieu?'),\n",
       " ('What funding is available?', 'Qui est admissible aux programmes?'),\n",
       " ('What funding is available?',\n",
       "  'Quels sont les résultats prévus du Programme?'),\n",
       " ('Whom do I contact for more information?',\n",
       "  'Quand le Programme sera-t-il offert ou prendra-t-il fin, ou quand la transition aura-t-elle lieu?'),\n",
       " ('When will the program be available, end or transition?',\n",
       "  'Quand le Programme sera-t-il offert ou prendra-t-il fin, ou quand la transition aura-t-elle lieu?'),\n",
       " ('Who should apply for the program?', 'Qui est admissible au Programme?'),\n",
       " ('What funding is available?',\n",
       "  'S’agit-il d’un nouveau programme, d’un programme en cours ou d’un programme de transition?'),\n",
       " ('Who should apply for the program?', 'Qui est admissible aux Programmes?'),\n",
       " ('What are the expected results of the program?',\n",
       "  'Quels sont les résultats prévus des Programmes?'),\n",
       " ('Who should apply for the program?',\n",
       "  'Quels sont les résultats prévus du Programme?'),\n",
       " ('What are the expected results of the program?',\n",
       "  'Quels sont les résultats prévus du Plan?'),\n",
       " ('Who should apply for the program?', 'Qui assurera la prestation du Plan?'),\n",
       " ('Who should apply for the program?', 'Qui est admissible aux initiatives?'),\n",
       " ('What are the expected results of the program?',\n",
       "  'Quels sont les résultats prévus des initiatives?'),\n",
       " ('Who will deliver the service?',\n",
       "  'Qui assurera la prestation des initiatives?'),\n",
       " ('What funding is available?', 'Qui est admissible au Programme?'),\n",
       " ('When will the program be available, end or transition?',\n",
       "  'Quand le Programme sera-t-il offert ou prendra-t-il fin, ou quand la transition aurat-elle lieu?'),\n",
       " ('Whom do I contact for more information?',\n",
       "  'Qui assurera la prestation du Programme?'),\n",
       " ('Who will deliver the service?',\n",
       "  'S’agit-t-il d’un programme nouveau, d’un programme en cours ou d’un programme de transition?'),\n",
       " ('What are the expected results of the program?',\n",
       "  'Qui est admissible au Programme?'),\n",
       " ('Who will deliver the service?',\n",
       "  'Quels sont les résultats prévus du Programme?'),\n",
       " ('Who will deliver the services?',\n",
       "  'Qui assurera la prestation du Programme?'),\n",
       " ('Who should apply for the program?',\n",
       "  'Quand le Programme sera-t-il offert ou prendra-t-il fin, ou quand la transition aura-t-elle lieu?'),\n",
       " ('What are the expected results of the program?',\n",
       "  'Quels sont les résultats du programme ?'),\n",
       " ('When will the program be available, end or transition?',\n",
       "  'Quand le programme sera-t-il en vigueur?'),\n",
       " ('Who should apply for the program?', 'Qui est admissible au programme?'),\n",
       " ('What funding is available and to whom?', 'Quel financement est offert?'),\n",
       " ('Who will deliver the service ?',\n",
       "  'Qui assurera la prestation du programme?'),\n",
       " ('When will the program be available, end, transition?',\n",
       "  'Quand le Programme sera-t-il offert ou prendra-t-il fin, ou quand la transition aura-t-elle lieu?'),\n",
       " ('When will the program be available, end or transition?',\n",
       "  'Quand l’Initiative sera-t-elle offerte ou prendra-t-elle fin, ou quand la transition aura-t-elle lieu?'),\n",
       " ('Who should apply for the program?', 'Qui est admissible à l’Initiative?'),\n",
       " ('Who will deliver the service?',\n",
       "  'Qui assurera la prestation de l’Initiative?'),\n",
       " ('Whom do I contact for more information?',\n",
       "  'S’agit-il d’une initiative nouvelle, d’une initiative en cours ou d’une initiative de transition?'),\n",
       " ('Who will deliver the service?',\n",
       "  'S’agit-il d’une initiative nouvelle, d’une initiative en cours ou d’une initiative de transition?'),\n",
       " ('What are the expected results of the program?',\n",
       "  'Quels sont les résultats attendus de l’Initiative?'),\n",
       " ('Who delivers the service?', 'Qui assurera la prestation de l’Initiative?'),\n",
       " ('What funding is available?', 'Qui est admissible à l’Initiative?'),\n",
       " ('What are the expected results of the program?',\n",
       "  'Quels sont les résultats prévus de l’Initiative?'),\n",
       " ('Who delivers the service?', 'Quel financement est offert?'),\n",
       " ('What are the expected results of the program?',\n",
       "  'Quels sont les résultats prévus à l’Initiative?'),\n",
       " ('What funding is available and to whom?',\n",
       "  'Quel financement est offert et qui y est admissible?'),\n",
       " ('What are the programs’ objectives?', 'Quel est l’objectif des Programmes?'),\n",
       " ('What funding is available?', 'Qui assurera la prestation du service?'),\n",
       " ('What are the expected results of the program?',\n",
       "  'S’agit-il d’un programme nouveau, d’un programme en cours ou d’un programme de transition?'),\n",
       " ('What funding is available and to whom?',\n",
       "  'Quels sont les résultats prévus du Programme?'),\n",
       " ('Who should apply for the program?',\n",
       "  'Quels sont les résultats attendus du Programme?'),\n",
       " ('Who should apply for the service?', 'Qui est admissible au Programme?'),\n",
       " ('When will the program be available, end or transition?',\n",
       "  'Quand le Programme sera-t-il offert, prendra-t-il fin ou s’agit-il d’un programme de transition?'),\n",
       " ('When will the program be available, end or transition?',\n",
       "  'Quand la Stratégie sera-t-elle offerte, prendra-t-elle fin ou s’agit-il d’une stratégie de transition?'),\n",
       " ('What are the expected results of the program?',\n",
       "  'Quels sont les résultats prévus de la Stratégie?'),\n",
       " ('Who should apply for the program?', 'Qui est admissible à la Stratégie?'),\n",
       " ('When will the program be available, end or transition?',\n",
       "  'Quand le Projet sera-t-il offert, prendra-t-il fin ou s’agit-il d’un projet de transition?'),\n",
       " ('What are the expected results of the program?',\n",
       "  'Quels sont les résultats prévus du Projet?'),\n",
       " ('What funding is available?', 'Qui assurera la prestation du Projet?'),\n",
       " ('What are the expected results of the program?',\n",
       "  'Quels sont les résultats prévus du programme ?'),\n",
       " ('Who should apply for the program?',\n",
       "  'Quels sont les résultats prévus de l’Initiative?'),\n",
       " ('When will the program be available end or transition?',\n",
       "  'Qui est admissible à l’Initiative ?'),\n",
       " ('Who should apply for funding?', 'Qui est admissible à l’Initiative?'),\n",
       " ('Who should apply for the service?', 'Qui est admissible à l’Initiative?'),\n",
       " ('Who will deliver the service?',\n",
       "  'Qui est chargé de la prestation de l’Initiative?'),\n",
       " ('Whom do I contact for more information?', 'Description de l’Initiative?'),\n",
       " ('What are the programs’ objectives?',\n",
       "  'Quels sont les objectifs des programmes?'),\n",
       " ('Who will deliver the service?', 'Qui assurera la prestation du service?'),\n",
       " ('Who should apply for the program?',\n",
       "  'Qui assurera la prestation du service?'),\n",
       " ...]"
      ]
     },
     "execution_count": 9,
     "metadata": {},
     "output_type": "execute_result"
    }
   ],
   "source": [
    "qs"
   ]
  },
  {
   "cell_type": "code",
   "execution_count": 10,
   "metadata": {},
   "outputs": [],
   "source": [
    "pickle.dump(qs, (PATH/'fr-en-qs.pkl').open('wb'))"
   ]
  },
  {
   "cell_type": "code",
   "execution_count": 11,
   "metadata": {},
   "outputs": [],
   "source": [
    "qs = pickle.load((PATH/'fr-en-qs.pkl').open('rb'))"
   ]
  },
  {
   "cell_type": "code",
   "execution_count": 12,
   "metadata": {},
   "outputs": [
    {
     "data": {
      "text/plain": [
       "([('What is light ?', 'Qu’est-ce que la lumière?'),\n",
       "  ('Who are we?', 'Où sommes-nous?'),\n",
       "  ('Where did we come from?', \"D'où venons-nous?\"),\n",
       "  ('What would we do without it?', 'Que ferions-nous sans elle ?'),\n",
       "  ('What is the absolute location (latitude and longitude) of Badger, Newfoundland and Labrador?',\n",
       "   'Quelle sont les coordonnées (latitude et longitude) de Badger, à Terre-Neuve-etLabrador?')],\n",
       " 52331)"
      ]
     },
     "execution_count": 12,
     "metadata": {},
     "output_type": "execute_result"
    }
   ],
   "source": [
    "qs[:5], len(qs)"
   ]
  },
  {
   "cell_type": "code",
   "execution_count": 13,
   "metadata": {},
   "outputs": [],
   "source": [
    "en_qs, fr_qs = zip(*qs)"
   ]
  },
  {
   "cell_type": "code",
   "execution_count": 14,
   "metadata": {},
   "outputs": [
    {
     "data": {
      "text/plain": [
       "('What is light ?',\n",
       " 'Who are we?',\n",
       " 'Where did we come from?',\n",
       " 'What would we do without it?',\n",
       " 'What is the absolute location (latitude and longitude) of Badger, Newfoundland and Labrador?')"
      ]
     },
     "execution_count": 14,
     "metadata": {},
     "output_type": "execute_result"
    }
   ],
   "source": [
    "en_qs[:5]"
   ]
  },
  {
   "cell_type": "code",
   "execution_count": 16,
   "metadata": {},
   "outputs": [
    {
     "name": "stdout",
     "output_type": "stream",
     "text": [
      "/opt/conda/envs/fastai/lib/python3.6/importlib/_bootstrap.py:219: RuntimeWarning: numpy.dtype size changed, may indicate binary incompatibility. Expected 96, got 88\n",
      "  return f(*args, **kwds)\n",
      "/opt/conda/envs/fastai/lib/python3.6/importlib/_bootstrap.py:219: RuntimeWarning: numpy.ufunc size changed, may indicate binary incompatibility. Expected 192, got 176\n",
      "  return f(*args, **kwds)\n",
      "/opt/conda/envs/fastai/lib/python3.6/importlib/_bootstrap.py:219: RuntimeWarning: numpy.dtype size changed, may indicate binary incompatibility. Expected 96, got 88\n",
      "  return f(*args, **kwds)\n",
      "/opt/conda/envs/fastai/lib/python3.6/importlib/_bootstrap.py:219: RuntimeWarning: numpy.ufunc size changed, may indicate binary incompatibility. Expected 192, got 176\n",
      "  return f(*args, **kwds)\n",
      "Collecting https://github.com/explosion/spacy-models/releases/download/en_core_web_sm-2.0.0/en_core_web_sm-2.0.0.tar.gz\n",
      "\u001b[?25l  Downloading https://github.com/explosion/spacy-models/releases/download/en_core_web_sm-2.0.0/en_core_web_sm-2.0.0.tar.gz (37.4MB)\n",
      "\u001b[K    100% |████████████████████████████████| 37.4MB 104.1MB/s ta 0:00:01\n",
      "\u001b[?25hInstalling collected packages: en-core-web-sm\n",
      "  Running setup.py install for en-core-web-sm ... \u001b[?25ldone\n",
      "\u001b[?25hSuccessfully installed en-core-web-sm-2.0.0\n",
      "\u001b[33mYou are using pip version 10.0.1, however version 18.1 is available.\n",
      "You should consider upgrading via the 'pip install --upgrade pip' command.\u001b[0m\n",
      "\n",
      "\u001b[93m    Linking successful\u001b[0m\n",
      "    /opt/conda/envs/fastai/lib/python3.6/site-packages/en_core_web_sm -->\n",
      "    /opt/conda/lib/python3.6/site-packages/spacy/data/en\n",
      "\n",
      "    You can now load the model via spacy.load('en')\n",
      "\n"
     ]
    }
   ],
   "source": [
    "!python -m spacy download en"
   ]
  },
  {
   "cell_type": "code",
   "execution_count": 17,
   "metadata": {},
   "outputs": [
    {
     "name": "stdout",
     "output_type": "stream",
     "text": [
      "/opt/conda/envs/fastai/lib/python3.6/importlib/_bootstrap.py:219: RuntimeWarning: numpy.dtype size changed, may indicate binary incompatibility. Expected 96, got 88\n",
      "  return f(*args, **kwds)\n",
      "/opt/conda/envs/fastai/lib/python3.6/importlib/_bootstrap.py:219: RuntimeWarning: numpy.ufunc size changed, may indicate binary incompatibility. Expected 192, got 176\n",
      "  return f(*args, **kwds)\n",
      "/opt/conda/envs/fastai/lib/python3.6/importlib/_bootstrap.py:219: RuntimeWarning: numpy.dtype size changed, may indicate binary incompatibility. Expected 96, got 88\n",
      "  return f(*args, **kwds)\n",
      "/opt/conda/envs/fastai/lib/python3.6/importlib/_bootstrap.py:219: RuntimeWarning: numpy.ufunc size changed, may indicate binary incompatibility. Expected 192, got 176\n",
      "  return f(*args, **kwds)\n",
      "Collecting https://github.com/explosion/spacy-models/releases/download/fr_core_news_sm-2.0.0/fr_core_news_sm-2.0.0.tar.gz\n",
      "\u001b[?25l  Downloading https://github.com/explosion/spacy-models/releases/download/fr_core_news_sm-2.0.0/fr_core_news_sm-2.0.0.tar.gz (39.8MB)\n",
      "\u001b[K    100% |████████████████████████████████| 39.8MB 47.0MB/s ta 0:00:011    50% |████████████████                | 19.9MB 10.7MB/s eta 0:00:02\n",
      "\u001b[?25hInstalling collected packages: fr-core-news-sm\n",
      "  Running setup.py install for fr-core-news-sm ... \u001b[?25ldone\n",
      "\u001b[?25hSuccessfully installed fr-core-news-sm-2.0.0\n",
      "\u001b[33mYou are using pip version 10.0.1, however version 18.1 is available.\n",
      "You should consider upgrading via the 'pip install --upgrade pip' command.\u001b[0m\n",
      "\n",
      "\u001b[93m    Linking successful\u001b[0m\n",
      "    /opt/conda/envs/fastai/lib/python3.6/site-packages/fr_core_news_sm -->\n",
      "    /opt/conda/lib/python3.6/site-packages/spacy/data/fr\n",
      "\n",
      "    You can now load the model via spacy.load('fr')\n",
      "\n"
     ]
    }
   ],
   "source": [
    "!python -m spacy download fr"
   ]
  },
  {
   "cell_type": "code",
   "execution_count": 18,
   "metadata": {},
   "outputs": [],
   "source": [
    "en_tok = Tokenizer.proc_all_mp(partition_by_cores(en_qs))"
   ]
  },
  {
   "cell_type": "code",
   "execution_count": 19,
   "metadata": {},
   "outputs": [],
   "source": [
    "fr_tok = Tokenizer.proc_all_mp(partition_by_cores(fr_qs), 'fr')"
   ]
  },
  {
   "cell_type": "code",
   "execution_count": 20,
   "metadata": {},
   "outputs": [
    {
     "data": {
      "text/plain": [
       "(['what', 'is', 'light', '?'],\n",
       " ['qu’', 'est', '-ce', 'que', 'la', 'lumière', '?'])"
      ]
     },
     "execution_count": 20,
     "metadata": {},
     "output_type": "execute_result"
    }
   ],
   "source": [
    "en_tok[0], fr_tok[0]"
   ]
  },
  {
   "cell_type": "code",
   "execution_count": 24,
   "metadata": {},
   "outputs": [
    {
     "data": {
      "text/plain": [
       "(23.0, 28.0)"
      ]
     },
     "execution_count": 24,
     "metadata": {},
     "output_type": "execute_result"
    }
   ],
   "source": [
    "np.percentile([len(o) for o in en_tok], 90), np.percentile([len(o) for o in fr_tok], 90)"
   ]
  },
  {
   "cell_type": "code",
   "execution_count": 25,
   "metadata": {},
   "outputs": [],
   "source": [
    "keep = np.array([len(o)<30 for o in en_tok])"
   ]
  },
  {
   "cell_type": "code",
   "execution_count": 26,
   "metadata": {},
   "outputs": [],
   "source": [
    "en_tok = np.array(en_tok)[keep]\n",
    "fr_tok = np.array(fr_tok)[keep]"
   ]
  },
  {
   "cell_type": "code",
   "execution_count": 27,
   "metadata": {},
   "outputs": [],
   "source": [
    "pickle.dump(en_tok, (PATH/'en_tok.pkl').open('wb'))\n",
    "pickle.dump(fr_tok, (PATH/'fr_tok.pkl').open('wb'))"
   ]
  },
  {
   "cell_type": "code",
   "execution_count": 28,
   "metadata": {},
   "outputs": [],
   "source": [
    "en_tok = pickle.load((PATH/'en_tok.pkl').open('rb'))\n",
    "fr_tok = pickle.load((PATH/'fr_tok.pkl').open('rb'))"
   ]
  },
  {
   "cell_type": "code",
   "execution_count": 34,
   "metadata": {},
   "outputs": [],
   "source": [
    "def toks2ids(tok,pre):\n",
    "    freq = Counter(p for o in tok for p in o)\n",
    "    itos = [o for o,c in freq.most_common(40000)]\n",
    "    itos.insert(0, '_bos_')\n",
    "    itos.insert(1, '_pad_')\n",
    "    itos.insert(2, '_eos_')\n",
    "    itos.insert(3, '_unk_')\n",
    "    stoi = collections.defaultdict(lambda:3, {v:k for k,v in enumerate(itos)})\n",
    "    ids = np.array([([stoi[o] for o in p] + [2]) for p in tok])\n",
    "    np.save(str(TMP_PATH)+f'/{pre}_ids.npy', ids)\n",
    "    pickle.dump(itos, open(str(TMP_PATH)+f'/{pre}_itos.pkl','wb'))\n",
    "    return ids,itos,stoi"
   ]
  },
  {
   "cell_type": "code",
   "execution_count": 35,
   "metadata": {},
   "outputs": [],
   "source": [
    "en_ids,en_itos,en_stoi = toks2ids(en_tok,'en')\n",
    "fr_ids,fr_itos,fr_stoi = toks2ids(fr_tok,'fr')"
   ]
  },
  {
   "cell_type": "code",
   "execution_count": 36,
   "metadata": {},
   "outputs": [],
   "source": [
    "def load_ids(pre):\n",
    "    ids = np.load(str(TMP_PATH)+f'/{pre}_ids.npy')\n",
    "    itos = pickle.load(open(str(TMP_PATH)+f'/{pre}_itos.pkl','rb'))\n",
    "    stoi = collections.defaultdict(lambda:3, {v:k for k,v in enumerate(itos)})\n",
    "    return ids,itos,stoi"
   ]
  },
  {
   "cell_type": "code",
   "execution_count": 37,
   "metadata": {},
   "outputs": [],
   "source": [
    "en_ids,en_itos,en_stoi = load_ids('en')\n",
    "fr_ids,fr_itos,fr_stoi = load_ids('fr')"
   ]
  },
  {
   "cell_type": "code",
   "execution_count": 38,
   "metadata": {},
   "outputs": [
    {
     "data": {
      "text/plain": [
       "(['qu’', 'est', '-ce', 'que', 'la', 'lumière', '?', '_eos_'], 17573, 24793)"
      ]
     },
     "execution_count": 38,
     "metadata": {},
     "output_type": "execute_result"
    }
   ],
   "source": [
    "[fr_itos[o] for o in fr_ids[0]], len(en_itos), len(fr_itos)"
   ]
  },
  {
   "cell_type": "markdown",
   "metadata": {},
   "source": [
    "## Word vectors"
   ]
  },
  {
   "cell_type": "markdown",
   "metadata": {},
   "source": [
    "fasttext word vectors available from https://fasttext.cc/docs/en/english-vectors.html"
   ]
  },
  {
   "cell_type": "code",
   "execution_count": 39,
   "metadata": {},
   "outputs": [
    {
     "name": "stdout",
     "output_type": "stream",
     "text": [
      "Collecting git+https://github.com/facebookresearch/fastText.git\n",
      "  Cloning https://github.com/facebookresearch/fastText.git to /tmp/pip-req-build-2ou57e08\n",
      "Collecting pybind11>=2.2 (from fasttext==0.8.22)\n",
      "\u001b[?25l  Downloading https://files.pythonhosted.org/packages/f2/7c/e71995e59e108799800cb0fce6c4b4927914d7eada0723dd20bae3b51786/pybind11-2.2.4-py2.py3-none-any.whl (145kB)\n",
      "\u001b[K    100% |████████████████████████████████| 153kB 5.7MB/s ta 0:00:01\n",
      "\u001b[?25hRequirement already satisfied: setuptools>=0.7.0 in /opt/conda/lib/python3.6/site-packages (from fasttext==0.8.22) (39.2.0)\n",
      "Requirement already satisfied: numpy in /opt/conda/lib/python3.6/site-packages (from fasttext==0.8.22) (1.15.0)\n",
      "Building wheels for collected packages: fasttext\n",
      "  Running setup.py bdist_wheel for fasttext ... \u001b[?25lerror\n",
      "  Complete output from command /opt/conda/envs/fastai/bin/python -u -c \"import setuptools, tokenize;__file__='/tmp/pip-req-build-2ou57e08/setup.py';f=getattr(tokenize, 'open', open)(__file__);code=f.read().replace('\\r\\n', '\\n');f.close();exec(compile(code, __file__, 'exec'))\" bdist_wheel -d /tmp/pip-wheel-zz285u00 --python-tag cp36:\n",
      "  running bdist_wheel\n",
      "  running build\n",
      "  running build_py\n",
      "  creating build\n",
      "  creating build/lib.linux-x86_64-3.6\n",
      "  creating build/lib.linux-x86_64-3.6/fastText\n",
      "  copying python/fastText/FastText.py -> build/lib.linux-x86_64-3.6/fastText\n",
      "  copying python/fastText/__init__.py -> build/lib.linux-x86_64-3.6/fastText\n",
      "  creating build/lib.linux-x86_64-3.6/fastText/util\n",
      "  copying python/fastText/util/__init__.py -> build/lib.linux-x86_64-3.6/fastText/util\n",
      "  copying python/fastText/util/util.py -> build/lib.linux-x86_64-3.6/fastText/util\n",
      "  creating build/lib.linux-x86_64-3.6/fastText/tests\n",
      "  copying python/fastText/tests/__init__.py -> build/lib.linux-x86_64-3.6/fastText/tests\n",
      "  copying python/fastText/tests/test_configurations.py -> build/lib.linux-x86_64-3.6/fastText/tests\n",
      "  copying python/fastText/tests/test_script.py -> build/lib.linux-x86_64-3.6/fastText/tests\n",
      "  running build_ext\n",
      "  creating tmp\n",
      "  gcc -pthread -Wno-unused-result -Wsign-compare -DNDEBUG -g -fwrapv -O3 -Wall -m64 -fPIC -m64 -fPIC -fPIC -I/opt/conda/envs/fastai/include/python3.6m -c /tmp/tmpmj7zvd51.cpp -o tmp/tmpmj7zvd51.o -std=c++14\n",
      "  gcc -pthread -Wno-unused-result -Wsign-compare -DNDEBUG -g -fwrapv -O3 -Wall -m64 -fPIC -m64 -fPIC -fPIC -I/opt/conda/envs/fastai/include/python3.6m -c /tmp/tmp0wpxxwr7.cpp -o tmp/tmp0wpxxwr7.o -fvisibility=hidden\n",
      "  building 'fasttext_pybind' extension\n",
      "  Traceback (most recent call last):\n",
      "    File \"<string>\", line 1, in <module>\n",
      "    File \"/tmp/pip-req-build-2ou57e08/setup.py\", line 175, in <module>\n",
      "      zip_safe=False,\n",
      "    File \"/opt/conda/lib/python3.6/site-packages/setuptools/__init__.py\", line 129, in setup\n",
      "      return distutils.core.setup(**attrs)\n",
      "    File \"/opt/conda/envs/fastai/lib/python3.6/distutils/core.py\", line 148, in setup\n",
      "      dist.run_commands()\n",
      "    File \"/opt/conda/envs/fastai/lib/python3.6/distutils/dist.py\", line 955, in run_commands\n",
      "      self.run_command(cmd)\n",
      "    File \"/opt/conda/envs/fastai/lib/python3.6/distutils/dist.py\", line 974, in run_command\n",
      "      cmd_obj.run()\n",
      "    File \"/opt/conda/lib/python3.6/site-packages/wheel/bdist_wheel.py\", line 202, in run\n",
      "      self.run_command('build')\n",
      "    File \"/opt/conda/envs/fastai/lib/python3.6/distutils/cmd.py\", line 313, in run_command\n",
      "      self.distribution.run_command(command)\n",
      "    File \"/opt/conda/envs/fastai/lib/python3.6/distutils/dist.py\", line 974, in run_command\n",
      "      cmd_obj.run()\n",
      "    File \"/opt/conda/envs/fastai/lib/python3.6/distutils/command/build.py\", line 135, in run\n",
      "      self.run_command(cmd_name)\n",
      "    File \"/opt/conda/envs/fastai/lib/python3.6/distutils/cmd.py\", line 313, in run_command\n",
      "      self.distribution.run_command(command)\n",
      "    File \"/opt/conda/envs/fastai/lib/python3.6/distutils/dist.py\", line 974, in run_command\n",
      "      cmd_obj.run()\n",
      "    File \"/opt/conda/lib/python3.6/site-packages/setuptools/command/build_ext.py\", line 78, in run\n",
      "      _build_ext.run(self)\n",
      "    File \"/opt/conda/envs/fastai/lib/python3.6/distutils/command/build_ext.py\", line 339, in run\n",
      "      self.build_extensions()\n",
      "    File \"/tmp/pip-req-build-2ou57e08/setup.py\", line 129, in build_extensions\n",
      "      build_ext.build_extensions(self)\n",
      "    File \"/opt/conda/envs/fastai/lib/python3.6/distutils/command/build_ext.py\", line 448, in build_extensions\n",
      "      self._build_extensions_serial()\n",
      "    File \"/opt/conda/envs/fastai/lib/python3.6/distutils/command/build_ext.py\", line 473, in _build_extensions_serial\n",
      "      self.build_extension(ext)\n",
      "    File \"/opt/conda/lib/python3.6/site-packages/setuptools/command/build_ext.py\", line 199, in build_extension\n",
      "      _build_ext.build_extension(self, ext)\n",
      "    File \"/opt/conda/envs/fastai/lib/python3.6/distutils/command/build_ext.py\", line 533, in build_extension\n",
      "      depends=ext.depends)\n",
      "    File \"/opt/conda/envs/fastai/lib/python3.6/distutils/ccompiler.py\", line 566, in compile\n",
      "      depends, extra_postargs)\n",
      "    File \"/opt/conda/envs/fastai/lib/python3.6/distutils/ccompiler.py\", line 341, in _setup_compile\n",
      "      pp_opts = gen_preprocess_options(macros, incdirs)\n",
      "    File \"/opt/conda/envs/fastai/lib/python3.6/distutils/ccompiler.py\", line 1075, in gen_preprocess_options\n",
      "      pp_opts.append(\"-I%s\" % dir)\n",
      "    File \"/tmp/pip-req-build-2ou57e08/setup.py\", line 37, in __str__\n",
      "      import pybind11\n",
      "  ModuleNotFoundError: No module named 'pybind11'\n",
      "  \n",
      "  ----------------------------------------\n",
      "\u001b[31m  Failed building wheel for fasttext\u001b[0m\n",
      "\u001b[?25h  Running setup.py clean for fasttext\n",
      "Failed to build fasttext\n",
      "\u001b[31mmkl-random 1.0.1 requires cython, which is not installed.\u001b[0m\n",
      "\u001b[31mmkl-fft 1.0.4 requires cython, which is not installed.\u001b[0m\n",
      "Installing collected packages: pybind11, fasttext\n",
      "  Running setup.py install for fasttext ... \u001b[?25ldone\n",
      "\u001b[?25hSuccessfully installed fasttext-0.8.22 pybind11-2.2.4\n",
      "\u001b[33mYou are using pip version 10.0.1, however version 18.1 is available.\n",
      "You should consider upgrading via the 'pip install --upgrade pip' command.\u001b[0m\n"
     ]
    }
   ],
   "source": [
    "!pip install git+https://github.com/facebookresearch/fastText.git"
   ]
  },
  {
   "cell_type": "code",
   "execution_count": 40,
   "metadata": {},
   "outputs": [],
   "source": [
    "import fastText as ft"
   ]
  },
  {
   "cell_type": "markdown",
   "metadata": {},
   "source": [
    "To use the fastText library, you'll need to download [fasttext word vectors](https://github.com/facebookresearch/fastText/blob/master/pretrained-vectors.md) for your language (download the 'bin plus text' ones)."
   ]
  },
  {
   "cell_type": "code",
   "execution_count": 43,
   "metadata": {},
   "outputs": [
    {
     "data": {
      "text/plain": [
       "{'/fastai/data/translate'}"
      ]
     },
     "execution_count": 43,
     "metadata": {},
     "output_type": "execute_result"
    }
   ],
   "source": [
    "{str(PATH)}"
   ]
  },
  {
   "cell_type": "code",
   "execution_count": 44,
   "metadata": {},
   "outputs": [
    {
     "name": "stdout",
     "output_type": "stream",
     "text": [
      "--2018-10-11 06:34:09--  https://s3-us-west-1.amazonaws.com/fasttext-vectors/wiki.en.zip\n",
      "Resolving s3-us-west-1.amazonaws.com (s3-us-west-1.amazonaws.com)... 52.219.20.1\n",
      "Connecting to s3-us-west-1.amazonaws.com (s3-us-west-1.amazonaws.com)|52.219.20.1|:443... connected.\n",
      "HTTP request sent, awaiting response... 200 OK\n",
      "Length: 10356881291 (9.6G) [application/zip]\n",
      "Saving to: ‘/fastai/data/translate/wiki.en.zip’\n",
      "\n",
      "wiki.en.zip         100%[===================>]   9.65G  41.6MB/s    in 3m 2s   \n",
      "\n",
      "2018-10-11 06:37:10 (54.4 MB/s) - ‘/fastai/data/translate/wiki.en.zip’ saved [10356881291/10356881291]\n",
      "\n"
     ]
    }
   ],
   "source": [
    "!wget -P {str(PATH)} https://s3-us-west-1.amazonaws.com/fasttext-vectors/wiki.en.zip"
   ]
  },
  {
   "cell_type": "code",
   "execution_count": 45,
   "metadata": {},
   "outputs": [
    {
     "name": "stdout",
     "output_type": "stream",
     "text": [
      "--2018-10-11 06:37:15--  https://s3-us-west-1.amazonaws.com/fasttext-vectors/wiki.fr.zip\n",
      "Resolving s3-us-west-1.amazonaws.com (s3-us-west-1.amazonaws.com)... 52.219.24.25\n",
      "Connecting to s3-us-west-1.amazonaws.com (s3-us-west-1.amazonaws.com)|52.219.24.25|:443... connected.\n",
      "HTTP request sent, awaiting response... 200 OK\n",
      "Length: 5975701653 (5.6G) [application/zip]\n",
      "Saving to: ‘/fastai/data/translate/wiki.fr.zip’\n",
      "\n",
      "wiki.fr.zip         100%[===================>]   5.56G  48.6MB/s    in 1m 49s  \n",
      "\n",
      "2018-10-11 06:39:05 (52.3 MB/s) - ‘/fastai/data/translate/wiki.fr.zip’ saved [5975701653/5975701653]\n",
      "\n"
     ]
    }
   ],
   "source": [
    "!wget -P {str(PATH)} https://s3-us-west-1.amazonaws.com/fasttext-vectors/wiki.fr.zip"
   ]
  },
  {
   "cell_type": "code",
   "execution_count": 46,
   "metadata": {},
   "outputs": [],
   "source": [
    "en_vecs =  ft.load_model(str(PATH/'wiki.en.bin'))"
   ]
  },
  {
   "cell_type": "code",
   "execution_count": 47,
   "metadata": {},
   "outputs": [],
   "source": [
    "fr_vecs = ft.load_model(str(PATH/'wiki.fr.bin'))"
   ]
  },
  {
   "cell_type": "code",
   "execution_count": 48,
   "metadata": {},
   "outputs": [],
   "source": [
    "def get_vecs(lang, ft_vecs):\n",
    "    vecd = {w:ft_vecs.get_word_vector(w) for w in ft_vecs.get_words()}\n",
    "    pickle.dump(vecd, open(str(PATH/f'wiki.{lang}.pkl'),'wb'))\n",
    "    return vecd"
   ]
  },
  {
   "cell_type": "code",
   "execution_count": 49,
   "metadata": {},
   "outputs": [],
   "source": [
    "en_vecd = get_vecs('en', en_vecs)\n",
    "fr_vecd = get_vecs('fr', fr_vecs)"
   ]
  },
  {
   "cell_type": "code",
   "execution_count": 50,
   "metadata": {},
   "outputs": [],
   "source": [
    "en_vecd = pickle.load(open(str(PATH/'wiki.en.pkl'),'rb'))\n",
    "fr_vecd = pickle.load(open(str(PATH/'wiki.fr.pkl'),'rb'))"
   ]
  },
  {
   "cell_type": "markdown",
   "metadata": {},
   "source": [
    "vecd is vector dictionary with word to vec mapping. ft_ stands for fasttext"
   ]
  },
  {
   "cell_type": "code",
   "execution_count": 51,
   "metadata": {},
   "outputs": [
    {
     "data": {
      "text/plain": [
       "2519370"
      ]
     },
     "execution_count": 51,
     "metadata": {},
     "output_type": "execute_result"
    }
   ],
   "source": [
    "ft_words = en_vecs.get_words(include_freq=True)\n",
    "ft_word_dict = {k:v for k,v in zip(*ft_words)}\n",
    "ft_words = sorted(ft_word_dict.keys(), key=lambda x: ft_word_dict[x])\n",
    "\n",
    "len(ft_words)"
   ]
  },
  {
   "cell_type": "code",
   "execution_count": 52,
   "metadata": {},
   "outputs": [
    {
     "data": {
      "text/plain": [
       "(300, 300)"
      ]
     },
     "execution_count": 52,
     "metadata": {},
     "output_type": "execute_result"
    }
   ],
   "source": [
    "dim_en_vec = len(en_vecd[','])\n",
    "dim_fr_vec = len(fr_vecd[','])\n",
    "\n",
    "dim_en_vec, dim_fr_vec"
   ]
  },
  {
   "cell_type": "code",
   "execution_count": 53,
   "metadata": {},
   "outputs": [
    {
     "data": {
      "text/plain": [
       "(0.0075652334, 0.29283327)"
      ]
     },
     "execution_count": 53,
     "metadata": {},
     "output_type": "execute_result"
    }
   ],
   "source": [
    "en_vecs = np.stack(list(en_vecd.values()))\n",
    "en_vecs.mean(), en_vecs.std()"
   ]
  },
  {
   "cell_type": "markdown",
   "metadata": {},
   "source": [
    "## Model Data"
   ]
  },
  {
   "cell_type": "code",
   "execution_count": 55,
   "metadata": {},
   "outputs": [
    {
     "data": {
      "text/plain": [
       "(29, 33)"
      ]
     },
     "execution_count": 55,
     "metadata": {},
     "output_type": "execute_result"
    }
   ],
   "source": [
    "enlen_top = int(np.percentile([len(o) for o in en_ids], 99)) #99th percentile of sentence lengths in english\n",
    "frlen_top = int(np.percentile([len(o) for o in fr_ids], 97)) #97th percentile of sentence lengths in french\n",
    "enlen_top, frlen_top"
   ]
  },
  {
   "cell_type": "code",
   "execution_count": 56,
   "metadata": {},
   "outputs": [],
   "source": [
    "en_ids_tr = np.array([o[:enlen_top] for o in en_ids])\n",
    "fr_ids_tr = np.array([o[:frlen_top] for o in fr_ids])"
   ]
  },
  {
   "cell_type": "markdown",
   "metadata": {},
   "source": [
    "We get the top longth and get training set with top lenghts for all set in each language\n",
    "in FastAi Library - T is tensor, V is variable , A is array - they are all wrapper functions with some useful features. We define Seq2SeqDataset that inherist Dataset"
   ]
  },
  {
   "cell_type": "code",
   "execution_count": 57,
   "metadata": {},
   "outputs": [],
   "source": [
    "class Seq2SeqDataset(Dataset):\n",
    "    def __init__(self,x,y): self.x,self.y = x,y\n",
    "    def __getitem__(self,idx): return A(self.x[idx],self.y[idx])\n",
    "    def __len__(self): return len(self.x)"
   ]
  },
  {
   "cell_type": "code",
   "execution_count": 58,
   "metadata": {},
   "outputs": [
    {
     "data": {
      "text/plain": [
       "(45219, 5041)"
      ]
     },
     "execution_count": 58,
     "metadata": {},
     "output_type": "execute_result"
    }
   ],
   "source": [
    "np.random.seed(42)\n",
    "trn_keep = np.random.rand(len(en_ids_tr))>0.1\n",
    "en_trn,fr_trn = en_ids_tr[trn_keep], fr_ids_tr[trn_keep]\n",
    "en_val,fr_val = en_ids_tr[~trn_keep], fr_ids_tr[~trn_keep]\n",
    "len(en_trn),len(en_val)"
   ]
  },
  {
   "cell_type": "code",
   "execution_count": 61,
   "metadata": {},
   "outputs": [
    {
     "data": {
      "text/plain": [
       "array([ True,  True,  True, ..., False,  True, False])"
      ]
     },
     "execution_count": 61,
     "metadata": {},
     "output_type": "execute_result"
    }
   ],
   "source": [
    "trn_keep"
   ]
  },
  {
   "cell_type": "markdown",
   "metadata": {},
   "source": [
    "In the above cell, we randomize 90% values from en_ids_tr set and store in Keep as True/False array. We then apply them to get training set and for validation by using ~trn_keep it keeps those that were not kept in training set"
   ]
  },
  {
   "cell_type": "code",
   "execution_count": 62,
   "metadata": {},
   "outputs": [],
   "source": [
    "trn_ds = Seq2SeqDataset(fr_trn,en_trn)\n",
    "val_ds = Seq2SeqDataset(fr_val,en_val)"
   ]
  },
  {
   "cell_type": "code",
   "execution_count": 63,
   "metadata": {},
   "outputs": [],
   "source": [
    "bs=125"
   ]
  },
  {
   "cell_type": "markdown",
   "metadata": {},
   "source": [
    "SortishSampler is used for training set to sort randomly with randomly varying lengths of sentences in batch this is similar to bptt variation"
   ]
  },
  {
   "cell_type": "code",
   "execution_count": 64,
   "metadata": {},
   "outputs": [],
   "source": [
    "trn_samp = SortishSampler(en_trn, key=lambda x: len(en_trn[x]), bs=bs)\n",
    "val_samp = SortSampler(en_val, key=lambda x: len(en_val[x]))"
   ]
  },
  {
   "cell_type": "code",
   "execution_count": 82,
   "metadata": {},
   "outputs": [],
   "source": [
    "trn_dl = DataLoader(trn_ds, bs, transpose=True, transpose_y=True, num_workers=1,\n",
    "                     pad_idx=1, pre_pad=False, sampler=trn_samp)\n",
    "val_dl = DataLoader(val_ds, int(bs*1.6), transpose=True, transpose_y=True, num_workers=1,\n",
    "                     pad_idx=1, pre_pad=False, sampler=val_samp)\n",
    "md =  ModelData(str(PATH), trn_dl, val_dl)"
   ]
  },
  {
   "cell_type": "code",
   "execution_count": 83,
   "metadata": {},
   "outputs": [
    {
     "data": {
      "text/plain": [
       "[(33, 29), (33, 22), (23, 11), (29, 8), (33, 18)]"
      ]
     },
     "execution_count": 83,
     "metadata": {},
     "output_type": "execute_result"
    }
   ],
   "source": [
    "it = iter(trn_dl)\n",
    "its = [next(it) for i in range(5)]\n",
    "[(len(x), len(y)) for x,y in its]"
   ]
  },
  {
   "cell_type": "markdown",
   "metadata": {},
   "source": [
    "## Initial model"
   ]
  },
  {
   "cell_type": "markdown",
   "metadata": {},
   "source": [
    "wgts in vecs has a std (standard deviation) of .3 while the rest of our weights have 1. So we multiply them by 3. This is a hack."
   ]
  },
  {
   "cell_type": "code",
   "execution_count": 92,
   "metadata": {},
   "outputs": [],
   "source": [
    "def create_emb(vecs, itos, em_sz):\n",
    "    emb =  nn.Embedding(len(itos), em_sz, padding_idx=1)\n",
    "    wgts =  emb.weight.data\n",
    "    miss = []\n",
    "    for i,w in enumerate(itos):\n",
    "        try: wgts[i] = torch.from_numpy(vecs[w]*3)\n",
    "        except: miss.append(w)\n",
    "    print(len(miss), miss[5:10])\n",
    "    return emb"
   ]
  },
  {
   "cell_type": "code",
   "execution_count": 93,
   "metadata": {},
   "outputs": [],
   "source": [
    "nh, nl = 256, 2"
   ]
  },
  {
   "cell_type": "code",
   "execution_count": 94,
   "metadata": {},
   "outputs": [],
   "source": [
    "class Seq2SeqRNN(nn.Module):\n",
    "    def __init__(self, vecs_enc, itos_enc, em_sz_enc, vecs_dec, itos_dec, em_sz_dec, nh, out_sl, nl=2):\n",
    "        super().__init__()\n",
    "        self.nl,self.nh,self.out_sl = nl,nh,out_sl\n",
    "        self.emb_enc = create_emb(vecs_enc, itos_enc, em_sz_enc)\n",
    "        self.emb_enc_drop = nn.Dropout(0.15)\n",
    "        self.gru_enc = nn.GRU(em_sz_enc, nh, num_layers=nl, dropout=0.25)\n",
    "        self.out_enc = nn.Linear(nh, em_sz_dec, bias=False)\n",
    "        \n",
    "        self.emb_dec = create_emb(vecs_dec, itos_dec, em_sz_dec)\n",
    "        self.gru_dec = nn.GRU(em_sz_dec, em_sz_dec, num_layers=nl, dropout=0.1)\n",
    "        self.out_drop = nn.Dropout(0.35)\n",
    "        self.out = nn.Linear(em_sz_dec, len(itos_dec))\n",
    "        self.out.weight.data = self.emb_dec.weight.data\n",
    "        \n",
    "    def forward(self, inp):\n",
    "        sl,bs = inp.size()\n",
    "        h = self.initHidden(bs)\n",
    "        emb = self.emb_enc_drop(self.emb_enc(inp))\n",
    "        enc_out,h = self.gru_enc(emb, h)\n",
    "        h = self.out_enc(h)\n",
    "        \n",
    "        dec_inp = V(torch.zeros(bs).long())\n",
    "        res = []\n",
    "        for i in range(self.out_sl): # we go one by for the sequence length\n",
    "            emb = self.emb_dec(dec_inp).unsqueeze(0) # input size at this point is one by one so unsqueeze\n",
    "            outp, h = self.gru_dec(emb,h)\n",
    "            outp = self.out(self.out_drop(outp[0])) # again for one?\n",
    "            res.append(outp)\n",
    "            dec_inp = V(outp.data.max(1)[1])\n",
    "            if(dec_inp==1).all(): break # if all padding chars then sentence over, break\n",
    "        return torch.stack(res)\n",
    "    \n",
    "    def initHidden(self,bs): return V(torch.zeros(self.nl, bs, self.nh))"
   ]
  },
  {
   "cell_type": "markdown",
   "metadata": {},
   "source": [
    "Pytorch padding function below is weird, it expects a padding left and a right value for each dimension. Since the input in this case is 3 dimensional (sequence length, batch size, embed size) we mention 0 for no padding left, right for 2 dimensions and 0 for left and sl-sl_in for last dimension"
   ]
  },
  {
   "cell_type": "code",
   "execution_count": 95,
   "metadata": {},
   "outputs": [],
   "source": [
    "def seq2seq_loss(input, target):\n",
    "    sl,bs = target.size()\n",
    "    sl_in,bs_in,nc = input.size()\n",
    "    if sl>sl_in: input = F.pad(input, (0,0,0,0,0,sl-sl_in))\n",
    "    input = input[:sl]\n",
    "    return F.cross_entropy(input.view(-1,nc), target.view(-1)) # you can use ignore_index as neeeded?"
   ]
  },
  {
   "cell_type": "code",
   "execution_count": 96,
   "metadata": {},
   "outputs": [],
   "source": [
    "opt_fn =  partial(optim.Adam, betas=(0.8,0.99))"
   ]
  },
  {
   "cell_type": "code",
   "execution_count": 97,
   "metadata": {},
   "outputs": [
    {
     "name": "stdout",
     "output_type": "stream",
     "text": [
      "3097 ['l’', \"d'\", 't_up', 'd’', \"qu'\"]\n",
      "1285 [\"'s\", '’s', \"n't\", 'n’t', ':']\n"
     ]
    }
   ],
   "source": [
    "rnn = Seq2SeqRNN(fr_vecd, fr_itos, dim_fr_vec, en_vecd, en_itos, dim_en_vec, nh, enlen_top)\n",
    "learn = RNN_Learner(md, SingleModel(to_gpu(rnn)), opt_fn=opt_fn)\n",
    "learn.crit = seq2seq_loss "
   ]
  },
  {
   "cell_type": "markdown",
   "metadata": {},
   "source": [
    "the missing are characters in the overall data set that are missing in the training set of questions after tokenizing"
   ]
  },
  {
   "cell_type": "code",
   "execution_count": 98,
   "metadata": {},
   "outputs": [
    {
     "data": {
      "application/vnd.jupyter.widget-view+json": {
       "model_id": "3707317ee7214ec1a67d7ca123e40c21",
       "version_major": 2,
       "version_minor": 0
      },
      "text/plain": [
       "HBox(children=(IntProgress(value=0, description='Epoch', max=1), HTML(value='')))"
      ]
     },
     "metadata": {},
     "output_type": "display_data"
    },
    {
     "name": "stdout",
     "output_type": "stream",
     "text": [
      " 64%|██████▍   | 233/362 [00:29<00:16,  7.84it/s, loss=31]  "
     ]
    },
    {
     "data": {
      "image/png": "[encoded data removed]",
      "text/plain": [
       "<Figure size 432x288 with 1 Axes>"
      ]
     },
     "metadata": {},
     "output_type": "display_data"
    }
   ],
   "source": [
    "learn.lr_find()\n",
    "learn.sched.plot()"
   ]
  },
  {
   "cell_type": "code",
   "execution_count": 99,
   "metadata": {},
   "outputs": [],
   "source": [
    "lr=3e-3"
   ]
  },
  {
   "cell_type": "code",
   "execution_count": 100,
   "metadata": {},
   "outputs": [
    {
     "data": {
      "application/vnd.jupyter.widget-view+json": {
       "model_id": "5c8c0348040d4933b063adaf83917f0a",
       "version_major": 2,
       "version_minor": 0
      },
      "text/plain": [
       "HBox(children=(IntProgress(value=0, description='Epoch', max=12), HTML(value='')))"
      ]
     },
     "metadata": {},
     "output_type": "display_data"
    },
    {
     "name": "stdout",
     "output_type": "stream",
     "text": [
      "epoch      trn_loss   val_loss                              \n",
      "    0      5.290665   5.294168  \n",
      "    1      4.345136   4.510454                              \n",
      "    2      3.879665   4.073317                              \n",
      "    3      3.624475   3.847291                              \n",
      "    4      3.504266   3.719473                              \n",
      "    5      3.127467   3.613117                              \n",
      "    6      3.062765   3.580868                              \n",
      "    7      3.068048   3.522285                              \n",
      "    8      3.113343   3.561151                              \n",
      "    9      2.753174   3.524441                              \n",
      "    10     2.743297   3.457342                              \n",
      "    11     2.690315   3.452108                              \n"
     ]
    },
    {
     "data": {
      "text/plain": [
       "[3.452108492857879]"
      ]
     },
     "execution_count": 100,
     "metadata": {},
     "output_type": "execute_result"
    }
   ],
   "source": [
    "learn.fit(lr, 1, cycle_len=12, use_clr=(20,10))"
   ]
  },
  {
   "cell_type": "code",
   "execution_count": 101,
   "metadata": {},
   "outputs": [],
   "source": [
    "learn.save('initial')"
   ]
  },
  {
   "cell_type": "code",
   "execution_count": 102,
   "metadata": {},
   "outputs": [],
   "source": [
    "learn.load('initial')"
   ]
  },
  {
   "cell_type": "markdown",
   "metadata": {},
   "source": [
    "## Test"
   ]
  },
  {
   "cell_type": "code",
   "execution_count": 105,
   "metadata": {
    "scrolled": true
   },
   "outputs": [
    {
     "name": "stdout",
     "output_type": "stream",
     "text": [
      "quel est le lien entre la maladie x et les facteurs de risque associés au mode de vie comme le régime alimentaire , l' usage du tabac , l' activité physique , le\n",
      "what is the association between disease x and risk factors such as diet , tobacco use , physical activity level , education , income or gender ? _eos_\n",
      "what is the link between relationship and and and , , , , , , , , , , of of of ? ? ? ? _eos_\n",
      "\n",
      "quelles politiques et interventions sont nécessaires dans et à travers les secteurs , afin de protéger les populations avec efficacité , spécialement celles des groupes vulnérables , des effets de conditions de vie\n",
      "what policies and interventions are needed within and across sectors to effectively protect citizens especially vulnerable groups , from unhealthy and inadequate working and living conditions ? _eos_\n",
      "what policy and policies and and and , , , , , , , , , populations populations populations populations populations populations populations populations ? ? ? ? _eos_\n",
      "\n",
      "que nous dit la recherche actuelle au sujet de la relation entre l’ état clinique , les temps d’ attente et les résultats en matière de santé ou la qualité de vie pour\n",
      "what does existing research say about the relationship between clinical condition , wait times and health outcomes or quality of life for individuals waiting for treatment ? _eos_\n",
      "what does the current research research research research the health health and and health time time health outcomes outcomes health ? ? _eos_\n",
      "\n",
      "quel est le lien entre la maladie x et les facteurs de risque associés au mode de vie comme le régime alimentaire , l’ usage du tabac , l’ activité physique , le\n",
      "what is the association between disease x and risk factors such as diet , tobacco use , physical activity level , education , income or gender ? _eos_\n",
      "what is the relationship between relationship and and and , , , , , , , , , of of of of ? ? ? ? _eos_\n",
      "\n",
      "lorsque je transmets ma déclaration de revenu des sociétés , est -ce que les déclarations de revenu des sociétés des provinces de l' ontario , du québec ou de l' alberta sont transmises\n",
      "when i file my corporation income tax return , is the provincial corporation income tax return for ontario , quebec , or alberta filed as well ? _eos_\n",
      "when my tax tax tax tax tax tax tax , , , , , , , , , , , ontario , ? ? _eos_ _eos_ _eos_\n",
      "\n",
      "quelles restrictions sont présentées par les attributs des objets / composantes ou les t_up api présentées par les composantes sur les plate formes environnementales comme les systèmes d' exploitation ? _eos_\n",
      "what restrictions are presented by the attributes of objects / components or the t_up api 's presented by components on environmental platforms such as operating systems ? _eos_\n",
      "what restrictions are are are by the the by the the of the the of of the of of ? ? ? ? _eos_ _eos_\n",
      "\n",
      "que valent pour la communauté internationale les idées et les recommandations mises de l' avant par la commission internationale de l' intervention et de la souveraineté des états ( t_up ciise ) si\n",
      "what are the ideas and recommendations spawned by the international commission for intervention and state sovereignty worth to the world if they help forestall another rwanda ? _eos_\n",
      "what is the international of to to the to to the the the the the the the the the the the the the the the the the the ?\n",
      "\n",
      "selon vous , quels éléments d’ un régime de conformité ou d’ une loi doit - on utiliser pour accroître la collaboration entre le t_up canafe et votre secteur ? _eos_\n",
      "what do you think needs to be in place in a compliance regime or the legislation that would increase collaboration between t_up fintrac and your industry ? _eos_\n",
      "what elements do you think you you your your your to to t_up t_up t_up and and and and t_up t_up ? ? ? ? _eos_ _eos_\n",
      "\n",
      "pourquoi le ministre de la santé a -t -il besoin de tant d' outils pour assumer ses responsabilités à l' égard de la catégorisation des substances inscrites sur la liste intérieure des substances\n",
      "why are so many tools necessary to fulfil the minister of health 's responsibilities related to categorization of the domestic substances list under t_up cepa 1999 ? _eos_\n",
      "why is the minister need to to to to to the of of of of of of substances substances substances substances of substances ? ? ? _eos_ _eos_\n",
      "\n",
      "lorsque l' emballage ne porte pas d' étiquetage nutritionnel parce qu' il est trop petit , où les consommateurs peuvent - ils obtenir l' information dont ils ont besoin ? _eos_\n",
      "when there is no nutrition labelling on a package because the package is too small to accommodate it , where can the consumer obtain the information ? _eos_\n",
      "when does food not not is is is is information , information information is they ? ? ? ? ? _eos_\n",
      "\n"
     ]
    }
   ],
   "source": [
    "x,y = next(iter(val_dl))\n",
    "probs = learn.model(V(x))\n",
    "preds = to_np(probs.max(2)[1])\n",
    "\n",
    "for i in range(80,90):\n",
    "    print(' '.join([fr_itos[o] for o in x[:,i] if o != 1]))\n",
    "    print(' '.join([en_itos[o] for o in y[:,i] if o != 1]))\n",
    "    print(' '.join([en_itos[o] for o in preds[:,i] if o != 1]))\n",
    "    print()"
   ]
  },
  {
   "cell_type": "markdown",
   "metadata": {},
   "source": [
    "## Bidir"
   ]
  },
  {
   "cell_type": "code",
   "execution_count": 108,
   "metadata": {},
   "outputs": [],
   "source": [
    "class Seq2SeqRNN_Bidir(nn.Module):\n",
    "    def __init__(self, vecs_enc, itos_enc, em_sz_enc, vecs_dec, itos_dec, em_sz_dec, nh, out_sl,nl=2):\n",
    "        super().__init__()\n",
    "        self.emb_enc = create_emb(vecs_enc, itos_enc, em_sz_enc)\n",
    "        self.nl, self.nh, self.out_sl = nl, nh, out_sl\n",
    "        self.gru_enc = nn.GRU(em_sz_enc, nh, num_layers=nl, dropout=0.25, bidirectional=True)\n",
    "        self.out_enc = nn.Linear(nh*2, em_sz_dec, bias=False)\n",
    "        self.drop_enc = nn.Dropout(0.05)\n",
    "        \n",
    "        self.emb_dec = create_emb(vecs_dec, itos_dec, em_sz_dec)\n",
    "        self.gru_dec = nn.GRU(em_sz_dec, em_sz_dec, num_layers=nl, dropout=0.1)\n",
    "        self.emb_enc_drop = nn.Dropout(0.15)\n",
    "        self.out_drop = nn.Dropout(0.35)\n",
    "        self.out = nn.Linear(em_sz_dec, len(itos_dec))\n",
    "        self.out.weight.data = self.emb_dec.weight.data\n",
    "        \n",
    "    def forward(self, inp):\n",
    "        sl,bs = inp.size()\n",
    "        h = self.initHidden(bs)\n",
    "        emb = self.emb_enc_drop(self.emb_enc(inp))\n",
    "        enc_out, h = self.gru_enc(emb, h)\n",
    "        h = h.view(2,2,bs,-1).permute(0,2,1,3).contiguous().view(2,bs,-1)\n",
    "        h = self.out_enc(self.drop_enc(h))\n",
    "        \n",
    "        dec_inp = V(torch.zeros(bs).long())\n",
    "        res = []\n",
    "        for i in range(self.out_sl):\n",
    "            emb = self.emb_dec(dec_inp).unsqueeze(0)\n",
    "            outp, h = self.gru_dec(emb, h)\n",
    "            outp = self.out(self.out_drop(outp[0]))\n",
    "            res.append(outp)\n",
    "            dec_inp = V(outp.data.max(1)[1])\n",
    "            if (dec_inp==1).all(): break\n",
    "        return torch.stack(res)\n",
    "    \n",
    "    def initHidden(self, bs): return V(torch.zeros(self.nl*2, bs, self.nh))"
   ]
  },
  {
   "cell_type": "code",
   "execution_count": 109,
   "metadata": {},
   "outputs": [
    {
     "name": "stdout",
     "output_type": "stream",
     "text": [
      "3097 ['l’', \"d'\", 't_up', 'd’', \"qu'\"]\n",
      "1285 [\"'s\", '’s', \"n't\", 'n’t', ':']\n"
     ]
    }
   ],
   "source": [
    "rnn = Seq2SeqRNN_Bidir(fr_vecd, fr_itos, dim_fr_vec, en_vecd, en_itos, dim_en_vec, nh, enlen_top)\n",
    "learn = RNN_Learner(md, SingleModel(to_gpu(rnn)), opt_fn=opt_fn)\n",
    "learn.crit = seq2seq_loss"
   ]
  },
  {
   "cell_type": "code",
   "execution_count": 110,
   "metadata": {},
   "outputs": [
    {
     "data": {
      "application/vnd.jupyter.widget-view+json": {
       "model_id": "d53bfb9c4d5846cb9f356248e61686ee",
       "version_major": 2,
       "version_minor": 0
      },
      "text/plain": [
       "HBox(children=(IntProgress(value=0, description='Epoch', max=12), HTML(value='')))"
      ]
     },
     "metadata": {},
     "output_type": "display_data"
    },
    {
     "name": "stdout",
     "output_type": "stream",
     "text": [
      "epoch      trn_loss   val_loss                              \n",
      "    0      4.622416   4.517572  \n",
      "    1      4.008706   4.073753                              \n",
      "    2      3.904645   3.815616                              \n",
      "    3      3.75466    3.700409                              \n",
      "    4      3.56835    3.614633                              \n",
      "    5      3.501043   3.561358                              \n",
      "    6      3.009494   3.494968                              \n",
      "    7      2.908138   3.503574                              \n",
      "    8      2.859843   3.434534                              \n",
      "    9      2.754636   3.467621                              \n",
      "    10     2.643634   3.416194                              \n",
      "    11     2.587503   3.372697                              \n"
     ]
    },
    {
     "data": {
      "text/plain": [
       "[3.3726969577329213]"
      ]
     },
     "execution_count": 110,
     "metadata": {},
     "output_type": "execute_result"
    }
   ],
   "source": [
    "learn.fit(lr, 1, cycle_len=12, use_clr=(20,10))"
   ]
  },
  {
   "cell_type": "code",
   "execution_count": 111,
   "metadata": {},
   "outputs": [],
   "source": [
    "learn.save('bidir')"
   ]
  },
  {
   "cell_type": "markdown",
   "metadata": {},
   "source": [
    "## Teacher forcing"
   ]
  },
  {
   "cell_type": "code",
   "execution_count": 132,
   "metadata": {},
   "outputs": [],
   "source": [
    "class Seq2SeqStepper(Stepper):\n",
    "    def step(self, xs, y, epoch):\n",
    "        self.m.pr_force = (10-epoch)*0.1 if epoch<10 else 0\n",
    "        xtra = []\n",
    "        output = self.m(*xs, y)\n",
    "        if isinstance(output, tuple): output,*xtra = output\n",
    "        self.opt.zero_grad()\n",
    "        loss = raw_loss = self.crit(output, y)\n",
    "        if self.reg_fn: loss = self.reg_fn(output, xtra, raw_loss)\n",
    "        loss.backward()\n",
    "        if self.clip: # Gradient clipping\n",
    "            nn.utils.clip_grad_norm(trainable_params(self.m), self.clip)\n",
    "        self.opt.step()\n",
    "        return raw_loss.data[0]"
   ]
  },
  {
   "cell_type": "code",
   "execution_count": 133,
   "metadata": {},
   "outputs": [],
   "source": [
    "class Seq2SeqRNN_TeacherForcing(nn.Module):\n",
    "    def __init__(self, vecs_enc, itos_enc, em_sz_enc, vecs_dec, itos_dec, em_sz_dec, nh, out_sl, nl=2):\n",
    "        super().__init__()\n",
    "        self.emb_enc = create_emb(vecs_enc, itos_enc, em_sz_enc)\n",
    "        self.nl,self.nh,self.out_sl = nl,nh,out_sl\n",
    "        self.gru_enc = nn.GRU(em_sz_enc, nh, num_layers=nl, dropout=0.25)\n",
    "        self.out_enc = nn.Linear(nh, em_sz_dec, bias=False)\n",
    "        \n",
    "        self.emb_dec = create_emb(vecs_dec, itos_dec, em_sz_dec)\n",
    "        self.gru_dec = nn.GRU(em_sz_dec, em_sz_dec, num_layers=nl, dropout=0.1)\n",
    "        self.emb_enc_drop = nn.Dropout(0.15)\n",
    "        self.out_drop = nn.Dropout(0.35)\n",
    "        self.out = nn.Linear(em_sz_dec, len(itos_dec))\n",
    "        self.out.weight.data = self.emb_dec.weight.data\n",
    "        self.pr_force = 1.\n",
    "        \n",
    "    def forward(self, inp, y=None):\n",
    "        sl,bs = inp.size()\n",
    "        h = self.initHidden(bs)\n",
    "        emb = self.emb_enc_drop(self.emb_enc(inp))\n",
    "        enc_out, h = self.gru_enc(emb, h)\n",
    "        h = self.out_enc(h)\n",
    "        \n",
    "        dec_inp = V(torch.zeros(bs).long())\n",
    "        res = []\n",
    "        for i in range(self.out_sl):\n",
    "            emb = self.emb_dec(dec_inp).unsqueeze(0)\n",
    "            outp, h = self.gru_dec(emb, h)\n",
    "            outp = self.out(self.out_drop(outp[0]))\n",
    "            res.append(outp)\n",
    "            dec_inp =  V(outp.data.max(1)[1])\n",
    "            if(dec_inp==1).all(): break\n",
    "            if (y is not None) and (random.random() < self.pr_force):\n",
    "                if i>=len(y): break\n",
    "                dec_inp=y[i]\n",
    "        return torch.stack(res)\n",
    "    \n",
    "    def initHidden(self, bs): return V(torch.zeros(self.nl, bs, self.nh))"
   ]
  },
  {
   "cell_type": "code",
   "execution_count": 134,
   "metadata": {},
   "outputs": [
    {
     "name": "stdout",
     "output_type": "stream",
     "text": [
      "3097 ['l’', \"d'\", 't_up', 'd’', \"qu'\"]\n",
      "1285 [\"'s\", '’s', \"n't\", 'n’t', ':']\n"
     ]
    }
   ],
   "source": [
    "rnn = Seq2SeqRNN_TeacherForcing(fr_vecd, fr_itos, dim_fr_vec, en_vecd, en_itos, dim_en_vec, nh, enlen_top)\n",
    "learn =  RNN_Learner(md, SingleModel(to_gpu(rnn)), opt_fn=opt_fn)\n",
    "learn.crit = seq2seq_loss"
   ]
  },
  {
   "cell_type": "code",
   "execution_count": 118,
   "metadata": {},
   "outputs": [
    {
     "data": {
      "application/vnd.jupyter.widget-view+json": {
       "model_id": "eb4060a28f854b979f35d7595257b258",
       "version_major": 2,
       "version_minor": 0
      },
      "text/plain": [
       "HBox(children=(IntProgress(value=0, description='Epoch', max=12), HTML(value='')))"
      ]
     },
     "metadata": {},
     "output_type": "display_data"
    },
    {
     "name": "stdout",
     "output_type": "stream",
     "text": [
      "epoch      trn_loss   val_loss                                                         \n",
      "    0      4.017907   7.641694  \n",
      "    1      3.535268   7.068921                                                         \n",
      "    2      3.021273   5.560058                                                         \n",
      "    3      2.853995   4.706978                                                         \n",
      "    4      2.844164   4.585474                                                         \n",
      "    5      2.793568   4.053667                                                         \n",
      "    6      2.968587   3.823235                                                         \n",
      "    7      3.011589   3.751518                                                         \n",
      "    8      2.846024   3.574701                                                         \n",
      "    9      2.733493   3.462751                                                         \n",
      "    10     2.945622   3.42167                                                          \n",
      "    11     2.826491   3.397035                                                         \n"
     ]
    },
    {
     "data": {
      "text/plain": [
       "[3.397034936848909]"
      ]
     },
     "execution_count": 118,
     "metadata": {},
     "output_type": "execute_result"
    }
   ],
   "source": [
    "learn.fit(lr, 1, cycle_len=12, use_clr=(20,10), stepper=Seq2SeqStepper)"
   ]
  },
  {
   "cell_type": "code",
   "execution_count": 119,
   "metadata": {},
   "outputs": [],
   "source": [
    "learn.save('forcing')"
   ]
  },
  {
   "cell_type": "markdown",
   "metadata": {},
   "source": [
    "## Attention Model"
   ]
  },
  {
   "cell_type": "code",
   "execution_count": 135,
   "metadata": {},
   "outputs": [],
   "source": [
    "def rand_t(*sz): return torch.randn(sz)/math.sqrt(sz[0])\n",
    "def rand_p(*sz): return nn.Parameter(rand_t(*sz))"
   ]
  },
  {
   "cell_type": "code",
   "execution_count": 148,
   "metadata": {},
   "outputs": [],
   "source": [
    "class Seq2SeqAttnRNN(nn.Module):\n",
    "    def __init__(self, vecs_enc, itos_enc, em_sz_enc, vecs_dec, itos_dec, em_sz_dec, nh, out_sl, nl=2):\n",
    "        super().__init__()\n",
    "        self.emb_enc = create_emb(vecs_enc, itos_enc, em_sz_enc)\n",
    "        self.nl, self.nh, self.out_sl = nl, nh, out_sl\n",
    "        self.gru_enc = nn.GRU(em_sz_enc, nh, num_layers=nl, dropout=0.25)\n",
    "        self.out_enc = nn.Linear(nh, em_sz_dec, bias=False)\n",
    "\n",
    "        self.emb_dec = create_emb(vecs_dec, itos_dec, em_sz_dec)\n",
    "        self.gru_dec = nn.GRU(em_sz_dec, em_sz_dec, num_layers=nl, dropout=0.1)\n",
    "        self.emb_enc_drop = nn.Dropout(0.15)\n",
    "        self.out_drop = nn.Dropout(0.35)\n",
    "        self.out = nn.Linear(em_sz_dec, len(itos_dec))\n",
    "        self.out.weight.data = self.emb_dec.weight.data\n",
    "        \n",
    "        self.W1 = rand_p(nh, em_sz_dec)\n",
    "        self.l2 = nn.Linear(em_sz_dec, em_sz_dec)\n",
    "        self.l3 = nn.Linear(em_sz_dec+nh, em_sz_dec)\n",
    "        self.V =  rand_p(em_sz_dec)\n",
    "        \n",
    "    def forward(self, inp, y=None, ret_attn=False):\n",
    "        sl,bs = inp.size()\n",
    "        h = self.initHidden(bs)\n",
    "        emb = self.emb_enc_drop(self.emb_enc(inp))\n",
    "        enc_out, h = self.gru_enc(emb, h)\n",
    "        h = self.out_enc(h)\n",
    "        \n",
    "        dec_inp =  V(torch.zeros(bs).long())\n",
    "        res, attns = [],[]\n",
    "        wle = enc_out @ self.W1 # @ is for matric multiplication\n",
    "        for i in range(self.out_sl):\n",
    "            w2h = self.l2(h[-1])\n",
    "            u = F.tanh(wle + w2h)\n",
    "            a = F.softmax(u @ self.V, 0)\n",
    "            attns.append(a)\n",
    "            Xa = (a.unsqueeze(2) * enc_out).sum(0)\n",
    "            emb = self.emb_dec(dec_inp)\n",
    "            wgt_enc = self.l3(torch.cat([emb, Xa], 1))\n",
    "            \n",
    "            outp, h = self.gru_dec(wgt_enc.unsqueeze(0), h)\n",
    "            outp = self.out(self.out_drop(outp[0]))\n",
    "            res.append(outp)\n",
    "            \n",
    "            dec_inp = V(outp.data.max(1)[1])\n",
    "            if (dec_inp==1).all(): break\n",
    "            if (y is not None) and (random.random()<self.pr_force):\n",
    "                if(i>=len(y)): break\n",
    "                dec_inp = y[i]\n",
    "        res = torch.stack(res)\n",
    "        if ret_attn: res = res, torch.stack(attns)\n",
    "        return res\n",
    "    \n",
    "    def initHidden(self, bs): return V(torch.zeros(self.nl, bs, self.nh))"
   ]
  },
  {
   "cell_type": "code",
   "execution_count": 149,
   "metadata": {},
   "outputs": [
    {
     "name": "stdout",
     "output_type": "stream",
     "text": [
      "3097 ['l’', \"d'\", 't_up', 'd’', \"qu'\"]\n",
      "1285 [\"'s\", '’s', \"n't\", 'n’t', ':']\n"
     ]
    }
   ],
   "source": [
    "rnn = Seq2SeqAttnRNN(fr_vecd, fr_itos, dim_fr_vec, en_vecd, en_itos, dim_en_vec, nh, enlen_top)\n",
    "learn =  RNN_Learner(md, SingleModel(to_gpu(rnn)), opt_fn=opt_fn)\n",
    "learn.crit = seq2seq_loss"
   ]
  },
  {
   "cell_type": "code",
   "execution_count": 150,
   "metadata": {},
   "outputs": [],
   "source": [
    "lr=2e-3"
   ]
  },
  {
   "cell_type": "code",
   "execution_count": 151,
   "metadata": {},
   "outputs": [
    {
     "data": {
      "application/vnd.jupyter.widget-view+json": {
       "model_id": "8db1786cd1fe434aab74e23bbfcdde4e",
       "version_major": 2,
       "version_minor": 0
      },
      "text/plain": [
       "HBox(children=(IntProgress(value=0, description='Epoch', max=15), HTML(value='')))"
      ]
     },
     "metadata": {},
     "output_type": "display_data"
    },
    {
     "name": "stdout",
     "output_type": "stream",
     "text": [
      "epoch      trn_loss   val_loss                                                         \n",
      "    0      3.728506   13.552629 \n",
      "    1      3.192125   6.508628                                                         \n",
      "    2      2.957082   5.225669                                                         \n",
      "    3      2.907049   4.798698                                                         \n",
      "    4      2.80753    4.192246                                                         \n",
      "    5      2.79095    3.977765                                                         \n",
      "    6      2.902605   3.784572                                                         \n",
      "    7      2.946442   3.556604                                                         \n",
      "    8      2.907391   3.473531                                                         \n",
      "    9      2.936371   3.345103                                                         \n",
      "    10     3.034664   3.314402                                                         \n",
      "    11     2.764142   3.291102                                                         \n",
      "    12     2.58748    3.27526                                                          \n",
      "    13     2.417131   3.286598                                                         \n",
      "    14     2.611363   3.249061                                                         \n"
     ]
    },
    {
     "data": {
      "text/plain": [
       "[3.2490609731259883]"
      ]
     },
     "execution_count": 151,
     "metadata": {},
     "output_type": "execute_result"
    }
   ],
   "source": [
    "learn.fit(lr, 1, cycle_len=15, use_clr=(20,10), stepper=Seq2SeqStepper)"
   ]
  },
  {
   "cell_type": "code",
   "execution_count": 152,
   "metadata": {},
   "outputs": [],
   "source": [
    "learn.save('attn')"
   ]
  },
  {
   "cell_type": "code",
   "execution_count": 153,
   "metadata": {},
   "outputs": [],
   "source": [
    "learn.load('attn')"
   ]
  },
  {
   "cell_type": "markdown",
   "metadata": {},
   "source": [
    "## Test"
   ]
  },
  {
   "cell_type": "code",
   "execution_count": 154,
   "metadata": {},
   "outputs": [],
   "source": [
    "x,y = next(iter(val_dl))\n",
    "probs, attns =  learn.model(V(x), ret_attn=True)\n",
    "preds = to_np(probs.max(2)[1])"
   ]
  },
  {
   "cell_type": "code",
   "execution_count": 155,
   "metadata": {},
   "outputs": [
    {
     "name": "stdout",
     "output_type": "stream",
     "text": [
      "quelles composantes des différents aspects de la performance devraient être mesurées , quelles données pertinentes recueillir et comment ? _eos_\n",
      "which components within various performance areas should be measured , whatkinds of data are appropriate to collect , and how should this be done ? _eos_\n",
      "what components of the performance be be be be be and and and and how ? _eos_ _eos_\n",
      "\n",
      "le premier ministre doit - il nommer un ministre d’ état à la santé mentale , à la maladie mentale et à la toxicomanie ? _eos_\n",
      "what role can the federal government play to ensure that individuals with mental illness and addiction have access to the drug therapy they need ? _eos_\n",
      "what minister minister minister minister minister minister minister to health health mental mental mental mental mental ? _eos_ _eos_\n",
      "\n",
      "quelles sont les conséquences de la hausse des formes d’ emploi non conformes aux normes chez les travailleurs hautement qualifiés et chez ceux qui occupent des emplois plus marginaux ? _eos_\n",
      "what is the impact of growing forms of non - standard employment for highly skilled workers and for those employed in more marginal occupations ? _eos_\n",
      "what are the consequences of the of of non - workers workers workers workers workers workers workers workers workers workers workers ? ? ? ? _eos_ _eos_\n",
      "\n",
      "que se produit - il si le gestionnaire n’ est pas en mesure de donner à l’ employé nommé pour une période déterminée un préavis de cessation d’ emploi d’ un mois ou\n",
      "what happens if the manager is unable to or neglects to give a term employee the one - month notice of non - renewal ? _eos_\n",
      "what if if if is not not to to employee employee employee employee a employee period period employee employee a employee period of employee employee ? _eos_ _eos_ _eos_\n",
      "\n",
      "quelles personnes , communautés ou entités sont considérées comme potentiels i ) bénéficiaires de la protection et ii ) titulaires de droits ? _eos_\n",
      "which persons , communities or entities are identified as potential ( i ) beneficiaries of protection and / or ( ii ) rights holders ? _eos_\n",
      "who , or communities are considered as as be recipients protection protection protection and ? ? ? _eos_ _eos_\n",
      "\n",
      "quelles conditions particulières doivent être remplies pendant l’ examen préliminaire international en ce qui concerne les listages des séquences de nucléotides ou d’ acides aminés ou les tableaux y relatifs ? _eos_\n",
      "what special requirements apply during the international preliminary examination to nucleotide and / or amino acid sequence listings and / or tables related thereto ? _eos_\n",
      "what specific conditions are be be during during the the international of of nucleotide / or amino sequence or or sequence sequence or or or sequence sequence tables or\n",
      "\n",
      "pourquoi cette soudaine réticence à promouvoir l’ égalité des genres et à protéger les femmes de ce que , dans la plupart des cas , on peut qualifier de violations grossières des droits\n",
      "why this sudden reluctance to effectively promote gender equality and protect women from what are – in many cases – egregious human rights violations ? _eos_\n",
      "why is this this that the the of and and and of of of of of of of of of ? ? ? ?\n",
      "\n",
      "pouvez - vous dire comment votre bagage culturel vous a aidée à aborder votre nouvelle vie au canada ( à vous adapter au mode de vie canadien ) ? _eos_\n",
      "what are some things from your cultural background that have helped you navigate canadian life ( helped you adjust to life in canada ) ? _eos_\n",
      "what do you your your your your to to to your your to canada canada canada ? ? _eos_\n",
      "\n",
      "selon vous , quels seront , dans les dix prochaines années , les cinq enjeux les plus urgents en matière d' environnement et d' avenir viable pour vous et votre région ? _eos_\n",
      "which do you think will be the five most pressing environmental and sustainability issues for you and your region in the next ten years ? _eos_\n",
      "what do you see are the next next five five years in in the the and sustainable and and sustainable and and future and and and ? ? _eos_\n",
      "\n",
      "dans quelle mesure l’ expert est-il motivé et capable de partager ses connaissances , et dans quelle mesure son successeur est-il motivé et capable de recevoir ce savoir ? _eos_\n",
      "what is the expert ’s level of motivation and capability for sharing knowledge , and the successor ’s motivation and capability of acquiring it ? _eos_\n",
      "what is the the and and and and and and knowledge and and and and and and and and ? ? ? _eos_\n",
      "\n"
     ]
    }
   ],
   "source": [
    "for i in range(180,190):\n",
    "    print(' '.join([fr_itos[o] for o in x[:,i] if o!=1]))\n",
    "    print(' '.join([en_itos[o] for o in y[:,i] if o!=1]))\n",
    "    print(' '.join([en_itos[o] for o in preds[:,i] if o!=1]))\n",
    "    print()"
   ]
  },
  {
   "cell_type": "code",
   "execution_count": 161,
   "metadata": {},
   "outputs": [
    {
     "data": {
      "text/plain": [
       "torch.Size([29, 33, 200])"
      ]
     },
     "execution_count": 161,
     "metadata": {},
     "output_type": "execute_result"
    }
   ],
   "source": [
    "attns.shape"
   ]
  },
  {
   "cell_type": "code",
   "execution_count": 162,
   "metadata": {},
   "outputs": [
    {
     "data": {
      "text/plain": [
       "tensor([[0.0023, 0.7614, 0.1639, 0.0170, 0.0062, 0.0179, 0.0121, 0.0012, 0.0025,\n",
       "         0.0009, 0.0003, 0.0001, 0.0004, 0.0047, 0.0037, 0.0022, 0.0003, 0.0002,\n",
       "         0.0003, 0.0002, 0.0001, 0.0001, 0.0001, 0.0001, 0.0002, 0.0002, 0.0002,\n",
       "         0.0002, 0.0002, 0.0002, 0.0002, 0.0002, 0.0002],\n",
       "        [0.0017, 0.0437, 0.2795, 0.1476, 0.0318, 0.0613, 0.0748, 0.0425, 0.1548,\n",
       "         0.0691, 0.0165, 0.0056, 0.0032, 0.0056, 0.0276, 0.0139, 0.0024, 0.0011,\n",
       "         0.0012, 0.0014, 0.0013, 0.0012, 0.0012, 0.0012, 0.0012, 0.0012, 0.0013,\n",
       "         0.0012, 0.0011, 0.0010, 0.0009, 0.0009, 0.0008],\n",
       "        [0.0079, 0.0043, 0.0120, 0.0720, 0.0878, 0.1560, 0.1640, 0.0620, 0.1598,\n",
       "         0.0737, 0.0198, 0.0200, 0.0084, 0.0162, 0.0557, 0.0333, 0.0072, 0.0036,\n",
       "         0.0029, 0.0023, 0.0022, 0.0024, 0.0025, 0.0026, 0.0026, 0.0024, 0.0025,\n",
       "         0.0026, 0.0026, 0.0024, 0.0023, 0.0021, 0.0020],\n",
       "        [0.0079, 0.0005, 0.0022, 0.0338, 0.0842, 0.1295, 0.1347, 0.0855, 0.2008,\n",
       "         0.0985, 0.0422, 0.0410, 0.0089, 0.0126, 0.0462, 0.0238, 0.0054, 0.0025,\n",
       "         0.0023, 0.0024, 0.0025, 0.0031, 0.0034, 0.0035, 0.0033, 0.0030, 0.0028,\n",
       "         0.0027, 0.0025, 0.0023, 0.0021, 0.0020, 0.0019],\n",
       "        [0.0112, 0.0004, 0.0007, 0.0044, 0.0369, 0.0695, 0.0830, 0.1220, 0.2039,\n",
       "         0.1083, 0.0773, 0.0684, 0.0163, 0.0183, 0.0650, 0.0382, 0.0082, 0.0030,\n",
       "         0.0023, 0.0022, 0.0026, 0.0037, 0.0050, 0.0061, 0.0064, 0.0059, 0.0053,\n",
       "         0.0050, 0.0047, 0.0043, 0.0041, 0.0038, 0.0037],\n",
       "        [0.0067, 0.0002, 0.0003, 0.0010, 0.0078, 0.0164, 0.0227, 0.0716, 0.1304,\n",
       "         0.1331, 0.1253, 0.1177, 0.0445, 0.0319, 0.0924, 0.0884, 0.0194, 0.0074,\n",
       "         0.0045, 0.0036, 0.0045, 0.0058, 0.0068, 0.0074, 0.0072, 0.0065, 0.0060,\n",
       "         0.0058, 0.0056, 0.0053, 0.0049, 0.0046, 0.0043],\n",
       "        [0.0043, 0.0001, 0.0001, 0.0003, 0.0020, 0.0045, 0.0061, 0.0263, 0.0443,\n",
       "         0.1103, 0.1935, 0.1866, 0.0988, 0.0335, 0.0729, 0.0960, 0.0282, 0.0123,\n",
       "         0.0065, 0.0052, 0.0065, 0.0082, 0.0081, 0.0070, 0.0059, 0.0048, 0.0043,\n",
       "         0.0042, 0.0042, 0.0041, 0.0038, 0.0035, 0.0033],\n",
       "        [0.0055, 0.0001, 0.0001, 0.0002, 0.0010, 0.0019, 0.0026, 0.0134, 0.0128,\n",
       "         0.0428, 0.1965, 0.1705, 0.1479, 0.0443, 0.0895, 0.0939, 0.0449, 0.0136,\n",
       "         0.0062, 0.0055, 0.0075, 0.0110, 0.0132, 0.0133, 0.0112, 0.0083, 0.0067,\n",
       "         0.0062, 0.0062, 0.0062, 0.0060, 0.0056, 0.0052],\n",
       "        [0.0065, 0.0002, 0.0001, 0.0001, 0.0006, 0.0010, 0.0014, 0.0051, 0.0034,\n",
       "         0.0120, 0.1185, 0.0977, 0.2175, 0.0667, 0.0939, 0.1011, 0.0963, 0.0261,\n",
       "         0.0084, 0.0069, 0.0097, 0.0143, 0.0173, 0.0175, 0.0147, 0.0107, 0.0082,\n",
       "         0.0073, 0.0074, 0.0077, 0.0077, 0.0073, 0.0068],\n",
       "        [0.0069, 0.0003, 0.0001, 0.0001, 0.0005, 0.0007, 0.0008, 0.0024, 0.0015,\n",
       "         0.0056, 0.0546, 0.0487, 0.2059, 0.0771, 0.0762, 0.1069, 0.1748, 0.0653,\n",
       "         0.0156, 0.0106, 0.0149, 0.0209, 0.0234, 0.0207, 0.0147, 0.0094, 0.0066,\n",
       "         0.0056, 0.0057, 0.0060, 0.0062, 0.0060, 0.0056],\n",
       "        [0.0109, 0.0006, 0.0001, 0.0001, 0.0005, 0.0007, 0.0007, 0.0017, 0.0011,\n",
       "         0.0034, 0.0236, 0.0208, 0.1126, 0.0738, 0.0565, 0.1027, 0.2255, 0.1244,\n",
       "         0.0292, 0.0174, 0.0233, 0.0329, 0.0373, 0.0314, 0.0198, 0.0109, 0.0066,\n",
       "         0.0051, 0.0050, 0.0053, 0.0056, 0.0056, 0.0053],\n",
       "        [0.0153, 0.0008, 0.0001, 0.0001, 0.0005, 0.0006, 0.0006, 0.0013, 0.0009,\n",
       "         0.0024, 0.0110, 0.0092, 0.0539, 0.0572, 0.0358, 0.0809, 0.2252, 0.1851,\n",
       "         0.0508, 0.0266, 0.0341, 0.0472, 0.0529, 0.0420, 0.0235, 0.0110, 0.0058,\n",
       "         0.0042, 0.0039, 0.0041, 0.0044, 0.0045, 0.0043],\n",
       "        [0.0160, 0.0010, 0.0001, 0.0001, 0.0004, 0.0004, 0.0004, 0.0008, 0.0007,\n",
       "         0.0019, 0.0056, 0.0041, 0.0248, 0.0346, 0.0181, 0.0486, 0.1695, 0.2377,\n",
       "         0.0970, 0.0454, 0.0538, 0.0689, 0.0705, 0.0482, 0.0222, 0.0086, 0.0040,\n",
       "         0.0028, 0.0025, 0.0027, 0.0028, 0.0029, 0.0028],\n",
       "        [0.0201, 0.0013, 0.0002, 0.0001, 0.0003, 0.0004, 0.0003, 0.0006, 0.0006,\n",
       "         0.0015, 0.0035, 0.0023, 0.0129, 0.0231, 0.0118, 0.0316, 0.1154, 0.2087,\n",
       "         0.1315, 0.0627, 0.0707, 0.0906, 0.0943, 0.0623, 0.0256, 0.0089, 0.0039,\n",
       "         0.0025, 0.0022, 0.0023, 0.0025, 0.0026, 0.0026],\n",
       "        [0.0257, 0.0017, 0.0003, 0.0001, 0.0003, 0.0003, 0.0003, 0.0005, 0.0006,\n",
       "         0.0012, 0.0026, 0.0015, 0.0083, 0.0183, 0.0088, 0.0223, 0.0794, 0.1645,\n",
       "         0.1468, 0.0769, 0.0815, 0.1036, 0.1132, 0.0773, 0.0314, 0.0109, 0.0047,\n",
       "         0.0030, 0.0026, 0.0026, 0.0028, 0.0029, 0.0030],\n",
       "        [0.0379, 0.0023, 0.0004, 0.0001, 0.0003, 0.0003, 0.0003, 0.0005, 0.0005,\n",
       "         0.0010, 0.0021, 0.0012, 0.0063, 0.0185, 0.0082, 0.0184, 0.0591, 0.1198,\n",
       "         0.1331, 0.0785, 0.0807, 0.1064, 0.1312, 0.1008, 0.0443, 0.0160, 0.0071,\n",
       "         0.0044, 0.0038, 0.0038, 0.0040, 0.0043, 0.0044],\n",
       "        [0.0557, 0.0027, 0.0007, 0.0001, 0.0003, 0.0004, 0.0003, 0.0006, 0.0006,\n",
       "         0.0009, 0.0020, 0.0009, 0.0043, 0.0200, 0.0088, 0.0157, 0.0483, 0.0757,\n",
       "         0.0957, 0.0649, 0.0674, 0.1000, 0.1480, 0.1352, 0.0687, 0.0274, 0.0126,\n",
       "         0.0079, 0.0065, 0.0064, 0.0067, 0.0072, 0.0074],\n",
       "        [0.0735, 0.0027, 0.0012, 0.0002, 0.0005, 0.0006, 0.0005, 0.0009, 0.0006,\n",
       "         0.0009, 0.0021, 0.0008, 0.0044, 0.0267, 0.0110, 0.0166, 0.0474, 0.0549,\n",
       "         0.0674, 0.0468, 0.0514, 0.0866, 0.1436, 0.1489, 0.0875, 0.0387, 0.0189,\n",
       "         0.0121, 0.0100, 0.0098, 0.0104, 0.0110, 0.0114],\n",
       "        [0.0986, 0.0025, 0.0015, 0.0002, 0.0007, 0.0009, 0.0007, 0.0013, 0.0006,\n",
       "         0.0007, 0.0020, 0.0007, 0.0046, 0.0396, 0.0136, 0.0175, 0.0488, 0.0459,\n",
       "         0.0471, 0.0300, 0.0347, 0.0658, 0.1181, 0.1389, 0.1005, 0.0530, 0.0283,\n",
       "         0.0189, 0.0159, 0.0157, 0.0166, 0.0177, 0.0183],\n",
       "        [0.1199, 0.0026, 0.0017, 0.0002, 0.0010, 0.0011, 0.0008, 0.0016, 0.0007,\n",
       "         0.0006, 0.0017, 0.0006, 0.0046, 0.0503, 0.0152, 0.0198, 0.0500, 0.0411,\n",
       "         0.0346, 0.0197, 0.0235, 0.0476, 0.0915, 0.1211, 0.1038, 0.0638, 0.0373,\n",
       "         0.0259, 0.0221, 0.0220, 0.0233, 0.0248, 0.0257],\n",
       "        [0.1349, 0.0029, 0.0020, 0.0003, 0.0012, 0.0013, 0.0009, 0.0018, 0.0007,\n",
       "         0.0005, 0.0014, 0.0005, 0.0042, 0.0561, 0.0163, 0.0219, 0.0444, 0.0330,\n",
       "         0.0255, 0.0141, 0.0175, 0.0372, 0.0756, 0.1096, 0.1061, 0.0721, 0.0445,\n",
       "         0.0314, 0.0269, 0.0265, 0.0280, 0.0298, 0.0310],\n",
       "        [0.1259, 0.0030, 0.0021, 0.0003, 0.0013, 0.0014, 0.0010, 0.0020, 0.0009,\n",
       "         0.0007, 0.0014, 0.0005, 0.0039, 0.0587, 0.0176, 0.0251, 0.0429, 0.0282,\n",
       "         0.0202, 0.0110, 0.0141, 0.0306, 0.0652, 0.1034, 0.1109, 0.0809, 0.0515,\n",
       "         0.0363, 0.0307, 0.0298, 0.0311, 0.0330, 0.0343],\n",
       "        [0.1145, 0.0032, 0.0021, 0.0003, 0.0013, 0.0014, 0.0010, 0.0022, 0.0010,\n",
       "         0.0008, 0.0016, 0.0005, 0.0039, 0.0592, 0.0194, 0.0289, 0.0446, 0.0251,\n",
       "         0.0162, 0.0089, 0.0115, 0.0253, 0.0565, 0.0979, 0.1146, 0.0885, 0.0575,\n",
       "         0.0404, 0.0337, 0.0323, 0.0335, 0.0354, 0.0368],\n",
       "        [0.1099, 0.0034, 0.0021, 0.0003, 0.0013, 0.0014, 0.0011, 0.0023, 0.0011,\n",
       "         0.0009, 0.0019, 0.0005, 0.0041, 0.0596, 0.0222, 0.0340, 0.0479, 0.0228,\n",
       "         0.0131, 0.0072, 0.0094, 0.0207, 0.0479, 0.0893, 0.1134, 0.0930, 0.0622,\n",
       "         0.0438, 0.0362, 0.0346, 0.0357, 0.0377, 0.0392],\n",
       "        [0.1079, 0.0037, 0.0021, 0.0003, 0.0015, 0.0016, 0.0011, 0.0025, 0.0012,\n",
       "         0.0010, 0.0021, 0.0006, 0.0045, 0.0618, 0.0259, 0.0406, 0.0514, 0.0212,\n",
       "         0.0110, 0.0061, 0.0080, 0.0174, 0.0408, 0.0800, 0.1084, 0.0942, 0.0650,\n",
       "         0.0462, 0.0381, 0.0363, 0.0373, 0.0393, 0.0409],\n",
       "        [0.1070, 0.0040, 0.0021, 0.0004, 0.0016, 0.0017, 0.0013, 0.0028, 0.0013,\n",
       "         0.0011, 0.0025, 0.0007, 0.0050, 0.0646, 0.0298, 0.0482, 0.0542, 0.0202,\n",
       "         0.0098, 0.0055, 0.0072, 0.0154, 0.0361, 0.0725, 0.1027, 0.0933, 0.0661,\n",
       "         0.0474, 0.0391, 0.0370, 0.0380, 0.0399, 0.0416],\n",
       "        [0.1048, 0.0043, 0.0021, 0.0004, 0.0018, 0.0019, 0.0014, 0.0031, 0.0015,\n",
       "         0.0013, 0.0028, 0.0008, 0.0055, 0.0676, 0.0332, 0.0551, 0.0567, 0.0198,\n",
       "         0.0094, 0.0053, 0.0068, 0.0143, 0.0334, 0.0677, 0.0980, 0.0914, 0.0661,\n",
       "         0.0477, 0.0393, 0.0371, 0.0380, 0.0399, 0.0415],\n",
       "        [0.1027, 0.0045, 0.0021, 0.0004, 0.0019, 0.0020, 0.0015, 0.0033, 0.0016,\n",
       "         0.0014, 0.0031, 0.0009, 0.0061, 0.0700, 0.0357, 0.0606, 0.0590, 0.0201,\n",
       "         0.0093, 0.0053, 0.0068, 0.0140, 0.0322, 0.0652, 0.0949, 0.0894, 0.0652,\n",
       "         0.0473, 0.0390, 0.0367, 0.0375, 0.0393, 0.0409],\n",
       "        [0.1015, 0.0047, 0.0021, 0.0004, 0.0020, 0.0021, 0.0016, 0.0034, 0.0017,\n",
       "         0.0016, 0.0034, 0.0010, 0.0066, 0.0717, 0.0375, 0.0646, 0.0613, 0.0207,\n",
       "         0.0096, 0.0055, 0.0069, 0.0140, 0.0318, 0.0642, 0.0930, 0.0874, 0.0639,\n",
       "         0.0463, 0.0382, 0.0360, 0.0367, 0.0385, 0.0400]],\n",
       "       device='cuda:0', grad_fn=<SelectBackward>)"
      ]
     },
     "execution_count": 162,
     "metadata": {},
     "output_type": "execute_result"
    }
   ],
   "source": [
    "attns[...,180]"
   ]
  },
  {
   "cell_type": "code",
   "execution_count": 160,
   "metadata": {},
   "outputs": [
    {
     "data": {
      "text/plain": [
       "torch.Size([29, 33])"
      ]
     },
     "execution_count": 160,
     "metadata": {},
     "output_type": "execute_result"
    }
   ],
   "source": [
    "attns[...,180].shape"
   ]
  },
  {
   "cell_type": "code",
   "execution_count": 156,
   "metadata": {},
   "outputs": [],
   "source": [
    "attn = to_np(attns[...,180])"
   ]
  },
  {
   "cell_type": "code",
   "execution_count": 157,
   "metadata": {},
   "outputs": [
    {
     "data": {
      "image/png": "[encoded data removed]",
      "text/plain": [
       "<Figure size 1080x720 with 9 Axes>"
      ]
     },
     "metadata": {},
     "output_type": "display_data"
    }
   ],
   "source": [
    "fig, axes =  plt.subplots(3, 3, figsize=(15,10))\n",
    "for i,ax in enumerate(axes.flat):\n",
    "    ax.plot(attn[i])"
   ]
  },
  {
   "cell_type": "markdown",
   "metadata": {},
   "source": [
    "## All"
   ]
  },
  {
   "cell_type": "code",
   "execution_count": 164,
   "metadata": {},
   "outputs": [],
   "source": [
    "class Seq2SeqRNN_All(nn.Module):\n",
    "    def __init__(self, vecs_enc, itos_enc, em_sz_enc, vecs_dec, itos_dec, em_sz_dec, nh, out_sl, nl=2):\n",
    "        super().__init__()\n",
    "        self.emb_enc = create_emb(vecs_enc, itos_enc, em_sz_enc)\n",
    "        self.nl,self.nh,self.out_sl = nl,nh,out_sl\n",
    "        self.gru_enc = nn.GRU(em_sz_enc, nh, num_layers=nl, dropout=0.25, bidirectional=True)\n",
    "        self.out_enc = nn.Linear(nh*2, em_sz_dec, bias=False)\n",
    "        self.drop_enc = nn.Dropout(0.15)\n",
    "        \n",
    "        self.emb_dec = create_emb(vecs_dec, itos_dec, em_sz_dec)\n",
    "        self.gru_dec = nn.GRU(em_sz_dec, em_sz_dec, num_layers=nl, dropout=0.1)\n",
    "        self.emb_enc_drop = nn.Dropout(0.15)\n",
    "        self.out_drop = nn.Dropout(0.35)\n",
    "        self.out = nn.Linear(em_sz_dec, len(itos_dec))\n",
    "        self.out.weight.data = self.emb_dec.weight.data\n",
    "        \n",
    "        self.W1 = rand_p(nh*2, em_sz_dec)\n",
    "        self.l2 = nn.Linear(em_sz_dec, em_sz_dec)\n",
    "        self.l3 = nn.Linear(em_sz_dec+nh*2, em_sz_dec)\n",
    "        self.V = rand_p(em_sz_dec)\n",
    "        \n",
    "    def forward(self, inp, y=None):\n",
    "        sl,bs = inp.size()\n",
    "        h = self.initHidden(bs)\n",
    "        emb = self.emb_enc_drop(self.emb_enc(inp))\n",
    "        enc_out, h = self.gru_enc(emb, h)\n",
    "        h = h.view(2,2,bs,-1).permute(0,2,1,3).contiguous().view(2,bs,-1)\n",
    "        h = self.out_enc(self.drop_enc(h))\n",
    "        \n",
    "        dec_inp = V(torch.zeros(bs).long())\n",
    "        res, attns = [],[]\n",
    "        wle = enc_out @ self.W1\n",
    "        for i in range(self.out_sl):\n",
    "            w2h = self.l2(h[-1])\n",
    "            u = F.tanh(wle + w2h)\n",
    "            a = F.softmax(u @ self.V, 0) #0 is dimension\n",
    "            attns.append(a)\n",
    "            Xa = (a.unsqueeze(2) * enc_out).sum(0)\n",
    "            emb = self.emb_dec(dec_inp)\n",
    "            wgt_enc = self.l3(torch.cat([emb, Xa], 1))\n",
    "            \n",
    "            outp,h = self.gru_dec(wgt_enc.unsqueeze(0), h)\n",
    "            outp = self.out(self.out_drop(outp[0]))\n",
    "            res.append(outp)\n",
    "            dec_inp = V(outp.data.max(1)[1])\n",
    "            if(dec_inp==1).all(): break\n",
    "            if(y is not None) and (random.random()<self.pr_force):\n",
    "                if i>=len(y): break\n",
    "                dec_inp = y[i]\n",
    "        return torch.stack(res)\n",
    "    \n",
    "    def initHidden(self, bs): return V(torch.zeros(self.nl*2, bs, self.nh))"
   ]
  },
  {
   "cell_type": "code",
   "execution_count": 165,
   "metadata": {},
   "outputs": [
    {
     "name": "stdout",
     "output_type": "stream",
     "text": [
      "3097 ['l’', \"d'\", 't_up', 'd’', \"qu'\"]\n",
      "1285 [\"'s\", '’s', \"n't\", 'n’t', ':']\n"
     ]
    }
   ],
   "source": [
    "rnn = Seq2SeqRNN_All(fr_vecd, fr_itos, dim_fr_vec, en_vecd, en_itos, dim_en_vec, nh, enlen_top)\n",
    "learn = RNN_Learner(md, SingleModel(to_gpu(rnn)), opt_fn=opt_fn)\n",
    "learn.crit = seq2seq_loss"
   ]
  },
  {
   "cell_type": "code",
   "execution_count": 166,
   "metadata": {},
   "outputs": [
    {
     "data": {
      "application/vnd.jupyter.widget-view+json": {
       "model_id": "78907de8f78c4f4ab2720abfdcdaca42",
       "version_major": 2,
       "version_minor": 0
      },
      "text/plain": [
       "HBox(children=(IntProgress(value=0, description='Epoch', max=15), HTML(value='')))"
      ]
     },
     "metadata": {},
     "output_type": "display_data"
    },
    {
     "name": "stdout",
     "output_type": "stream",
     "text": [
      "epoch      trn_loss   val_loss                                                         \n",
      "    0      3.55782    9.024332  \n",
      "    1      3.118022   5.726827                                                         \n",
      "    2      2.940663   5.127235                                                         \n",
      "    3      3.013963   4.980318                                                         \n",
      "    4      2.761462   4.131383                                                         \n",
      "    5      2.796623   3.779311                                                         \n",
      "    6      2.792812   3.636094                                                         \n",
      "    7      2.831686   3.610654                                                         \n",
      "    8      2.717591   3.491008                                                         \n",
      "    9      2.737992   3.2936                                                           \n",
      "    10     2.605082   3.260493                                                         \n",
      "    11     2.655152   3.229886                                                         \n",
      "    12     2.392481   3.23645                                                          \n",
      "    13     2.352694   3.235591                                                         \n",
      "    14     2.249604   3.253684                                                         \n"
     ]
    },
    {
     "data": {
      "text/plain": [
       "[3.2536840351818337]"
      ]
     },
     "execution_count": 166,
     "metadata": {},
     "output_type": "execute_result"
    }
   ],
   "source": [
    "learn.fit(lr, 1, cycle_len=15, use_clr=(20,10), stepper=Seq2SeqStepper)"
   ]
  },
  {
   "cell_type": "markdown",
   "metadata": {},
   "source": [
    "## Test"
   ]
  },
  {
   "cell_type": "code",
   "execution_count": 176,
   "metadata": {},
   "outputs": [
    {
     "name": "stdout",
     "output_type": "stream",
     "text": [
      "pourquoi nos ancêtres dane - zaa ont dû quitter leur réserve traditionnelle et leur lieu de rassemblement de gat tah kwą̂ ( montney ) ? _eos_\n",
      "why did our dane - zaa people have to move from their traditional reserve and gathering place at gat tah kwą̂ ( montney ) ? _eos_\n",
      "why did our dane dane zaa zaa their their their traditional and and and zaa zaa the ( ( tah ) ) ? _eos_ _eos_\n",
      "\n",
      "que pensez - vous de l' initiative de la municipalité de rotterdam d' organiser des débats sur le thème \" islam et intégration \" ? _eos_\n",
      "what do you think of the initiative taken by the municipality of rotterdam to organise debates on the theme ' islam and integration ' ? _eos_\n",
      "what is your opinion of the initiative initiative initiative initiative to on the and and and and \" \" ? ? _eos_\n",
      "\n",
      "en particulier , que devrions - nous faire face aux t_up hfc et autres gaz à effet de serre que l' on vante présentement en tant que remplacements des t_up cfc et des\n",
      "what , in particular , should we do about hfcs and any other greenhouse gases now being promoted as alternatives to cfcs and hcfcs ? _eos_\n",
      "what , , , should we do to to to and and gases and as as as as as as and and and and and and and ? ?\n",
      "\n",
      "pourquoi ne pas s’ adresser au conseil d’ état et réclamer la gestion de toute une section des pouvoirs publics , à tous les échelons , jusqu’ au niveau local ? _eos_\n",
      "why does n’t canada go to the state council and ask for an entire slice of government , right down to the village level ? _eos_\n",
      "why should we to the council council and and the of of of the public , , , level level level level level ? ? ? _eos_ _eos_\n",
      "\n",
      "quels motifs vous ont - ils porté à croire que cette très sérieuse limitation des droits à la vie privée aurait été proportionnelle aux avantages qui en découleraient ? _eos_\n",
      "what considerations lead you to the view that this very serious limitation on privacy rights would be proportional to the benefits to be derived ? _eos_\n",
      "what reasons they reasons that that that that that of of to have have to to to benefits ? ? _eos_ _eos_ _eos_\n",
      "\n",
      "qui est chargé de veiller à ce que les demandes de congé soient bien remplies et à ce que les crédits acquis mais non utilisés soient payés au moment voulu ? _eos_\n",
      "who is responsible for ensuring that the leave forms are completed and the earned but unused credits are paid out at the correct time ? _eos_\n",
      "who is responsible for ensuring the the , are and and and not not paid paid not paid paid the the ? ? ? ? ? ? _eos_ _eos_\n",
      "\n",
      "quels seraient selon vous les obstacles éventuels à l’ intégration des femmes et des nouveaux immigrants dans l’ effectif de l’ industrie de la construction ? _eos_\n",
      "what do you see as the possible barriers to integration within the workforce that women and new immigrants may face in the construction industry ? _eos_\n",
      "what do you see as the possible barriers barriers to integration integration women and immigrants immigrants in the the the construction construction industry construction ? construction ? _eos_\n",
      "\n",
      "quels types de partenariats les t_up cno pourraient - ils conclure avec l' ua , l ' t_up onu ainsi que des organisations gouvernementales et non gouvernementales pour soutenir les programmes en faveur\n",
      "what sort of partnerships could nocs develop with au , un and governmental and non - governmental institutions in supporting peace and sports programmes ? _eos_\n",
      "what could be the the the nocs nocs the the and and organizations organizations government support support support support support programs ? _eos_ _eos_ _eos_ _eos_\n",
      "\n",
      "un avenir où ces trois systèmes interreliés sont guidés par des valeurs , une éthique et des principes qui orientent leur fonctionnement vers les résultats du développement durable environnemental et humain ? _eos_\n",
      "where these three interlocked systems are guided by values , ethics and principles that steer their functioning towards environmental and human sustainable development outcomes ? _eos_\n",
      "what do these two systems systems systems systems ? values ethics and and and and sustainable sustainable sustainable sustainable sustainable sustainable development ? ? _eos_ _eos_\n",
      "\n",
      "alors pourquoi ne devraient - ils pas , en cas de besoin , être à même de juger qu' un fonctionnaire sort des rangs , se montre offensant ou est impoli ? _eos_\n",
      "why should they not , if ever needed , be able to judge when an official is out of line , abusive and impolite ? _eos_\n",
      "why should they not not , , be be be to a a a a a to ? ? or ? ? ? ? _eos_ _eos_\n",
      "\n"
     ]
    }
   ],
   "source": [
    "x,y = next(iter(val_dl))\n",
    "probs = learn.model(V(x))\n",
    "preds = to_np(probs.max(2)[1])\n",
    "\n",
    "for i in range(190,200):\n",
    "    print(' '.join([fr_itos[o] for o in x[:,i] if o!=1]))\n",
    "    print(' '.join([en_itos[o] for o in y[:,i] if o!=1]))\n",
    "    print(' '.join([en_itos[o] for o in preds[:,i] if o!=1]))\n",
    "    print()"
   ]
  },
  {
   "cell_type": "code",
   "execution_count": null,
   "metadata": {},
   "outputs": [],
   "source": []
  }
 ],
 "metadata": {
  "kernelspec": {
   "display_name": "Python 3",
   "language": "python",
   "name": "python3"
  },
  "language_info": {
   "codemirror_mode": {
    "name": "ipython",
    "version": 3
   },
   "file_extension": ".py",
   "mimetype": "text/x-python",
   "name": "python",
   "nbconvert_exporter": "python",
   "pygments_lexer": "ipython3",
   "version": "3.6.6"
  }
 },
 "nbformat": 4,
 "nbformat_minor": 2
}
