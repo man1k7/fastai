{
 "cells": [
  {
   "cell_type": "code",
   "execution_count": 4,
   "metadata": {},
   "outputs": [],
   "source": [
    "%matplotlib inline\n",
    "from fastai.learner import *"
   ]
  },
  {
   "cell_type": "markdown",
   "metadata": {},
   "source": [
    "Lets take a look at Stochastic Gradient Descent (SGD) which is an **optimization** method commonly used in neural networks. We will study the concepts with concrete examples"
   ]
  },
  {
   "cell_type": "markdown",
   "metadata": {},
   "source": [
    "## Liner Regression Problem"
   ]
  },
  {
   "cell_type": "markdown",
   "metadata": {},
   "source": [
    "The goal of Linear regression is to fit a line to a set of points"
   ]
  },
  {
   "cell_type": "code",
   "execution_count": 5,
   "metadata": {},
   "outputs": [],
   "source": [
    "# Here we generate some fake data\n",
    "def lin(a,b,x): return a*x+b\n",
    "\n",
    "def gen_fake_data(n,a,b):\n",
    "    x = s = np.random.uniform(0,1,n)\n",
    "    y = lin(a,b,x) + 0.1 * np.random.normal(0,3,n)\n",
    "    return x,y\n",
    "x,y = gen_fake_data(50,3.,8.)"
   ]
  },
  {
   "cell_type": "code",
   "execution_count": 6,
   "metadata": {},
   "outputs": [
    {
     "data": {
      "image/png": "[encoded data removed]",
      "text/plain": [
       "<Figure size 432x288 with 1 Axes>"
      ]
     },
     "metadata": {},
     "output_type": "display_data"
    }
   ],
   "source": [
    "plt.scatter(x,y,s=8); plt.xlabel(\"x\"); plt.ylabel(\"y\");"
   ]
  },
  {
   "cell_type": "markdown",
   "metadata": {},
   "source": [
    "You wnat to find **parameters** (weights) $a$ and $b$ such that you minimize the *error* between the points and the line $a.x+b$. Note that here $a$ and $b$ are unknown.\n",
    "For a regression problem the most common error function or loss function is the **mean squared error**"
   ]
  },
  {
   "cell_type": "code",
   "execution_count": 7,
   "metadata": {},
   "outputs": [],
   "source": [
    "def mse(y_hat,y): return ((y_hat - y ) **2).mean()"
   ]
  },
  {
   "cell_type": "markdown",
   "metadata": {},
   "source": [
    "Suppose we believe $a = 10$ and $b = 5$ then we can compute $y^$ which is our *prediction* and then compute our error."
   ]
  },
  {
   "cell_type": "code",
   "execution_count": 8,
   "metadata": {},
   "outputs": [
    {
     "data": {
      "text/plain": [
       "4.779122590794983"
      ]
     },
     "execution_count": 8,
     "metadata": {},
     "output_type": "execute_result"
    }
   ],
   "source": [
    "y_hat = lin(10,5,x)\n",
    "mse(y_hat,y)"
   ]
  },
  {
   "cell_type": "code",
   "execution_count": 9,
   "metadata": {},
   "outputs": [],
   "source": [
    "def mse_loss(a,b,x,y): return mse(lin(a,b,x),y)"
   ]
  },
  {
   "cell_type": "code",
   "execution_count": 10,
   "metadata": {},
   "outputs": [
    {
     "data": {
      "text/plain": [
       "4.779122590794983"
      ]
     },
     "execution_count": 10,
     "metadata": {},
     "output_type": "execute_result"
    }
   ],
   "source": [
    "mse_loss(10,5,x,y)"
   ]
  },
  {
   "cell_type": "markdown",
   "metadata": {},
   "source": [
    "So far we have specified the *model* (linear regression) and the *evaluation criteria* (or *loss function*). Now we need to handle *optimization*; that is, how do we find the best values for $a$ and $b$? How do we find the best *fitting* linear regression."
   ]
  },
  {
   "cell_type": "markdown",
   "metadata": {},
   "source": [
    "## Gradient Descent"
   ]
  },
  {
   "cell_type": "markdown",
   "metadata": {},
   "source": [
    "For a fixed dataset $x$ and $y$ `mse_loss(a,b)` is a function of $a$ and $b$. We would like to find the values of $a$ and $b$ that minimize that function.\n",
    "\n",
    "**Gradient descent** is an algorithm that minimizes functions. Given a function defined by a set of parameters, gradient descent starts with an initial set of parameter values and iteratively moves toward a set of parameter values that minimize the function. This iterative minimization is achieved by taking steps in the negative direction of the function gradient.\n",
    "\n",
    "Here is gradient descent implemented in [PyTorch](http://pytorch.org/)."
   ]
  },
  {
   "cell_type": "code",
   "execution_count": 11,
   "metadata": {},
   "outputs": [
    {
     "data": {
      "text/plain": [
       "((10000,), (10000,))"
      ]
     },
     "execution_count": 11,
     "metadata": {},
     "output_type": "execute_result"
    }
   ],
   "source": [
    "# generate some more data\n",
    "x,y = gen_fake_data(10000,3.,8.)\n",
    "x.shape,y.shape"
   ]
  },
  {
   "cell_type": "code",
   "execution_count": 12,
   "metadata": {},
   "outputs": [],
   "source": [
    "x,y = V(x), V(y)"
   ]
  },
  {
   "cell_type": "code",
   "execution_count": 13,
   "metadata": {},
   "outputs": [
    {
     "data": {
      "text/plain": [
       "(tensor([0.6813], device='cuda:0', requires_grad=True),\n",
       " tensor([0.0504], device='cuda:0', requires_grad=True))"
      ]
     },
     "execution_count": 13,
     "metadata": {},
     "output_type": "execute_result"
    }
   ],
   "source": [
    "#Create random weights a and b and wrap them in Variables to get gradient stored, Tensor does not store gradient\n",
    "a = V(np.random.randn(1), requires_grad=True)\n",
    "b = V(np.random.randn(1), requires_grad=True)\n",
    "a,b"
   ]
  },
  {
   "cell_type": "code",
   "execution_count": 26,
   "metadata": {},
   "outputs": [
    {
     "name": "stdout",
     "output_type": "stream",
     "text": [
      "0.0884564220905304\n",
      "0.08833728730678558\n",
      "0.08824538439512253\n",
      "0.08817457407712936\n",
      "0.0881199762225151\n",
      "0.08807801455259323\n",
      "0.08804550766944885\n",
      "0.0880204439163208\n",
      "0.08800137042999268\n",
      "0.08798626810312271\n"
     ]
    }
   ],
   "source": [
    "learning_rate = 1e-3\n",
    "for t in range(10000):\n",
    "    # Forward pass: compute predicted y using operations on Variables\n",
    "    loss = mse_loss(a,b,x,y)\n",
    "    if t % 1000 == 0: print(loss.data.item()) #print loss at times 1/10th\n",
    "    \n",
    "    # Computes the gradient of loss with respectd to all Variables with requires_grad=True.\n",
    "    # After this call a.grad and b.grad will eb Variables holding the gradient\n",
    "    # of the loss with respect to a and b respectively\n",
    "    loss.backward()\n",
    "    \n",
    "    # Update a and b using gradient descent; a.data and b.data are Tensors,\n",
    "    # a.grad and b.grad are Variables and a.grad.data and b.grad.data are Tensors\n",
    "    a.data -= learning_rate * a.grad.data\n",
    "    b.data -= learning_rate * b.grad.data\n",
    "    \n",
    "    # Zero the gradients for next run. \n",
    "    # remember this is just GD not SGD which is in batches. \n",
    "    # This is run one at a time\n",
    "    a.grad.data.zero_()\n",
    "    b.grad.data.zero_()\n",
    "        "
   ]
  },
  {
   "cell_type": "markdown",
   "metadata": {},
   "source": [
    "Nearly all of deep learning is powered by one very important algorithm: **stochastic gradient descent (SGD)**. SGD can be seen as an approximation of **gradient descent** (GD). In GD you have to run through *all* the samples in your training set to do a single itaration. In SGD you use *only one* or *a subset*  of training samples to do the update for a parameter in a particular iteration. The subset use in every iteration is called a **batch** or **minibatch**."
   ]
  },
  {
   "cell_type": "markdown",
   "metadata": {},
   "source": [
    "## Gradient Descent - Classification"
   ]
  },
  {
   "cell_type": "markdown",
   "metadata": {},
   "source": [
    "For a fixed dataset $x$ and $y$ `mse_loss(a,b)` is a function of $a$ and $b$. We would like to find the values of $a$ and $b$ that minimize that function.\n",
    "\n",
    "**Gradient descent** is an algorithm that minimizes functions. Given a function defined by a set of parameters, gradient descent starts with an initial set of parameter values and iteratively moves toward a set of parameter values that minimize the function. This iterative minimization is achieved by taking steps in the negative direction of the function gradient.\n",
    "\n",
    "Here is gradient descent implemented in [PyTorch](http://pytorch.org/)."
   ]
  },
  {
   "cell_type": "code",
   "execution_count": 14,
   "metadata": {},
   "outputs": [],
   "source": [
    "def gen_fake_data2(n,a,b):\n",
    "    x =s = np.random.uniform(0,1,n)\n",
    "    y = lin (a,b,x) + 0.1 * np.random.normal(0,3,n)\n",
    "    return x,np.where(y>10,1,0).astype(np.float32)"
   ]
  },
  {
   "cell_type": "code",
   "execution_count": 15,
   "metadata": {},
   "outputs": [],
   "source": [
    "x,y = gen_fake_data2(10000, 3., 8.)\n",
    "x,y = V(x), V(y)"
   ]
  },
  {
   "cell_type": "code",
   "execution_count": 16,
   "metadata": {},
   "outputs": [],
   "source": [
    "def nll(y_hat, y):\n",
    "    y_hat = torch.clamp(y_hat, 1e-5, 1-1e-5)\n",
    "    return (y*y_hat.log() + (1-y)*(1-y_hat).log()).mean() "
   ]
  },
  {
   "cell_type": "code",
   "execution_count": 17,
   "metadata": {},
   "outputs": [],
   "source": [
    "a = V(np.random.randn(1), requires_grad=True)\n",
    "b = V(np.random.randn(1), requires_grad=True)"
   ]
  },
  {
   "cell_type": "code",
   "execution_count": 18,
   "metadata": {},
   "outputs": [
    {
     "name": "stdout",
     "output_type": "stream",
     "text": [
      "-0.8659830093383789 0.3289\n",
      "-5.166977405548096 0.3289\n",
      "-7.6773505210876465 0.3289\n"
     ]
    }
   ],
   "source": [
    "learning_rate = 1e-2\n",
    "for t in range(3000):\n",
    "    p = (-lin(a,b,x)).exp()\n",
    "    y_hat = 1/(1+p)\n",
    "    loss = nll(y_hat,y)\n",
    "    if t% 1000 == 0:\n",
    "        print(loss.data.item(), np.mean(to_np(y)==(to_np(y_hat)>0.5)))\n",
    "        #print(y_hat)\n",
    "    loss.backward()\n",
    "    a.data -= learning_rate * a.grad.data\n",
    "    b.data -= learning_rate * b.grad.data\n",
    "    a.grad.data.zero_()\n",
    "    b.grad.data.zero_()\n",
    "    "
   ]
  },
  {
   "cell_type": "markdown",
   "metadata": {},
   "source": [
    "Nearly all of deep learning is powered by one very important algorithm: **stochastic gradient descent (SGD)**. SGD can be seeing as an approximation of **gradient descent** (GD). In GD you have to run through *all* the samples in your training set to do a single itaration. In SGD you use *only one* or *a subset*  of training samples to do the update for a parameter in a particular iteration. The subset use in every iteration is called a **batch** or **minibatch**."
   ]
  },
  {
   "cell_type": "markdown",
   "metadata": {},
   "source": [
    "## Gradient Descent with numpy"
   ]
  },
  {
   "cell_type": "code",
   "execution_count": 19,
   "metadata": {},
   "outputs": [],
   "source": [
    "from matplotlib import rcParams, animation, rc\n",
    "from ipywidgets import interact, interactive, fixed\n",
    "from ipywidgets.widgets import *\n",
    "rc('animation',html='html5')\n",
    "rcParams['figure.figsize'] = 3,3"
   ]
  },
  {
   "cell_type": "code",
   "execution_count": 20,
   "metadata": {},
   "outputs": [],
   "source": [
    "x,y = gen_fake_data(50,3.,8.)"
   ]
  },
  {
   "cell_type": "code",
   "execution_count": 21,
   "metadata": {},
   "outputs": [
    {
     "data": {
      "text/plain": [
       "83.56084801929832"
      ]
     },
     "execution_count": 21,
     "metadata": {},
     "output_type": "execute_result"
    }
   ],
   "source": [
    "a_guess, b_guess = -1., 1.\n",
    "mse_loss(a_guess, b_guess, x, y)"
   ]
  },
  {
   "cell_type": "code",
   "execution_count": 22,
   "metadata": {},
   "outputs": [],
   "source": [
    "lr = 0.01\n",
    "def upd():\n",
    "    global a_guess, b_guess\n",
    "    y_pred =  lin(a_guess, b_guess, x)\n",
    "    dydb = 2 * (y_pred - y)\n",
    "    dyda = x*dydb\n",
    "    a_guess -= lr*dyda.mean()\n",
    "    b_guess -= lr*dydb.mean()"
   ]
  },
  {
   "cell_type": "code",
   "execution_count": 23,
   "metadata": {},
   "outputs": [
    {
     "data": {
      "text/html": [
       "<video width=\"500\" height=\"400\" controls autoplay loop>\n",
       "  <source type=\"video/mp4\" src=\"data:video/mp4;base64,AAAAHGZ0eXBNNFYgAAACAGlzb21pc28yYXZjMQAAAAhmcmVlAABAQG1kYXQAAAKhBgX//53cRem9\n",
       "5tlIt5Ys2CDZI+7veDI2NCAtIGNvcmUgMTUyIC0gSC4yNjQvTVBFRy00IEFWQyBjb2RlYyAtIENv\n",
       "cHlsZWZ0IDIwMDMtMjAxNyAtIGh0dHA6Ly93d3cudmlkZW9sYW4ub3JnL3gyNjQuaHRtbCAtIG9w\n",
       "dGlvbnM6IGNhYmFjPTEgcmVmPTMgZGVibG9jaz0xOjA6MCBhbmFseXNlPTB4MzoweDExMyBtZT1o\n",
       "ZXggc3VibWU9NyBwc3k9MSBwc3lfcmQ9MS4wMDowLjAwIG1peGVkX3JlZj0xIG1lX3JhbmdlPTE2\n",
       "IGNocm9tYV9tZT0xIHRyZWxsaXM9MSA4eDhkY3Q9MSBjcW09MCBkZWFkem9uZT0yMSwxMSBmYXN0\n",
       "X3Bza2lwPTEgY2hyb21hX3FwX29mZnNldD0tMiB0aHJlYWRzPTEyIGxvb2thaGVhZF90aHJlYWRz\n",
       "PTIgc2xpY2VkX3RocmVhZHM9MCBucj0wIGRlY2ltYXRlPTEgaW50ZXJsYWNlZD0wIGJsdXJheV9j\n",
       "b21wYXQ9MCBjb25zdHJhaW5lZF9pbnRyYT0wIGJmcmFtZXM9MyBiX3B5cmFtaWQ9MiBiX2FkYXB0\n",
       "PTEgYl9iaWFzPTAgZGlyZWN0PTEgd2VpZ2h0Yj0xIG9wZW5fZ29wPTAgd2VpZ2h0cD0yIGtleWlu\n",
       "dD0yNTAga2V5aW50X21pbj0xMCBzY2VuZWN1dD00MCBpbnRyYV9yZWZyZXNoPTAgcmNfbG9va2Fo\n",
       "ZWFkPTQwIHJjPWNyZiBtYnRyZWU9MSBjcmY9MjMuMCBxY29tcD0wLjYwIHFwbWluPTAgcXBtYXg9\n",
       "NjkgcXBzdGVwPTQgaXBfcmF0aW89MS40MCBhcT0xOjEuMDAAgAAAGn1liIQAEP/+94G/MstfIrrJ\n",
       "cfnnfSyszzzkPHJdia640AAAAwAAAwJ0xbLud10Nph2AAAKsL/8Fkri2ATS8pLop8eF6o9gXD4H6\n",
       "qV7YpMQ284jdiUlvpKt6VHh/D1UHm8/6e8q5Xsf8RjGJuuntnFKTLze+I8FIPr3duAETYz3eIAEy\n",
       "OyHW0r9L/2nWmCgFyHS00uobxQbHkV9datQi2iw9AUcJDdTH54zLhslOJCPOXbdm4qLM3ePXEw/r\n",
       "grCejGHzJiyfNoEXf3bbf/72s1V4Z977PQhriSaqs/sJQ/E0xXMCzB92/GnER0X/gEcXgDmLwtHv\n",
       "AsbbsiAHB2wW0nx03PcPAdEW+oOmQvmx9+NQ2t2opIalamffi//oKcpsms0RqiIIa6U7/vjDplu2\n",
       "zo3FDiLdb+DvPzQSFcNO8KfPSLVn69PZGW2J3VfXUrFii61HRPkjXt7A3NN8CkT3rAZtNImYxdG2\n",
       "+uK3uPlRxthXgL0wEVZE/Wumvu8mDDzq5MFpiTBPilPTqf0gr85R1lmwLYFl64jDYYsWPg1vnO/a\n",
       "hwpcdEaOGgAc2c47JpxCJyIV48edwqJ+1KVefVFUfyrcyC+5isYHD1i9uML0iHXF8d2UpOgyEMdb\n",
       "yJrZAh5nP8mlfQ6xVGCARJwa2MZlwAsPLY7ZdE0cJfgKzYOakaCrVXZDcd02RyalbEGI58euGaWr\n",
       "3FTaL68sT/7SLUDA+bgFs4u+dQAOWM1eGPhdKt8D9lkBklV7k78GFNXLo3kXBFcA+KbyBty/G/h8\n",
       "a3PvZAmwy222l6SNXrpKTEoFq3Y9Z7zdpF6I3ZjIooJhLuxm3PKmvCittfZw7xd6Y5A6e+xqcYDl\n",
       "RxJEh5UczX9fJo2ZjbqPYzIbX9oFYXLGx9qIbaGStCDqrQjeg9VjZPHHTSsAMzTVK2iL4cipyZaa\n",
       "MyTuaCgZJcCkFOa1cSYSfOTquDb3dV5MZWg0pXXk173IZd2Z1x6uybEit4ZKTpfdV1vKWgHQlDrV\n",
       "y+B/bgYTSb/m4l+4PODXGA9Ix4COM5aPf9VrGm8/elzwS3prD3ZqQ6moiAlbqP9qu0oN4CaO47Ah\n",
       "Aef2qH+V+3yhlpsH6fkeUbtGpYMCD1i2Pcr46TV1H0KehvCw5Y/0qgcGN8zPT00CtoX+lsqp1YhL\n",
       "S8Oac6GF7j05U+QcAOR9AmiYOuSG8qLXi0MVrjXuvEF+3URxz7q7n1BycSuWXtWw2B8upeyzpGdK\n",
       "8DZuDS6ThIOKJ61o6NB37UO/EMxlqckrhLjgzz0lI823YnWnBVr9QtZU/l0b5tTgcJISIGiTC89t\n",
       "GWKpa8hQTuRn6TRmdLp6gHUGqeJdHLRnnO3hiBH50jUuOHnXwYQpR6OteG3FzRjZFHllAwERnko0\n",
       "8m0AM+ShNX6ypuwi/jjnVsuayg7tv1iClxzXhfqjDPP2d6U75wvV2/QOSJiJtipH50HsANeISa2U\n",
       "MnTKoU05lyJqWpuQuz0JJEim6mwYgxk6h5J8zEjJt06Ec3PGmQ9lr184XnBSdp5Dhj7iNgFE0EGj\n",
       "gD/0Ac3U303FLCK8tA+oz1TN0JUUHZ838SKnlEITq5iX2dUlE/WhyicW8fzYyZ8IQAwu8ZANzfVM\n",
       "QGM02OqidtcEo/eMqfB2bHtNqIUm8skDCQM6TjQP/S70uNOhTf0lrRwGaH4zxHijn92tJmA2ajNB\n",
       "MJ4blXzCQeHnn3q8COmO683F1SBmIKXmu3Kg+tEVKAcAJ09b0nL+NN5OOED2/r8S5Qh88BP6HnvK\n",
       "0kZLTqQd2EmgLME7jcL8r1M3NXmscFMK1eydxsR9xWCDOEx2qzeokYNTGJ3jvSxQM91NbTdqFLa+\n",
       "Qze/SNuLbeggxaeXYhVg8NrwLIV5ATKwo/tjupOchM+XvQlEOC+51JoGXxvLYc40HlLQSzTmUawB\n",
       "/+reE9pbKQaOGWd0R6WljJP6UFaNMBRLQESnFoME5rhaSCQRUsg7ffOMr9vBKwLHINJ9kR4epY6x\n",
       "F+JCXJ3S1RR4owU6426xkP7FYj2P/aiVagoeJxKWd/idTudntOFA2e8tWhUhp0TFi5dGd6Hj65bR\n",
       "/4REeYbT6OkkGznnrTgrw1eE/7NFkMxzT+8I8zCOlRgtL8n2xxbdNhWzzEc+VereNB8oRZGM5UNJ\n",
       "005sji1IMrAv0CGB0aJ8KSbPA92U+uaAMvknNEd1HE4TWGopLzBDGPG5KucJgVLSdvhY1P4XhtW+\n",
       "F+t9cZ38MrgHvZv7VpokD11NKd4ovGxoKRtjWpNgbkVzRKUQUFYyXY4Oitbc5i0S1sXhIKZ4p5pO\n",
       "Xs+R59HpZ9Ak+2PEgHwfsqEpt5Bw0hthP1ESXCb1rNGhEdA9KmP6fvAVHqj4U1mrd3+89iwMbsGv\n",
       "dI+oVL2nkt/fi89uJHRI+UZYJidlrJiz9H6eM76U82ZIr2wwavGVtSdD2/U8g/WT62u/wHDyIywf\n",
       "i37kqMaxzUGlg0iycIFAalww0MmonNMORXdI35nJl1wdS4rDFoSAWabrwe9VjDbUMl8sBHFQVu2W\n",
       "DJ7HP6HkQhUSYCz+cr0bmmz+sjmEKE3tDr2bxb4dEjUTNQiif3+MfictiD+c/K1/72i2ETjyc1nr\n",
       "ksUZYXivgCXS0t18P+3J+xtgnIJYDI8Rai/X/x5juTOcr3OnrASj36UK5bhxsZ4R6D80JZ78zB2l\n",
       "3mDwBR9IADFJZp4NzjbrdejLxFpFkT47BmXQ5w8+3kL1DU+Z1xH+12jLkO9bz9LaPvGGYAh2tLYG\n",
       "/4G/mec9O9i0/e/vXWZzR9vmd4nyd4uDfU9ya5azp+FurGHyEFszyVtt5r7BjHJE/NbqTor/sGdq\n",
       "eTIrFWrwEGJy8omy8p0RWUz8RT/Q+qzEnkj59KpfRT9wpvOCQc2zEiNL4+VdyOY3mmwJa9dR1hKa\n",
       "q8cIsmu9JYF6GPTCwtjP27sai5CsNaN8EBr0J2E+9HV0jSMbNx473x6BeZzKihjs5UBa1VGtPOn/\n",
       "sQytrBeqPhWtTJKF0jgA8X3+tmWle+kSoKIjbJzJ+ENHmBo/V+qNkAbIWQ7rCwp+Psgy16xdxm96\n",
       "KFfHjftMxDOdFFrcRVYVahgDcn4Fwj65WYyE8EBMkOVFGksWhreSiO6NCRwLjwr0PCBeRNXyuIkG\n",
       "7LEKSh7k1kd+wXh4dHrTYXA0g/C9jn0kEtRsmnfjLVIsbM30WSouKcpTsqzstqPkKN2pHwoz5pbi\n",
       "HqRW79BmjWENn7Qif2WDqLGrAyf79zLBeKomYzHOzvXXLqGU/Wz39SBOINucXc3gIS65wI5nrsEN\n",
       "FcOfMN05ATww7Zko8GajYFYeL236/26wPSrUtaXdpvSxtjMzPuQC7YX/i+2aMiFtf6AM4y7hF1mA\n",
       "UKmXkxXUVlYrPfwAD4RLxeFaEH++M5xHLpLFjXKqhbZ/yEZ574JTxB3ZL+AepzWqZdaU5JOw9+Tb\n",
       "3KVkigDv02MfIWpMmeYkhL7o05Q3pvh7UwnORbR0INr+451I4HHyt4ZG0XVKPj97S7Nx9Yf9/ZJY\n",
       "qkyH1sod6wmVpruiIQiWtXAlVLcLy899DRBqc+v2nLBxxR7TIMocIZvBPRfMsQ44r+hmNxBC5c1F\n",
       "aSNP6qd2u7cWQQ9npPR7mgi+EDskvyqaUG6KZWvbfghhIUw7Nt6azJKzhu09JhgZl7Is0F4vRi8A\n",
       "ju1JH0ToEm7zexhvaPTliUZsmWOeRcDxKrYj7+T5+GRCnQZOsoorLX5oCCqMPHR7MuKYjzxw1XlZ\n",
       "48YaBhVFK5fUVw9NUGyC4SrQODzeB+Nh7FRJ//+Qo3D11GDV03oGCI+mGNRq3caDY2XD8Vu86gUh\n",
       "X69u11389YwpQHwYKFeDuWBG47yM4rZ/6O+eZLqLekqRRKnAmEp8v6v3FdDx/0QrpXFxtiJnv4zk\n",
       "y9H3EajcSsAT/wT/LrY0CZVopHnhK+LOtaldBCJ38TK+QKJ8OKXqEpt5V3J1cBk9RyUyKGWu6BVN\n",
       "h786KA6OnUtIw95Hj3Kz/+64V7G8v0X1OepAia286d+x7/3c3ojL02CiQb9HujQZ3/Wj8M7+/GJ6\n",
       "Dp2iHnt/Q91Qn0gHrerS5iekpX7md5Jh/0cBi4AtGrqBrfuU5ipbpaWi5i7OHlB44Mlb0yjLac+s\n",
       "yt67AyPWGOAB+mP5yH0xzbjxeD8kyeLe0uDJ7AKDbBn6x4zcX3bxFqlgtGAcAbE2mCh4hV33dJns\n",
       "2FCg06HeFanvTRIcPWXl/NlFtW/gzVOudXijscl/XX1vxDAb6hKdzpGbtwqNpkqMUbvFDncOisSv\n",
       "cCjq/K6yfCoz82IAZZxddyDitcl2t0duh1AT5sv+xVQ920Lxqxe1tH9XRqmXKMeHGcHddvxtvwln\n",
       "tWIV9sTQqHvRuTISuY/YkuisnDOamyI4llTl2MBpN/mjkndhJ+uC2q8qaAFD2MMtrE5k+Q37dwI7\n",
       "sXh6CzT1U+rFG93/0W4DNsUXAF7D7LF38VIVQhtT+eDFjryCD9DmV3n2XQjNVgVzBUz8gz1OUzzv\n",
       "viHNrRFrL+RU0V83OrXaUVfOaAaLgve67hjmMPtoKCJOnAexBOvjMDpS72W8af2FwYIYFt11ZBJa\n",
       "Hh8VZPEgCI9WncXg2vq25kzKXl4i70BGVmLDoGCzAfQvpUW8AtasFG5nVrX7jph7uNEjuLKftqXU\n",
       "D/2GkYsV8+MtCBQQyFj2fe1rR5Rprf+N4OwEAp4Hr3Vogc1p/HDiLvkvLwLz+0BI217Yr9o0bgFZ\n",
       "B4cfP82JXdV1RjIFd13JhSSRWQXZKc5nKenXnQncNk0mxGMmYpNTjPbGwcItbsA7BBBIar6oS25C\n",
       "W1yGtx1eK1hKois9E6gh7oDryPSsoHAuYQ1D2jD3Y21w33RO9tf/6+8R1Kjk4H7gNc4vvd1a+chI\n",
       "20ZIbqHNrCuJ/Z4R9MK1nIK9NeYNg1mTTHTBKwZMLAFNgxti6dyA9s4hdU7NDn53BmDyRVXoWGok\n",
       "wZsxPwkWwY8JAMiq0C0JOI71Kie3FaXRlCDsl/9ysUz6EHJLcrj+d6TtuTcme7I3zsM3wZq/Yv97\n",
       "aza3wclMDA5B/gC9pq+25V64AWdmnnROR6eGk7tmeIji427XK8Q8LUDhAvXhny0bTLv2UPJNTx83\n",
       "YvorUnjLxb+cPmlkQEZwYKjYt7lFv+V22SPR3K52JVtu6xll9en2izIuxK+DQqpeqzuapCZszkKW\n",
       "ilmiLz+34SKMvRAvuJEdOwo8CWMLFnz9o8UC1+8B+YnEwDvBo6rRsCHHopT1Pkoc5TJPt0MKHO7n\n",
       "EM4nWbZIOpiI1xSb59dvCQaroJGPY2NEdX85w0UN9UlfK0kFN11Fb7rA2qwIfnCWYn6JQ3hz20i4\n",
       "OVxVJlsVg5alX80rdvedrFCgw/dwlxhSaVHDL06IXhuvQKN4RkQ8pWIjfZ4QlP5z1iwwp+2PF6MK\n",
       "cfx4OqdbiVRk4HHNTrG26AdkvEVbWJWGthDCqlIa0GG8OX8zxNwkfs+E+6CU+JKcqwQbj7vCs4XA\n",
       "stkJJvlVosX2mzPrWW3A+2rBJpt0ENX/QLYqqZ39FbGJxadLsvd5zoPqDMlVCQG/VHScryAtLQIb\n",
       "SM4alMlVZJciErNl+kBsLrrz3u6Ur0AmrTbwufklPk56h3DinjmZHHY9gWOFtTTIORlwKFM1tEif\n",
       "c93YHI9SRAWv+dQeAlwe0Ku8PMrPMt+1iRsiVqgTWHmPkH1q/Mt7Q2soeRqqeFHrnKziBKCdnI0t\n",
       "JcWwIVmdtjlylAaN9YEHo2uLq2tXE6cITkM5KWAmUs2vyTHAhY13i7OSVPzd0BByJOHmrHxklNzy\n",
       "6+8pXXrddV/apssf/DePRD84BjmM+gU2aRaGy96woY27RXqWEkzoaETzKw8AAuDd/iH0j+q0SmLG\n",
       "+KygDsAXFf/qgXMi+SHcRK8gF8hEvvOuw+HmTceA0mpSZ8JKQvJQH+BfGuLfqVkdvrTb3URkuXfW\n",
       "5rR7jdVjrJU0aIpwkDVXWRz1ClGIN3f83PA737D89By9vddyP3RCZj63wLfRoNzEBpODnJ6vptLs\n",
       "NVUrEqLX2kFUjgXYKhR9lWSQceceWDdU6rz6NjuBZ7/6L4KolVsjKBt1EKEvPWUVTz7uX6ErsdjH\n",
       "lrjIo8xhFywhlyXb6XoZpMDUFbgVxfQOA/6GXbOQPvwnjYZRwDSHfPjGk/JNBUWe6fDxIdbX/ZaK\n",
       "tdi9zHvv70LQo+z26yqltdWuXMI73Z0LH1G8fMnff3bCvfTLFgmptE1QrIL8NxhuDAbKQZ+g/tmU\n",
       "18PeSJEglJcYbcyv9ed3RTHoezG3QGWzs8r372lkBeeZUUeOWCrN0K+pasYxitJ0mlkrl4nHADh9\n",
       "ydD1PCa0x71uHX5TkaVqOhbu71auiussvClgqr97Nfdqga8mv24/5rHSEPh5fpV/r9QViYfe0Cjd\n",
       "gjnhM2+M85cEQazyUm+1DOYZkgV4SbrJ15IQZ37QJwSMblifwfwxrT3kmkD2o6yMAjuwXVVigoay\n",
       "Iq5TnhrhDz8xMT37Y5x7PMLTQNO03XXXYtewVV1um7apRBwoGVp0If7AsF2YsaJKrKmmOOYfvQhV\n",
       "H0+pvg+WOxqQphO53tVeXsvdUaEgcJL/huUifIgfNaUR0YSvV0eIU6OxFtzkimadGbTWsBJsJosG\n",
       "+NrqEbjtpl8ImL2iLOPYdDzpPIqkH4uYtnzmtfoEHh/xMM6jNgQDqURCMWdGERTqaiNRK1NaM7A/\n",
       "FFpPU85l0hr3wiOlezduCFpPQQ4hCy4bexMUUVGgiXMX484sOkhXFZZMSf9t0FLQzjaXskHD5PRt\n",
       "CppiibdAqlbdRp//78Ip15qiAQ6griZtRKGN6nOIDogBfSKmIUBIZ7iHycQLAXBkpO9jyiCexLvn\n",
       "8ab3vfNAyMV0KodX/4X9gJm0hp52xiy6kOH2rBfoND47zSMBbv106VZ11TCMjoe7i6jeYFQbwG2A\n",
       "RE2Jna56OXoo3+5pZWPyVrULdON1o8kj+ev9x3j0Q+2BC4jJE3yT5pviBZ2BJRv4my0RGjV1hBbD\n",
       "naxqdAP6lGb5nCESa8s3u6yjVolmWo0eZFLLSxeseCl+0W05OUTcnWD04aI8ZWrEvrbZwwzp/RvK\n",
       "fPMf0luaswDFaPoewjbV34veGnc9ADF/csvV92fMLCnruLh81FkZOUK3NUQ+XO/HA+q6w9xYx2tY\n",
       "OXx5xiM8Z0lk3RROAAFm3t4rhqEHnuAAAAc1nt3Y6R4wscB9SIEwNYr4cZKOTDa7/kFIxGD/4bOZ\n",
       "Due4rY8G+G/3qHWKT2GU0ozoin4Wt+N4IKSeegnKB93nKvlKVGXmprvq30k+2aFMWzKC9LWPm1RT\n",
       "Y7kOP+1IrFVoVKZbYuwG4ckKAnIhc+2O4tU6GHz1KXWigR4TDXmpmk1k9hEAKAnz92/s+sL0Yv8B\n",
       "8gB+FqYpWb2QWZfnOPPPnE6cg4pdK9JwBmJhxnFSjnmnXr9RkAcI27gjdByedJIMQR7UwT+P4ZLt\n",
       "ovqvofzRHK0qw2nUvT7xksIbQJt+zJ7TtNYeDYcsoYF3KQhnwmWIyjPfuBPCObt8xO/XdJJyJ0V6\n",
       "ZIRPIu9ooTktjUQnnv6yGZHP2U9oajWCOzH9xw4xw7brOmGS8K3s26UcvoxjtacM/gH3mZwwvAsP\n",
       "fBiAG5WApYdQaD/6i4cjTMLFrVRVoXLUBU95RSERQ3yVfx8f92qTPjGiubMsEDkgA+02UutygoTv\n",
       "WH/JooYOkz0eM5eq4mqUtHG1/mvLUyVUi5CFS3dnfAvFzE5+pV0zEuQdq1hoDS+PmNl9Dr6xDMU1\n",
       "LgHph+qNdvcMC+o+7r2J6ePJxr+YX+n+8xKB8DDn4+9eV1diUyTlOUGfaMQ3Y2DftE3sZuVi8dNI\n",
       "xWOdaqEbPLu1ipNlF84pTb+pu0A57bKXp9fHrn+99CwpA96rLs/CYCsY3yzx7VynjmiU4CU3PEtF\n",
       "EbYItyCBDJZ7yfWgZb8dGbaQa8FSZxpZ2J1rI/RfDFaR517d4xTg+/PuVr+mFmZHhbx8jaFOivKZ\n",
       "sEUuhMpQfFQkKRAlForEtW1NS7b0OFbbtAnW9q4BIKzGtDORK7NOlk+bQq5tjHR2hv0SY38MHTDA\n",
       "UWU7dN8axn16tHDyg2tEapAUwDq1frrk0yHmpQp/ZmdNzMJdOcCH6R2O2arFSenR2HG+xv95NJoi\n",
       "CR5Q4ffuJiEu9a5IQHal6C4k8aefV3I/RcTyBrk4o9li9d8jjals+Mk/HG+2he6yTA2FTKJEhmka\n",
       "BkzcWtqWUpLf9nwKnIWM7dLc/VkmmPjzuymCsBXs30ItTLdlWUsK0JJi7T3xKSzV+5vvFX9NA7IW\n",
       "P9QURthTl+JG5VC0XXttxQ+NwyGyPx83JFOOXMapzjziDTKpZx1WySz8oX014Vk3k8AyxcTjQx/K\n",
       "5/EtHTDj0NrcRqPOKzms/VXOUoYFNEw9DNzsZV9lMW56CuflWZJ0pGrqyWfNv3UwBLsxV+ELchw1\n",
       "IQIzlZ3Cxu46b3VvbwNsHB/1sCp1sL4+p/LaTLY3VLNLO6gdFeJz1TT8N1WmKbzYBYlt/wh/IbAY\n",
       "TVCsYMSTqnabkKMSghciXJEhH798WxzjbDxl3vi4PffZyQ3UwUG6AABzhatOJDkyMUbmNwqgMBbv\n",
       "esDSMEic+yLlC3QO+tTXBtFE23kZpjzmAeWG7/gjKYCeuQY7MFuOm0uHWq+UjViZ4AuRMkXoWefk\n",
       "PkkV93Nx2D8iSVsY4eCVfN0cEuYxD4mRr9RacC/5/8DupnR81scUZ7zmgVpUZJg1EqMgHV4Slffv\n",
       "hEiydztyCzvHVjW+Ll+iw0OOZTdMY+78YDhm3B6I+MaXS/RUyNBUTl8f+wO/v71vHwFXRQD+L2EC\n",
       "GGkuhwZcdVVolk1ve5ACLd3RrW41v7k7wEf2GKi6a5jXkPYfk1cOrT4LX36teLuqQ//kOFR571Kj\n",
       "e5/iNvbSm89BbE5TlfVw2o59fgOT6LprFAmzI5qm2DpkUy9LDk5YcyLTCB9+/My1dQSmnXHnzaIE\n",
       "dg2PKH/nX5/pI2JXmYiUAXpahsn+u0zFjpFYl8LcYhLWAAADAApZAAAEikGaIWxBH/61KoAFKLui\n",
       "YAFN8iaUm7WnP7ySzI6vulc8S9QaMGDUov67S2efjhLW2EFNMA5srjA64YAy8l/Ow2vnYJucDtuu\n",
       "gnQC/YQ6UPVZAaiZwuTnvHUi3f3ZCAOYX317Oi0tt6Z3vV4Oiv4RyUKzl445Zw2jjNKEjIHkDzYD\n",
       "EhEo2QOdPZB+qgP/MslWKZA9TI/4GQURam78mqnRCYhLLvWww7UKWBOIM4rjxNfs4zn9mXb84nZY\n",
       "2dpFhOax9sGeDpvYmpDwRi6zuVbHI7chMpyXfYEAi5uojWQBnJ9ToJ5dazJ/KzcAo49SRfT9b7b7\n",
       "jp4vPczVBALH1JAaFmZQ0Lm92k3T7TwbaPiKkezZIEex2a6l75Q8Har1Zee5QiKBvL1mU9vp1lfr\n",
       "j6WDfZK9cluNxNLYVvLiFkTUmGTsjuFO3i7ihgiJkaXYlFyQYbflTTF/DXhGVN2RhppLtSnySEgv\n",
       "kYssWLG/wbu9+5J6F5oOB/oa8gTl54gocqHEAV4fWhszXTWoCaLlLjM0MgRIxT2gj3/B6Y+RBlRV\n",
       "cSnaMcFGnxRW+L6AV34TULmpCrP53LQtxwLR0oZ6w2gGUKpH35Dd3mS15k6R61O0vc1OJPvsipgJ\n",
       "aRoJ2XH9G0JG/7BdDUjmviyPKbSDWBWR2DQ5x5y5NzRCedolmd8QAOo+ymlurLtkUxeWAT/mvh6v\n",
       "4+cK7mWrxnbxRGbcFN4uhfKiXrSr40PZxHitDENrpR4aB68iGY/FwdHtIX0tXMpBpC+rLL4oABh6\n",
       "cmY9jPWp34+z1wFb9hWH9i7clZ2ZmuKZkzPdi/W//uB8OniXEBkBcxz0k1rOp1m3OdPDBYmIBEzz\n",
       "FCAL/Yf/jLBSF4BYf9ZEVHlPAxQbJRQmZ0nCKycJLbOOWs2kJX4N9jrKjUc9SL1S6CZYzFZE25St\n",
       "q2SSybUdrA1HVzMtDzMxXhfi4ak5uaPKoVn0rtfqBWf9/AWMGFe0kGpktPMoBPtpp6YUaBzC1vDH\n",
       "ctILpwJMzoZbYYhauNqyKyyuMWdBsrqmGs57dAyUc/pNLrQGE9GHxA9B8ETfuYNIJttGUjgW1GJN\n",
       "syRISO/VywmdSqwFnVl1ACIIABRjiDxzP5YyPshIgnykk3ybXveyEp5Z98xoBZor0Ek3WugAAimR\n",
       "TBfYocXFohIE6CGe74Aso3AEFQ3PpXOcoj5nWtNwzHR1jvdD6OF1Ool9IhCxwcd8GJNGiZYAkaUH\n",
       "LzcDeuTxiEW9rDBJ1GzQr2ulP/lpSethtNgqTHjuXzkD7yG3oQbpDKVARN8zlXAVxwNQJr9VbXL1\n",
       "Wu1Qc1JcW8YLHio+UjNSaKPx5NJy8bu6JwrprOtbVEatc3m8XHhUfd1IPQ5MXhJ2GDvhKmzDJ9Ca\n",
       "kJ9BG039vzRvgDZcWF+LeRo3dYDLy5YM79LmCmgDVISdBmgUuYECsFU4UPnTxKdIXbrve8bAR3Ae\n",
       "peF+56I/PE052ggZkXJ12WezSrH/GG5nbT9VXgAAAwAE2qgAZjzwgOjYBBydbUysn9SuoK96wOFz\n",
       "5v83XHUX/R8AAAVFQZpFPCGTKYQQ//6qVQAFA9BIABE15yU8InvNMQsenkok5rD3UWTGq17VrAPi\n",
       "QPaP6O06f9PJZ3GEtFmvhEVMPIIypXCcdpXeQYAA1MEYdLYtzcFR/hv7Ps6fdQ1FqqEn2hRBQhmT\n",
       "r/aOjiPezUUDk/k96MNukPwgntzwM8FD2MpMjllFjPjJAs46mv6zRSlmg1QPt7QGMO/nH5yUvG9T\n",
       "iTG4f14DiMAo2UTCdCs5FyH3rCRjpIYs9i2CMw+P9OXzE/Z6jQSRXaBqSGm6OIG5lmRCD3/P8+AV\n",
       "yZgfJwSXr4Up+VSPIXS+GdlXTk/CqvAQbJ2g0figlg92FF1T2ZtsO6aMHmYj7A+NdMQd19Lv4tnq\n",
       "a4FiBxFtLTbk7QpijgueYc/ZmA7xJ701xNkgVM0txOUd46UvwcjE6VFctIPfgHNHAnSDf/hvx/rt\n",
       "YqgoKytWVE7ILEc/fMFRqN1n+R0pATr4f2qc2CVRbeC+m45KIW2WmmUwfdM6DitZ3fbzf+XWdg1+\n",
       "IyK/K5i+QOWGm7Ag8KG9ipXpJtFMmKfBPM5qreThenoxfDpQv2D7Lbtf20QxvxRAwwoLewCLUgeO\n",
       "4dEeXx6FjdxJaM1/kescD9V+R+22x0f5/QPCflYvMxp4p59uibZDVoRaP/A/tYzi3INPlrEWGj8U\n",
       "CvcGwz8IXqG+uMvgF1AHK1xsYtGIH/uHZ+0EPyzgNIGB+Hxk3HmaY1DiePCHKVoPGoij7vKaFetY\n",
       "XN85lCT0py7ovaBq/Is1Rpe3w5gQqf0yj4q/MaP3ey9ocxM5Z0MUhASlEM8VB6D173ERvt7/pXp4\n",
       "2VpWVWXlSgJ50zkdEFD4GAeqcAh24gcig/CVswEHTrmPRmQ7UncrOoBGjq2zj3KPFeKKMuDjL+U/\n",
       "Dt5GbxgakMb19x+Zpdznn6OCmEtvJIST4OvPNk9igDacTjSK2g2mKIPY9deruFRSF+DVbnwwZgN5\n",
       "pavuy1rrHNN6riz1cYZ8W1gsTejrMZVqncv4kqk/So4hmpqNerlRtYNz2M15S1WTnMv/W8+hxkA6\n",
       "QBTTY3UThn21ucONJ8TDdiVBDOBZDf+DKznncfxgdSdNvWw/kcbBKf7wkfSJppUfIjeBVwqQ9L8y\n",
       "S7AC67lBxHkDky3ZM88BEmaeNPPyZedzZ40XKGsAZOA3u3k4h+RuOj4fgYSCLAYgj1yBPLbAyP80\n",
       "JKnw4GPbT2s04vpGEH5YUI5q2ocCl/P53jy6VX16CNF4Ad/Gv2NgLSD4r8yB3h+cZPF27r9vSRG2\n",
       "xL46bb7wB98zVeAAYNRlyeQegg5ZIa68n9siawKfLLPcvrBXyli5DAYpZRY3g0j+egwyGSwGsXR4\n",
       "0fBJjz3Xxs28axIkwYWZpPwRWGclh8drAB/BwbUdgUgZycTz/qbKVlnzzH3Efn6ypAoCMomHKT7q\n",
       "dlD31LtgGRqxFL0ZfUBRiM3deEvkfSX5GyQqbvP/J8It5l3oVSnIcTB7Q4d1ODhV5K3ZIpyx4Fek\n",
       "sW/qsHlxnTEBsq1IIfXTzFdKljGbeP6OurSeSiUiOPvYmCQ9kNond9h+6o/CPWOxdtMRLdO1h1vM\n",
       "uK3dXfAZ/v4LjNXIds2fTNlRmixaqPYKWQYz0OX82Qkx1n+gtpn6rrUluB+q5+FNsp+KFuO4sOua\n",
       "KfZTHfQmaHDelXjdiHGcCZ8BAIbxdsq0QZ1gtV0c1KMN+yeFSMvjxmYIMCLaizWOtn/afXZpj8KT\n",
       "RTCNZGG+XK+8TqhLsd6gZ3gQRkpZ2Rmlh2cr/sAU5KDyDjSAAQMAG+1AnKe25gAAZUEAAARXQZ5j\n",
       "alPDvwAKfh1rhbtUMWDkyEDjNIi9cchwAbVdAL3yHlcHjikcryIaE0XYAuL9h8pdSekPXWBleJYE\n",
       "2Q2jUvPAhZjKBQh2d+/4v1BBXpOVL+jaRx1VuPYwJDuW7pK2aED/r/7aLLDyprJgfgtTwu0qO3bF\n",
       "62FbA6WGYwVQPfHL4Vg08o3hquTUQ9JVCqJ2RHYn/6mP2guuCAofAFULQzHE1mGSEBddJhN2FH3R\n",
       "oMLqjzsvArEmLaNggTPTDM5IMGwRJmXYM7/eZqonGiHEDIGcjX3tQCVsexT4ocL+QV0YHvv4KY1w\n",
       "1jiB+rqvalMbUCzVk/lH92i3Mru712yec3VK2QypB2fo6b7LlsFnGotNsKpFcLy8wpL0Ez2jmEMY\n",
       "oM/N4ZnlnZRrNulFhGsiNG6Rnf9o8Se13gbXOwuZ1wnDEHwsYexeHJ7ELTTd+UX8xiRjj4wylyZ6\n",
       "5bLzfCb/dB08/y07Ac9lB85J2GQvCjozoBvsaZmImyElTNpsHJ1x1IRYI2m6MnM/MMxU5EqoKgjv\n",
       "SCLzMjAc1mJ6yzSCDxBkZbm946uC7hl3JGHnKU9Ei5OthHS/KXeoTNRNuIdxa7pjVFH1z6iC8D3Z\n",
       "nahtryniljgvjBX5dojTbblDE10DYhd3ykdb5emeD2ojo+Z5RxUh58RDBeArC4U/4eJxeT3j0EiT\n",
       "KEgWNIStw3j+oCKmd3+9Ym8ZKhdIv8g80ylBcnme/5ODyIXUOjXtANFJylDCCpKzQ0C4Oh1OsjBm\n",
       "rAkYHCPQj3fqDtO+QNs2Xva0CFAL+nJJDE4tY7pr6FKSMRpLdASzi7RS0DikzlrubNuiA0NqC9ED\n",
       "8uPXeVnnKO2XUyzJVNvymGXInfh/GmBsbglwPgLuzOMTHURT2ZN9ZkQdjblq6o3mBQAHJcSmpozj\n",
       "gtKhBntn4Go3FncUpSiLhqDf5dJ6fr3cOrZ38gy2abY0iPzbTuVj4XT9BWCTH82ZheHZKXegrLRb\n",
       "RuPecWjY6fafIuw7ZP7domLSv56XmJ53KBGyFQahJP4kBh6rnHgAD0e4xSk8izOcZLSCkQrllnZ6\n",
       "/NupCYm4wteef0V3gGcKNU09xgZZMJ0T3CU2v6inb44/1CP69L0S5ys/O2U1SV1foeD5WnM/lHQT\n",
       "FruFW0RMsTop9MKkPAKhlO+kT2fJDfDSlvF5HX+ITMGxCQvptiN1BSh0WdYBsKaMf9//yLcyF6EE\n",
       "x9ktMHGZI7Gqf/mHwJa4nG3cQKuvf5EriFw152zgElWOeu9MChMAYjmhHWp79ewFFvrCaFVh+RlS\n",
       "w2USgoiHNL73qPgiLTbRoXcvb3rsUK6PaYD6k12+jN9KqOxTvCaEm8WhkeqFirBMSNLR+68zIYQ1\n",
       "y2OwutoMV3AP2lRrZJdhtO7g0P0UEC2fdpAstWovKWCkbM2xt9IjZ9i39TdL/XICuoxy9P1ioTWO\n",
       "J4VE2rzTwateo472P/UkuDFacyaX0AAH+AAABKIBnoJ0Q38ADtaedB3/4SbBymniAEpoB1h/4RaS\n",
       "XJ7V+3ekPG8AP2n/xX7C6sLQgwYK28us9FTJnDq7p5Mox+I9e6yGuSm/okL1JNtLJ+FRyAhctFAT\n",
       "XRu7yarXthlrw8NEVs/phce2lAVaqKM4Z4Se1QpwaI3GEk5RDw0U8T86214HYyFH6owdMmOxOWK0\n",
       "CuoR0ICeqszX5T4gUwbSjBV2hLxVpDuxJdxtDZ2UM/DUGTaCjsWxx4jgc2cVNFhu4D6VhUv28u6k\n",
       "Vss7Gmx97Ra5+4hUpS/as4KbwFmam1/bKS3nwuv2+addWPaBdrfg5QjB9qR7B4RM2ZQnEwTA0vn1\n",
       "/8AmIuVW02ed2mDPZYhZ2k1vaAch8QiDjqZFTonXc3JPSBTqRBVdgmSdnYHgdoYTzGEuLojMAKC1\n",
       "CCXjnq4MimHljd82b+wruRbCPKZSR1wdHPqNR4umcrQRLAOE25fe2uSLibcmRIRd0HWz7EAobkls\n",
       "zStvJLUfPZqB8n9d/7B94VyZGXpBSeIrBazQOVrKAsPKtOI06dDTgv7M+OYg9fRMnO1Rtxs5rfRI\n",
       "UFg+nqgXHVkILaBEaH7g4iJoPIKUqGEaMuqjgSrEWvKEivEbrjnMoRkyk6VBzEq2qc3WBsUIq518\n",
       "/D0XPAcsR0GXiF4KogNQ+suvGrI+cKWKzqw+IVzrHeuQk8NFXRPqS9VZRB4lpzlYf5iXL0vd0sfF\n",
       "765uLUNlboctVnxYSBWPY5AOuKXztN1IMcAXp+q/1eqCoBozk0+OEuMoHQUX38Ev1udhQO6C8phj\n",
       "auRd8MxVRkXTD2OrW2sx/urVPAdL5sGeLZ1zC+adwuebN5E4vuVRiiAQZ7LF2vd3nNkej7sAM7kI\n",
       "xufPmRM1J5s2CPAjttAFVBr7konBEHj/Doo+uoOxSsMGG4SySatJwbbO9WL8bi1VbNtQqkuBMSrb\n",
       "w02hHpl62CaZ+RfysByGB3NbTXvk3Tnk3pRSIcEAsLsmKFvViQ9gi4ZRyJdQCDAVMPYPLcTO2zN+\n",
       "00B6vNFYKPLu0Gb8tv18La6XGekqGzGMhVv5OFxLBdAddIgsYwGipWxjvzPi66CbuiedN3XhzH7n\n",
       "FQJgFTB8V6AvaJnBDDXkcPJAa8yj83gfxfOCyAPj/BWFn1whERvpYRmYSwxUgN7uImOlaGM/MeDu\n",
       "LsGOQSxHnfRwsp/fdURUSiboX8v4aPRFiOjVjtqsDJumH/YbvmFdF/QGqUdYlpjSAqeFssVKBWAE\n",
       "u5ZYzFgEbq1yLcGtxilRf1uqJ1D09nBrYjRuoSbEaBt8CyhEZCdcvJO3jr6BH5NdIXlYAhIyABSy\n",
       "6xBz0pihIzGI1LgvygJden1YaNtcqABCup+4U5oVsZ1YA8OnYzuajg3P1MwVTclE6kOuCbRkzxpd\n",
       "bb0TRnGSjN1Y2QDAIWEafQmYdx5rO3gHzOpFyfZMsuLnjPzvZprHhiE2thpbsBSvuiWmdzlaCfRc\n",
       "K2LGtRB9kWcDzRhNxXFpzr7XoRPm+Oy6N6KtJiGYPWByoWT12M9gvbCnFycwOP5MbHhWiUNIV3gX\n",
       "WPsBToomjueLWamLblEAAFbBAAACqAGehGpDfwAO2UZjTZtpC4AQp7xAcAHEEDgzVk4zBD7I6DqZ\n",
       "QKHcngQPOeelsY8OX/eSbqz1QLHWbqTJhI6mnxdq9PDgSLvIaxsBwUI4E+XDwGzoPkQYMXsUS92/\n",
       "JShhdFj6MbYXre2evutnnUOg71X4V1xoN/GDeJxthqsl10aRsHxNzVIBuQ2/gk2Z8aLS1scwNiX0\n",
       "WXQqJfQ1Dn4kQ5xgAo/lNohcjJlDaoWD9kxo3jhK7hk/rnYC1DT4Qo0O/UGdrGPeYwIbBspKqKPE\n",
       "NDyzAlrGtMXlpQzLsONoXWytUu9TtlkuUef+7epixwRC/jqacBtB4F4XzF/t6D79iUMJZzk/0xDA\n",
       "aQRqNs9dzaEl52cnXeWp534P7Tr8CGOb8GP/mo+Zj123HKbwAkEmH8NCCaC5QTMSHWJowkns5GOK\n",
       "StaIoxAK9mhKXRMOfNb6/05LdiStUhF2Z+UhKkd9AIIEXzm2Sf6znET+2AzJ07IboPYolWhnqx62\n",
       "4wNT0cKk2rzPHr4K/Jl9+bQh1jpbSWD8vZzuNnSXuHqg60qEVzFM7SuAFHTr5lDeVRuGvrbDTYzX\n",
       "aQYMLK+MnPtNIvzhTn+fzFEi5Qe1MtdC8WU9vaPYQCWRW0Tk4ZYfRqYk78gDqigntdH0vU4LdyZA\n",
       "TK2SRJEdPnJGPZr3RiN9u4f8blZIncQL25VboWtZRedo6+sBoRCEl0zN/H2O4Bb3TxW93fsu4E/K\n",
       "MD4s+FHLBLUbvZb4mMVKiMtFIRLoeeUNPoR2ovnm366cV6bSRtP9sGjYh367IlFPHWtIIN+NXGa7\n",
       "hNYRbFMhRicMABLwuGswQf5xXDJkwlCjlLUllEXU/P5iIyyMihJ9eOE6p/23J7hI44zddicdhmQJ\n",
       "TkbP0AceJwTktfcu2C0cAAOXAAAENkGahkmoQWiZTAgj//61KoACglP7QAbsjWLKZGrYWwChGJgR\n",
       "b0zyJTEZkZRFo3YLYnWIWSIGljHhHRTPKbADuzDg68ZD2Itfi034u7AP7nwuVd6FjLWe70OUxjWx\n",
       "ISNRHhXgAQEONKcQcTq6XpG2w/bDDbfX2uZmIeVWf+B5erzS7zX26w9VYcEuQTcQD/xHFhFYqwa2\n",
       "gICwbUHEoIeq/W5j6evcFrEB09Zuo3jqXB9Vihz1n/6rF1wHmEseRQlnM1vxMF3kkP1+FVdzQxBU\n",
       "N3f+gmF3odW8OFA6pYOKkmciX6mIuHu8TPC+Uq0Joe0XkIHpcwWxrlWEK0wCo466VLMCz7U3TkGl\n",
       "HOTS4afv3WdQV8SSHLE5MFx+EAfSTKn5MbPWKs0epwvQCU0PnvUM7vjqC6iZe5abTP8VdpqgsaiP\n",
       "4aseKnefl5T9/o+vyCWc01qSgYNu/iKBfcd234rxoZeUKLtvXkWzjAa1OCbmixmqrYUv1oKuM89U\n",
       "APYQI/aZxG45AZ7WswW9ydwxxDcHwgWhPo0lI5qnEnUhMySfMKN0tuZxds7fCy5+R9egL2+DkzG6\n",
       "7q7B7LNFQgWpRXHMxojm5uAI3/y9OENWloliStIQLA93G045b4G+MmyRjs2orsbcV93tRZD1lMbf\n",
       "kT4mReEaoW3hcjIdOMU94IMSo15FnlPob1LSBeGedAgBRkdyTGRtJZVcEBj+QamJ0+28BoUtbsby\n",
       "g4AwLR8qLDbxCa5rce3u2DpndLQskPw3h8M5953NueHhhxtZV7K0y4/jpFOE1gbICCICbvCdXtwm\n",
       "STYMe1jkuuWyUQP5zAYx4hIRNdLXc7VEheaNBZ3OxRt2YQb3u8H9jlCP4ktKztLcvFV10MfdJD1Q\n",
       "GPKadT3pKiPdAYZ0WHA6bCIMTSpfZf/Nsanu76X535RDQo0e76kniBh2/4zrwjgXOGsF6uW6zAfD\n",
       "Jk9cZB0ZXCEWkPfZDZmuOBN08ZuyWT7AJaYwXZ8o5vGDHy20ZRWbrhAg0Tzvd4uSJHguvp/1T9NB\n",
       "VRs5agPdjSfeTXegVv1L9E9u/DSX1TZHkO43T83InxsFY/0l9DdTnfz0ZPTfJcIKfKizSi80+MTy\n",
       "x7NOMRHAq2VOiMIDwBRq2/UkNdGD5G2YpgSxzHAYIKdqX+mWwu4eurDSkWWR0SzGvdKW7jJ/OfAK\n",
       "eHiAshwsosvzUtXzv3bXT8CB5i5uShoUuiawMuNS19bqwQ899/6NJXh5l5FanBKbPaQXZvRFzRXu\n",
       "wIzCusDHymZOfAGw3BgKmswgFyzM4oTLiJtXruZbI85qHDFweIh4r5Yeaf75epTAuRft/06cP4Av\n",
       "Kk0UuXAxAHA5YS9TnogMevkF8yZFYPC9xbbVchgDyoKzPMENreZEqF/uHDnb3KVIVDSkVAULUE3A\n",
       "oP//5KqywNa6820Oxz3gIuEAAASbQZqqSeEKUmUwII///rUqgAKUUOoAG6JKywc+4Zn4nSAx9WlR\n",
       "hOkbApBTi4HE8G04nWoFT+fNE6z5q1Iv0GTNevAzqqEqH/sJzEQxGYUDeWz7SBQb/VKo+uDKcngP\n",
       "gB6tdBdfZ3Zf3doSK23+bwaRj5kx12D7B1jpYAD/Iznsu3qn03fcwcSBJNO0nACl9pcdPuuxBf84\n",
       "3d+RQpxGvIABC+bDZZEoHy/cwOtfZzzWK6nFrAqgIbCRJi5n1cHiQjXVc5hCq6maj7BbwOOauNk2\n",
       "Yn+18501Aj+BPo7BkwUJhooIwNTfuvOFsWopEKlhec6+ZaM38rx9zk1Vq2E8vWTNf/57i08Gwrv3\n",
       "UkiNeKMKEvoP3l3f89uooO908vDcfhiu9jLPZkNi0HFCOUslNYOQfURWDsJhTf4CW9qmEdxyadVp\n",
       "PmYVF7Eci+nMWXrnPtJfU8ehCwSLok4IdHim8LO1NIyTJLK3ABr4WQWvfRnJJCkgqTibtXqE2LTA\n",
       "sJvMjVL4RO92aBmOyPBGw7egIu8jy0HuU4i9H9D3QIm2kI/d18U0wuNBkNi9QV2yGmdQC0ezTIS1\n",
       "TjXqs95G9uJ0wf+QGpcnYfCjtRe1KrGXpUCpDy0snw0kDdJFleKuINOBWs1wp8LGWlnSL+GEv3D9\n",
       "qZQmPDSpC4DM4ybd8CdbXHK7mC/9EuDAWXFyLEz1sP181GLqdf9IYi0azQwm3aiJ0pJSPIPS+oLh\n",
       "3SbmEHpgiSru6mX4LHiuo9Dx5MLCnswaiOhk2aaDv6E4+emr0mkOcN2BiuSL8f2Dg+Oo7qntRKT8\n",
       "LqesKa2W/wv4rBwTuheLpkYZK6lecpdiP0VXs3OaGsLi1rQp1Og3o66P5clxM2x4LTAUW55wDQgF\n",
       "Sdeor//VR/NwAApz1qfLzZxAMBfBaSKSPk8AV/VjbS6zBFZcAyu1kMBLnO/fvrJxR+DOgIvtAz+j\n",
       "JEsGL2Z02rUHIVKjgTViS0+YBfoLSL/+6QLvfdkMVecCLmDi/qeL0KgxgYychHTJFKYLpNBowy78\n",
       "wgDso9yNkRbINB6TaGW5wtcrxkRY8OIosRpTQsBQsenrso3chV5/7a/5L4IDw/YhtdMQjXtA5YDO\n",
       "WEoMTIdKnvX5XrvjSAXgMIof3p2aY7p/vJZtru2SPe3JDhsddOuMnhnNBHc0LgwCeq6D5fwuTirn\n",
       "VSONiO/WOj4yEn4+CFA0q0l0GvfhecCJPuVCeGoJa9jVPHaQ+4x+AtTfwwF9WhY6BPSDDwR2a8v/\n",
       "F5gd8c7NzgjzWvHRSIWQpJrD1Mp3D/DhWoyEYxyXGaoe9u5rS2aA+Mzo7rOLw9+PxMK/x4ouAG83\n",
       "PARU2y+C6l4w4cSmXjpOo+Liink28oFaSNxBd6ZCc0o1WsYA/5/mPUfwW51MiGptTyCOzkswty/X\n",
       "OGVYdOoKaizYdcpl8o+KfMGCIKgI+on6tpPGRGjuHW0p+ECXez3J0BFOVFjEFRIXOLmzM+uDIBcc\n",
       "oypg32fP0gNhQ0chs/agbLGCCwibetHmAURv27RmKp82y5hyM4F8YrsOEU4T//IbR8jbpoCgV4s8\n",
       "so+BAAABXEGeyEU0TDv/AAqbF2g01xaZ2gBLUPnB/XgfgVmvPO50UpWkN8vZHy9gu+didvlFxBoK\n",
       "BvLLVt1Ps/q8Y9R5VxvSkiXIj6harhP7/b8o9yM9gGMI/0CE1hTcQAUaq+ENhBUmnwTDN17i9Wqp\n",
       "3EB1Tge0uikkw3DHw7cY9GJqu468mrvdIwtLG5WNPN1dnnHvAKrvWWe20NiSFD3ZAHcN9lqtsU2q\n",
       "wXtyLNxzfWZ0g2h0GwhX9SqLA0vJWAU7t0W/tYZCwZF/cnbe4wT8TccjVEVI2yj4mK357GZDkMxd\n",
       "O6/mMJXhUW8b+1jPZ4PvV/M33wJn6RjEagXOBGBbG3hFgtQET1q8NaCSAKntDu9V4ASDiYcO9HpS\n",
       "I2HK5kF1C2TDQtNIbRDGmG6fiemyQkti6Y72wmgXhCNIzXTVU0QFH3yLftK9kS5NMAd95mMXRvuS\n",
       "8RJGcrjpsUORUAABbQAAAT8Bnud0Q38ADtb6WB8mJwKhujIg8fotzABtQS42C3bPrKUylrgREN30\n",
       "kxwRodhpkPfijAuhnPaGWqu2X9lcaUm9Xwux6YyNmuJ/5WrzhOBCagVSHn/tYywplNBd/loiaPrB\n",
       "TsLWtO3H7/d8Rosh6e4jCFjHarXeJJqTA4zTIizZhNltsEdmHJR0zqLWiMfgE389/j02EWWluSqs\n",
       "Tvnyc+hmTQbEQKHyl+GfzLS5iSXj5HpXLyj54z0GUvkX0BfXlFjALeHkbezgC8BW1zDjY1wJcG+G\n",
       "4N6Tf5jZ//lZ1PcFeqSouuWs7bYh4FkGRpj9dFPlJkS2Z7w9GMmZ42m5J0I80ReoB763PzBJd3ix\n",
       "tVtEsPj3Nh2xXFIbFEj1v172fZ5LgFA/E8IWZ7Rxozc9DeUHNHr11+prHCFkdGf8AAFbAAAAMgGe\n",
       "6WpDfwAO2Z/9enSsAiC4lusAIFbF2S6dNuMg+NFmjFFio65cIVHJlw3sdp34AAflAAAAyUGa7kmo\n",
       "QWiZTAgh//6qVQACgegkAAWczTyZ2GGsJhUobB97vdnyURHcP4ei4AOayOLtiQFqQT2Hfdh93l1d\n",
       "ROJPRcG7NPhvfJyjgCK9iaxqSu7oJmoE/lEtnKR7TESSEH9wgIPU17xd/fPKs3nOxFZWfLYnw29X\n",
       "x22CQtVSS1ALXFdpyt0gyk6qr/DcE1lSns481vksFPkgpJ9v37viGj7kI6iAgPDskS13a5VVM7rn\n",
       "j2vQO7Tqs8YGsByYIoDiWJ9ownr5mQANmAAAAChBnwxFESw7/wAKfh1XYe5hFuTMqZYcEUd7bAGB\n",
       "V/wFXOZKqaZQAHLAAAAAGQGfK3RDfwAO1p50Hh2wHb112AOzvIAAQ8EAAAAZAZ8takN/AA7ZRHR6\n",
       "N+E3TxRRqxknHAAiYQAAACRBmzJJqEFsmUwId//+qZYABXfgHDE6V6AB/A0liOeaUKAAf4EAAAAn\n",
       "QZ9QRRUsO/8ACpuGHSVgei1Ioe2HXKSgBNMktC1mkFcUoJaAABAwAAAAGQGfb3RDfwAO1p50Hh18\n",
       "TnpCJr3sBugAJ2AAAAAZAZ9xakN/AA7ZRHR6N754fd1/7FsINgAE7QAAABhBm3NJqEFsmUwIb//+\n",
       "p4QABLVB7WAAD0gAAAQXbW9vdgAAAGxtdmhkAAAAAAAAAAAAAAAAAAAD6AAAB9AAAQAAAQAAAAAA\n",
       "AAAAAAAAAAEAAAAAAAAAAAAAAAAAAAABAAAAAAAAAAAAAAAAAABAAAAAAAAAAAAAAAAAAAAAAAAA\n",
       "AAAAAAAAAAAAAAAAAgAAA0F0cmFrAAAAXHRraGQAAAADAAAAAAAAAAAAAAABAAAAAAAAB9AAAAAA\n",
       "AAAAAAAAAAAAAAAAAAEAAAAAAAAAAAAAAAAAAAABAAAAAAAAAAAAAAAAAABAAAAAAfQAAAGQAAAA\n",
       "AAAkZWR0cwAAABxlbHN0AAAAAAAAAAEAAAfQAAAIAAABAAAAAAK5bWRpYQAAACBtZGhkAAAAAAAA\n",
       "AAAAAAAAAAAoAAAAUABVxAAAAAAALWhkbHIAAAAAAAAAAHZpZGUAAAAAAAAAAAAAAABWaWRlb0hh\n",
       "bmRsZXIAAAACZG1pbmYAAAAUdm1oZAAAAAEAAAAAAAAAAAAAACRkaW5mAAAAHGRyZWYAAAAAAAAA\n",
       "AQAAAAx1cmwgAAAAAQAAAiRzdGJsAAAAtHN0c2QAAAAAAAAAAQAAAKRhdmMxAAAAAAAAAAEAAAAA\n",
       "AAAAAAAAAAAAAAAAAfQBkABIAAAASAAAAAAAAAABAAAAAAAAAAAAAAAAAAAAAAAAAAAAAAAAAAAA\n",
       "AAAAAAAAGP//AAAAMmF2Y0MBZAAW/+EAGWdkABas2UCAM+fhAAADAAEAAAMAFA8WLZYBAAZo6+PL\n",
       "IsAAAAAcdXVpZGtoQPJfJE/FujmlG88DI/MAAAAAAAAAGHN0dHMAAAAAAAAAAQAAABQAAAQAAAAA\n",
       "FHN0c3MAAAAAAAAAAQAAAAEAAACoY3R0cwAAAAAAAAATAAAAAgAACAAAAAABAAAUAAAAAAEAAAgA\n",
       "AAAAAQAAAAAAAAABAAAEAAAAAAEAAAgAAAAAAQAAFAAAAAABAAAIAAAAAAEAAAAAAAAAAQAABAAA\n",
       "AAABAAAUAAAAAAEAAAgAAAAAAQAAAAAAAAABAAAEAAAAAAEAABQAAAAAAQAACAAAAAABAAAAAAAA\n",
       "AAEAAAQAAAAAAQAACAAAAAAcc3RzYwAAAAAAAAABAAAAAQAAABQAAAABAAAAZHN0c3oAAAAAAAAA\n",
       "AAAAABQAAB0mAAAEjgAABUkAAARbAAAEpgAAAqwAAAQ6AAAEnwAAAWAAAAFDAAAANgAAAM0AAAAs\n",
       "AAAAHQAAAB0AAAAoAAAAKwAAAB0AAAAdAAAAHAAAABRzdGNvAAAAAAAAAAEAAAAsAAAAYnVkdGEA\n",
       "AABabWV0YQAAAAAAAAAhaGRscgAAAAAAAAAAbWRpcmFwcGwAAAAAAAAAAAAAAAAtaWxzdAAAACWp\n",
       "dG9vAAAAHWRhdGEAAAABAAAAAExhdmY1OC4xMi4xMDA=\n",
       "\">\n",
       "  Your browser does not support the video tag.\n",
       "</video>"
      ],
      "text/plain": [
       "<matplotlib.animation.FuncAnimation at 0x7f550bf1ffd0>"
      ]
     },
     "execution_count": 23,
     "metadata": {},
     "output_type": "execute_result"
    }
   ],
   "source": [
    "fig = plt.figure(dpi=100, figsize=(5,4))\n",
    "plt.scatter(x,y)\n",
    "line, = plt.plot(x,lin(a_guess,b_guess,x))\n",
    "plt.close()\n",
    "\n",
    "def animate(i):\n",
    "    line.set_ydata(lin(a_guess,b_guess,x))\n",
    "    for i in range(30): upd()\n",
    "    return line, \n",
    "\n",
    "ani = animation.FuncAnimation(fig, animate, np.arange(0,20), interval=100)\n",
    "ani"
   ]
  },
  {
   "cell_type": "code",
   "execution_count": null,
   "metadata": {},
   "outputs": [],
   "source": []
  }
 ],
 "metadata": {
  "kernelspec": {
   "display_name": "Python 3",
   "language": "python",
   "name": "python3"
  },
  "language_info": {
   "codemirror_mode": {
    "name": "ipython",
    "version": 3
   },
   "file_extension": ".py",
   "mimetype": "text/x-python",
   "name": "python",
   "nbconvert_exporter": "python",
   "pygments_lexer": "ipython3",
   "version": "3.6.6"
  },
  "toc": {
   "base_numbering": 1,
   "nav_menu": {},
   "number_sections": true,
   "sideBar": true,
   "skip_h1_title": false,
   "title_cell": "Table of Contents",
   "title_sidebar": "Contents",
   "toc_cell": false,
   "toc_position": {},
   "toc_section_display": true,
   "toc_window_display": false
  }
 },
 "nbformat": 4,
 "nbformat_minor": 2
}
