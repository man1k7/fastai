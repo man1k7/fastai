{
 "cells": [
  {
   "cell_type": "code",
   "execution_count": 2,
   "metadata": {},
   "outputs": [],
   "source": [
    "#add these to top of notebook to reload and to plot inlnie\n",
    "%reload_ext autoreload\n",
    "%autoreload 2\n",
    "%matplotlib inline"
   ]
  },
  {
   "cell_type": "code",
   "execution_count": 118,
   "metadata": {},
   "outputs": [],
   "source": [
    "#import the libraries\n",
    "from fastai.imports import *\n",
    "from fastai.transforms import *\n",
    "from fastai.conv_learner import *\n",
    "from fastai.model import *\n",
    "from fastai.dataset import *\n",
    "from fastai.sgdr import *\n",
    "from fastai.plots import *\n",
    "from IPython.display import display"
   ]
  },
  {
   "cell_type": "markdown",
   "metadata": {},
   "source": [
    "Set the path to the folder where the training data set is downloaded from Kaggle. Size is set to 224 as resnet is optiized for that size. We use resnext101_64 architecture for this training.\n",
    "batch size is set to 16 and can be altered as per memory requirements"
   ]
  },
  {
   "cell_type": "code",
   "execution_count": 4,
   "metadata": {},
   "outputs": [],
   "source": [
    "# initialize variables\n",
    "PATH = '/fastai/data/dogbreed/'\n",
    "sz = 224\n",
    "arch = resnext101_64\n",
    "bs = 16"
   ]
  },
  {
   "cell_type": "markdown",
   "metadata": {},
   "source": [
    "some code to set and check cuda device number"
   ]
  },
  {
   "cell_type": "code",
   "execution_count": 5,
   "metadata": {},
   "outputs": [],
   "source": [
    "torch.cuda.set_device(1)"
   ]
  },
  {
   "cell_type": "code",
   "execution_count": 6,
   "metadata": {},
   "outputs": [
    {
     "data": {
      "text/plain": [
       "1"
      ]
     },
     "execution_count": 6,
     "metadata": {},
     "output_type": "execute_result"
    }
   ],
   "source": [
    "torch.cuda.current_device()"
   ]
  },
  {
   "cell_type": "markdown",
   "metadata": {},
   "source": [
    "List the path and check the files"
   ]
  },
  {
   "cell_type": "code",
   "execution_count": 7,
   "metadata": {
    "scrolled": true
   },
   "outputs": [
    {
     "name": "stdout",
     "output_type": "stream",
     "text": [
      "labels.csv\tsample_submission.csv\t   test      tmp    train.zip\r\n",
      "labels.csv.zip\tsample_submission.csv.zip  test.zip  train\r\n"
     ]
    }
   ],
   "source": [
    "!ls {PATH}"
   ]
  },
  {
   "cell_type": "markdown",
   "metadata": {},
   "source": [
    "For this dataset the file name and labels are in the csv. unlike folder based classification so we load the labels file and use the indexes of labels to split them into training and cross validation (cv) indexes get cross validation indexes would randomly fetch 20% of idxs from the whole list"
   ]
  },
  {
   "cell_type": "code",
   "execution_count": 8,
   "metadata": {},
   "outputs": [
    {
     "data": {
      "text/plain": [
       "10222"
      ]
     },
     "execution_count": 8,
     "metadata": {},
     "output_type": "execute_result"
    }
   ],
   "source": [
    "label_csv = f'{PATH}labels.csv'\n",
    "n = len(list(open(label_csv)))-1\n",
    "val_idxs = get_cv_idxs(n)\n",
    "\n",
    "n"
   ]
  },
  {
   "cell_type": "code",
   "execution_count": 9,
   "metadata": {},
   "outputs": [
    {
     "data": {
      "text/plain": [
       "2044"
      ]
     },
     "execution_count": 9,
     "metadata": {},
     "output_type": "execute_result"
    }
   ],
   "source": [
    "len(val_idxs)"
   ]
  },
  {
   "cell_type": "code",
   "execution_count": 10,
   "metadata": {},
   "outputs": [
    {
     "data": {
      "text/plain": [
       "array([2882, 4514, 7717, ..., 8922, 6774,   37])"
      ]
     },
     "execution_count": 10,
     "metadata": {},
     "output_type": "execute_result"
    }
   ],
   "source": [
    "val_idxs"
   ]
  },
  {
   "cell_type": "markdown",
   "metadata": {},
   "source": [
    "we read the lavels csv file use pandas which provides a pandas dataframe. then we print some rows to test"
   ]
  },
  {
   "cell_type": "code",
   "execution_count": 11,
   "metadata": {},
   "outputs": [
    {
     "data": {
      "text/html": [
       "<div>\n",
       "<style scoped>\n",
       "    .dataframe tbody tr th:only-of-type {\n",
       "        vertical-align: middle;\n",
       "    }\n",
       "\n",
       "    .dataframe tbody tr th {\n",
       "        vertical-align: top;\n",
       "    }\n",
       "\n",
       "    .dataframe thead th {\n",
       "        text-align: right;\n",
       "    }\n",
       "</style>\n",
       "<table border=\"1\" class=\"dataframe\">\n",
       "  <thead>\n",
       "    <tr style=\"text-align: right;\">\n",
       "      <th></th>\n",
       "      <th>id</th>\n",
       "      <th>breed</th>\n",
       "    </tr>\n",
       "  </thead>\n",
       "  <tbody>\n",
       "    <tr>\n",
       "      <th>0</th>\n",
       "      <td>000bec180eb18c7604dcecc8fe0dba07</td>\n",
       "      <td>boston_bull</td>\n",
       "    </tr>\n",
       "    <tr>\n",
       "      <th>1</th>\n",
       "      <td>001513dfcb2ffafc82cccf4d8bbaba97</td>\n",
       "      <td>dingo</td>\n",
       "    </tr>\n",
       "    <tr>\n",
       "      <th>2</th>\n",
       "      <td>001cdf01b096e06d78e9e5112d419397</td>\n",
       "      <td>pekinese</td>\n",
       "    </tr>\n",
       "    <tr>\n",
       "      <th>3</th>\n",
       "      <td>00214f311d5d2247d5dfe4fe24b2303d</td>\n",
       "      <td>bluetick</td>\n",
       "    </tr>\n",
       "    <tr>\n",
       "      <th>4</th>\n",
       "      <td>0021f9ceb3235effd7fcde7f7538ed62</td>\n",
       "      <td>golden_retriever</td>\n",
       "    </tr>\n",
       "  </tbody>\n",
       "</table>\n",
       "</div>"
      ],
      "text/plain": [
       "                                 id             breed\n",
       "0  000bec180eb18c7604dcecc8fe0dba07       boston_bull\n",
       "1  001513dfcb2ffafc82cccf4d8bbaba97             dingo\n",
       "2  001cdf01b096e06d78e9e5112d419397          pekinese\n",
       "3  00214f311d5d2247d5dfe4fe24b2303d          bluetick\n",
       "4  0021f9ceb3235effd7fcde7f7538ed62  golden_retriever"
      ]
     },
     "execution_count": 11,
     "metadata": {},
     "output_type": "execute_result"
    }
   ],
   "source": [
    "label_df = pd.read_csv(label_csv)\n",
    "label_df.head()"
   ]
  },
  {
   "cell_type": "markdown",
   "metadata": {},
   "source": [
    "Then we pivot the dataframe to group data by breed and count numbers its a typical groupby function. We sort them descendig to find the most number of samples in this case its scottish_deerhound which has 126 records"
   ]
  },
  {
   "cell_type": "code",
   "execution_count": 12,
   "metadata": {},
   "outputs": [
    {
     "data": {
      "text/html": [
       "<div>\n",
       "<style scoped>\n",
       "    .dataframe tbody tr th:only-of-type {\n",
       "        vertical-align: middle;\n",
       "    }\n",
       "\n",
       "    .dataframe tbody tr th {\n",
       "        vertical-align: top;\n",
       "    }\n",
       "\n",
       "    .dataframe thead th {\n",
       "        text-align: right;\n",
       "    }\n",
       "</style>\n",
       "<table border=\"1\" class=\"dataframe\">\n",
       "  <thead>\n",
       "    <tr style=\"text-align: right;\">\n",
       "      <th></th>\n",
       "      <th>id</th>\n",
       "    </tr>\n",
       "    <tr>\n",
       "      <th>breed</th>\n",
       "      <th></th>\n",
       "    </tr>\n",
       "  </thead>\n",
       "  <tbody>\n",
       "    <tr>\n",
       "      <th>scottish_deerhound</th>\n",
       "      <td>126</td>\n",
       "    </tr>\n",
       "    <tr>\n",
       "      <th>maltese_dog</th>\n",
       "      <td>117</td>\n",
       "    </tr>\n",
       "    <tr>\n",
       "      <th>afghan_hound</th>\n",
       "      <td>116</td>\n",
       "    </tr>\n",
       "    <tr>\n",
       "      <th>entlebucher</th>\n",
       "      <td>115</td>\n",
       "    </tr>\n",
       "    <tr>\n",
       "      <th>bernese_mountain_dog</th>\n",
       "      <td>114</td>\n",
       "    </tr>\n",
       "    <tr>\n",
       "      <th>shih-tzu</th>\n",
       "      <td>112</td>\n",
       "    </tr>\n",
       "    <tr>\n",
       "      <th>great_pyrenees</th>\n",
       "      <td>111</td>\n",
       "    </tr>\n",
       "    <tr>\n",
       "      <th>pomeranian</th>\n",
       "      <td>111</td>\n",
       "    </tr>\n",
       "    <tr>\n",
       "      <th>basenji</th>\n",
       "      <td>110</td>\n",
       "    </tr>\n",
       "    <tr>\n",
       "      <th>samoyed</th>\n",
       "      <td>109</td>\n",
       "    </tr>\n",
       "    <tr>\n",
       "      <th>airedale</th>\n",
       "      <td>107</td>\n",
       "    </tr>\n",
       "    <tr>\n",
       "      <th>tibetan_terrier</th>\n",
       "      <td>107</td>\n",
       "    </tr>\n",
       "    <tr>\n",
       "      <th>leonberg</th>\n",
       "      <td>106</td>\n",
       "    </tr>\n",
       "    <tr>\n",
       "      <th>cairn</th>\n",
       "      <td>106</td>\n",
       "    </tr>\n",
       "    <tr>\n",
       "      <th>beagle</th>\n",
       "      <td>105</td>\n",
       "    </tr>\n",
       "    <tr>\n",
       "      <th>japanese_spaniel</th>\n",
       "      <td>105</td>\n",
       "    </tr>\n",
       "    <tr>\n",
       "      <th>australian_terrier</th>\n",
       "      <td>102</td>\n",
       "    </tr>\n",
       "    <tr>\n",
       "      <th>blenheim_spaniel</th>\n",
       "      <td>102</td>\n",
       "    </tr>\n",
       "    <tr>\n",
       "      <th>miniature_pinscher</th>\n",
       "      <td>102</td>\n",
       "    </tr>\n",
       "    <tr>\n",
       "      <th>irish_wolfhound</th>\n",
       "      <td>101</td>\n",
       "    </tr>\n",
       "    <tr>\n",
       "      <th>lakeland_terrier</th>\n",
       "      <td>99</td>\n",
       "    </tr>\n",
       "    <tr>\n",
       "      <th>saluki</th>\n",
       "      <td>99</td>\n",
       "    </tr>\n",
       "    <tr>\n",
       "      <th>papillon</th>\n",
       "      <td>96</td>\n",
       "    </tr>\n",
       "    <tr>\n",
       "      <th>whippet</th>\n",
       "      <td>95</td>\n",
       "    </tr>\n",
       "    <tr>\n",
       "      <th>siberian_husky</th>\n",
       "      <td>95</td>\n",
       "    </tr>\n",
       "    <tr>\n",
       "      <th>norwegian_elkhound</th>\n",
       "      <td>95</td>\n",
       "    </tr>\n",
       "    <tr>\n",
       "      <th>pug</th>\n",
       "      <td>94</td>\n",
       "    </tr>\n",
       "    <tr>\n",
       "      <th>chow</th>\n",
       "      <td>93</td>\n",
       "    </tr>\n",
       "    <tr>\n",
       "      <th>italian_greyhound</th>\n",
       "      <td>92</td>\n",
       "    </tr>\n",
       "    <tr>\n",
       "      <th>pembroke</th>\n",
       "      <td>92</td>\n",
       "    </tr>\n",
       "    <tr>\n",
       "      <th>...</th>\n",
       "      <td>...</td>\n",
       "    </tr>\n",
       "    <tr>\n",
       "      <th>german_short-haired_pointer</th>\n",
       "      <td>75</td>\n",
       "    </tr>\n",
       "    <tr>\n",
       "      <th>boxer</th>\n",
       "      <td>75</td>\n",
       "    </tr>\n",
       "    <tr>\n",
       "      <th>bull_mastiff</th>\n",
       "      <td>75</td>\n",
       "    </tr>\n",
       "    <tr>\n",
       "      <th>borzoi</th>\n",
       "      <td>75</td>\n",
       "    </tr>\n",
       "    <tr>\n",
       "      <th>pekinese</th>\n",
       "      <td>75</td>\n",
       "    </tr>\n",
       "    <tr>\n",
       "      <th>cocker_spaniel</th>\n",
       "      <td>74</td>\n",
       "    </tr>\n",
       "    <tr>\n",
       "      <th>american_staffordshire_terrier</th>\n",
       "      <td>74</td>\n",
       "    </tr>\n",
       "    <tr>\n",
       "      <th>doberman</th>\n",
       "      <td>74</td>\n",
       "    </tr>\n",
       "    <tr>\n",
       "      <th>brittany_spaniel</th>\n",
       "      <td>73</td>\n",
       "    </tr>\n",
       "    <tr>\n",
       "      <th>malinois</th>\n",
       "      <td>73</td>\n",
       "    </tr>\n",
       "    <tr>\n",
       "      <th>standard_schnauzer</th>\n",
       "      <td>72</td>\n",
       "    </tr>\n",
       "    <tr>\n",
       "      <th>flat-coated_retriever</th>\n",
       "      <td>72</td>\n",
       "    </tr>\n",
       "    <tr>\n",
       "      <th>redbone</th>\n",
       "      <td>72</td>\n",
       "    </tr>\n",
       "    <tr>\n",
       "      <th>border_collie</th>\n",
       "      <td>72</td>\n",
       "    </tr>\n",
       "    <tr>\n",
       "      <th>curly-coated_retriever</th>\n",
       "      <td>72</td>\n",
       "    </tr>\n",
       "    <tr>\n",
       "      <th>kuvasz</th>\n",
       "      <td>71</td>\n",
       "    </tr>\n",
       "    <tr>\n",
       "      <th>chihuahua</th>\n",
       "      <td>71</td>\n",
       "    </tr>\n",
       "    <tr>\n",
       "      <th>soft-coated_wheaten_terrier</th>\n",
       "      <td>71</td>\n",
       "    </tr>\n",
       "    <tr>\n",
       "      <th>french_bulldog</th>\n",
       "      <td>70</td>\n",
       "    </tr>\n",
       "    <tr>\n",
       "      <th>vizsla</th>\n",
       "      <td>70</td>\n",
       "    </tr>\n",
       "    <tr>\n",
       "      <th>tibetan_mastiff</th>\n",
       "      <td>69</td>\n",
       "    </tr>\n",
       "    <tr>\n",
       "      <th>german_shepherd</th>\n",
       "      <td>69</td>\n",
       "    </tr>\n",
       "    <tr>\n",
       "      <th>giant_schnauzer</th>\n",
       "      <td>69</td>\n",
       "    </tr>\n",
       "    <tr>\n",
       "      <th>walker_hound</th>\n",
       "      <td>69</td>\n",
       "    </tr>\n",
       "    <tr>\n",
       "      <th>otterhound</th>\n",
       "      <td>69</td>\n",
       "    </tr>\n",
       "    <tr>\n",
       "      <th>golden_retriever</th>\n",
       "      <td>67</td>\n",
       "    </tr>\n",
       "    <tr>\n",
       "      <th>brabancon_griffon</th>\n",
       "      <td>67</td>\n",
       "    </tr>\n",
       "    <tr>\n",
       "      <th>komondor</th>\n",
       "      <td>67</td>\n",
       "    </tr>\n",
       "    <tr>\n",
       "      <th>briard</th>\n",
       "      <td>66</td>\n",
       "    </tr>\n",
       "    <tr>\n",
       "      <th>eskimo_dog</th>\n",
       "      <td>66</td>\n",
       "    </tr>\n",
       "  </tbody>\n",
       "</table>\n",
       "<p>120 rows × 1 columns</p>\n",
       "</div>"
      ],
      "text/plain": [
       "                                 id\n",
       "breed                              \n",
       "scottish_deerhound              126\n",
       "maltese_dog                     117\n",
       "afghan_hound                    116\n",
       "entlebucher                     115\n",
       "bernese_mountain_dog            114\n",
       "shih-tzu                        112\n",
       "great_pyrenees                  111\n",
       "pomeranian                      111\n",
       "basenji                         110\n",
       "samoyed                         109\n",
       "airedale                        107\n",
       "tibetan_terrier                 107\n",
       "leonberg                        106\n",
       "cairn                           106\n",
       "beagle                          105\n",
       "japanese_spaniel                105\n",
       "australian_terrier              102\n",
       "blenheim_spaniel                102\n",
       "miniature_pinscher              102\n",
       "irish_wolfhound                 101\n",
       "lakeland_terrier                 99\n",
       "saluki                           99\n",
       "papillon                         96\n",
       "whippet                          95\n",
       "siberian_husky                   95\n",
       "norwegian_elkhound               95\n",
       "pug                              94\n",
       "chow                             93\n",
       "italian_greyhound                92\n",
       "pembroke                         92\n",
       "...                             ...\n",
       "german_short-haired_pointer      75\n",
       "boxer                            75\n",
       "bull_mastiff                     75\n",
       "borzoi                           75\n",
       "pekinese                         75\n",
       "cocker_spaniel                   74\n",
       "american_staffordshire_terrier   74\n",
       "doberman                         74\n",
       "brittany_spaniel                 73\n",
       "malinois                         73\n",
       "standard_schnauzer               72\n",
       "flat-coated_retriever            72\n",
       "redbone                          72\n",
       "border_collie                    72\n",
       "curly-coated_retriever           72\n",
       "kuvasz                           71\n",
       "chihuahua                        71\n",
       "soft-coated_wheaten_terrier      71\n",
       "french_bulldog                   70\n",
       "vizsla                           70\n",
       "tibetan_mastiff                  69\n",
       "german_shepherd                  69\n",
       "giant_schnauzer                  69\n",
       "walker_hound                     69\n",
       "otterhound                       69\n",
       "golden_retriever                 67\n",
       "brabancon_griffon                67\n",
       "komondor                         67\n",
       "briard                           66\n",
       "eskimo_dog                       66\n",
       "\n",
       "[120 rows x 1 columns]"
      ]
     },
     "execution_count": 12,
     "metadata": {},
     "output_type": "execute_result"
    }
   ],
   "source": [
    "label_df.pivot_table(index=\"breed\",aggfunc=len).sort_values('id',ascending=False)"
   ]
  },
  {
   "cell_type": "markdown",
   "metadata": {},
   "source": [
    "create a transformation model to augment the images we zoom by 1.1 and augment by transforming sideOn. This provides more images in different side positions to sample and to learn"
   ]
  },
  {
   "cell_type": "code",
   "execution_count": 13,
   "metadata": {},
   "outputs": [],
   "source": [
    "tfms = tfms_from_model(arch,sz,aug_tfms=transforms_side_on,max_zoom=1.1)"
   ]
  },
  {
   "cell_type": "markdown",
   "metadata": {},
   "source": [
    "Build the classifier from CSV this time and pass the training folder name, the list of labels in csv and test folder name, the validation sets. We also pass the suffix since the labels csv does not have the image name in full. We pass the transformations and batch size. The object classifier becomes the data object"
   ]
  },
  {
   "cell_type": "code",
   "execution_count": 14,
   "metadata": {},
   "outputs": [],
   "source": [
    "data= ImageClassifierData.from_csv(PATH,'train',f'{PATH}labels.csv',\n",
    "                                   test_name='test',val_idxs=val_idxs,suffix='.jpg',\n",
    "                                   tfms=tfms,bs=bs)"
   ]
  },
  {
   "cell_type": "markdown",
   "metadata": {},
   "source": [
    "Now lets access the data and check it. Data object has trn_ds for all training data set and it has property fnames for file names. "
   ]
  },
  {
   "cell_type": "code",
   "execution_count": 17,
   "metadata": {},
   "outputs": [
    {
     "data": {
      "text/plain": [
       "'/fastai/data/dogbreed/train/00792e341f3c6eb33663e415d0715370.jpg'"
      ]
     },
     "execution_count": 17,
     "metadata": {},
     "output_type": "execute_result"
    }
   ],
   "source": [
    "fn = PATH + data.trn_ds.fnames[9];fn"
   ]
  },
  {
   "cell_type": "markdown",
   "metadata": {},
   "source": [
    "Open the image and see"
   ]
  },
  {
   "cell_type": "code",
   "execution_count": 18,
   "metadata": {},
   "outputs": [
    {
     "data": {
      "image/png": "[encoded data removed]",
      "text/plain": [
       "<PIL.JpegImagePlugin.JpegImageFile image mode=RGB size=200x192 at 0x7F1404C84358>"
      ]
     },
     "execution_count": 18,
     "metadata": {},
     "output_type": "execute_result"
    }
   ],
   "source": [
    "img = PIL.Image.open(fn);img"
   ]
  },
  {
   "cell_type": "markdown",
   "metadata": {},
   "source": [
    "Then check image sizes, if large then it may not be optimal so if its small. Since Resnet and Imagenet are optimized for 224X224 or 299X299 sizes we need to check that"
   ]
  },
  {
   "cell_type": "code",
   "execution_count": 19,
   "metadata": {
    "scrolled": true
   },
   "outputs": [
    {
     "data": {
      "text/plain": [
       "(200, 192)"
      ]
     },
     "execution_count": 19,
     "metadata": {},
     "output_type": "execute_result"
    }
   ],
   "source": [
    "img.size"
   ]
  },
  {
   "cell_type": "markdown",
   "metadata": {},
   "source": [
    "Now we create a data dictionary with key/valye filename/size"
   ]
  },
  {
   "cell_type": "code",
   "execution_count": 20,
   "metadata": {},
   "outputs": [],
   "source": [
    "size_d = {k: PIL.Image.open(PATH+k).size for k in data.trn_ds.fnames}"
   ]
  },
  {
   "cell_type": "code",
   "execution_count": 21,
   "metadata": {},
   "outputs": [
    {
     "data": {
      "text/plain": [
       "dict_values([(500, 375), (500, 375), (500, 500), (500, 375), (500, 470), (231, 227), (500, 332), (402, 343), (250, 223), (200, 192), (374, 212), (333, 500), (500, 375), (390, 320), (400, 346), (200, 280), (500, 375), (375, 500), (500, 333), (300, 257), (450, 338), (500, 375), (594, 407), (375, 500), (400, 293), (500, 375), (350, 257), (401, 500), (500, 333), (500, 375), (500, 500), (500, 375), (500, 333), (500, 375), (288, 288), (500, 375), (350, 332), (500, 375), (300, 208), (360, 315), (337, 500), (200, 280), (500, 500), (500, 358), (405, 500), (500, 375), (500, 333), (500, 329), (500, 375), (500, 375), (500, 333), (500, 375), (500, 333), (500, 375), (334, 500), (500, 375), (500, 500), (450, 443), (360, 337), (500, 294), (500, 350), (500, 375), (500, 375), (500, 334), (500, 390), (500, 375), (500, 375), (500, 375), (500, 375), (500, 360), (500, 375), (500, 378), (500, 500), (363, 500), (500, 375), (333, 500), (500, 333), (500, 375), (591, 394), (500, 338), (500, 389), (196, 336), (320, 240), (650, 478), (400, 306), (375, 500), (500, 375), (500, 375), (223, 236), (500, 382), (349, 500), (296, 360), (500, 375), (500, 375), (604, 453), (500, 375), (500, 375), (500, 375), (230, 261), (800, 490), (500, 333), (500, 381), (500, 375), (500, 375), (500, 375), (500, 330), (500, 333), (500, 375), (500, 375), (500, 375), (375, 500), (355, 320), (500, 382), (357, 500), (500, 398), (333, 480), (184, 184), (384, 500), (500, 333), (200, 156), (322, 500), (500, 375), (350, 262), (333, 500), (500, 332), (500, 400), (500, 333), (375, 500), (350, 344), (325, 299), (375, 500), (375, 500), (150, 160), (500, 375), (500, 389), (357, 500), (200, 200), (413, 500), (616, 554), (500, 347), (450, 405), (244, 180), (500, 375), (500, 333), (270, 300), (500, 375), (500, 333), (250, 338), (219, 360), (350, 349), (500, 436), (480, 361), (369, 315), (300, 232), (494, 500), (266, 163), (500, 333), (500, 375), (375, 500), (500, 374), (350, 343), (333, 500), (375, 500), (800, 604), (500, 333), (500, 400), (500, 375), (400, 374), (500, 375), (500, 375), (324, 500), (500, 375), (250, 243), (500, 375), (200, 140), (500, 374), (281, 500), (219, 293), (500, 426), (500, 375), (500, 375), (500, 375), (375, 500), (333, 500), (367, 420), (500, 333), (375, 500), (500, 331), (333, 500), (480, 360), (332, 500), (331, 500), (500, 439), (500, 375), (398, 500), (500, 333), (377, 350), (288, 342), (500, 375), (500, 333), (480, 272), (400, 262), (500, 358), (500, 375), (720, 480), (500, 357), (200, 331), (375, 500), (500, 375), (160, 146), (397, 500), (500, 375), (375, 500), (500, 375), (500, 375), (375, 500), (500, 375), (500, 375), (357, 500), (250, 197), (500, 332), (170, 200), (500, 375), (500, 333), (500, 375), (500, 375), (190, 175), (375, 500), (500, 333), (500, 375), (500, 375), (375, 500), (500, 330), (479, 500), (500, 375), (400, 300), (500, 500), (345, 500), (267, 500), (500, 333), (283, 191), (500, 375), (500, 329), (463, 500), (300, 250), (357, 500), (500, 375), (500, 375), (310, 404), (500, 434), (500, 333), (500, 375), (333, 500), (500, 357), (500, 375), (374, 500), (356, 500), (500, 478), (500, 338), (500, 400), (333, 500), (190, 144), (500, 375), (250, 309), (367, 500), (399, 600), (293, 437), (305, 275), (500, 375), (333, 500), (500, 500), (480, 360), (500, 375), (480, 360), (500, 332), (500, 332), (382, 500), (500, 375), (500, 375), (500, 375), (333, 500), (500, 375), (500, 333), (500, 319), (380, 229), (500, 375), (466, 500), (500, 375), (334, 500), (800, 532), (500, 333), (200, 231), (500, 334), (500, 375), (450, 366), (194, 150), (500, 375), (500, 333), (500, 375), (360, 479), (210, 210), (170, 205), (350, 456), (374, 500), (500, 447), (333, 500), (500, 306), (375, 500), (500, 375), (600, 512), (333, 500), (375, 500), (500, 375), (203, 211), (500, 333), (400, 500), (333, 500), (500, 375), (333, 500), (500, 412), (497, 499), (500, 337), (500, 375), (320, 240), (500, 283), (500, 375), (340, 414), (500, 375), (500, 375), (268, 201), (500, 375), (500, 333), (375, 500), (500, 375), (393, 500), (640, 427), (400, 267), (369, 500), (500, 422), (500, 333), (401, 500), (500, 333), (500, 500), (600, 498), (350, 300), (500, 375), (367, 242), (500, 333), (500, 375), (453, 500), (500, 334), (205, 143), (550, 600), (245, 200), (333, 500), (500, 375), (200, 312), (500, 375), (500, 375), (500, 333), (500, 333), (500, 335), (500, 375), (307, 232), (500, 375), (808, 537), (335, 500), (500, 375), (234, 350), (500, 406), (500, 372), (500, 492), (640, 480), (428, 451), (500, 376), (300, 433), (334, 500), (500, 333), (200, 277), (500, 378), (375, 500), (500, 375), (375, 500), (2097, 1910), (500, 334), (500, 375), (190, 151), (375, 500), (500, 333), (334, 500), (500, 236), (500, 375), (500, 325), (500, 333), (357, 500), (375, 500), (251, 350), (500, 375), (300, 225), (500, 375), (357, 500), (449, 231), (334, 500), (500, 375), (435, 594), (500, 333), (500, 375), (400, 539), (500, 375), (500, 333), (500, 375), (190, 286), (500, 348), (500, 375), (487, 500), (250, 188), (305, 230), (500, 375), (400, 286), (500, 334), (200, 150), (500, 333), (500, 334), (333, 500), (500, 334), (500, 333), (512, 514), (375, 500), (500, 375), (500, 445), (375, 500), (308, 550), (210, 201), (500, 375), (500, 333), (500, 375), (500, 319), (500, 375), (500, 332), (500, 375), (500, 332), (500, 375), (500, 486), (395, 500), (500, 333), (500, 375), (500, 375), (500, 500), (333, 500), (500, 334), (200, 293), (364, 500), (375, 500), (500, 332), (500, 375), (357, 500), (396, 500), (850, 638), (332, 500), (196, 211), (374, 500), (400, 600), (500, 333), (450, 338), (232, 332), (375, 500), (500, 333), (500, 461), (500, 375), (500, 375), (358, 305), (500, 375), (250, 188), (500, 375), (480, 640), (500, 335), (500, 375), (500, 375), (333, 500), (500, 375), (500, 392), (500, 333), (374, 500), (437, 500), (500, 334), (500, 375), (150, 202), (500, 429), (500, 375), (500, 375), (500, 375), (500, 337), (640, 480), (500, 375), (350, 596), (480, 320), (500, 375), (500, 375), (550, 450), (200, 275), (1504, 1000), (200, 200), (500, 333), (500, 375), (500, 375), (175, 248), (500, 375), (440, 580), (335, 500), (200, 200), (500, 375), (500, 375), (360, 155), (399, 500), (500, 375), (500, 335), (333, 500), (180, 220), (500, 375), (500, 333), (300, 262), (500, 375), (276, 247), (500, 375), (500, 358), (500, 333), (429, 500), (500, 375), (500, 375), (500, 333), (500, 370), (375, 500), (500, 331), (500, 390), (500, 333), (500, 333), (240, 180), (500, 332), (500, 333), (500, 369), (500, 261), (500, 371), (500, 375), (500, 394), (500, 332), (500, 357), (500, 375), (516, 440), (400, 500), (500, 332), (500, 340), (500, 333), (500, 375), (333, 500), (500, 375), (175, 175), (500, 393), (850, 670), (485, 500), (500, 375), (400, 300), (300, 261), (252, 336), (500, 334), (500, 375), (375, 500), (500, 375), (500, 375), (375, 500), (500, 375), (500, 374), (306, 383), (500, 333), (500, 375), (500, 335), (500, 333), (262, 204), (375, 500), (500, 333), (500, 333), (320, 240), (500, 333), (500, 334), (500, 375), (432, 496), (500, 375), (345, 250), (400, 300), (400, 469), (500, 333), (1200, 1600), (500, 375), (253, 263), (500, 375), (375, 500), (300, 244), (441, 333), (500, 375), (500, 375), (250, 261), (500, 333), (480, 360), (500, 375), (500, 375), (500, 333), (500, 333), (500, 333), (500, 375), (170, 150), (350, 360), (477, 500), (500, 343), (196, 296), (500, 333), (500, 336), (200, 225), (400, 302), (482, 500), (400, 400), (323, 431), (333, 500), (600, 446), (500, 333), (500, 348), (283, 283), (500, 423), (500, 375), (351, 500), (333, 500), (180, 250), (223, 259), (500, 375), (500, 375), (500, 333), (500, 333), (500, 456), (500, 500), (700, 630), (206, 320), (500, 375), (375, 500), (500, 375), (220, 220), (500, 338), (435, 450), (1152, 864), (500, 375), (328, 350), (300, 233), (500, 325), (500, 375), (240, 176), (500, 331), (500, 375), (500, 375), (334, 500), (500, 333), (500, 375), (400, 368), (250, 453), (500, 375), (400, 300), (350, 363), (360, 311), (500, 333), (375, 500), (500, 281), (375, 500), (500, 408), (306, 204), (500, 375), (375, 500), (523, 508), (358, 360), (500, 333), (500, 375), (500, 333), (500, 333), (399, 500), (142, 200), (378, 303), (500, 333), (745, 768), (283, 300), (500, 333), (263, 350), (500, 375), (500, 332), (500, 407), (333, 500), (500, 375), (1280, 853), (394, 500), (500, 375), (500, 339), (500, 333), (266, 200), (500, 333), (412, 599), (500, 375), (500, 375), (500, 333), (500, 435), (237, 194), (500, 375), (500, 331), (800, 534), (500, 375), (287, 350), (500, 402), (375, 500), (333, 500), (500, 333), (375, 500), (263, 280), (360, 480), (333, 500), (500, 375), (405, 305), (500, 375), (498, 650), (331, 500), (360, 270), (500, 375), (500, 375), (275, 353), (500, 375), (300, 345), (450, 390), (500, 375), (197, 168), (400, 287), (533, 294), (500, 333), (500, 375), (436, 500), (280, 250), (500, 377), (640, 572), (500, 333), (500, 411), (340, 226), (334, 500), (500, 333), (665, 617), (598, 342), (320, 240), (332, 500), (500, 375), (375, 500), (500, 400), (500, 375), (375, 500), (500, 359), (350, 263), (250, 330), (240, 180), (500, 333), (380, 253), (500, 333), (500, 375), (500, 375), (550, 467), (466, 311), (375, 500), (500, 489), (400, 395), (333, 500), (500, 334), (500, 375), (500, 375), (500, 334), (700, 519), (350, 263), (500, 375), (500, 375), (500, 335), (398, 445), (500, 375), (253, 273), (375, 500), (500, 375), (328, 300), (500, 334), (500, 375), (170, 205), (500, 375), (500, 333), (500, 375), (500, 324), (500, 227), (375, 500), (500, 397), (500, 375), (956, 1368), (320, 492), (500, 363), (500, 375), (500, 375), (500, 375), (435, 500), (500, 333), (375, 500), (500, 333), (493, 500), (500, 375), (480, 480), (500, 333), (320, 211), (137, 125), (334, 500), (500, 400), (500, 375), (500, 384), (500, 458), (535, 600), (500, 375), (200, 150), (806, 762), (432, 325), (500, 381), (1250, 765), (350, 354), (500, 375), (500, 375), (312, 500), (500, 375), (405, 360), (500, 375), (500, 375), (280, 206), (313, 344), (468, 350), (500, 375), (500, 333), (500, 295), (500, 375), (500, 333), (500, 334), (500, 375), (375, 500), (500, 375), (500, 375), (421, 405), (500, 375), (500, 375), (250, 340), (456, 500), (500, 375), (500, 375), (500, 375), (357, 500), (500, 333), (350, 181), (500, 400), (500, 333), (500, 486), (500, 375), (320, 240), (400, 400), (500, 375), (375, 500), (334, 500), (225, 227), (500, 375), (500, 375), (500, 333), (425, 283), (500, 366), (500, 375), (333, 500), (2048, 1536), (500, 375), (500, 500), (500, 375), (500, 375), (375, 500), (500, 375), (227, 344), (170, 200), (375, 500), (600, 512), (295, 269), (500, 333), (500, 339), (500, 375), (240, 184), (250, 209), (160, 200), (500, 375), (600, 800), (500, 334), (334, 500), (500, 375), (500, 400), (491, 500), (500, 333), (500, 375), (371, 500), (500, 333), (500, 375), (500, 375), (500, 375), (500, 333), (200, 192), (376, 500), (311, 449), (500, 396), (375, 500), (500, 439), (500, 375), (375, 500), (332, 500), (500, 333), (500, 353), (500, 333), (346, 500), (500, 375), (500, 375), (360, 286), (500, 375), (275, 196), (500, 474), (500, 429), (500, 375), (375, 500), (500, 275), (625, 469), (500, 375), (500, 334), (500, 333), (334, 500), (500, 325), (500, 375), (500, 499), (447, 347), (500, 380), (371, 500), (500, 374), (500, 357), (500, 375), (500, 333), (375, 500), (500, 333), (250, 188), (381, 253), (500, 375), (500, 357), (500, 335), (500, 361), (300, 176), (500, 335), (500, 375), (375, 500), (250, 344), (454, 500), (500, 375), (332, 500), (333, 500), (500, 333), (346, 218), (500, 434), (500, 375), (500, 399), (200, 234), (375, 500), (500, 333), (500, 375), (333, 500), (500, 375), (380, 310), (500, 375), (320, 350), (281, 500), (375, 500), (500, 331), (225, 225), (266, 214), (500, 333), (500, 375), (400, 300), (500, 375), (500, 333), (197, 177), (500, 337), (500, 332), (600, 496), (425, 500), (500, 382), (375, 500), (500, 327), (500, 388), (480, 360), (300, 245), (500, 500), (395, 500), (500, 375), (279, 500), (397, 450), (500, 375), (550, 400), (500, 333), (375, 500), (333, 500), (500, 333), (615, 368), (223, 185), (500, 374), (500, 357), (500, 399), (500, 375), (500, 375), (500, 386), (254, 338), (500, 331), (500, 375), (500, 397), (180, 135), (500, 375), (500, 333), (500, 334), (500, 374), (333, 500), (248, 219), (375, 500), (500, 375), (500, 374), (300, 323), (433, 500), (411, 305), (333, 500), (375, 500), (332, 500), (400, 342), (500, 375), (500, 375), (350, 280), (500, 375), (500, 375), (333, 500), (500, 375), (500, 327), (480, 360), (324, 255), (600, 914), (500, 375), (372, 415), (500, 375), (500, 375), (500, 417), (432, 288), (500, 360), (500, 349), (375, 500), (250, 187), (500, 341), (500, 375), (500, 332), (375, 500), (216, 289), (325, 500), (500, 375), (500, 458), (250, 403), (500, 375), (146, 189), (500, 375), (375, 500), (500, 375), (240, 194), (259, 266), (500, 342), (340, 510), (500, 333), (375, 500), (500, 329), (400, 211), (500, 333), (310, 271), (250, 188), (500, 333), (500, 375), (500, 384), (169, 240), (500, 333), (375, 500), (375, 500), (333, 500), (190, 158), (346, 500), (500, 426), (486, 500), (500, 375), (500, 380), (280, 373), (500, 375), (360, 270), (500, 357), (200, 150), (500, 375), (500, 333), (500, 375), (789, 1183), (428, 276), (370, 320), (370, 500), (500, 333), (360, 270), (334, 500), (650, 488), (500, 333), (500, 375), (333, 500), (294, 500), (500, 375), (450, 350), (280, 280), (500, 333), (375, 500), (333, 500), (500, 375), (148, 185), (500, 375), (500, 375), (500, 375), (375, 500), (500, 333), (500, 375), (375, 500), (500, 375), (500, 334), (500, 375), (500, 375), (500, 333), (500, 369), (333, 500), (357, 500), (500, 375), (500, 375), (250, 231), (333, 500), (360, 480), (200, 305), (384, 288), (500, 333), (500, 375), (375, 500), (250, 211), (500, 375), (581, 622), (369, 492), (500, 375), (500, 410), (333, 500), (500, 375), (500, 333), (500, 375), (500, 375), (337, 500), (375, 261), (500, 333), (500, 375), (467, 500), (500, 375), (500, 375), (500, 375), (500, 375), (500, 375), (351, 500), (413, 500), (496, 500), (500, 375), (500, 333), (190, 200), (500, 333), (185, 150), (500, 375), (500, 375), (352, 288), (347, 500), (500, 375), (786, 675), (500, 333), (334, 500), (500, 333), (500, 374), (500, 375), (500, 375), (500, 333), (300, 199), (500, 396), (500, 371), (300, 226), (500, 375), (500, 386), (500, 333), (500, 332), (500, 333), (328, 480), (500, 375), (500, 333), (500, 375), (500, 333), (300, 257), (500, 333), (200, 200), (500, 375), (300, 249), (500, 375), (500, 375), (338, 500), (500, 375), (333, 500), (333, 500), (320, 242), (500, 375), (375, 500), (216, 152), (375, 500), (500, 333), (500, 438), (500, 375), (500, 332), (375, 500), (500, 375), (500, 357), (500, 375), (500, 333), (500, 333), (500, 375), (500, 375), (500, 333), (500, 331), (500, 375), (375, 500), (333, 500), (500, 333), (500, 298), (333, 500), (500, 375), (500, 375), (398, 500), (500, 375), (500, 375), (480, 290), (500, 375), (400, 481), (500, 375), (353, 279), (500, 375), (500, 375), (853, 640), (400, 500), (311, 500), (398, 550), (500, 314), (500, 375), (500, 454), (500, 375), (375, 500), (416, 500), (375, 500), (500, 333), (500, 333), (571, 337), (500, 333), (440, 335), (500, 375), (449, 500), (195, 178), (500, 357), (500, 375), (300, 225), (375, 500), (500, 375), (447, 480), (384, 482), (375, 375), (500, 375), (500, 319), (500, 393), (500, 333), (332, 500), (375, 500), (279, 300), (292, 352), (500, 375), (272, 200), (500, 375), (267, 200), (500, 346), (500, 332), (500, 375), (200, 301), (500, 375), (500, 414), (500, 375), (500, 375), (500, 400), (500, 375), (500, 375), (250, 195), (500, 333), (400, 300), (500, 333), (500, 333), (500, 375), (169, 220), (500, 375), (500, 375), (354, 259), (500, 375), (375, 500), (500, 333), (500, 375), (500, 445), (391, 500), (400, 266), (500, 333), (500, 333), (500, 428), (500, 375), (500, 333), (500, 375), (333, 500), (319, 360), (500, 333), (500, 361), (500, 375), (500, 380), (392, 397), (331, 500), (500, 375), (275, 350), (500, 375), (368, 500), (500, 398), (234, 267), (500, 375), (470, 500), (800, 600), (500, 387), (375, 500), (275, 237), (500, 375), (500, 374), (500, 281), (500, 333), (500, 375), (479, 450), (500, 333), (500, 385), (320, 213), (500, 375), (500, 375), (500, 332), (310, 337), (400, 293), (300, 420), (500, 375), (500, 375), (500, 333), (500, 375), (500, 333), (500, 375), (500, 375), (500, 375), (368, 500), (328, 317), (500, 375), (500, 375), (160, 170), (334, 500), (357, 500), (500, 375), (500, 400), (329, 500), (500, 332), (200, 192), (500, 459), (400, 299), (394, 295), (200, 150), (500, 346), (500, 444), (500, 334), (375, 500), (250, 178), (500, 375), (500, 375), (350, 347), (375, 500), (630, 390), (400, 267), (400, 500), (500, 375), (172, 256), (375, 500), (500, 333), (500, 375), (344, 350), (500, 375), (500, 334), (375, 500), (500, 333), (143, 157), (408, 500), (560, 448), (500, 333), (500, 307), (500, 375), (400, 409), (500, 368), (500, 362), (500, 375), (500, 333), (384, 250), (464, 500), (500, 375), (500, 375), (360, 270), (500, 375), (398, 500), (500, 297), (500, 372), (500, 333), (500, 375), (500, 333), (374, 500), (500, 375), (1536, 1024), (190, 190), (500, 333), (500, 334), (500, 375), (500, 333), (400, 444), (500, 375), (500, 367), (500, 375), (500, 414), (500, 333), (500, 400), (646, 314), (500, 323), (375, 500), (500, 375), (600, 540), (375, 500), (220, 214), (375, 500), (228, 312), (500, 334), (500, 333), (500, 333), (500, 333), (375, 500), (320, 350), (360, 245), (500, 375), (500, 334), (375, 500), (500, 375), (333, 500), (500, 369), (500, 375), (500, 375), (446, 500), (500, 375), (375, 500), (500, 375), (301, 270), (500, 375), (233, 350), (500, 338), (500, 375), (500, 410), (500, 375), (500, 375), (500, 375), (500, 375), (500, 350), (500, 375), (500, 375), (500, 334), (375, 500), (300, 227), (500, 375), (172, 200), (500, 333), (373, 354), (343, 500), (500, 333), (500, 353), (500, 333), (500, 375), (375, 500), (500, 375), (500, 333), (500, 333), (131, 201), (500, 333), (500, 375), (500, 333), (200, 160), (500, 375), (394, 250), (500, 375), (500, 348), (500, 375), (364, 500), (375, 500), (500, 400), (350, 525), (500, 500), (280, 440), (350, 307), (500, 375), (283, 366), (500, 333), (500, 361), (300, 316), (500, 334), (304, 410), (148, 185), (500, 375), (500, 375), (500, 357), (334, 500), (375, 500), (400, 311), (375, 500), (489, 500), (500, 333), (500, 375), (500, 375), (500, 447), (375, 500), (362, 500), (500, 375), (500, 375), (500, 375), (250, 207), (500, 375), (333, 500), (417, 500), (500, 375), (500, 375), (412, 500), (375, 500), (500, 357), (432, 324), (500, 334), (250, 207), (500, 404), (383, 500), (269, 200), (500, 375), (425, 319), (500, 375), (288, 228), (640, 480), (500, 218), (500, 375), (200, 160), (500, 368), (764, 1426), (500, 375), (500, 401), (500, 332), (400, 380), (500, 375), (500, 333), (458, 504), (500, 375), (500, 375), (500, 375), (500, 333), (500, 333), (375, 500), (349, 350), (500, 333), (500, 375), (566, 602), (500, 334), (500, 375), (300, 225), (375, 500), (375, 500), (500, 375), (342, 260), (1632, 1232), (375, 500), (500, 333), (500, 333), (500, 375), (300, 225), (500, 332), (500, 375), (500, 290), (400, 340), (500, 332), (500, 317), (500, 375), (500, 334), (345, 346), (500, 375), (500, 332), (500, 332), (500, 375), (489, 500), (500, 375), (336, 500), (600, 450), (500, 375), (500, 375), (488, 500), (500, 344), (375, 500), (500, 375), (300, 239), (308, 375), (375, 500), (320, 240), (300, 297), (500, 333), (500, 375), (375, 500), (300, 271), (500, 335), (334, 500), (375, 500), (500, 444), (300, 206), (500, 375), (500, 375), (500, 390), (500, 375), (500, 357), (500, 375), (500, 333), (500, 375), (375, 500), (375, 500), (500, 375), (500, 375), (500, 375), (500, 243), (500, 333), (500, 333), (500, 375), (288, 291), (400, 316), (375, 500), (400, 337), (500, 333), (500, 375), (370, 388), (374, 500), (295, 243), (362, 500), (400, 301), (346, 500), (500, 333), (250, 170), (250, 229), (400, 259), (500, 375), (500, 375), (260, 331), (640, 594), (480, 360), (500, 333), (500, 375), (500, 500), (180, 139), (360, 241), (500, 375), (247, 248), (226, 314), (333, 500), (500, 375), (221, 250), (452, 302), (500, 554), (332, 500), (500, 375), (375, 500), (500, 375), (456, 500), (500, 333), (500, 388), (500, 375), (375, 500), (200, 300), (500, 354), (190, 168), (312, 468), (249, 200), (200, 185), (500, 334), (500, 333), (500, 333), (500, 375), (336, 500), (500, 375), (500, 357), (375, 500), (500, 375), (271, 320), (350, 233), (500, 375), (330, 396), (404, 498), (448, 336), (500, 375), (365, 500), (500, 333), (360, 326), (192, 256), (500, 333), (360, 480), (500, 411), (478, 500), (500, 333), (200, 170), (500, 376), (215, 287), (727, 487), (500, 375), (375, 500), (500, 357), (500, 375), (500, 333), (500, 375), (500, 334), (200, 150), (500, 375), (500, 333), (375, 500), (223, 195), (500, 333), (333, 500), (200, 213), (500, 375), (500, 375), (500, 390), (500, 333), (640, 480), (480, 360), (500, 326), (375, 500), (500, 440), (343, 448), (640, 480), (500, 375), (500, 333), (500, 425), (172, 158), (480, 323), (480, 319), (500, 333), (500, 530), (410, 318), (463, 500), (500, 375), (190, 340), (400, 272), (178, 200), (375, 500), (500, 333), (375, 500), (220, 220), (500, 367), (500, 375), (200, 170), (500, 333), (375, 500), (500, 358), (500, 385), (319, 500), (500, 375), (500, 334), (337, 467), (334, 500), (252, 214), (500, 357), (350, 337), (500, 375), (500, 375), (374, 316), (331, 360), (500, 375), (500, 375), (500, 375), (500, 375), (500, 375), (220, 220), (344, 500), (500, 375), (300, 375), (375, 500), (500, 333), (325, 247), (500, 357), (500, 333), (500, 375), (500, 375), (240, 180), (500, 375), (337, 500), (333, 500), (463, 500), (333, 500), (500, 333), (285, 430), (300, 450), (500, 375), (375, 500), (500, 333), (500, 375), (275, 362), (500, 333), (500, 375), (500, 375), (500, 375), (500, 375), (500, 375), (333, 500), (500, 375), (323, 500), (250, 197), (500, 375), (500, 375), (500, 375), (500, 400), (268, 500), (452, 302), (500, 394), (500, 413), (375, 500), (500, 375), (500, 375), (500, 333), (500, 375), (272, 207), (500, 375), (300, 364), (500, 375), (300, 201), (500, 375), (436, 368), (500, 483), (500, 360), (500, 375), (500, 332), (449, 327), (500, 375), (500, 357), (500, 375), (376, 500), (500, 296), (400, 322), (500, 375), (360, 173), (500, 375), (375, 500), (399, 350), (438, 500), (500, 426), (500, 375), (333, 500), (500, 375), (500, 332), (222, 178), (500, 375), (300, 316), (500, 400), (500, 350), (500, 333), (500, 375), (500, 333), (375, 500), (500, 375), (500, 375), (500, 421), (435, 293), (318, 500), (500, 375), (500, 333), (452, 302), (334, 500), (500, 375), (247, 432), (500, 333), (500, 333), (340, 500), (260, 360), (227, 227), (300, 300), (500, 333), (288, 274), (413, 500), (443, 336), (500, 375), (500, 333), (500, 375), (333, 500), (333, 500), (333, 500), (500, 399), (352, 500), (375, 500), (200, 200), (500, 375), (352, 500), (500, 375), (300, 299), (500, 378), (498, 500), (500, 375), (500, 375), (375, 500), (500, 375), (275, 360), (375, 500), (500, 375), (500, 487), (148, 169), (500, 353), (500, 375), (300, 225), (500, 375), (500, 375), (500, 333), (500, 367), (500, 375), (500, 333), (375, 281), (500, 333), (500, 375), (500, 500), (500, 370), (600, 450), (500, 375), (500, 375), (500, 375), (500, 375), (332, 500), (400, 390), (375, 500), (500, 358), (324, 396), (500, 333), (500, 375), (500, 381), (370, 355), (717, 600), (500, 317), (500, 332), (500, 375), (500, 333), (250, 340), (500, 375), (500, 333), (200, 217), (700, 466), (500, 375), (248, 150), (500, 375), (500, 338), (500, 375), (500, 281), (500, 375), (386, 500), (432, 467), (500, 375), (500, 337), (450, 253), (500, 357), (500, 332), (300, 338), (480, 486), (500, 375), (333, 500), (333, 250), (500, 375), (500, 342), (500, 333), (500, 375), (492, 500), (500, 375), (500, 375), (500, 375), (500, 375), (250, 332), (300, 405), (320, 240), (334, 364), (500, 379), (500, 335), (432, 454), (200, 170), (500, 375), (375, 500), (500, 334), (375, 500), (426, 320), (500, 375), (334, 500), (400, 324), (250, 254), (318, 400), (375, 500), (500, 333), (500, 375), (366, 347), (500, 333), (500, 359), (500, 332), (661, 532), (500, 333), (332, 500), (339, 500), (375, 500), (500, 375), (500, 375), (200, 202), (375, 500), (375, 467), (500, 375), (500, 375), (331, 500), (500, 375), (500, 375), (310, 500), (500, 333), (500, 375), (177, 150), (468, 513), (567, 431), (516, 445), (333, 500), (500, 375), (500, 375), (500, 375), (500, 356), (500, 375), (323, 337), (188, 269), (500, 500), (500, 375), (357, 500), (500, 332), (500, 375), (500, 348), (500, 333), (500, 333), (180, 200), (375, 500), (500, 281), (333, 500), (500, 375), (500, 481), (500, 500), (500, 333), (271, 370), (462, 492), (150, 150), (500, 333), (500, 332), (375, 500), (374, 500), (500, 375), (500, 375), (500, 375), (500, 333), (375, 500), (500, 375), (500, 375), (500, 437), (235, 313), (400, 354), (500, 375), (300, 256), (235, 188), (500, 375), (439, 500), (600, 450), (483, 500), (380, 450), (254, 228), (500, 375), (500, 402), (375, 500), (500, 375), (334, 500), (500, 391), (295, 150), (400, 500), (500, 375), (447, 500), (500, 375), (500, 375), (375, 500), (500, 409), (350, 323), (500, 375), (500, 375), (500, 375), (500, 333), (190, 284), (500, 443), (500, 375), (500, 375), (500, 400), (375, 500), (500, 332), (500, 333), (500, 417), (333, 500), (333, 500), (500, 375), (800, 600), (357, 500), (500, 375), (500, 335), (797, 606), (425, 343), (500, 333), (500, 333), (500, 375), (307, 300), (500, 375), (170, 250), (500, 375), (480, 640), (500, 375), (500, 375), (500, 374), (289, 200), (500, 375), (500, 260), (375, 500), (500, 333), (500, 375), (500, 375), (164, 302), (500, 375), (333, 500), (500, 403), (375, 500), (500, 281), (480, 321), (375, 500), (500, 333), (474, 500), (150, 132), (640, 480), (320, 240), (150, 165), (491, 500), (500, 375), (500, 481), (500, 333), (216, 232), (240, 180), (494, 500), (500, 375), (500, 375), (366, 500), (460, 306), (500, 333), (500, 375), (500, 333), (500, 403), (570, 613), (500, 375), (392, 520), (500, 334), (500, 375), (240, 283), (334, 500), (300, 443), (500, 331), (500, 375), (500, 375), (500, 379), (300, 360), (500, 365), (333, 500), (127, 181), (240, 258), (333, 500), (325, 406), (500, 375), (390, 390), (500, 375), (190, 164), (500, 375), (320, 240), (375, 500), (500, 375), (500, 375), (500, 375), (500, 375), (500, 375), (500, 375), (500, 375), (500, 335), (320, 480), (375, 500), (302, 202), (500, 449), (500, 375), (500, 333), (240, 200), (300, 225), (500, 411), (500, 375), (849, 565), (397, 480), (400, 329), (375, 500), (200, 150), (500, 375), (608, 611), (500, 375), (245, 350), (280, 353), (500, 333), (500, 333), (250, 233), (488, 500), (500, 375), (500, 333), (441, 500), (500, 333), (500, 400), (200, 267), (441, 500), (375, 500), (500, 375), (360, 231), (500, 333), (500, 333), (360, 230), (500, 333), (500, 333), (500, 375), (177, 246), (255, 383), (500, 364), (500, 375), (500, 333), (250, 223), (358, 424), (323, 450), (500, 333), (500, 375), (500, 375), (500, 375), (400, 300), (500, 333), (360, 425), (500, 375), (500, 375), (332, 500), (300, 272), (399, 499), (500, 333), (500, 367), (540, 405), (500, 467), (499, 500), (190, 261), (500, 334), (500, 375), (500, 375), (800, 657), (500, 378), (500, 375), (500, 333), (240, 239), (500, 375), (375, 500), (252, 255), (500, 375), (500, 375), (500, 429), (640, 480), (500, 331), (473, 500), (500, 375), (500, 375), (333, 500), (500, 375), (500, 391), (333, 500), (262, 395), (500, 437), (500, 331), (500, 375), (375, 500), (500, 400), (200, 239), (500, 375), (500, 375), (500, 333), (500, 375), (300, 278), (200, 197), (338, 500), (275, 237), (500, 375), (499, 332), (500, 375), (500, 333), (333, 500), (500, 484), (375, 500), (500, 373), (500, 335), (500, 338), (394, 396), (500, 375), (500, 332), (500, 491), (500, 375), (500, 357), (500, 374), (338, 341), (166, 197), (500, 375), (500, 375), (576, 336), (500, 375), (500, 465), (450, 322), (500, 333), (360, 343), (500, 333), (500, 431), (500, 375), (332, 500), (375, 500), (500, 375), (432, 500), (500, 375), (500, 333), (400, 300), (500, 359), (500, 375), (500, 334), (500, 375), (500, 334), (364, 500), (500, 400), (413, 500), (500, 437), (160, 170), (500, 481), (500, 375), (334, 500), (400, 400), (772, 978), (500, 375), (333, 500), (500, 375), (500, 333), (220, 184), (500, 375), (350, 315), (500, 392), (500, 333), (500, 375), (500, 333), (500, 376), (500, 357), (222, 299), (420, 324), (336, 341), (500, 375), (337, 500), (500, 375), (500, 376), (500, 333), (339, 495), (333, 500), (400, 300), (368, 500), (375, 500), (375, 500), (449, 500), (500, 375), (500, 375), (500, 375), (500, 375), (500, 332), (500, 333), (299, 217), (395, 584), (143, 204), (333, 500), (800, 774), (375, 500), (333, 500), (500, 375), (420, 425), (352, 371), (395, 500), (500, 375), (210, 300), (640, 480), (136, 180), (501, 373), (500, 333), (308, 500), (500, 333), (375, 500), (375, 500), (500, 375), (500, 375), (500, 333), (316, 315), (500, 333), (334, 500), (337, 500), (206, 145), (1188, 1230), (300, 403), (500, 333), (500, 333), (500, 359), (500, 375), (240, 180), (500, 375), (475, 474), (333, 500), (500, 375), (500, 375), (500, 375), (375, 500), (333, 500), (400, 500), (500, 381), (447, 500), (240, 200), (500, 361), (180, 172), (500, 375), (500, 332), (460, 300), (500, 375), (180, 135), (500, 375), (300, 222), (500, 375), (382, 500), (333, 500), (375, 500), (370, 260), (350, 316), (300, 200), (415, 282), (320, 240), (500, 333), (500, 375), (360, 240), (400, 359), (360, 270), (500, 375), (500, 340), (375, 500), (276, 523), (334, 500), (334, 500), (640, 480), (480, 427), (500, 333), (288, 234), (250, 223), (500, 375), (500, 375), (500, 500), (200, 184), (433, 500), (333, 500), (498, 500), (500, 375), (550, 437), (375, 500), (500, 333), (500, 375), (480, 359), (600, 400), (375, 500), (333, 500), (500, 333), (500, 375), (500, 396), (500, 375), (500, 375), (500, 375), (768, 576), (170, 170), (288, 353), (500, 479), (500, 375), (500, 333), (500, 332), (500, 333), (300, 271), (500, 333), (500, 332), (500, 375), (500, 474), (500, 375), (181, 154), (700, 474), (182, 227), (500, 404), (500, 333), (500, 333), (375, 500), (500, 400), (500, 375), (350, 282), (500, 345), (500, 400), (500, 374), (500, 375), (500, 333), (375, 500), (800, 640), (500, 375), (500, 420), (565, 505), (320, 240), (333, 500), (335, 500), (274, 300), (500, 500), (498, 500), (500, 375), (500, 333), (500, 332), (500, 333), (500, 375), (500, 334), (200, 172), (500, 375), (500, 334), (500, 375), (424, 500), (267, 200), (500, 374), (500, 375), (500, 375), (500, 333), (500, 375), (600, 450), (351, 360), (500, 375), (481, 500), (263, 225), (500, 375), (500, 333), (283, 299), (350, 389), (300, 200), (320, 240), (238, 191), (500, 332), (300, 225), (500, 375), (423, 279), (500, 333), (500, 375), (200, 200), (500, 375), (500, 375), (414, 500), (500, 375), (226, 290), (300, 207), (500, 375), (500, 375), (500, 375), (269, 360), (500, 333), (500, 468), (500, 375), (500, 375), (500, 333), (500, 375), (320, 306), (720, 540), (500, 375), (411, 500), (500, 394), (400, 364), (500, 331), (500, 375), (500, 375), (333, 500), (500, 375), (500, 333), (500, 375), (500, 375), (271, 320), (333, 500), (500, 375), (500, 375), (500, 333), (386, 500), (500, 329), (500, 375), (432, 297), (500, 375), (500, 326), (333, 500), (500, 375), (500, 333), (334, 500), (500, 351), (500, 375), (375, 500), (500, 499), (253, 320), (500, 460), (500, 446), (339, 494), (500, 333), (500, 375), (500, 332), (500, 375), (213, 225), (333, 500), (500, 387), (640, 480), (500, 375), (500, 375), (500, 321), (500, 375), (800, 600), (500, 333), (500, 396), (439, 425), (500, 333), (500, 375), (500, 414), (240, 180), (500, 375), (288, 320), (500, 375), (500, 378), (500, 375), (300, 421), (500, 334), (500, 375), (500, 375), (500, 375), (500, 375), (500, 375), (360, 297), (297, 500), (375, 500), (500, 375), (500, 411), (200, 327), (800, 534), (360, 270), (266, 184), (466, 500), (300, 351), (500, 333), (373, 351), (500, 371), (500, 375), (341, 444), (500, 377), (500, 375), (500, 375), (120, 111), (500, 437), (500, 375), (375, 500), (300, 455), (500, 375), (359, 480), (500, 375), (500, 375), (500, 358), (375, 500), (521, 464), (500, 412), (500, 375), (333, 500), (333, 500), (478, 500), (600, 607), (500, 332), (500, 357), (341, 500), (500, 333), (375, 500), (500, 333), (375, 500), (357, 500), (500, 375), (500, 375), (500, 334), (349, 400), (500, 369), (600, 602), (202, 333), (500, 375), (323, 350), (500, 375), (270, 222), (333, 500), (1024, 768), (318, 212), (500, 332), (500, 375), (500, 399), (500, 359), (480, 373), (500, 333), (600, 800), (500, 402), (500, 375), (500, 495), (500, 375), (500, 333), (500, 375), (360, 288), (500, 333), (499, 500), (500, 385), (500, 333), (500, 375), (500, 333), (500, 333), (300, 225), (301, 357), (334, 500), (1024, 768), (744, 684), (358, 500), (500, 416), (500, 359), (500, 375), (500, 333), (500, 333), (231, 245), (600, 800), (500, 375), (333, 500), (333, 500), (500, 361), (333, 500), (500, 375), (500, 333), (500, 375), (280, 232), (300, 337), (500, 333), (500, 332), (353, 526), (500, 334), (500, 375), (288, 232), (500, 375), (446, 500), (279, 300), (399, 298), (300, 225), (361, 500), (500, 333), (500, 375), (256, 384), (370, 426), (500, 333), (400, 300), (500, 314), (800, 600), (375, 500), (400, 291), (334, 500), (300, 225), (500, 334), (500, 332), (448, 336), (500, 333), (500, 393), (500, 402), (500, 383), (400, 344), (216, 192), (255, 310), (500, 375), (375, 500), (375, 500), (500, 375), (500, 441), (500, 333), (500, 375), (334, 500), (375, 500), (332, 500), (300, 300), (320, 240), (500, 333), (500, 333), (500, 333), (370, 244), (375, 500), (333, 500), (333, 500), (500, 346), (400, 400), (381, 253), (500, 333), (222, 300), (500, 334), (500, 375), (500, 335), (320, 200), (500, 375), (500, 375), (500, 375), (500, 333), (500, 375), (333, 500), (500, 350), (500, 333), (967, 900), (500, 375), (500, 333), (500, 375), (500, 334), (500, 375), (350, 469), (500, 333), (500, 375), (139, 200), (240, 160), (500, 375), (375, 500), (200, 200), (400, 500), (500, 333), (338, 224), (600, 450), (360, 347), (354, 500), (500, 375), (331, 500), (350, 439), (500, 333), (500, 333), (500, 333), (500, 333), (800, 600), (333, 500), (333, 500), (500, 375), (250, 250), (360, 272), (500, 317), (220, 239), (500, 331), (800, 597), (500, 464), (375, 500), (375, 500), (500, 452), (500, 333), (500, 375), (500, 375), (375, 500), (500, 341), (500, 375), (500, 313), (500, 333), (345, 500), (500, 375), (300, 248), (366, 500), (640, 480), (400, 299), (500, 375), (403, 446), (375, 500), (380, 285), (500, 375), (500, 461), (500, 333), (480, 320), (333, 500), (375, 500), (288, 250), (500, 375), (500, 375), (500, 332), (500, 333), (500, 332), (335, 500), (334, 500), (591, 372), (500, 333), (500, 373), (467, 500), (500, 333), (500, 500), (500, 332), (437, 500), (500, 375), (640, 480), (500, 333), (350, 267), (500, 333), (500, 375), (375, 500), (500, 333), (333, 500), (333, 500), (360, 284), (500, 495), (365, 500), (450, 306), (500, 376), (350, 263), (500, 375), (500, 333), (500, 333), (500, 375), (500, 374), (500, 306), (500, 375), (452, 500), (305, 227), (480, 600), (133, 200), (465, 363), (500, 354), (174, 174), (500, 333), (321, 500), (500, 334), (333, 500), (500, 375), (500, 375), (500, 375), (287, 220), (447, 391), (500, 375), (350, 331), (334, 500), (250, 238), (500, 375), (500, 375), (203, 192), (300, 226), (500, 333), (426, 414), (500, 375), (500, 375), (500, 334), (500, 375), (500, 333), (500, 375), (500, 533), (500, 333), (300, 234), (350, 243), (500, 352), (500, 375), (656, 642), (500, 375), (500, 447), (372, 152), (500, 375), (500, 375), (500, 375), (360, 275), (499, 450), (300, 211), (400, 326), (400, 300), (360, 330), (500, 375), (500, 375), (500, 333), (400, 314), (450, 413), (350, 254), (500, 332), (400, 301), (341, 500), (163, 279), (440, 500), (500, 375), (458, 500), (375, 500), (500, 375), (500, 375), (333, 500), (500, 332), (182, 151), (250, 242), (399, 283), (176, 195), (480, 360), (500, 332), (333, 500), (289, 250), (175, 280), (500, 375), (500, 333), (500, 375), (500, 375), (486, 500), (500, 334), (500, 375), (200, 150), (520, 390), (500, 375), (500, 332), (480, 413), (500, 375), (500, 374), (500, 358), (457, 500), (334, 500), (250, 333), (450, 320), (237, 360), (500, 375), (500, 333), (224, 200), (500, 511), (233, 350), (242, 180), (375, 500), (500, 333), (500, 375), (500, 375), (500, 333), (250, 258), (500, 375), (500, 375), (480, 396), (480, 640), (335, 273), (500, 333), (500, 375), (500, 333), (500, 375), (360, 299), (500, 375), (232, 349), (500, 375), (500, 333), (500, 375), (500, 333), (190, 227), (500, 375), (500, 379), (320, 246), (500, 375), (448, 310), (500, 333), (500, 375), (242, 229), (140, 175), (500, 299), (500, 375), (500, 333), (500, 333), (500, 313), (1024, 768), (1024, 768), (400, 300), (435, 367), (375, 500), (375, 500), (500, 375), (357, 500), (500, 332), (255, 255), (500, 375), (500, 375), (500, 364), (500, 375), (375, 500), (500, 333), (363, 243), (374, 500), (500, 333), (333, 360), (500, 375), (500, 375), (500, 479), (333, 500), (500, 375), (500, 333), (500, 335), (326, 500), (500, 432), (500, 375), (449, 500), (500, 333), (400, 330), (500, 375), (404, 500), (188, 150), (188, 188), (500, 375), (375, 500), (500, 333), (457, 500), (173, 139), (500, 335), (500, 333), (500, 375), (500, 333), (500, 334), (240, 196), (200, 207), (394, 295), (350, 500), (500, 375), (468, 500), (425, 302), (567, 407), (500, 333), (500, 430), (500, 371), (500, 333), (375, 500), (333, 500), (333, 500), (500, 333), (333, 500), (500, 331), (500, 400), (360, 331), (500, 375), (500, 375), (500, 375), (816, 612), (600, 450), (333, 500), (500, 375), (500, 375), (334, 500), (500, 404), (333, 500), (415, 500), (480, 361), (300, 318), (500, 333), (500, 375), (300, 392), (404, 270), (496, 768), (500, 375), (326, 350), (333, 500), (500, 333), (571, 371), (500, 375), (640, 480), (500, 375), (333, 500), (500, 375), (328, 500), (200, 153), (500, 333), (478, 291), (500, 375), (200, 133), (294, 294), (500, 375), (583, 484), (500, 440), (370, 500), (375, 500), (500, 375), (500, 351), (500, 334), (497, 500), (500, 375), (270, 500), (500, 375), (350, 263), (500, 375), (223, 259), (500, 375), (500, 333), (175, 250), (461, 479), (500, 375), (500, 333), (500, 375), (372, 389), (500, 333), (360, 223), (500, 366), (270, 211), (500, 375), (500, 335), (500, 375), (375, 500), (500, 446), (375, 500), (500, 375), (220, 290), (500, 375), (500, 335), (160, 170), (500, 500), (411, 500), (333, 500), (400, 315), (500, 375), (982, 629), (500, 333), (500, 334), (685, 561), (500, 375), (500, 327), (500, 375), (500, 333), (500, 333), (500, 375), (500, 375), (360, 288), (500, 375), (500, 405), (500, 375), (500, 334), (450, 551), (500, 359), (500, 375), (354, 256), (500, 332), (452, 302), (550, 382), (500, 333), (500, 333), (346, 439), (500, 375), (334, 500), (220, 350), (230, 184), (500, 330), (357, 500), (500, 375), (375, 500), (275, 321), (500, 332), (400, 500), (418, 500), (382, 500), (500, 375), (500, 375), (500, 423), (332, 500), (350, 321), (500, 333), (392, 500), (385, 391), (500, 375), (333, 500), (400, 335), (500, 367), (500, 333), (333, 500), (500, 333), (500, 375), (500, 334), (500, 333), (500, 332), (300, 226), (375, 500), (500, 375), (500, 375), (434, 500), (500, 333), (538, 600), (500, 375), (500, 375), (252, 222), (500, 375), (500, 354), (400, 500), (500, 345), (560, 432), (500, 374), (500, 375), (500, 333), (500, 375), (500, 378), (186, 250), (500, 375), (200, 270), (200, 167), (320, 500), (500, 375), (500, 475), (200, 251), (500, 375), (500, 375), (720, 448), (1280, 844), (500, 375), (375, 500), (500, 375), (600, 800), (320, 240), (333, 500), (375, 500), (500, 333), (434, 500), (334, 500), (700, 544), (350, 492), (500, 375), (333, 500), (190, 168), (500, 333), (400, 310), (625, 469), (240, 242), (190, 142), (500, 375), (500, 332), (333, 500), (434, 500), (500, 375), (500, 332), (375, 500), (500, 375), (300, 297), (400, 266), (500, 375), (500, 375), (800, 601), (300, 284), (2560, 1920), (500, 333), (600, 503), (210, 210), (500, 375), (250, 250), (240, 360), (400, 326), (1280, 960), (300, 398), (500, 331), (500, 376), (500, 375), (500, 375), (97, 134), (333, 500), (500, 375), (214, 250), (500, 375), (500, 281), (500, 332), (283, 260), (500, 375), (500, 333), (500, 375), (342, 500), (500, 375), (500, 333), (333, 500), (333, 500), (360, 296), (500, 375), (391, 500), (500, 400), (500, 375), (500, 338), (800, 600), (299, 396), (500, 342), (500, 375), (500, 375), (500, 375), (500, 333), (500, 375), (353, 500), (500, 333), (200, 253), (300, 300), (500, 375), (468, 624), (186, 207), (200, 170), (290, 250), (500, 333), (460, 393), (500, 375), (500, 423), (500, 334), (375, 500), (197, 289), (500, 375), (170, 170), (300, 225), (500, 375), (350, 249), (452, 302), (500, 333), (596, 477), (440, 434), (479, 389), (400, 632), (500, 333), (500, 384), (139, 213), (375, 500), (500, 437), (332, 500), (375, 500), (322, 397), (376, 500), (405, 313), (500, 375), (500, 400), (340, 403), (326, 400), (512, 384), (500, 375), (500, 286), (500, 432), (360, 301), (500, 375), (164, 187), (500, 375), (500, 331), (500, 333), (442, 500), (333, 500), (500, 333), (500, 341), (399, 300), (500, 375), (333, 260), (384, 512), (250, 200), (375, 500), (333, 500), (250, 193), (500, 375), (500, 333), (375, 500), (500, 375), (500, 409), (217, 268), (500, 332), (333, 500), (357, 500), (489, 371), (500, 375), (500, 400), (495, 500), (500, 375), (500, 375), (398, 600), (500, 333), (500, 375), (170, 205), (232, 300), (500, 375), (448, 296), (375, 500), (333, 500), (180, 217), (360, 335), (400, 500), (500, 333), (360, 480), (500, 333), (640, 482), (500, 333), (480, 360), (300, 156), (500, 408), (500, 375), (500, 375), (500, 375), (500, 406), (463, 370), (469, 500), (500, 333), (240, 251), (250, 185), (362, 448), (500, 333), (945, 1477), (500, 400), (500, 333), (500, 333), (500, 333), (300, 225), (500, 375), (500, 375), (500, 375), (500, 375), (500, 375), (500, 375), (500, 500), (180, 179), (500, 375), (500, 373), (375, 500), (500, 333), (500, 333), (375, 500), (350, 275), (500, 375), (372, 500), (433, 288), (333, 500), (175, 204), (500, 375), (500, 380), (500, 365), (219, 321), (211, 282), (500, 333), (500, 375), (500, 375), (450, 500), (367, 500), (320, 305), (375, 500), (200, 150), (500, 334), (500, 281), (500, 450), (375, 500), (500, 495), (500, 375), (350, 265), (500, 334), (500, 375), (640, 480), (750, 600), (320, 426), (500, 450), (500, 465), (360, 480), (500, 333), (500, 375), (640, 480), (500, 375), (500, 375), (500, 334), (400, 300), (500, 375), (351, 500), (500, 333), (500, 400), (500, 430), (150, 113), (375, 500), (500, 333), (500, 333), (375, 500), (500, 375), (500, 400), (401, 500), (250, 179), (500, 333), (500, 324), (375, 500), (332, 500), (500, 397), (384, 480), (375, 500), (375, 500), (650, 438), (500, 400), (500, 328), (500, 375), (1024, 768), (500, 375), (334, 500), (600, 371), (500, 375), (314, 300), (500, 375), (281, 327), (500, 334), (500, 375), (375, 500), (500, 375), (500, 313), (333, 500), (302, 227), (500, 333), (150, 226), (375, 500), (500, 466), (175, 143), (500, 333), (300, 240), (200, 197), (500, 375), (500, 333), (400, 231), (500, 375), (476, 331), (375, 500), (500, 335), (500, 375), (600, 564), (403, 457), (500, 375), (500, 375), (500, 413), (500, 331), (439, 428), (375, 500), (500, 347), (500, 357), (500, 375), (500, 375), (500, 375), (500, 334), (500, 375), (375, 500), (500, 375), (500, 417), (374, 500), (500, 375), (200, 213), (500, 295), (500, 333), (500, 281), (500, 375), (306, 300), (391, 500), (355, 500), (500, 333), (500, 375), (250, 188), (500, 483), (500, 333), (250, 423), (300, 225), (500, 375), (500, 375), (500, 375), (374, 500), (500, 500), (500, 333), (221, 147), (333, 500), (267, 350), (500, 375), (320, 240), (500, 333), (500, 375), (500, 375), (360, 281), (500, 375), (357, 500), (500, 333), (500, 375), (335, 500), (500, 412), (640, 372), (500, 375), (250, 266), (250, 213), (500, 375), (500, 333), (500, 375), (288, 240), (500, 375), (375, 500), (500, 333), (500, 403), (500, 333), (375, 500), (500, 375), (250, 250), (500, 375), (360, 236), (410, 306), (500, 334), (500, 481), (500, 344), (908, 585), (316, 500), (500, 375), (375, 500), (450, 300), (500, 375), (408, 306), (563, 512), (224, 230), (500, 375), (500, 375), (500, 333), (500, 333), (500, 376), (500, 375), (500, 333), (500, 375), (500, 333), (500, 375), (500, 375), (499, 334), (500, 397), (500, 375), (382, 300), (500, 375), (500, 375), (500, 375), (500, 375), (333, 500), (500, 375), (500, 375), (227, 190), (500, 334), (200, 200), (500, 375), (434, 500), (375, 500), (475, 420), (190, 168), (500, 468), (374, 500), (500, 340), (375, 500), (300, 207), (500, 375), (500, 332), (500, 375), (500, 375), (500, 375), (500, 333), (400, 300), (500, 438), (500, 332), (375, 500), (375, 500), (500, 376), (500, 375), (500, 375), (223, 259), (500, 400), (196, 274), (480, 454), (223, 259), (500, 375), (375, 500), (120, 120), (500, 333), (500, 300), (225, 225), (500, 299), (500, 375), (500, 354), (500, 333), (500, 431), (500, 377), (300, 392), (299, 395), (500, 375), (500, 375), (375, 500), (500, 339), (500, 375), (500, 429), (480, 360), (375, 500), (480, 427), (451, 500), (500, 375), (300, 297), (324, 215), (392, 308), (500, 421), (200, 280), (500, 375), (500, 375), (620, 546), (500, 474), (500, 375), (500, 375), (240, 204), (500, 375), (158, 215), (500, 375), (500, 332), (500, 375), (500, 333), (375, 500), (500, 375), (500, 375), (334, 500), (395, 232), (500, 333), (500, 375), (400, 299), (500, 333), (325, 500), (500, 375), (333, 500), (500, 375), (158, 240), (353, 300), (202, 170), (332, 333), (455, 421), (300, 209), (400, 243), (500, 375), (220, 220), (500, 333), (500, 375), (640, 480), (500, 375), (400, 264), (500, 333), (345, 495), (375, 500), (500, 329), (500, 375), (230, 380), (200, 133), (375, 500), (500, 375), (332, 500), (464, 500), (343, 379), (333, 500), (400, 322), (500, 333), (500, 375), (500, 333), (240, 200), (500, 375), (323, 500), (500, 375), (500, 375), (333, 500), (533, 800), (200, 175), (500, 375), (150, 226), (500, 375), (226, 226), (550, 412), (500, 333), (400, 300), (506, 366), (493, 329), (500, 333), (500, 327), (405, 500), (700, 549), (500, 325), (500, 444), (294, 216), (500, 333), (288, 432), (500, 321), (375, 500), (375, 500), (500, 333), (225, 300), (500, 333), (500, 333), (500, 375), (500, 327), (500, 375), (500, 375), (500, 374), (500, 375), (500, 375), (500, 375), (333, 500), (500, 375), (500, 375), (500, 375), (500, 375), (235, 306), (500, 446), (500, 375), (580, 435), (500, 333), (500, 375), (500, 400), (210, 210), (500, 433), (600, 449), (500, 375), (480, 500), (224, 368), (500, 375), (394, 348), (250, 173), (500, 315), (500, 334), (360, 270), (752, 498), (610, 545), (639, 600), (500, 333), (333, 500), (375, 500), (640, 480), (500, 436), (400, 199), (500, 375), (334, 500), (321, 500), (500, 333), (375, 500), (250, 194), (375, 500), (160, 200), (334, 500), (321, 360), (400, 213), (500, 400), (368, 500), (500, 452), (340, 500), (500, 375), (343, 252), (375, 500), (500, 375), (500, 386), (495, 367), (280, 214), (500, 375), (333, 500), (443, 500), (500, 446), (212, 264), (148, 205), (332, 500), (500, 375), (468, 351), (500, 375), (500, 375), (356, 500), (500, 315), (500, 420), (333, 500), (500, 224), (307, 293), (500, 333), (357, 500), (500, 375), (495, 500), (375, 500), (375, 500), (437, 382), (500, 375), (500, 334), (500, 375), (450, 600), (250, 198), (174, 200), (500, 375), (500, 375), (500, 375), (500, 333), (500, 455), (375, 500), (500, 375), (333, 500), (500, 333), (500, 333), (333, 500), (333, 500), (300, 247), (244, 400), (500, 360), (275, 250), (500, 333), (200, 150), (307, 226), (500, 400), (200, 200), (500, 333), (500, 372), (347, 500), (300, 232), (450, 504), (500, 358), (500, 375), (500, 375), (500, 333), (500, 392), (500, 375), (369, 500), (500, 375), (500, 375), (159, 196), (334, 500), (500, 357), (285, 360), (500, 363), (500, 375), (374, 306), (284, 236), (494, 500), (500, 375), (500, 375), (450, 421), (334, 500), (500, 375), (500, 375), (300, 357), (500, 375), (190, 259), (2048, 1536), (148, 180), (333, 500), (375, 500), (500, 343), (443, 500), (500, 333), (269, 350), (368, 500), (500, 375), (229, 186), (500, 375), (250, 200), (500, 375), (500, 500), (375, 500), (500, 332), (500, 380), (485, 500), (412, 500), (375, 500), (500, 273), (375, 500), (500, 338), (500, 375), (375, 500), (333, 500), (500, 333), (375, 500), (500, 300), (500, 333), (500, 375), (300, 426), (333, 500), (528, 525), (179, 150), (400, 371), (489, 477), (500, 375), (500, 334), (375, 500), (357, 500), (500, 333), (300, 410), (500, 375), (500, 375), (600, 410), (500, 375), (500, 327), (500, 375), (200, 148), (333, 500), (500, 375), (270, 253), (500, 364), (375, 500), (336, 352), (500, 375), (375, 500), (210, 189), (500, 375), (500, 493), (333, 500), (850, 638), (500, 334), (300, 299), (330, 500), (500, 394), (333, 500), (500, 375), (500, 375), (336, 384), (500, 375), (500, 375), (500, 378), (500, 399), (500, 335), (355, 500), (500, 333), (300, 225), (373, 314), (500, 375), (442, 360), (500, 375), (300, 283), (350, 263), (640, 480), (333, 500), (500, 375), (400, 500), (375, 500), (539, 400), (500, 375), (375, 500), (489, 500), (375, 500), (500, 438), (500, 334), (440, 295), (500, 375), (800, 600), (500, 375), (275, 271), (450, 600), (500, 375), (240, 270), (425, 319), (381, 253), (500, 333), (215, 286), (400, 300), (500, 375), (333, 500), (500, 375), (295, 293), (468, 425), (500, 365), (492, 500), (500, 333), (500, 333), (500, 334), (500, 333), (290, 321), (332, 500), (164, 154), (500, 332), (400, 300), (500, 406), (357, 500), (450, 300), (500, 333), (500, 375), (400, 251), (375, 500), (332, 500), (345, 500), (500, 372), (450, 532), (500, 375), (500, 375), (500, 333), (250, 187), (333, 500), (430, 500), (361, 278), (500, 375), (350, 284), (500, 363), (500, 365), (600, 450), (500, 371), (500, 500), (500, 332), (500, 377), (500, 334), (500, 394), (591, 394), (500, 375), (363, 500), (500, 375), (500, 375), (300, 250), (500, 375), (500, 334), (216, 180), (450, 312), (322, 500), (357, 500), (375, 500), (500, 333), (332, 500), (500, 375), (335, 500), (333, 500), (318, 397), (500, 374), (500, 331), (333, 500), (500, 375), (500, 430), (500, 375), (375, 500), (500, 375), (300, 232), (451, 305), (500, 375), (500, 333), (500, 375), (454, 500), (423, 500), (500, 375), (155, 230), (500, 368), (500, 476), (500, 375), (441, 500), (160, 170), (300, 293), (300, 217), (377, 500), (500, 375), (500, 334), (500, 408), (500, 393), (333, 500), (500, 338), (333, 500), (500, 375), (500, 376), (500, 325), (500, 375), (512, 384), (500, 333), (502, 292), (500, 375), (360, 240), (500, 374), (500, 462), (476, 500), (500, 467), (500, 333), (500, 375), (450, 390), (500, 400), (333, 500), (200, 155), (500, 335), (500, 458), (200, 168), (500, 375), (500, 375), (250, 252), (500, 333), (375, 500), (500, 334), (200, 200), (352, 500), (500, 375), (500, 333), (300, 261), (200, 208), (500, 375), (398, 265), (500, 375), (500, 375), (500, 375), (500, 382), (360, 480), (350, 236), (500, 333), (387, 284), (334, 500), (421, 500), (500, 333), (500, 333), (800, 686), (500, 400), (375, 500), (270, 287), (394, 500), (500, 375), (500, 333), (500, 375), (389, 500), (240, 259), (225, 209), (375, 500), (500, 332), (379, 500), (500, 375), (500, 375), (320, 240), (288, 295), (400, 308), (500, 375), (500, 375), (500, 375), (200, 150), (334, 250), (500, 385), (250, 328), (500, 337), (375, 500), (340, 243), (350, 383), (349, 360), (500, 375), (333, 500), (394, 500), (500, 375), (500, 332), (250, 320), (500, 444), (358, 500), (313, 260), (458, 500), (500, 376), (440, 500), (500, 333), (375, 500), (375, 500), (500, 375), (2048, 1536), (500, 375), (500, 429), (500, 500), (250, 200), (375, 500), (2272, 1704), (300, 485), (500, 308), (500, 368), (500, 375), (500, 375), (500, 375), (351, 308), (336, 448), (500, 333), (500, 375), (300, 293), (500, 333), (500, 375), (500, 375), (500, 375), (437, 500), (500, 375), (603, 454), (480, 360), (297, 448), (375, 500), (500, 375), (205, 415), (500, 325), (360, 480), (375, 500), (200, 200), (500, 332), (500, 375), (367, 424), (500, 375), (375, 500), (333, 281), (500, 359), (160, 160), (600, 558), (500, 375), (375, 500), (357, 500), (500, 375), (210, 210), (500, 375), (200, 144), (500, 375), (225, 225), (500, 400), (414, 298), (357, 500), (500, 330), (300, 240), (500, 375), (500, 333), (500, 383), (500, 480), (500, 320), (421, 500), (500, 379), (217, 211), (500, 264), (350, 238), (500, 432), (319, 480), (333, 500), (216, 305), (500, 375), (500, 375), (400, 267), (365, 239), (500, 333), (500, 375), (375, 500), (500, 400), (500, 375), (500, 333), (1348, 1007), (374, 424), (500, 375), (300, 278), (500, 387), (350, 500), (500, 375), (500, 334), (640, 480), (192, 256), (500, 375), (500, 375), (486, 500), (715, 961), (500, 375), (176, 260), (500, 467), (500, 333), (500, 375), (500, 375), (840, 771), (326, 360), (382, 500), (500, 333), (500, 374), (500, 375), (233, 226), (500, 375), (500, 347), (500, 374), (500, 333), (440, 598), (340, 482), (500, 375), (314, 235), (500, 362), (500, 388), (375, 500), (500, 375), (160, 237), (500, 375), (500, 400), (500, 295), (189, 300), (500, 352), (500, 375), (288, 232), (500, 333), (375, 500), (500, 375), (500, 333), (500, 334), (513, 480), (500, 333), (375, 500), (394, 365), (500, 375), (200, 262), (375, 500), (495, 398), (500, 500), (333, 500), (500, 326), (500, 375), (500, 375), (500, 500), (500, 375), (500, 333), (500, 357), (500, 375), (216, 153), (375, 500), (375, 500), (500, 375), (349, 350), (500, 375), (500, 375), (500, 375), (500, 332), (500, 488), (500, 375), (425, 289), (500, 467), (204, 171), (500, 375), (500, 375), (500, 375), (500, 375), (357, 500), (500, 375), (500, 375), (683, 599), (480, 360), (334, 500), (500, 375), (400, 309), (640, 479), (500, 333), (324, 283), (200, 160), (500, 375), (500, 378), (500, 375), (500, 333), (280, 216), (332, 500), (288, 233), (321, 350), (500, 272), (500, 333), (500, 375), (333, 500), (500, 334), (459, 505), (500, 333), (500, 375), (385, 500), (500, 354), (500, 333), (500, 375), (500, 375), (375, 500), (500, 357), (500, 500), (375, 500), (500, 381), (500, 375), (342, 500), (448, 500), (580, 435), (500, 406), (500, 437), (600, 521), (500, 329), (500, 375), (361, 500), (766, 1024), (500, 333), (500, 375), (500, 375), (300, 300), (500, 333), (640, 501), (266, 227), (500, 316), (500, 375), (500, 375), (425, 600), (640, 480), (350, 233), (332, 500), (429, 500), (547, 774), (343, 500), (360, 370), (500, 375), (476, 340), (362, 256), (500, 409), (500, 375), (333, 500), (500, 375), (345, 500), (375, 500), (500, 375), (500, 334), (600, 398), (200, 286), (500, 375), (499, 500), (600, 422), (800, 568), (363, 500), (500, 336), (500, 499), (500, 375), (375, 500), (500, 375), (500, 342), (215, 215), (500, 375), (500, 375), (500, 333), (333, 500), (500, 375), (500, 333), (435, 328), (375, 500), (500, 333), (252, 168), (320, 240), (500, 375), (352, 264), (500, 333), (368, 317), (500, 375), (333, 500), (350, 350), (500, 375), (500, 375), (805, 589), (474, 500), (500, 319), (500, 375), (448, 336), (500, 340), (490, 640), (500, 400), (500, 375), (500, 333), (200, 140), (500, 375), (378, 500), (500, 375), (333, 500), (500, 453), (500, 332), (500, 332), (500, 335), (500, 333), (500, 375), (218, 500), (640, 480), (298, 451), (446, 500), (500, 375), (500, 375), (500, 472), (500, 375), (200, 150), (500, 375), (150, 170), (324, 500), (500, 375), (300, 381), (500, 375), (250, 266), (350, 233), (300, 225), (333, 439), (500, 375), (500, 357), (294, 294), (500, 332), (500, 375), (500, 500), (500, 375), (500, 408), (500, 375), (319, 480), (375, 500), (375, 500), (354, 500), (250, 306), (500, 375), (500, 333), (550, 505), (357, 500), (500, 334), (500, 334), (170, 240), (500, 333), (500, 375), (216, 288), (500, 375), (432, 500), (333, 500), (500, 333), (333, 500), (500, 333), (500, 375), (640, 575), (500, 333), (500, 390), (500, 375), (500, 297), (500, 368), (500, 311), (500, 333), (400, 447), (500, 374), (500, 375), (375, 500), (500, 399), (500, 375), (500, 375), (500, 339), (500, 375), (332, 500), (500, 334), (406, 500), (350, 368), (348, 500), (443, 500), (136, 180), (500, 500), (400, 311), (324, 287), (500, 375), (333, 500), (500, 386), (456, 357), (333, 500), (500, 333), (500, 375), (424, 268), (500, 361), (221, 193), (500, 387), (173, 270), (500, 333), (500, 471), (300, 400), (500, 375), (256, 270), (500, 375), (500, 375), (500, 375), (500, 375), (433, 302), (500, 375), (103, 120), (817, 429), (500, 333), (500, 375), (375, 500), (500, 333), (500, 331), (500, 333), (500, 375), (132, 200), (500, 500), (450, 378), (283, 360), (360, 270), (250, 186), (500, 333), (333, 500), (500, 331), (500, 375), (292, 432), (500, 375), (500, 332), (351, 243), (500, 333), (500, 332), (500, 375), (173, 201), (375, 500), (303, 480), (500, 375), (500, 479), (500, 388), (400, 300), (500, 301), (500, 333), (500, 333), (500, 375), (500, 375), (332, 500), (500, 375), (567, 305), (500, 457), (500, 333), (145, 167), (422, 500), (500, 333), (500, 452), (300, 340), (500, 395), (500, 333), (500, 433), (276, 246), (320, 379), (500, 281), (333, 500), (333, 500), (500, 375), (320, 354), (500, 375), (500, 375), (333, 500), (500, 446), (300, 243), (600, 550), (495, 500), (500, 375), (400, 500), (500, 297), (500, 333), (331, 500), (500, 331), (500, 375), (500, 333), (375, 500), (500, 500), (500, 375), (500, 375), (500, 418), (380, 313), (300, 333), (500, 333), (500, 423), (375, 500), (398, 236), (500, 348), (500, 333), (500, 500), (200, 285), (500, 333), (500, 375), (500, 303), (480, 360), (333, 500), (500, 445), (800, 877), (308, 410), (300, 375), (400, 500), (500, 375), (325, 340), (500, 333), (333, 500), (375, 500), (500, 333), (333, 500), (500, 375), (500, 333), (640, 448), (500, 375), (500, 374), (540, 345), (500, 375), (500, 375), (261, 313), (320, 348), (500, 375), (250, 320), (450, 441), (500, 333), (375, 500), (500, 375), (500, 342), (369, 216), (500, 422), (500, 375), (500, 375), (375, 500), (500, 375), (500, 333), (500, 375), (486, 500), (500, 361), (500, 375), (500, 379), (375, 500), (500, 500), (500, 367), (375, 500), (600, 449), (333, 500), (375, 500), (500, 333), (375, 500), (378, 354), (500, 357), (300, 245), (480, 372), (960, 1280), (500, 375), (410, 424), (500, 375), (500, 375), (400, 460), (500, 375), (500, 333), (500, 375), (200, 200), (500, 375), (500, 375), (500, 303), (500, 333), (456, 500), (148, 208), (500, 375), (500, 357), (332, 500), (268, 243), (500, 500), (350, 263), (500, 333), (525, 700), (500, 357), (500, 375), (385, 500), (404, 327), (500, 333), (500, 375), (500, 375), (375, 500), (307, 230), (500, 324), (500, 333), (200, 200), (320, 320), (500, 425), (375, 500), (500, 334), (500, 375), (367, 259), (500, 375), (373, 500), (500, 373), (500, 334), (500, 375), (450, 295), (333, 500), (411, 236), (500, 375), (500, 375), (500, 375), (500, 375), (500, 375), (300, 271), (512, 384), (500, 332), (500, 333), (375, 500), (500, 375), (400, 202), (500, 333), (500, 333), (232, 173), (500, 375), (375, 500), (500, 491), (500, 333), (500, 333), (350, 228), (500, 413), (500, 333), (400, 300), (333, 500), (500, 375), (440, 500), (374, 500), (333, 500), (448, 500), (500, 375), (320, 240), (500, 334), (500, 333), (500, 390), (500, 362), (331, 500), (500, 331), (500, 342), (500, 333), (500, 333), (500, 375), (500, 375), (500, 333), (500, 500), (200, 300), (500, 375), (500, 375), (500, 375), (427, 465), (450, 600), (500, 375), (486, 500), (500, 357), (500, 375), (375, 500), (500, 375), (350, 246), (500, 375), (800, 533), (500, 331), (333, 500), (500, 384), (500, 375), (375, 500), (500, 375), (500, 375), (300, 250), (375, 500), (500, 333), (221, 248), (339, 428), (500, 491), (223, 259), (500, 321), (500, 494), (500, 375), (500, 333), (500, 500), (500, 375), (500, 345), (500, 375), (500, 375), (300, 436), (500, 375), (576, 400), (500, 375), (500, 375), (500, 375), (638, 454), (550, 412), (500, 375), (500, 375), (375, 500), (500, 375), (500, 375), (351, 360), (375, 500), (573, 507), (500, 375), (206, 200), (500, 357), (500, 375), (400, 500), (500, 375), (500, 375), (500, 334), (469, 625), (500, 301), (500, 374), (200, 150), (440, 330), (500, 375), (500, 375), (500, 375), (320, 343), (500, 371), (500, 375), (500, 375), (333, 500), (350, 426), (500, 375), (500, 333), (500, 375), (500, 375), (500, 375), (300, 458), (220, 220), (500, 375), (500, 333), (500, 375), (333, 500), (500, 333), (500, 499), (233, 198), (500, 357), (500, 426), (200, 300), (228, 400), (500, 332), (500, 334), (278, 448), (400, 266), (500, 331), (500, 333), (400, 300), (250, 333), (500, 333), (436, 386), (500, 397), (500, 333), (500, 475), (500, 332), (375, 500), (500, 375), (375, 500), (396, 500), (500, 375), (320, 240), (400, 309), (429, 500), (500, 333), (640, 480), (540, 348), (260, 201), (288, 360), (375, 500), (250, 237), (500, 375), (200, 299), (500, 328), (500, 333), (500, 400), (500, 375), (500, 375), (500, 400), (333, 500), (500, 333), (450, 593), (600, 400), (500, 330), (2080, 1544), (500, 406), (375, 500), (500, 375), (375, 500), (500, 334), (640, 392), (500, 333), (500, 440), (500, 500), (320, 240), (200, 200), (283, 251), (333, 500), (377, 500), (500, 325), (333, 500), (500, 375), (375, 500), (336, 500), (333, 500), (279, 500), (364, 500), (500, 375), (500, 375), (500, 334), (500, 375), (375, 500), (360, 270), (500, 334), (350, 364), (336, 365), (180, 216), (500, 376), (500, 375), (270, 360), (500, 375), (320, 213), (500, 332), (500, 332), (500, 374), (360, 270), (500, 375), (489, 500), (500, 399), (435, 500), (250, 188), (500, 257), (500, 375), (444, 500), (500, 333), (500, 375), (375, 500), (321, 480), (375, 500), (500, 375), (300, 214), (375, 500), (500, 357), (500, 375), (500, 365), (500, 333), (365, 500), (500, 374), (334, 500), (500, 500), (375, 500), (500, 375), (240, 320), (500, 375), (500, 334), (500, 332), (500, 333), (500, 331), (250, 403), (500, 375), (500, 333), (500, 357), (375, 500), (500, 375), (500, 375), (500, 476), (500, 333), (500, 375), (375, 500), (500, 375), (200, 158), (200, 172), (500, 333), (500, 375), (374, 500), (500, 333), (357, 500), (500, 376), (300, 190), (500, 375), (332, 500), (300, 242), (364, 500), (189, 240), (488, 500), (250, 223), (500, 443), (500, 375), (500, 333), (300, 420), (500, 375), (500, 375), (500, 333), (500, 375), (250, 262), (408, 500), (323, 500), (500, 375), (304, 232), (480, 360), (500, 305), (381, 274), (479, 360), (332, 500), (483, 500), (800, 533), (333, 500), (500, 375), (500, 334), (300, 208), (500, 375), (360, 480), (500, 375), (600, 394), (457, 500), (500, 337), (500, 375), (500, 357), (500, 332), (500, 500), (500, 346), (500, 433), (500, 375), (500, 333), (233, 320), (500, 335), (500, 375), (500, 375), (350, 500), (500, 375), (301, 425), (500, 375), (500, 414), (298, 500), (500, 375), (216, 324), (500, 375), (335, 300), (375, 500), (350, 300), (500, 373), (375, 500), (500, 375), (300, 237), (500, 321), (500, 334), (468, 431), (500, 298), (500, 325), (500, 333), (345, 500), (500, 437), (500, 376), (500, 330), (495, 500), (500, 302), (500, 333), (500, 333), (500, 375), (500, 375), (381, 500), (500, 333), (295, 285), (500, 375), (500, 333), (386, 500), (500, 375), (500, 375), (330, 500), (375, 500), (300, 350), (500, 388), (500, 375), (333, 500), (500, 334), (400, 278), (375, 500), (337, 500), (500, 356), (500, 387), (500, 375), (800, 600), (357, 500), (440, 500), (500, 368), (500, 375), (431, 377), (333, 500), (285, 400), (449, 500), (375, 500), (500, 375), (500, 375), (500, 375), (243, 220), (265, 350), (333, 500), (500, 331), (350, 467), (156, 176), (500, 375), (500, 400), (375, 500), (500, 499), (500, 375), (375, 500), (390, 293), (432, 349), (382, 434), (500, 375), (500, 333), (679, 599), (500, 359), (500, 375), (500, 400), (500, 375), (500, 333), (500, 375), (418, 512), (500, 375), (500, 333), (500, 334), (500, 375), (500, 375), (244, 360), (500, 339), (500, 332), (300, 225), (375, 500), (500, 333), (500, 375), (425, 323), (389, 715), (500, 375), (500, 378), (500, 375), (500, 375), (454, 340), (500, 375), (400, 334), (640, 480), (460, 344), (200, 235), (500, 375), (500, 333), (450, 392), (473, 500), (500, 375), (208, 281), (361, 312), (375, 500), (500, 375), (500, 375), (500, 333), (500, 375), (400, 300), (361, 500), (360, 270), (500, 375), (408, 500), (360, 500), (500, 333), (480, 360), (500, 333), (333, 500), (500, 333), (500, 375), (333, 500), (374, 500), (375, 500), (310, 500), (500, 333), (751, 407), (500, 500), (500, 375), (250, 188), (334, 500), (389, 550), (500, 375), (500, 333), (500, 334), (349, 360), (500, 375), (500, 375), (500, 334), (500, 376), (460, 345), (500, 375), (500, 375), (500, 375), (370, 500), (500, 375), (500, 375), (500, 375), (500, 333), (427, 500), (500, 374), (300, 405), (400, 283), (500, 375), (415, 500), (375, 500), (500, 375), (375, 500), (500, 375), (332, 500), (314, 284), (500, 375), (500, 361), (350, 262), (500, 385), (150, 150), (500, 333), (400, 377), (448, 336), (500, 375), (540, 418), (500, 400), (213, 150), (500, 500), (500, 375), (336, 500), (241, 160), (375, 500), (500, 375), (500, 375), (500, 375), (500, 375), (334, 500), (380, 500), (500, 333), (300, 278), (500, 333), (300, 332), (500, 375), (333, 500), (334, 500), (375, 500), (428, 600), (299, 415), (409, 307), (410, 500), (500, 375), (450, 544), (480, 439), (500, 375), (500, 375), (287, 363), (500, 434), (500, 474), (640, 480), (497, 640), (274, 365), (350, 263), (500, 375), (309, 390), (500, 394), (500, 333), (500, 333), (500, 375), (500, 500), (210, 216), (375, 500), (500, 498), (290, 277), (320, 360), (500, 375), (640, 480), (500, 375), (333, 500), (500, 375), (500, 532), (500, 375), (500, 375), (500, 375), (500, 375), (266, 216), (500, 375), (375, 500), (640, 480), (323, 500), (300, 225), (500, 375), (2048, 1536), (500, 375), (500, 334), (375, 500), (275, 200), (298, 425), (500, 333), (377, 296), (500, 398), (500, 333), (334, 500), (332, 500), (425, 500), (400, 300), (500, 375), (500, 333), (188, 250), (500, 340), (500, 332), (500, 319), (500, 333), (500, 333), (234, 300), (300, 242), (375, 500), (389, 600), (500, 333), (500, 375), (500, 357), (500, 375), (800, 441), (375, 500), (250, 226), (500, 333), (500, 333), (500, 375), (500, 460), (500, 375), (333, 500), (500, 334), (403, 500), (500, 333), (500, 375), (360, 330), (398, 530), (500, 375), (500, 375), (193, 295), (300, 225), (250, 158), (500, 375), (350, 500), (333, 500), (500, 333), (200, 216), (161, 240), (300, 251), (375, 500), (500, 333), (500, 335), (500, 375), (500, 353), (332, 500), (500, 342), (375, 500), (500, 375), (500, 375), (333, 500), (301, 200), (500, 333), (500, 333), (200, 290), (328, 311), (300, 280), (200, 141), (350, 527), (500, 333), (325, 367), (368, 300), (300, 300), (500, 375), (429, 500), (500, 346), (375, 500), (500, 375), (334, 500), (325, 500), (240, 200), (323, 500), (283, 455), (700, 519), (500, 375), (500, 333), (363, 500), (500, 357), (460, 447), (165, 141), (353, 317), (350, 302), (468, 408), (500, 375), (500, 375), (500, 375), (339, 360), (500, 375), (500, 375), (245, 286), (500, 375), (1024, 767), (350, 242), (375, 500), (375, 500), (250, 176), (368, 413), (500, 346), (500, 357), (500, 333), (500, 375), (300, 376), (449, 500), (327, 500), (500, 375), (500, 332), (500, 375), (500, 375), (550, 466), (500, 332), (300, 352), (500, 375), (333, 500), (333, 500), (500, 427), (404, 450), (500, 335), (424, 500), (500, 333), (333, 500), (500, 287), (500, 375), (724, 580), (500, 375), (500, 333), (235, 168), (333, 500), (500, 375), (500, 375), (375, 500), (500, 346), (500, 375), (375, 500), (500, 375), (400, 340), (334, 500), (375, 500), (500, 375), (333, 500), (500, 375), (320, 240), (250, 395), (500, 375), (333, 500), (415, 375), (500, 436), (500, 333), (500, 375), (500, 332), (581, 525), (500, 375), (186, 207), (333, 500), (500, 333), (300, 260), (434, 545), (500, 375), (328, 293), (285, 288), (203, 250), (500, 346), (500, 366), (400, 300), (350, 221), (333, 500), (800, 537), (500, 347), (500, 375), (500, 375), (375, 500), (403, 382), (481, 500), (330, 247), (400, 287), (466, 500), (500, 375), (500, 333), (500, 375), (616, 437), (320, 240), (371, 219), (500, 375), (381, 253), (300, 252), (274, 500), (500, 334), (500, 333), (500, 375), (500, 298), (500, 463), (500, 375), (375, 500), (400, 266), (453, 464), (500, 375), (500, 375), (500, 338), (306, 346), (358, 500), (269, 279), (500, 466), (250, 214), (390, 390), (500, 375), (500, 343), (500, 375), (462, 500), (375, 500), (500, 375), (500, 375), (640, 594), (500, 750), (500, 375), (500, 338), (300, 271), (500, 375), (500, 375), (363, 432), (313, 324), (500, 375), (464, 348), (250, 322), (500, 333), (120, 102), (500, 375), (500, 375), (360, 240), (610, 914), (375, 500), (302, 400), (500, 375), (500, 333), (500, 375), (360, 292), (375, 500), (500, 375), (500, 333), (500, 375), (332, 500), (500, 375), (297, 224), (450, 338), (500, 450), (375, 500), (500, 375), (472, 500), (500, 375), (375, 500), (500, 375), (500, 375), (428, 600), (500, 375), (500, 375), (262, 279), (500, 333), (375, 500), (333, 500), (338, 500), (350, 347), (500, 375), (500, 388), (375, 500), (500, 374), (500, 375), (500, 375), (500, 333), (500, 319), (300, 300), (452, 301), (375, 500), (500, 375), (500, 375), (200, 280), (500, 375), (500, 375), (266, 400), (199, 150), (500, 375), (500, 375), (375, 500), (500, 375), (375, 500), (500, 375), (500, 464), (846, 743), (500, 375), (432, 288), (500, 375), (464, 500), (480, 500), (500, 337), (231, 200), (500, 333), (500, 375), (500, 375), (400, 300), (382, 400), (500, 375), (250, 369), (240, 184), (500, 333), (500, 333), (300, 411), (500, 375), (360, 254), (500, 374), (500, 333), (335, 500), (400, 330), (500, 333), (500, 375), (333, 500), (333, 500), (500, 375), (500, 328), (300, 225), (500, 375), (497, 500), (500, 496), (500, 375), (498, 332), (326, 500), (500, 375), (500, 345), (225, 300), (455, 500), (500, 334), (500, 333), (350, 290), (300, 290), (500, 397), (300, 240), (386, 500), (386, 500), (320, 240), (333, 500), (484, 306), (333, 500), (800, 533), (375, 500), (400, 300), (333, 500), (500, 333), (375, 500), (375, 500), (400, 300), (200, 156), (427, 303), (481, 500), (500, 375), (300, 367), (460, 240), (269, 353), (500, 375), (500, 375), (250, 190), (500, 375), (500, 375), (500, 375), (500, 375), (500, 411), (322, 457), (500, 375), (500, 325), (500, 375), (167, 250), (500, 333), (500, 323), (191, 191), (500, 375), (200, 146), (365, 290), (333, 500), (701, 1049), (500, 333), (349, 247), (500, 333), (500, 382), (500, 375), (500, 375), (500, 375), (500, 462), (500, 350), (375, 500), (500, 375), (210, 296), (333, 500), (186, 207), (500, 375), (290, 378), (251, 306), (500, 375), (500, 374), (450, 267), (500, 375), (500, 375), (500, 452), (375, 500), (500, 375), (500, 375), (500, 375), (373, 245), (375, 500), (310, 283), (200, 200), (500, 333), (500, 375), (500, 375), (180, 163), (500, 375), (189, 167), (500, 375), (300, 225), (500, 333), (500, 333), (500, 332), (500, 375), (500, 333), (250, 187), (500, 333), (200, 145), (500, 333), (250, 423), (500, 212), (500, 355), (500, 377), (500, 347), (300, 260), (241, 250), (375, 500), (500, 375), (500, 375), (200, 153), (500, 333), (500, 333), (500, 332), (500, 333), (500, 376), (500, 375), (500, 375), (800, 1037), (500, 375), (500, 499), (500, 333), (800, 600), (375, 500), (500, 369), (500, 338), (200, 144), (500, 371), (382, 400), (400, 298), (500, 375), (500, 375), (350, 369), (180, 209), (200, 219), (500, 333), (500, 333), (500, 333), (500, 333), (640, 480), (464, 656), (500, 375), (350, 355), (375, 500), (470, 350), (500, 375), (500, 375), (400, 268), (400, 301), (500, 332), (500, 333), (333, 500), (500, 375), (480, 361), (374, 500), (500, 333), (500, 375), (375, 500), (500, 375), (385, 300), (500, 375), (500, 388), (492, 369), (500, 426), (500, 375), (480, 360), (450, 350), (500, 333), (450, 314), (375, 500), (292, 202), (375, 500), (500, 500), (500, 333), (375, 500), (252, 381), (198, 281), (500, 375), (375, 500), (359, 321), (500, 332), (180, 151), (481, 452), (500, 375), (500, 333), (500, 375), (389, 420), (400, 362), (200, 280), (375, 500), (500, 375), (440, 500), (500, 388), (500, 332), (332, 500), (267, 302), (357, 305), (500, 375), (500, 375), (500, 314), (500, 333), (500, 333), (500, 375), (500, 333), (333, 500), (210, 179), (500, 500), (500, 375), (500, 374), (500, 416), (500, 383), (363, 500), (500, 375), (500, 334), (500, 375), (500, 334), (500, 375), (400, 449), (500, 375), (500, 375), (451, 500), (500, 375), (500, 375), (400, 500), (492, 500), (333, 500), (500, 333), (550, 403), (500, 375), (500, 375), (500, 375), (375, 500), (375, 500), (343, 500), (500, 333), (500, 333), (500, 375), (333, 500), (500, 374), (314, 235), (500, 375), (500, 476), (250, 143), (500, 411), (500, 333), (360, 270), (375, 500), (375, 500), (300, 201), (500, 333), (500, 379), (3264, 2448), (300, 300), (800, 532), (300, 271), (500, 375), (500, 333), (333, 500), (500, 334), (500, 375), (336, 269), (500, 404), (225, 225), (500, 315), (500, 375), (500, 332), (249, 190), (300, 225), (500, 375), (500, 333), (500, 375), (500, 500), (148, 214), (500, 375), (500, 375), (500, 332), (500, 333), (785, 605), (221, 300), (506, 311), (180, 154), (500, 397), (500, 375), (332, 500), (375, 500), (500, 355), (470, 500), (500, 375), (500, 375), (390, 500), (333, 500), (500, 500), (500, 375), (484, 500), (375, 500), (434, 500), (500, 333), (500, 375), (322, 500), (176, 200), (500, 377), (333, 500), (500, 447), (404, 500), (425, 500), (360, 270), (500, 375), (333, 500), (500, 375), (400, 362), (375, 500), (500, 405), (333, 500), (350, 263), (250, 188), (375, 500), (500, 383), (138, 170), (333, 500), (600, 800), (448, 448), (400, 500), (500, 375), (500, 335), (333, 500), (500, 333), (1000, 790), (500, 375), (251, 360), (375, 500), (500, 375), (220, 216), (500, 333), (250, 250), (296, 500), (500, 375), (264, 264), (500, 375), (375, 316), (300, 200), (325, 311), (200, 168), (225, 197), (500, 375), (375, 500), (560, 806), (600, 448), (290, 250), (500, 375), (500, 333), (500, 375), (458, 500), (200, 212), (500, 366), (363, 500), (500, 334), (500, 356), (500, 350), (500, 375), (334, 500), (500, 400), (500, 375), (400, 300), (500, 375), (250, 340), (399, 400), (375, 500), (350, 498), (300, 233), (500, 333), (500, 333), (392, 500), (400, 325), (500, 333), (375, 500), (500, 375), (500, 333), (500, 375), (365, 500), (500, 333), (250, 274), (288, 231), (500, 375), (300, 305), (500, 375), (500, 375), (500, 375), (500, 460), (1024, 768), (500, 334), (500, 375), (500, 333), (500, 491), (333, 500), (600, 468), (500, 375), (375, 500), (500, 483), (500, 375), (335, 500), (360, 480), (500, 350), (266, 186), (500, 340), (500, 375), (333, 500), (474, 445), (500, 375), (500, 375), (233, 300), (500, 375), (500, 375), (313, 250), (130, 122), (384, 408), (500, 375), (500, 375), (480, 320), (500, 333), (945, 1407), (250, 333), (375, 500), (500, 332), (369, 500), (357, 500), (500, 375), (500, 375), (332, 462), (358, 500), (500, 375), (320, 240), (300, 248), (500, 375), (500, 375), (500, 375), (500, 375), (270, 360), (201, 288), (500, 375), (396, 500), (1909, 1273), (500, 375), (500, 499), (500, 348), (333, 500), (325, 159), (375, 183), (500, 375), (500, 493), (732, 613), (500, 375), (829, 982), (500, 375), (500, 348), (201, 280), (357, 500), (299, 500), (500, 375), (500, 422), (500, 375), (500, 375), (500, 375), (1068, 1316), (500, 375), (340, 500), (334, 500), (500, 375), (350, 360), (463, 500), (500, 334), (334, 500), (479, 500), (333, 500), (275, 178), (500, 478), (288, 352), (300, 225), (300, 397), (500, 478), (351, 500), (500, 334), (600, 341), (375, 500), (500, 375), (375, 500), (276, 268), (500, 375), (906, 800), (500, 375), (375, 500), (500, 375), (500, 333), (349, 289), (550, 384), (350, 303), (271, 260), (500, 375), (500, 375), (375, 500), (500, 334), (333, 500), (187, 160), (375, 500), (333, 500), (400, 299), (375, 294), (375, 500), (500, 387), (500, 375), (263, 360), (500, 375), (314, 224), (500, 376), (317, 360), (333, 500), (191, 200), (500, 333), (500, 333), (300, 400), (340, 367), (500, 332), (500, 402), (450, 723), (500, 354), (250, 339), (414, 305), (285, 232), (332, 500), (366, 390), (250, 173), (500, 333), (500, 375), (500, 375), (500, 325), (450, 338), (375, 500), (400, 300), (500, 333), (375, 500), (500, 375), (300, 224), (500, 375), (171, 210), (500, 375), (350, 308), (500, 400), (500, 333), (500, 333), (500, 375), (500, 333), (352, 500), (500, 375), (500, 376), (333, 500), (334, 500), (375, 500), (339, 500), (500, 375), (500, 375), (500, 334), (240, 134), (375, 500), (500, 375), (340, 178), (500, 375), (500, 375), (500, 256), (333, 500), (500, 387), (534, 800), (500, 375), (500, 283), (500, 375), (640, 1134), (220, 241), (500, 375), (220, 300), (500, 375), (300, 225), (500, 375), (500, 375), (400, 442), (500, 375), (500, 375), (200, 300), (500, 334), (340, 500), (332, 500), (369, 500), (191, 165), (444, 281), (456, 600), (375, 500), (330, 241), (500, 341), (500, 394), (375, 500), (500, 491), (282, 500), (500, 375), (332, 500), (500, 376), (500, 333), (333, 500), (500, 375), (500, 333), (500, 335), (375, 500), (500, 329), (452, 600), (500, 333), (400, 356), (500, 319), (225, 225), (500, 374), (500, 431), (500, 375), (500, 375), (400, 300), (294, 220), (500, 375), (500, 332), (500, 333), (375, 500), (360, 267), (333, 500), (333, 500), (375, 500), (500, 374), (500, 375), (225, 300), (500, 332), (500, 436), (403, 500), (250, 176), (265, 366), (250, 263), (500, 375), (597, 501), (500, 375), (500, 375), (306, 377), (259, 400), (320, 390), (500, 375), (500, 375), (500, 333), (352, 470), (333, 500), (500, 334), (500, 375), (500, 375), (200, 133), (350, 303), (333, 500), (358, 500), (333, 500), (325, 386), (333, 500), (500, 389), (500, 375), (300, 360), (399, 500), (500, 471), (375, 500), (500, 333), (500, 375), (500, 375), (500, 375), (500, 281), (436, 297), (375, 500), (426, 322), (500, 375), (500, 375), (500, 390), (500, 375), (199, 255), (272, 350), (500, 333), (500, 417), (267, 306), (500, 375), (500, 333), (291, 267), (333, 500), (500, 375), (500, 357), (332, 500), (500, 375), (500, 375), (314, 500), (500, 375), (500, 268), (500, 375), (360, 360), (785, 530), (350, 429), (500, 375), (500, 325), (500, 375), (500, 375), (341, 500), (500, 323), (350, 500), (500, 439), (426, 404), (500, 375), (500, 337), (500, 328), (500, 375), (500, 375), (500, 375), (335, 500), (500, 333), (500, 333), (360, 270), (400, 343), (500, 333), (375, 500), (500, 375), (382, 498), (500, 334), (408, 310), (333, 500), (500, 319), (333, 500), (500, 334), (500, 333), (221, 172), (250, 224), (500, 334), (500, 376), (500, 375), (430, 380), (350, 347), (376, 500), (500, 333), (500, 375), (500, 375), (333, 500), (500, 375), (500, 334), (320, 249), (190, 174), (500, 333), (500, 375), (500, 375), (450, 361), (500, 375), (403, 500), (350, 272), (500, 375), (500, 379), (500, 439), (425, 380), (500, 375), (500, 375), (500, 333), (587, 894), (296, 400), (336, 464), (500, 365), (500, 375), (500, 378), (500, 375), (500, 333), (343, 296), (500, 375), (350, 218), (327, 500), (357, 500), (333, 500), (500, 333), (392, 500), (500, 333), (610, 406), (500, 375), (405, 545), (480, 321), (600, 850), (500, 333), (500, 375), (375, 500), (500, 375), (375, 500), (440, 345), (500, 375), (500, 375), (500, 352), (328, 500), (300, 430), (333, 500), (387, 500), (500, 333), (160, 120), (500, 375), (360, 287), (500, 332), (332, 500), (350, 343), (500, 357), (500, 313), (500, 344), (500, 375), (529, 768), (200, 150), (500, 333), (500, 375), (500, 375), (500, 390), (333, 500), (500, 335), (227, 297), (500, 333), (354, 500), (374, 450), (500, 333), (300, 266), (333, 500), (500, 335), (500, 375), (500, 375), (500, 333), (500, 349), (500, 375), (500, 334), (500, 375), (500, 360), (202, 254), (500, 375), (331, 500), (500, 375), (357, 500), (341, 233), (500, 465), (500, 333), (400, 500), (448, 311), (355, 375), (500, 333), (375, 500), (320, 240), (375, 500), (350, 350), (500, 332), (500, 334), (500, 333), (580, 418), (340, 256), (500, 375), (477, 500), (333, 500), (267, 400), (500, 375), (288, 432), (500, 442), (375, 500), (500, 326), (500, 375), (500, 333), (333, 500), (500, 375), (500, 333), (500, 333), (332, 500), (375, 500), (500, 447), (500, 333), (350, 342), (500, 333), (358, 242), (300, 225), (500, 357), (500, 319), (375, 500), (500, 375), (378, 500), (500, 375), (500, 332), (500, 333), (222, 200), (450, 726), (500, 375), (500, 375), (500, 375), (300, 246), (500, 333), (288, 432), (500, 333), (400, 300), (500, 334), (500, 333), (354, 500), (500, 333), (500, 375), (399, 500), (416, 500), (400, 300), (177, 166), (500, 333), (500, 376), (500, 375), (500, 375), (312, 286), (500, 375), (500, 333), (429, 300), (449, 500), (500, 375), (290, 290), (500, 375), (473, 340), (375, 500), (500, 375), (500, 375), (400, 300), (698, 508), (500, 375), (226, 292), (216, 205), (500, 333), (500, 319), (333, 500), (375, 500), (333, 500), (353, 500), (500, 375), (500, 375), (500, 377), (500, 375), (567, 413), (500, 424), (421, 500), (500, 375), (300, 225), (500, 332), (250, 354), (358, 500), (390, 390), (275, 203), (500, 333), (500, 331), (500, 333), (333, 500), (480, 360), (375, 500), (333, 500), (500, 324), (500, 375), (500, 333), (375, 500), (301, 271), (500, 325), (500, 357), (500, 352), (400, 300), (500, 333), (375, 500), (216, 224), (500, 334), (374, 500), (500, 377), (1888, 1348), (500, 332), (500, 334), (500, 330), (397, 500), (210, 210), (375, 500), (245, 157), (333, 500), (500, 375), (333, 500), (500, 333), (500, 375), (500, 375), (375, 500), (500, 441), (200, 272), (480, 359), (500, 375), (250, 332), (500, 350), (500, 375), (200, 192), (500, 333), (354, 500), (500, 359), (225, 200), (500, 332), (375, 500), (500, 313), (500, 375), (500, 375), (275, 408), (500, 333), (450, 314), (235, 374), (500, 375), (500, 375), (500, 359), (800, 760), (350, 394), (500, 375), (500, 375), (200, 212), (406, 378), (500, 333), (293, 220), (338, 500), (467, 500), (500, 332), (500, 375), (500, 360), (640, 627), (500, 375), (466, 300), (500, 375), (353, 500), (500, 334), (500, 375), (180, 240), (354, 500), (600, 404), (500, 375), (489, 500), (1024, 768), (375, 500), (500, 354), (500, 375), (500, 333), (500, 375), (500, 375), (230, 226), (200, 200), (500, 393), (506, 466), (500, 375), (420, 480), (500, 375), (640, 480), (500, 375), (333, 500), (450, 421), (500, 375), (500, 375), (500, 366), (500, 375), (500, 400), (243, 181), (500, 375), (363, 500), (500, 375), (500, 375), (500, 375), (341, 400), (500, 375), (210, 210), (500, 375), (500, 375), (500, 375), (266, 196), (500, 332), (290, 241), (500, 375), (500, 335), (1536, 1024), (210, 311), (500, 333), (500, 400), (500, 375), (500, 334), (500, 374), (500, 333), (333, 500), (375, 500), (320, 280), (500, 375), (500, 375), (400, 300), (333, 500), (300, 216), (982, 692), (500, 322), (500, 375), (500, 483), (2240, 1680), (400, 500), (250, 185), (500, 362), (500, 375), (500, 363), (380, 395), (375, 500), (333, 500), (368, 500), (500, 425), (500, 333), (500, 333), (2388, 2562), (275, 335), (333, 500), (333, 500), (250, 350), (500, 375), (500, 490), (500, 376), (500, 375), (500, 333), (318, 268), (500, 333), (500, 375), (500, 333), (271, 500), (320, 213), (500, 375), (468, 625), (500, 375), (500, 375), (375, 500), (500, 334), (1280, 1024), (500, 385), (298, 271), (400, 300), (330, 237), (500, 500), (500, 375), (450, 300), (500, 333), (360, 342), (500, 333), (500, 374), (500, 375), (500, 375), (500, 333), (500, 325), (333, 500), (500, 375), (240, 240), (360, 353), (500, 375), (165, 230), (500, 375), (500, 357), (398, 500), (500, 375), (500, 667), (333, 500), (500, 333), (237, 179), (309, 500), (200, 150), (500, 375), (450, 365), (500, 334), (375, 500), (500, 435), (333, 500), (1173, 795), (500, 375), (500, 459), (500, 375), (500, 375), (500, 375), (600, 450), (500, 333), (500, 500), (500, 434), (346, 500), (260, 194), (500, 500), (200, 150), (500, 327), (328, 455), (480, 360), (333, 500), (500, 375), (210, 210), (500, 333), (375, 500), (500, 333), (500, 333), (600, 450), (500, 375), (448, 500), (500, 375), (333, 500), (500, 356), (500, 375), (500, 328), (500, 333), (500, 375), (371, 500), (500, 375), (500, 375), (500, 355), (500, 375), (500, 375), (267, 400), (500, 390), (375, 500), (500, 335), (200, 200), (396, 500), (375, 500), (500, 375), (500, 500), (360, 289), (500, 333), (500, 335), (387, 500), (333, 500), (500, 286), (196, 244), (333, 500), (375, 500), (333, 500), (500, 375), (430, 500), (220, 220), (640, 480), (500, 334), (500, 375), (500, 375), (500, 368), (500, 375), (500, 332), (300, 367), (320, 320), (500, 375), (375, 500), (367, 368), (500, 480), (375, 500), (500, 375), (332, 500), (500, 425), (317, 500), (500, 333), (175, 252), (441, 500), (294, 264), (500, 375), (500, 400), (500, 340), (500, 375), (500, 375), (450, 360), (339, 500), (500, 333), (500, 375), (500, 482), (333, 500), (500, 375), (341, 310), (500, 455), (701, 467), (225, 168), (500, 330), (500, 333), (479, 500), (375, 500), (375, 500), (375, 500), (375, 357), (333, 500), (500, 375), (452, 302), (500, 375), (500, 377), (500, 375), (500, 333), (500, 375), (500, 375), (331, 500), (500, 423), (500, 375), (220, 220), (500, 400), (500, 375), (375, 500), (450, 338), (500, 349), (500, 394), (320, 240), (500, 375), (377, 283), (313, 232), (500, 375), (236, 257), (500, 375), (333, 500), (500, 375), (500, 479), (500, 239), (450, 338), (333, 500), (500, 333), (500, 374), (350, 263), (500, 364), (375, 500), (500, 375), (351, 500), (500, 375), (400, 283), (299, 324), (500, 333), (340, 255), (500, 333), (500, 375), (300, 225), (500, 332), (201, 166), (390, 500), (357, 500), (500, 375), (500, 356), (620, 407), (640, 480), (500, 334), (500, 375), (353, 360), (333, 500), (320, 240), (500, 375), (333, 500), (500, 333), (500, 375), (500, 411), (500, 375), (350, 263), (500, 481), (500, 375), (500, 375), (265, 360), (500, 448), (610, 600), (374, 500), (270, 200), (500, 375), (338, 500), (500, 375), (400, 300), (200, 150), (500, 333), (500, 341), (640, 480), (333, 500), (375, 500), (500, 333), (500, 375), (300, 212), (345, 344), (300, 223), (228, 260), (500, 375), (500, 375), (500, 375), (240, 240), (621, 632), (471, 500), (333, 500), (500, 333), (500, 334), (301, 290), (553, 415), (500, 333), (333, 500), (500, 333), (500, 375), (500, 375), (283, 191), (420, 500), (326, 500), (500, 332), (500, 375), (400, 300), (500, 375), (500, 375), (335, 500), (400, 268), (2156, 1604), (500, 375), (500, 369), (500, 375), (400, 393), (400, 452), (196, 276), (500, 375), (500, 375), (500, 375), (342, 314), (500, 375), (280, 500), (500, 327), (640, 480), (417, 500), (500, 333), (500, 348), (500, 437), (366, 421), (500, 375), (1979, 1443), (500, 334), (500, 375), (250, 187), (350, 233), (500, 375), (400, 283), (390, 390), (538, 450), (333, 500), (500, 333), (333, 500), (500, 334), (500, 333), (500, 358), (500, 333), (500, 375), (500, 375), (500, 375), (375, 500), (500, 366), (500, 375), (500, 335), (359, 500), (500, 375), (500, 375), (375, 500), (500, 375), (500, 375), (500, 430), (360, 336), (360, 339), (298, 202), (500, 375), (640, 480), (375, 500), (406, 400), (480, 433), (500, 375), (200, 150), (500, 375), (333, 500), (882, 622), (500, 375), (150, 269), (500, 375), (441, 423), (500, 375), (500, 440), (500, 375), (500, 478), (500, 375), (500, 375), (375, 500), (334, 500), (240, 240), (375, 500), (500, 333), (500, 400), (500, 421), (500, 333), (500, 376), (375, 500), (500, 375), (500, 375), (380, 227), (500, 333), (200, 190), (500, 375), (500, 375), (500, 375), (500, 375), (500, 500), (250, 272), (500, 375), (334, 500), (500, 332), (371, 500), (2304, 1728), (300, 327), (500, 451), (620, 600), (365, 286), (500, 405), (500, 356), (263, 390), (500, 375), (500, 375), (334, 500), (250, 250), (500, 500), (301, 292), (500, 375), (500, 417), (500, 398), (400, 300), (333, 500), (335, 500), (350, 235), (500, 375), (333, 500), (333, 500), (500, 375), (500, 375), (500, 333), (500, 375), (333, 500), (500, 420), (500, 333), (500, 375), (324, 260), (480, 360), (500, 433), (500, 375), (375, 500), (421, 500), (400, 500), (500, 375), (220, 165), (333, 500), (500, 333), (500, 376), (410, 500), (600, 450), (500, 391), (500, 375), (500, 375), (500, 375), (500, 493), (332, 500), (500, 375), (333, 500), (500, 333), (375, 500), (375, 500), (500, 333), (379, 500), (500, 250), (500, 375), (500, 375), (267, 200), (640, 480), (500, 298), (500, 450), (308, 500), (300, 399), (500, 500), (500, 405), (240, 173), (500, 375), (375, 500), (350, 324), (389, 400), (758, 503), (415, 336), (500, 456), (500, 375), (500, 375), (500, 375), (500, 357), (500, 375), (375, 500), (500, 271), (500, 375), (500, 375), (500, 333), (600, 512), (500, 435), (200, 250), (500, 375), (500, 378), (400, 347), (500, 383), (500, 327), (500, 338), (500, 376), (325, 326), (500, 333), (640, 480), (139, 210), (225, 225), (500, 333), (450, 390), (462, 500), (332, 500), (600, 301), (500, 374), (398, 500), (500, 375), (332, 500), (500, 375), (208, 230), (640, 558), (500, 282), (500, 375), (500, 333), (350, 376), (500, 333), (375, 500), (464, 250), (500, 375), (500, 375), (375, 500), (523, 315), (500, 333), (300, 291), (200, 200), (375, 500), (500, 375), (500, 375), (500, 375), (500, 414), (600, 494), (500, 333), (500, 375), (500, 333), (500, 375), (320, 426), (500, 333), (500, 375), (223, 300), (375, 500), (375, 500), (240, 220), (494, 500), (335, 500), (500, 375), (500, 375), (2048, 1536), (500, 375), (338, 500), (240, 180), (303, 260), (500, 302), (500, 376), (375, 500), (500, 334), (500, 311), (375, 500), (500, 450), (402, 290), (211, 311), (512, 384), (333, 500), (500, 333), (357, 189), (150, 219), (500, 336), (334, 500), (333, 500), (144, 143), (500, 375), (333, 500), (500, 375), (500, 375), (333, 500), (500, 375), (500, 375), (300, 290), (500, 347), (500, 332), (500, 375), (200, 138), (554, 498), (550, 400), (500, 375), (500, 333), (333, 500), (400, 301), (332, 500), (500, 333), (500, 375), (500, 377), (500, 338), (500, 375), (500, 375), (479, 479), (300, 238), (800, 794), (500, 375), (330, 500), (500, 333), (500, 331), (500, 375), (333, 500), (500, 375), (500, 375), (360, 239), (427, 320), (500, 279), (500, 375), (500, 375), (375, 500), (500, 333), (280, 131), (500, 375), (500, 375), (500, 333), (500, 333), (373, 600), (500, 333), (288, 434), (300, 315), (500, 375), (300, 225), (500, 469), (500, 333), (300, 286), (432, 504), (500, 375), (500, 375), (800, 533), (285, 393), (160, 183), (500, 323), (500, 375), (384, 480), (481, 500), (500, 347), (500, 375), (500, 375), (500, 374), (375, 500), (500, 332), (2048, 1360), (375, 500), (480, 325), (500, 375), (355, 500), (2048, 1536), (334, 500), (1201, 1507), (500, 375), (500, 309), (200, 156), (300, 227), (500, 400), (500, 375), (500, 375), (500, 375), (375, 500), (500, 375), (236, 263), (500, 333), (375, 500), (333, 500), (375, 500), (640, 453), (500, 392), (450, 311), (500, 358), (500, 341), (500, 500), (500, 333), (500, 375), (261, 250), (500, 375), (389, 500), (500, 375), (500, 479), (500, 375), (341, 360), (500, 375), (200, 177), (375, 500), (227, 180), (188, 169), (500, 387), (500, 375), (500, 334), (318, 439), (350, 446), (333, 500), (500, 333), (500, 375), (333, 500), (500, 375), (500, 333), (400, 374), (499, 500), (500, 375), (500, 375), (375, 500), (426, 500), (375, 500), (396, 500), (500, 375), (500, 375), (600, 603), (500, 375), (462, 500), (500, 375), (500, 375), (500, 375), (500, 400), (500, 375), (410, 500), (500, 333), (229, 217), (500, 432), (426, 500), (500, 383), (333, 500), (500, 375), (349, 500), (500, 281), (347, 233), (500, 375), (500, 375), (500, 375), (375, 500), (800, 600), (200, 150), (500, 326), (500, 333), (430, 322), (500, 375), (477, 500), (500, 375), (357, 500), (400, 300), (500, 375), (500, 375), (500, 357), (360, 480), (266, 298), (175, 202), (500, 375), (500, 375), (500, 375), (500, 448), (500, 375), (600, 398), (500, 375), (500, 375), (500, 375), (200, 150), (500, 375), (200, 200), (500, 446), (500, 333), (374, 500), (500, 375), (500, 375), (500, 333), (500, 375), (500, 375), (360, 251), (500, 375), (500, 375), (500, 375), (216, 162), (304, 376), (375, 500), (500, 375), (400, 266), (500, 333), (500, 422), (500, 333), (337, 500), (329, 360), (325, 500), (184, 219), (375, 500), (450, 390), (333, 500), (230, 350), (500, 333), (375, 500), (500, 375), (500, 375), (500, 400), (500, 375), (296, 448), (480, 360), (375, 500), (335, 500), (500, 375), (500, 333), (218, 240), (192, 275), (500, 333), (375, 500), (500, 375), (500, 400), (500, 375), (238, 250), (375, 500), (500, 335), (500, 407), (240, 160), (500, 493), (500, 333), (737, 600), (375, 500), (500, 375), (333, 500), (300, 276), (500, 333), (600, 603), (340, 279), (473, 398), (240, 360), (323, 500), (333, 500), (500, 375), (375, 500), (500, 375), (320, 240), (123, 183), (170, 300), (500, 365), (300, 225), (300, 400), (500, 347), (625, 417), (500, 375), (500, 375), (500, 375), (500, 375), (318, 296), (346, 288), (500, 332), (500, 375), (500, 375), (800, 577), (500, 375), (500, 320), (500, 375), (500, 375), (348, 266), (600, 450), (500, 375), (500, 333), (500, 375), (312, 277), (357, 238), (500, 375), (375, 500), (180, 159), (500, 375), (400, 500), (500, 333), (500, 375), (625, 363), (500, 333), (500, 375), (400, 300), (500, 375), (375, 500), (500, 407), (500, 375), (500, 375), (334, 500), (375, 500), (500, 375), (500, 333), (500, 333), (500, 375), (500, 375), (500, 361), (500, 375), (500, 375), (581, 425), (500, 375), (295, 447), (500, 375), (360, 348), (500, 375), (500, 333), (500, 375), (500, 333), (500, 375), (500, 453), (405, 500), (309, 300), (210, 276), (375, 285), (500, 412), (500, 375), (500, 375), (500, 332), (500, 333), (500, 375), (269, 204), (485, 500), (225, 225), (500, 375), (1177, 942), (656, 512), (492, 500), (500, 333), (375, 500), (500, 333), (500, 400), (494, 500), (316, 220), (500, 292), (500, 444), (375, 500), (500, 400), (804, 1066), (375, 500), (500, 375), (341, 512), (1000, 821), (500, 375), (500, 375), (375, 500), (327, 500), (275, 263), (325, 380), (500, 420), (500, 375), (500, 375), (373, 445), (901, 700), (375, 500), (500, 375), (476, 480), (375, 500), (500, 332), (500, 398), (400, 290), (412, 398), (500, 375), (379, 379), (500, 400), (500, 408), (375, 500), (320, 259), (550, 366), (500, 375), (1317, 1297), (500, 332), (432, 324), (337, 500), (300, 237), (369, 261), (180, 156), (500, 375), (220, 216), (500, 375), (500, 333), (441, 335), (500, 375), (500, 334), (283, 195), (240, 240), (393, 480), (500, 378), (500, 333), (408, 500), (500, 362), (500, 375), (208, 200), (500, 339), (480, 500), (500, 375), (500, 333), (300, 358), (500, 403), (250, 290), (500, 333), (345, 500), (500, 333), (600, 600), (200, 287), (220, 220), (500, 375), (500, 378), (275, 196), (500, 375), (500, 375), (500, 375), (500, 375), (500, 375), (360, 270), (288, 266), (500, 333), (500, 400), (500, 333), (500, 374), (200, 267), (500, 334), (500, 375), (400, 300), (218, 207), (500, 375), (478, 500), (500, 375), (500, 333), (200, 143), (500, 333), (148, 202), (500, 375), (500, 375), (332, 500), (500, 333), (1009, 1073), (500, 423), (338, 272), (375, 500), (500, 375), (333, 500), (300, 264), (1600, 1200), (500, 448), (290, 304), (500, 375), (375, 500), (337, 150), (452, 480), (500, 375), (500, 375), (500, 375), (500, 334), (500, 335), (275, 198), (300, 225), (500, 498), (500, 375), (500, 377), (557, 500), (375, 500), (500, 322), (500, 359), (500, 333), (500, 330), (500, 400), (218, 214), (500, 375), (400, 300), (500, 464), (200, 178), (600, 450), (302, 252), (301, 500), (500, 292), (500, 333), (500, 333), (454, 500), (500, 375), (210, 210), (500, 375), (375, 500), (500, 371), (300, 260), (500, 394), (500, 375), (500, 375), (360, 270), (500, 375), (500, 375), (375, 500), (187, 252), (500, 375), (500, 397), (500, 488), (750, 639), (320, 233), (336, 414), (567, 361), (500, 333), (276, 263), (500, 375), (600, 449), (428, 291), (500, 333), (500, 400), (366, 251), (500, 375), (500, 375), (500, 375), (288, 216), (332, 500), (200, 305), (331, 342), (359, 500), (500, 332), (500, 375), (500, 478), (500, 325), (500, 375), (500, 375), (500, 375), (500, 333), (453, 500), (200, 331), (375, 500), (240, 250), (500, 375), (171, 177), (500, 332), (500, 375), (334, 500), (389, 500), (500, 375), (306, 277), (375, 500), (333, 500), (500, 375), (375, 500), (500, 375), (500, 375), (500, 375), (375, 500), (800, 597), (500, 333), (500, 378), (450, 284), (331, 500), (500, 470), (282, 500), (500, 334), (375, 500), (184, 184), (200, 191), (500, 375), (480, 430), (500, 375), (600, 449), (500, 375), (250, 285), (500, 375), (500, 333), (500, 451), (375, 500), (160, 120), (256, 250), (375, 500), (500, 375), (500, 332), (500, 375), (500, 333), (230, 162), (500, 375), (500, 375), (500, 314), (484, 500), (500, 333), (500, 333), (500, 375), (375, 500), (500, 333), (315, 360), (288, 324), (640, 480), (800, 600), (500, 375), (478, 359), (500, 375), (383, 500), (500, 333), (375, 500), (274, 500), (500, 375), (500, 376), (500, 375), (375, 500), (500, 474), (432, 492), (800, 640), (360, 270), (279, 199), (332, 500), (290, 290), (375, 500), (320, 271), (423, 443), (500, 333), (500, 375), (500, 333), (246, 250), (250, 193), (500, 303), (600, 786), (500, 333), (400, 300), (500, 375), (500, 374), (390, 255), (333, 500), (350, 263), (500, 375), (1280, 960), (250, 250), (500, 375), (418, 307), (500, 333), (500, 332), (500, 332), (500, 375), (500, 333), (500, 375), (110, 150), (333, 500), (250, 223), (575, 383), (500, 375), (500, 333), (500, 375), (333, 500), (500, 333), (500, 330), (500, 375), (500, 375), (492, 543), (500, 375), (333, 500), (302, 500), (500, 333), (400, 346), (360, 270), (914, 1216), (337, 383), (361, 500), (500, 375), (450, 556), (500, 359), (334, 500), (500, 375)])"
      ]
     },
     "execution_count": 21,
     "metadata": {},
     "output_type": "execute_result"
    }
   ],
   "source": [
    "size_d.values()"
   ]
  },
  {
   "cell_type": "markdown",
   "metadata": {},
   "source": [
    "size_d.values holds the sizes which are width/height. Next we unpack the size_d values into rows(width) and columns(height). *size_d.values would unpack a list and zip would zip into tuples and list would convert them to list"
   ]
  },
  {
   "cell_type": "code",
   "execution_count": 22,
   "metadata": {},
   "outputs": [],
   "source": [
    "row_sz,col_sz = list(zip(*size_d.values()))"
   ]
  },
  {
   "cell_type": "code",
   "execution_count": 23,
   "metadata": {},
   "outputs": [
    {
     "data": {
      "text/plain": [
       "(375,\n",
       " 375,\n",
       " 500,\n",
       " 375,\n",
       " 470,\n",
       " 227,\n",
       " 332,\n",
       " 343,\n",
       " 223,\n",
       " 192,\n",
       " 212,\n",
       " 500,\n",
       " 375,\n",
       " 320,\n",
       " 346,\n",
       " 280,\n",
       " 375,\n",
       " 500,\n",
       " 333,\n",
       " 257,\n",
       " 338,\n",
       " 375,\n",
       " 407,\n",
       " 500,\n",
       " 293,\n",
       " 375,\n",
       " 257,\n",
       " 500,\n",
       " 333,\n",
       " 375,\n",
       " 500,\n",
       " 375,\n",
       " 333,\n",
       " 375,\n",
       " 288,\n",
       " 375,\n",
       " 332,\n",
       " 375,\n",
       " 208,\n",
       " 315,\n",
       " 500,\n",
       " 280,\n",
       " 500,\n",
       " 358,\n",
       " 500,\n",
       " 375,\n",
       " 333,\n",
       " 329,\n",
       " 375,\n",
       " 375,\n",
       " 333,\n",
       " 375,\n",
       " 333,\n",
       " 375,\n",
       " 500,\n",
       " 375,\n",
       " 500,\n",
       " 443,\n",
       " 337,\n",
       " 294,\n",
       " 350,\n",
       " 375,\n",
       " 375,\n",
       " 334,\n",
       " 390,\n",
       " 375,\n",
       " 375,\n",
       " 375,\n",
       " 375,\n",
       " 360,\n",
       " 375,\n",
       " 378,\n",
       " 500,\n",
       " 500,\n",
       " 375,\n",
       " 500,\n",
       " 333,\n",
       " 375,\n",
       " 394,\n",
       " 338,\n",
       " 389,\n",
       " 336,\n",
       " 240,\n",
       " 478,\n",
       " 306,\n",
       " 500,\n",
       " 375,\n",
       " 375,\n",
       " 236,\n",
       " 382,\n",
       " 500,\n",
       " 360,\n",
       " 375,\n",
       " 375,\n",
       " 453,\n",
       " 375,\n",
       " 375,\n",
       " 375,\n",
       " 261,\n",
       " 490,\n",
       " 333,\n",
       " 381,\n",
       " 375,\n",
       " 375,\n",
       " 375,\n",
       " 330,\n",
       " 333,\n",
       " 375,\n",
       " 375,\n",
       " 375,\n",
       " 500,\n",
       " 320,\n",
       " 382,\n",
       " 500,\n",
       " 398,\n",
       " 480,\n",
       " 184,\n",
       " 500,\n",
       " 333,\n",
       " 156,\n",
       " 500,\n",
       " 375,\n",
       " 262,\n",
       " 500,\n",
       " 332,\n",
       " 400,\n",
       " 333,\n",
       " 500,\n",
       " 344,\n",
       " 299,\n",
       " 500,\n",
       " 500,\n",
       " 160,\n",
       " 375,\n",
       " 389,\n",
       " 500,\n",
       " 200,\n",
       " 500,\n",
       " 554,\n",
       " 347,\n",
       " 405,\n",
       " 180,\n",
       " 375,\n",
       " 333,\n",
       " 300,\n",
       " 375,\n",
       " 333,\n",
       " 338,\n",
       " 360,\n",
       " 349,\n",
       " 436,\n",
       " 361,\n",
       " 315,\n",
       " 232,\n",
       " 500,\n",
       " 163,\n",
       " 333,\n",
       " 375,\n",
       " 500,\n",
       " 374,\n",
       " 343,\n",
       " 500,\n",
       " 500,\n",
       " 604,\n",
       " 333,\n",
       " 400,\n",
       " 375,\n",
       " 374,\n",
       " 375,\n",
       " 375,\n",
       " 500,\n",
       " 375,\n",
       " 243,\n",
       " 375,\n",
       " 140,\n",
       " 374,\n",
       " 500,\n",
       " 293,\n",
       " 426,\n",
       " 375,\n",
       " 375,\n",
       " 375,\n",
       " 500,\n",
       " 500,\n",
       " 420,\n",
       " 333,\n",
       " 500,\n",
       " 331,\n",
       " 500,\n",
       " 360,\n",
       " 500,\n",
       " 500,\n",
       " 439,\n",
       " 375,\n",
       " 500,\n",
       " 333,\n",
       " 350,\n",
       " 342,\n",
       " 375,\n",
       " 333,\n",
       " 272,\n",
       " 262,\n",
       " 358,\n",
       " 375,\n",
       " 480,\n",
       " 357,\n",
       " 331,\n",
       " 500,\n",
       " 375,\n",
       " 146,\n",
       " 500,\n",
       " 375,\n",
       " 500,\n",
       " 375,\n",
       " 375,\n",
       " 500,\n",
       " 375,\n",
       " 375,\n",
       " 500,\n",
       " 197,\n",
       " 332,\n",
       " 200,\n",
       " 375,\n",
       " 333,\n",
       " 375,\n",
       " 375,\n",
       " 175,\n",
       " 500,\n",
       " 333,\n",
       " 375,\n",
       " 375,\n",
       " 500,\n",
       " 330,\n",
       " 500,\n",
       " 375,\n",
       " 300,\n",
       " 500,\n",
       " 500,\n",
       " 500,\n",
       " 333,\n",
       " 191,\n",
       " 375,\n",
       " 329,\n",
       " 500,\n",
       " 250,\n",
       " 500,\n",
       " 375,\n",
       " 375,\n",
       " 404,\n",
       " 434,\n",
       " 333,\n",
       " 375,\n",
       " 500,\n",
       " 357,\n",
       " 375,\n",
       " 500,\n",
       " 500,\n",
       " 478,\n",
       " 338,\n",
       " 400,\n",
       " 500,\n",
       " 144,\n",
       " 375,\n",
       " 309,\n",
       " 500,\n",
       " 600,\n",
       " 437,\n",
       " 275,\n",
       " 375,\n",
       " 500,\n",
       " 500,\n",
       " 360,\n",
       " 375,\n",
       " 360,\n",
       " 332,\n",
       " 332,\n",
       " 500,\n",
       " 375,\n",
       " 375,\n",
       " 375,\n",
       " 500,\n",
       " 375,\n",
       " 333,\n",
       " 319,\n",
       " 229,\n",
       " 375,\n",
       " 500,\n",
       " 375,\n",
       " 500,\n",
       " 532,\n",
       " 333,\n",
       " 231,\n",
       " 334,\n",
       " 375,\n",
       " 366,\n",
       " 150,\n",
       " 375,\n",
       " 333,\n",
       " 375,\n",
       " 479,\n",
       " 210,\n",
       " 205,\n",
       " 456,\n",
       " 500,\n",
       " 447,\n",
       " 500,\n",
       " 306,\n",
       " 500,\n",
       " 375,\n",
       " 512,\n",
       " 500,\n",
       " 500,\n",
       " 375,\n",
       " 211,\n",
       " 333,\n",
       " 500,\n",
       " 500,\n",
       " 375,\n",
       " 500,\n",
       " 412,\n",
       " 499,\n",
       " 337,\n",
       " 375,\n",
       " 240,\n",
       " 283,\n",
       " 375,\n",
       " 414,\n",
       " 375,\n",
       " 375,\n",
       " 201,\n",
       " 375,\n",
       " 333,\n",
       " 500,\n",
       " 375,\n",
       " 500,\n",
       " 427,\n",
       " 267,\n",
       " 500,\n",
       " 422,\n",
       " 333,\n",
       " 500,\n",
       " 333,\n",
       " 500,\n",
       " 498,\n",
       " 300,\n",
       " 375,\n",
       " 242,\n",
       " 333,\n",
       " 375,\n",
       " 500,\n",
       " 334,\n",
       " 143,\n",
       " 600,\n",
       " 200,\n",
       " 500,\n",
       " 375,\n",
       " 312,\n",
       " 375,\n",
       " 375,\n",
       " 333,\n",
       " 333,\n",
       " 335,\n",
       " 375,\n",
       " 232,\n",
       " 375,\n",
       " 537,\n",
       " 500,\n",
       " 375,\n",
       " 350,\n",
       " 406,\n",
       " 372,\n",
       " 492,\n",
       " 480,\n",
       " 451,\n",
       " 376,\n",
       " 433,\n",
       " 500,\n",
       " 333,\n",
       " 277,\n",
       " 378,\n",
       " 500,\n",
       " 375,\n",
       " 500,\n",
       " 1910,\n",
       " 334,\n",
       " 375,\n",
       " 151,\n",
       " 500,\n",
       " 333,\n",
       " 500,\n",
       " 236,\n",
       " 375,\n",
       " 325,\n",
       " 333,\n",
       " 500,\n",
       " 500,\n",
       " 350,\n",
       " 375,\n",
       " 225,\n",
       " 375,\n",
       " 500,\n",
       " 231,\n",
       " 500,\n",
       " 375,\n",
       " 594,\n",
       " 333,\n",
       " 375,\n",
       " 539,\n",
       " 375,\n",
       " 333,\n",
       " 375,\n",
       " 286,\n",
       " 348,\n",
       " 375,\n",
       " 500,\n",
       " 188,\n",
       " 230,\n",
       " 375,\n",
       " 286,\n",
       " 334,\n",
       " 150,\n",
       " 333,\n",
       " 334,\n",
       " 500,\n",
       " 334,\n",
       " 333,\n",
       " 514,\n",
       " 500,\n",
       " 375,\n",
       " 445,\n",
       " 500,\n",
       " 550,\n",
       " 201,\n",
       " 375,\n",
       " 333,\n",
       " 375,\n",
       " 319,\n",
       " 375,\n",
       " 332,\n",
       " 375,\n",
       " 332,\n",
       " 375,\n",
       " 486,\n",
       " 500,\n",
       " 333,\n",
       " 375,\n",
       " 375,\n",
       " 500,\n",
       " 500,\n",
       " 334,\n",
       " 293,\n",
       " 500,\n",
       " 500,\n",
       " 332,\n",
       " 375,\n",
       " 500,\n",
       " 500,\n",
       " 638,\n",
       " 500,\n",
       " 211,\n",
       " 500,\n",
       " 600,\n",
       " 333,\n",
       " 338,\n",
       " 332,\n",
       " 500,\n",
       " 333,\n",
       " 461,\n",
       " 375,\n",
       " 375,\n",
       " 305,\n",
       " 375,\n",
       " 188,\n",
       " 375,\n",
       " 640,\n",
       " 335,\n",
       " 375,\n",
       " 375,\n",
       " 500,\n",
       " 375,\n",
       " 392,\n",
       " 333,\n",
       " 500,\n",
       " 500,\n",
       " 334,\n",
       " 375,\n",
       " 202,\n",
       " 429,\n",
       " 375,\n",
       " 375,\n",
       " 375,\n",
       " 337,\n",
       " 480,\n",
       " 375,\n",
       " 596,\n",
       " 320,\n",
       " 375,\n",
       " 375,\n",
       " 450,\n",
       " 275,\n",
       " 1000,\n",
       " 200,\n",
       " 333,\n",
       " 375,\n",
       " 375,\n",
       " 248,\n",
       " 375,\n",
       " 580,\n",
       " 500,\n",
       " 200,\n",
       " 375,\n",
       " 375,\n",
       " 155,\n",
       " 500,\n",
       " 375,\n",
       " 335,\n",
       " 500,\n",
       " 220,\n",
       " 375,\n",
       " 333,\n",
       " 262,\n",
       " 375,\n",
       " 247,\n",
       " 375,\n",
       " 358,\n",
       " 333,\n",
       " 500,\n",
       " 375,\n",
       " 375,\n",
       " 333,\n",
       " 370,\n",
       " 500,\n",
       " 331,\n",
       " 390,\n",
       " 333,\n",
       " 333,\n",
       " 180,\n",
       " 332,\n",
       " 333,\n",
       " 369,\n",
       " 261,\n",
       " 371,\n",
       " 375,\n",
       " 394,\n",
       " 332,\n",
       " 357,\n",
       " 375,\n",
       " 440,\n",
       " 500,\n",
       " 332,\n",
       " 340,\n",
       " 333,\n",
       " 375,\n",
       " 500,\n",
       " 375,\n",
       " 175,\n",
       " 393,\n",
       " 670,\n",
       " 500,\n",
       " 375,\n",
       " 300,\n",
       " 261,\n",
       " 336,\n",
       " 334,\n",
       " 375,\n",
       " 500,\n",
       " 375,\n",
       " 375,\n",
       " 500,\n",
       " 375,\n",
       " 374,\n",
       " 383,\n",
       " 333,\n",
       " 375,\n",
       " 335,\n",
       " 333,\n",
       " 204,\n",
       " 500,\n",
       " 333,\n",
       " 333,\n",
       " 240,\n",
       " 333,\n",
       " 334,\n",
       " 375,\n",
       " 496,\n",
       " 375,\n",
       " 250,\n",
       " 300,\n",
       " 469,\n",
       " 333,\n",
       " 1600,\n",
       " 375,\n",
       " 263,\n",
       " 375,\n",
       " 500,\n",
       " 244,\n",
       " 333,\n",
       " 375,\n",
       " 375,\n",
       " 261,\n",
       " 333,\n",
       " 360,\n",
       " 375,\n",
       " 375,\n",
       " 333,\n",
       " 333,\n",
       " 333,\n",
       " 375,\n",
       " 150,\n",
       " 360,\n",
       " 500,\n",
       " 343,\n",
       " 296,\n",
       " 333,\n",
       " 336,\n",
       " 225,\n",
       " 302,\n",
       " 500,\n",
       " 400,\n",
       " 431,\n",
       " 500,\n",
       " 446,\n",
       " 333,\n",
       " 348,\n",
       " 283,\n",
       " 423,\n",
       " 375,\n",
       " 500,\n",
       " 500,\n",
       " 250,\n",
       " 259,\n",
       " 375,\n",
       " 375,\n",
       " 333,\n",
       " 333,\n",
       " 456,\n",
       " 500,\n",
       " 630,\n",
       " 320,\n",
       " 375,\n",
       " 500,\n",
       " 375,\n",
       " 220,\n",
       " 338,\n",
       " 450,\n",
       " 864,\n",
       " 375,\n",
       " 350,\n",
       " 233,\n",
       " 325,\n",
       " 375,\n",
       " 176,\n",
       " 331,\n",
       " 375,\n",
       " 375,\n",
       " 500,\n",
       " 333,\n",
       " 375,\n",
       " 368,\n",
       " 453,\n",
       " 375,\n",
       " 300,\n",
       " 363,\n",
       " 311,\n",
       " 333,\n",
       " 500,\n",
       " 281,\n",
       " 500,\n",
       " 408,\n",
       " 204,\n",
       " 375,\n",
       " 500,\n",
       " 508,\n",
       " 360,\n",
       " 333,\n",
       " 375,\n",
       " 333,\n",
       " 333,\n",
       " 500,\n",
       " 200,\n",
       " 303,\n",
       " 333,\n",
       " 768,\n",
       " 300,\n",
       " 333,\n",
       " 350,\n",
       " 375,\n",
       " 332,\n",
       " 407,\n",
       " 500,\n",
       " 375,\n",
       " 853,\n",
       " 500,\n",
       " 375,\n",
       " 339,\n",
       " 333,\n",
       " 200,\n",
       " 333,\n",
       " 599,\n",
       " 375,\n",
       " 375,\n",
       " 333,\n",
       " 435,\n",
       " 194,\n",
       " 375,\n",
       " 331,\n",
       " 534,\n",
       " 375,\n",
       " 350,\n",
       " 402,\n",
       " 500,\n",
       " 500,\n",
       " 333,\n",
       " 500,\n",
       " 280,\n",
       " 480,\n",
       " 500,\n",
       " 375,\n",
       " 305,\n",
       " 375,\n",
       " 650,\n",
       " 500,\n",
       " 270,\n",
       " 375,\n",
       " 375,\n",
       " 353,\n",
       " 375,\n",
       " 345,\n",
       " 390,\n",
       " 375,\n",
       " 168,\n",
       " 287,\n",
       " 294,\n",
       " 333,\n",
       " 375,\n",
       " 500,\n",
       " 250,\n",
       " 377,\n",
       " 572,\n",
       " 333,\n",
       " 411,\n",
       " 226,\n",
       " 500,\n",
       " 333,\n",
       " 617,\n",
       " 342,\n",
       " 240,\n",
       " 500,\n",
       " 375,\n",
       " 500,\n",
       " 400,\n",
       " 375,\n",
       " 500,\n",
       " 359,\n",
       " 263,\n",
       " 330,\n",
       " 180,\n",
       " 333,\n",
       " 253,\n",
       " 333,\n",
       " 375,\n",
       " 375,\n",
       " 467,\n",
       " 311,\n",
       " 500,\n",
       " 489,\n",
       " 395,\n",
       " 500,\n",
       " 334,\n",
       " 375,\n",
       " 375,\n",
       " 334,\n",
       " 519,\n",
       " 263,\n",
       " 375,\n",
       " 375,\n",
       " 335,\n",
       " 445,\n",
       " 375,\n",
       " 273,\n",
       " 500,\n",
       " 375,\n",
       " 300,\n",
       " 334,\n",
       " 375,\n",
       " 205,\n",
       " 375,\n",
       " 333,\n",
       " 375,\n",
       " 324,\n",
       " 227,\n",
       " 500,\n",
       " 397,\n",
       " 375,\n",
       " 1368,\n",
       " 492,\n",
       " 363,\n",
       " 375,\n",
       " 375,\n",
       " 375,\n",
       " 500,\n",
       " 333,\n",
       " 500,\n",
       " 333,\n",
       " 500,\n",
       " 375,\n",
       " 480,\n",
       " 333,\n",
       " 211,\n",
       " 125,\n",
       " 500,\n",
       " 400,\n",
       " 375,\n",
       " 384,\n",
       " 458,\n",
       " 600,\n",
       " 375,\n",
       " 150,\n",
       " 762,\n",
       " 325,\n",
       " 381,\n",
       " 765,\n",
       " 354,\n",
       " 375,\n",
       " 375,\n",
       " 500,\n",
       " 375,\n",
       " 360,\n",
       " 375,\n",
       " 375,\n",
       " 206,\n",
       " 344,\n",
       " 350,\n",
       " 375,\n",
       " 333,\n",
       " 295,\n",
       " 375,\n",
       " 333,\n",
       " 334,\n",
       " 375,\n",
       " 500,\n",
       " 375,\n",
       " 375,\n",
       " 405,\n",
       " 375,\n",
       " 375,\n",
       " 340,\n",
       " 500,\n",
       " 375,\n",
       " 375,\n",
       " 375,\n",
       " 500,\n",
       " 333,\n",
       " 181,\n",
       " 400,\n",
       " 333,\n",
       " 486,\n",
       " 375,\n",
       " 240,\n",
       " 400,\n",
       " 375,\n",
       " 500,\n",
       " 500,\n",
       " 227,\n",
       " 375,\n",
       " 375,\n",
       " 333,\n",
       " 283,\n",
       " 366,\n",
       " 375,\n",
       " 500,\n",
       " 1536,\n",
       " 375,\n",
       " 500,\n",
       " 375,\n",
       " 375,\n",
       " 500,\n",
       " 375,\n",
       " 344,\n",
       " 200,\n",
       " 500,\n",
       " 512,\n",
       " 269,\n",
       " 333,\n",
       " 339,\n",
       " 375,\n",
       " 184,\n",
       " 209,\n",
       " 200,\n",
       " 375,\n",
       " 800,\n",
       " 334,\n",
       " 500,\n",
       " 375,\n",
       " 400,\n",
       " 500,\n",
       " 333,\n",
       " 375,\n",
       " 500,\n",
       " 333,\n",
       " 375,\n",
       " 375,\n",
       " 375,\n",
       " 333,\n",
       " 192,\n",
       " 500,\n",
       " 449,\n",
       " 396,\n",
       " 500,\n",
       " 439,\n",
       " 375,\n",
       " 500,\n",
       " 500,\n",
       " 333,\n",
       " 353,\n",
       " 333,\n",
       " 500,\n",
       " 375,\n",
       " 375,\n",
       " 286,\n",
       " 375,\n",
       " 196,\n",
       " 474,\n",
       " 429,\n",
       " 375,\n",
       " 500,\n",
       " 275,\n",
       " 469,\n",
       " 375,\n",
       " 334,\n",
       " 333,\n",
       " 500,\n",
       " 325,\n",
       " 375,\n",
       " 499,\n",
       " 347,\n",
       " 380,\n",
       " 500,\n",
       " 374,\n",
       " 357,\n",
       " 375,\n",
       " 333,\n",
       " 500,\n",
       " 333,\n",
       " 188,\n",
       " 253,\n",
       " 375,\n",
       " 357,\n",
       " 335,\n",
       " 361,\n",
       " 176,\n",
       " 335,\n",
       " 375,\n",
       " 500,\n",
       " 344,\n",
       " 500,\n",
       " 375,\n",
       " 500,\n",
       " 500,\n",
       " 333,\n",
       " 218,\n",
       " 434,\n",
       " 375,\n",
       " 399,\n",
       " 234,\n",
       " 500,\n",
       " 333,\n",
       " 375,\n",
       " 500,\n",
       " 375,\n",
       " 310,\n",
       " 375,\n",
       " 350,\n",
       " 500,\n",
       " 500,\n",
       " 331,\n",
       " 225,\n",
       " 214,\n",
       " 333,\n",
       " 375,\n",
       " 300,\n",
       " 375,\n",
       " 333,\n",
       " 177,\n",
       " 337,\n",
       " 332,\n",
       " 496,\n",
       " 500,\n",
       " 382,\n",
       " 500,\n",
       " 327,\n",
       " 388,\n",
       " 360,\n",
       " 245,\n",
       " 500,\n",
       " 500,\n",
       " 375,\n",
       " 500,\n",
       " 450,\n",
       " 375,\n",
       " ...)"
      ]
     },
     "execution_count": 23,
     "metadata": {},
     "output_type": "execute_result"
    }
   ],
   "source": [
    "col_sz"
   ]
  },
  {
   "cell_type": "markdown",
   "metadata": {},
   "source": [
    "Next we use matplot lib, plt usually stands for matplot lib object. Using matplotlib we plot the histogram the distribution of values. We find that most images have width 500 and height. About 5K of them. "
   ]
  },
  {
   "cell_type": "code",
   "execution_count": 24,
   "metadata": {},
   "outputs": [
    {
     "data": {
      "text/plain": [
       "(array([3023., 5024.,   92.,   15.,    5.,    3.,   13.,    2.,    0.,    1.]),\n",
       " array([  97. ,  413.7,  730.4, 1047.1, 1363.8, 1680.5, 1997.2, 2313.9, 2630.6, 2947.3, 3264. ]),\n",
       " <a list of 10 Patch objects>)"
      ]
     },
     "execution_count": 24,
     "metadata": {},
     "output_type": "execute_result"
    },
    {
     "data": {
      "image/png": "[encoded data removed]",
      "text/plain": [
       "<Figure size 432x288 with 1 Axes>"
      ]
     },
     "metadata": {},
     "output_type": "display_data"
    }
   ],
   "source": [
    "plt.hist(row_sz)"
   ]
  },
  {
   "cell_type": "code",
   "execution_count": 25,
   "metadata": {},
   "outputs": [
    {
     "data": {
      "text/plain": [
       "(array([2870., 5121.,  128.,   25.,   10.,   15.,    5.,    2.,    0.,    2.]),\n",
       " array([ 102.,  348.,  594.,  840., 1086., 1332., 1578., 1824., 2070., 2316., 2562.]),\n",
       " <a list of 10 Patch objects>)"
      ]
     },
     "execution_count": 25,
     "metadata": {},
     "output_type": "execute_result"
    },
    {
     "data": {
      "image/png": "[encoded data removed]",
      "text/plain": [
       "<Figure size 432x288 with 1 Axes>"
      ]
     },
     "metadata": {},
     "output_type": "display_data"
    }
   ],
   "source": [
    "plt.hist(col_sz)"
   ]
  },
  {
   "cell_type": "markdown",
   "metadata": {},
   "source": [
    "We find that most of them are in range of 500. But there are some with high values like 2500 and 3000. We can reduce the samples by limiting them to 1000. But we need to convert the list to np.array before that"
   ]
  },
  {
   "cell_type": "code",
   "execution_count": 26,
   "metadata": {},
   "outputs": [
    {
     "data": {
      "text/plain": [
       "(array([ 135.,  592., 1347., 1164., 4599.,  128.,   76.,   62.,   14.,   11.]),\n",
       " array([ 97. , 185.5, 274. , 362.5, 451. , 539.5, 628. , 716.5, 805. , 893.5, 982. ]),\n",
       " <a list of 10 Patch objects>)"
      ]
     },
     "execution_count": 26,
     "metadata": {},
     "output_type": "execute_result"
    },
    {
     "data": {
      "image/png": "[encoded data removed]",
      "text/plain": [
       "<Figure size 432x288 with 1 Axes>"
      ]
     },
     "metadata": {},
     "output_type": "display_data"
    }
   ],
   "source": [
    "row_sz = np.array(row_sz)\n",
    "plt.hist(row_sz[row_sz<1000])"
   ]
  },
  {
   "cell_type": "markdown",
   "metadata": {},
   "source": [
    "check size distribution for columns (heights) too"
   ]
  },
  {
   "cell_type": "code",
   "execution_count": 27,
   "metadata": {},
   "outputs": [
    {
     "data": {
      "text/plain": [
       "(array([ 235.,  733., 2205., 2979., 1807.,   98.,   27.,   33.,    7.,   10.]),\n",
       " array([102., 190., 278., 366., 454., 542., 630., 718., 806., 894., 982.]),\n",
       " <a list of 10 Patch objects>)"
      ]
     },
     "execution_count": 27,
     "metadata": {},
     "output_type": "execute_result"
    },
    {
     "data": {
      "image/png": "[encoded data removed]",
      "text/plain": [
       "<Figure size 432x288 with 1 Axes>"
      ]
     },
     "metadata": {},
     "output_type": "display_data"
    }
   ],
   "source": [
    "col_sz = np.array(col_sz)\n",
    "plt.hist(col_sz[col_sz < 1000])"
   ]
  },
  {
   "cell_type": "markdown",
   "metadata": {},
   "source": [
    "Check some of the training sets and test sets lengths and the number of classes and print some classes"
   ]
  },
  {
   "cell_type": "code",
   "execution_count": 28,
   "metadata": {},
   "outputs": [
    {
     "data": {
      "text/plain": [
       "(8178, 10357)"
      ]
     },
     "execution_count": 28,
     "metadata": {},
     "output_type": "execute_result"
    }
   ],
   "source": [
    "len(data.trn_ds),len(data.test_ds)"
   ]
  },
  {
   "cell_type": "code",
   "execution_count": 29,
   "metadata": {},
   "outputs": [
    {
     "data": {
      "text/plain": [
       "(120,\n",
       " ['affenpinscher',\n",
       "  'afghan_hound',\n",
       "  'african_hunting_dog',\n",
       "  'airedale',\n",
       "  'american_staffordshire_terrier'])"
      ]
     },
     "execution_count": 29,
     "metadata": {},
     "output_type": "execute_result"
    }
   ],
   "source": [
    "len(data.classes), data.classes[:5]"
   ]
  },
  {
   "cell_type": "markdown",
   "metadata": {},
   "source": [
    "Next we start to train. Before training we write a function called get Data to wrap the classifier creation with different sizes and batch sizes this allows for experimenting with smaller sizes first. So smaller images first would run fast. Larger images later would run out of GPU memory. If you see Cuda out of memory error restart notebook kernal only way to fix it."
   ]
  },
  {
   "cell_type": "code",
   "execution_count": 30,
   "metadata": {},
   "outputs": [],
   "source": [
    "def get_data(sz,bs):\n",
    "    tfms = tfms_from_model(arch,sz,aug_tfms=transforms_side_on,max_zoom=1.1)\n",
    "    data = ImageClassifierData.from_csv(PATH,'train',f'{PATH}labels.csv',test_name='test',\n",
    "                                        num_workers=4,val_idxs=val_idxs,suffix='.jpg',tfms=tfms,bs=bs)\n",
    "    return data if sz>300 else data.resize(340,'tmp')"
   ]
  },
  {
   "cell_type": "code",
   "execution_count": 31,
   "metadata": {},
   "outputs": [
    {
     "data": {
      "application/vnd.jupyter.widget-view+json": {
       "model_id": "85e9273f1bd747aab371f6f825894cdb",
       "version_major": 2,
       "version_minor": 0
      },
      "text/plain": [
       "HBox(children=(IntProgress(value=0, max=6), HTML(value='')))"
      ]
     },
     "metadata": {},
     "output_type": "display_data"
    },
    {
     "name": "stdout",
     "output_type": "stream",
     "text": [
      "\n"
     ]
    },
    {
     "data": {
      "application/vnd.jupyter.widget-view+json": {
       "model_id": "86f3ab3fafc44f05920ad137b9d76fc6",
       "version_major": 2,
       "version_minor": 0
      },
      "text/plain": [
       "HBox(children=(IntProgress(value=0, description='Epoch', max=5), HTML(value='')))"
      ]
     },
     "metadata": {},
     "output_type": "display_data"
    },
    {
     "name": "stdout",
     "output_type": "stream",
     "text": [
      "epoch      trn_loss   val_loss   accuracy                    \n",
      "    0      0.656051   0.339708   0.882583  \n",
      "    1      0.418994   0.291741   0.89775                     \n",
      "    2      0.274506   0.285973   0.910959                    \n",
      "    3      0.223331   0.278394   0.908023                    \n",
      "    4      0.175318   0.286194   0.909491                    \n",
      "\n"
     ]
    },
    {
     "data": {
      "text/plain": [
       "[array([0.28619]), 0.9094911937377691]"
      ]
     },
     "execution_count": 31,
     "metadata": {},
     "output_type": "execute_result"
    }
   ],
   "source": [
    "#get data with some size now\n",
    "data = get_data(224,bs)\n",
    "# get a precomputed learning object\n",
    "learn = ConvLearner.pretrained(arch,data,precompute=True)\n",
    "# train with learning rate 1 e neg 2 (1e-2 or 0.01) and 5 epochs\n",
    "learn.fit(1e-2,5)"
   ]
  },
  {
   "cell_type": "markdown",
   "metadata": {},
   "source": [
    "We tried with precompute = True for this to work some pretrained weights need to be downloaded from http://files.fast.ai/models/weights.tgz to /fastai/fastai/weights folder after the training we get a decent accuracy of 91%. We can then train without precompute. Note: 1 epoch is entire training set and learning rate adjustments in between batches. Cycle is number of epochs per cycle."
   ]
  },
  {
   "cell_type": "code",
   "execution_count": 32,
   "metadata": {},
   "outputs": [
    {
     "data": {
      "application/vnd.jupyter.widget-view+json": {
       "model_id": "b31529b90e914cc4899f7049b00c7433",
       "version_major": 2,
       "version_minor": 0
      },
      "text/plain": [
       "HBox(children=(IntProgress(value=0, description='Epoch', max=5), HTML(value='')))"
      ]
     },
     "metadata": {},
     "output_type": "display_data"
    },
    {
     "name": "stdout",
     "output_type": "stream",
     "text": [
      "epoch      trn_loss   val_loss   accuracy                    \n",
      "    0      0.233959   0.259436   0.915362  \n",
      "    1      0.251042   0.244983   0.920744                    \n",
      "    2      0.235615   0.256482   0.917319                    \n",
      "    3      0.239108   0.246249   0.917319                    \n",
      "    4      0.216774   0.251881   0.918787                    \n",
      "\n"
     ]
    },
    {
     "data": {
      "text/plain": [
       "[array([0.25188]), 0.9187866927592955]"
      ]
     },
     "execution_count": 32,
     "metadata": {},
     "output_type": "execute_result"
    }
   ],
   "source": [
    "# now lets set precompute to False\n",
    "# and train again\n",
    "learn.precompute = False\n",
    "learn.fit(1e-2,5,cycle_len=1)\n"
   ]
  },
  {
   "cell_type": "markdown",
   "metadata": {},
   "source": [
    "By setting precompute to false and training again with learning rate 1e-2 for 5 epochs  we got an accuracy of 92%. A little better. Now lets save what we got and reload it."
   ]
  },
  {
   "cell_type": "raw",
   "metadata": {},
   "source": [
    "learn.save('224_pre)\n",
    "learn.load('224_pre')"
   ]
  },
  {
   "cell_type": "markdown",
   "metadata": {},
   "source": [
    "Now that we have trained with a size of image, we can increase the size of image. This helps to avoide over fitting"
   ]
  },
  {
   "cell_type": "code",
   "execution_count": 33,
   "metadata": {},
   "outputs": [
    {
     "data": {
      "application/vnd.jupyter.widget-view+json": {
       "model_id": "e9f4cad81390478fb09369fd195a1f7b",
       "version_major": 2,
       "version_minor": 0
      },
      "text/plain": [
       "HBox(children=(IntProgress(value=0, max=6), HTML(value='')))"
      ]
     },
     "metadata": {},
     "output_type": "display_data"
    },
    {
     "name": "stdout",
     "output_type": "stream",
     "text": [
      "\n"
     ]
    }
   ],
   "source": [
    "learn.set_data(get_data(299,bs))"
   ]
  },
  {
   "cell_type": "code",
   "execution_count": 34,
   "metadata": {},
   "outputs": [
    {
     "data": {
      "application/vnd.jupyter.widget-view+json": {
       "model_id": "fb6dfc6e06e54d9790d5393aefad87fe",
       "version_major": 2,
       "version_minor": 0
      },
      "text/plain": [
       "HBox(children=(IntProgress(value=0, description='Epoch', max=3), HTML(value='')))"
      ]
     },
     "metadata": {},
     "output_type": "display_data"
    },
    {
     "name": "stdout",
     "output_type": "stream",
     "text": [
      "epoch      trn_loss   val_loss   accuracy                    \n",
      "    0      0.207791   0.228961   0.931018  \n",
      "    1      0.256081   0.248795   0.917319                    \n",
      "    2      0.215546   0.248288   0.921233                    \n",
      "\n"
     ]
    },
    {
     "data": {
      "text/plain": [
       "[array([0.24829]), 0.9212328767123288]"
      ]
     },
     "execution_count": 34,
     "metadata": {},
     "output_type": "execute_result"
    }
   ],
   "source": [
    "#now lets train with larger size images\n",
    "learn.fit(1e-2,3,cycle_len=1)"
   ]
  },
  {
   "cell_type": "markdown",
   "metadata": {},
   "source": [
    "At this point sometimes validation loss may be lower than training loss and this may be due to underfitting. To work around that set cycle_mult to 2 which means each cycle the length/number of epochs double that is 1,2, 4"
   ]
  },
  {
   "cell_type": "code",
   "execution_count": 35,
   "metadata": {},
   "outputs": [
    {
     "data": {
      "application/vnd.jupyter.widget-view+json": {
       "model_id": "15a0a456383641a199907dd1ac03e7be",
       "version_major": 2,
       "version_minor": 0
      },
      "text/plain": [
       "HBox(children=(IntProgress(value=0, description='Epoch', max=7), HTML(value='')))"
      ]
     },
     "metadata": {},
     "output_type": "display_data"
    },
    {
     "name": "stdout",
     "output_type": "stream",
     "text": [
      "epoch      trn_loss   val_loss   accuracy                    \n",
      "    0      0.218821   0.240738   0.923679  \n",
      "    1      0.228275   0.247586   0.919276                    \n",
      "    2      0.165801   0.243194   0.919276                    \n",
      "    3      0.187709   0.259832   0.917319                    \n",
      "    4      0.163403   0.262816   0.920744                    \n",
      "    5      0.191455   0.254036   0.921722                    \n",
      "    6      0.190404   0.247935   0.924658                    \n",
      "\n"
     ]
    },
    {
     "data": {
      "text/plain": [
       "[array([0.24794]), 0.9246575342465754]"
      ]
     },
     "execution_count": 35,
     "metadata": {},
     "output_type": "execute_result"
    }
   ],
   "source": [
    "learn.fit(1e-2,3,cycle_len=1,cycle_mult=2)"
   ]
  },
  {
   "cell_type": "markdown",
   "metadata": {},
   "source": [
    "In this case even with Cycle_mult=2 there was not much change in the results. But it may be different some other times. Next we can try TTA ( test time augmentation)"
   ]
  },
  {
   "cell_type": "code",
   "execution_count": 36,
   "metadata": {},
   "outputs": [
    {
     "name": "stdout",
     "output_type": "stream",
     "text": [
      "                                             \r"
     ]
    }
   ],
   "source": [
    "log_preds, y = learn.TTA()"
   ]
  },
  {
   "cell_type": "code",
   "execution_count": 55,
   "metadata": {},
   "outputs": [
    {
     "data": {
      "text/plain": [
       "(5, 2044, 120)"
      ]
     },
     "execution_count": 55,
     "metadata": {},
     "output_type": "execute_result"
    }
   ],
   "source": [
    "log_preds.shape"
   ]
  },
  {
   "cell_type": "code",
   "execution_count": 56,
   "metadata": {},
   "outputs": [
    {
     "data": {
      "text/plain": [
       "(2044,)"
      ]
     },
     "execution_count": 56,
     "metadata": {},
     "output_type": "execute_result"
    }
   ],
   "source": [
    "y.shape"
   ]
  },
  {
   "cell_type": "code",
   "execution_count": 63,
   "metadata": {},
   "outputs": [
    {
     "data": {
      "text/plain": [
       "(0.9290606653620352, 0.22598668055322862)"
      ]
     },
     "execution_count": 63,
     "metadata": {},
     "output_type": "execute_result"
    }
   ],
   "source": [
    "probs = np.mean(np.exp(log_preds),0)\n",
    "accuracy_np(probs,y), metrics.log_loss(y,probs)"
   ]
  },
  {
   "cell_type": "code",
   "execution_count": 40,
   "metadata": {},
   "outputs": [],
   "source": [
    "#due to some library incompatabilty some of the following code was used\n",
    "# to reshape data - is commented now\n",
    "##logPreds = torch.from_numpy(log_preds)\n",
    "##targs = torch.from_numpy(y)"
   ]
  },
  {
   "cell_type": "code",
   "execution_count": 41,
   "metadata": {},
   "outputs": [
    {
     "data": {
      "text/plain": [
       "torch.Size([5, 2044, 120])"
      ]
     },
     "execution_count": 41,
     "metadata": {},
     "output_type": "execute_result"
    }
   ],
   "source": [
    "#logPreds.shape"
   ]
  },
  {
   "cell_type": "code",
   "execution_count": 43,
   "metadata": {},
   "outputs": [
    {
     "data": {
      "text/plain": [
       "torch.Size([2044, 120])"
      ]
     },
     "execution_count": 43,
     "metadata": {},
     "output_type": "execute_result"
    }
   ],
   "source": [
    "#logPreds1 = logPreds[1]\n",
    "#logPreds1.shape"
   ]
  },
  {
   "cell_type": "code",
   "execution_count": 44,
   "metadata": {},
   "outputs": [
    {
     "data": {
      "text/plain": [
       "torch.Size([2044])"
      ]
     },
     "execution_count": 44,
     "metadata": {},
     "output_type": "execute_result"
    }
   ],
   "source": [
    "#prs =  torch.max(logPreds1,dim=1)[1]\n",
    "\n",
    "#prs.shape"
   ]
  },
  {
   "cell_type": "code",
   "execution_count": 45,
   "metadata": {},
   "outputs": [
    {
     "data": {
      "text/plain": [
       "torch.Size([2044])"
      ]
     },
     "execution_count": 45,
     "metadata": {},
     "output_type": "execute_result"
    }
   ],
   "source": [
    "#targs.shape"
   ]
  },
  {
   "cell_type": "code",
   "execution_count": 46,
   "metadata": {},
   "outputs": [
    {
     "data": {
      "text/plain": [
       "0.910958904109589"
      ]
     },
     "execution_count": 46,
     "metadata": {},
     "output_type": "execute_result"
    }
   ],
   "source": [
    "#trnaccuracy = accuracy(logPreds1,targs)\n",
    "#trnaccuracy"
   ]
  },
  {
   "cell_type": "code",
   "execution_count": 47,
   "metadata": {},
   "outputs": [
    {
     "data": {
      "text/plain": [
       "((2044,), (5, 2044, 120))"
      ]
     },
     "execution_count": 47,
     "metadata": {},
     "output_type": "execute_result"
    }
   ],
   "source": [
    "#probs = np.exp(log_preds)\n",
    "\n",
    "#y.shape , probs.shape"
   ]
  },
  {
   "cell_type": "code",
   "execution_count": 49,
   "metadata": {},
   "outputs": [
    {
     "data": {
      "text/plain": [
       "(2044, 120)"
      ]
     },
     "execution_count": 49,
     "metadata": {},
     "output_type": "execute_result"
    }
   ],
   "source": [
    "#probs1 = probs[-1,:,:]\n",
    "#probs1.shape"
   ]
  },
  {
   "cell_type": "code",
   "execution_count": 50,
   "metadata": {},
   "outputs": [
    {
     "data": {
      "text/plain": [
       "0.26723218795890885"
      ]
     },
     "execution_count": 50,
     "metadata": {},
     "output_type": "execute_result"
    }
   ],
   "source": [
    "#trnloss = metrics.log_loss(y,probs1)\n",
    "#trnloss"
   ]
  },
  {
   "cell_type": "code",
   "execution_count": 51,
   "metadata": {},
   "outputs": [
    {
     "data": {
      "text/plain": [
       "(0.910958904109589, 0.26723218795890885)"
      ]
     },
     "execution_count": 51,
     "metadata": {},
     "output_type": "execute_result"
    }
   ],
   "source": [
    "#trnaccuracy , trnloss"
   ]
  },
  {
   "cell_type": "code",
   "execution_count": 60,
   "metadata": {},
   "outputs": [
    {
     "data": {
      "text/plain": [
       "(2044, array([19, 15,  7, 99, 73]))"
      ]
     },
     "execution_count": 60,
     "metadata": {},
     "output_type": "execute_result"
    }
   ],
   "source": [
    "len(data.val_ds.y), data.val_ds.y[:5]"
   ]
  },
  {
   "cell_type": "code",
   "execution_count": 61,
   "metadata": {},
   "outputs": [],
   "source": [
    "learn.save('299_pre')\n",
    "learn.load('299_pre')"
   ]
  },
  {
   "cell_type": "code",
   "execution_count": 53,
   "metadata": {},
   "outputs": [
    {
     "data": {
      "application/vnd.jupyter.widget-view+json": {
       "model_id": "2abf14f74dd44b0ca53213ee77f5d636",
       "version_major": 2,
       "version_minor": 0
      },
      "text/plain": [
       "HBox(children=(IntProgress(value=0, description='Epoch', max=2), HTML(value='')))"
      ]
     },
     "metadata": {},
     "output_type": "display_data"
    },
    {
     "name": "stdout",
     "output_type": "stream",
     "text": [
      "epoch      trn_loss   val_loss   accuracy                    \n",
      "    0      0.160352   0.256702   0.917808  \n",
      "    1      0.156808   0.256398   0.92319                      \n",
      "\n"
     ]
    },
    {
     "data": {
      "text/plain": [
       "[array([0.2564]), 0.9231898238747553]"
      ]
     },
     "execution_count": 53,
     "metadata": {},
     "output_type": "execute_result"
    }
   ],
   "source": [
    "learn.fit(1e-2,1,cycle_len=2)"
   ]
  },
  {
   "cell_type": "code",
   "execution_count": 64,
   "metadata": {},
   "outputs": [],
   "source": [
    "learn.save('299_pre')"
   ]
  },
  {
   "cell_type": "code",
   "execution_count": 65,
   "metadata": {},
   "outputs": [
    {
     "name": "stdout",
     "output_type": "stream",
     "text": [
      "                                             \r"
     ]
    }
   ],
   "source": [
    "log_preds, y = learn.TTA()"
   ]
  },
  {
   "cell_type": "code",
   "execution_count": 68,
   "metadata": {},
   "outputs": [
    {
     "data": {
      "text/plain": [
       "(0.9271037181996086, 0.22209305730633963)"
      ]
     },
     "execution_count": 68,
     "metadata": {},
     "output_type": "execute_result"
    }
   ],
   "source": [
    "probs = np.mean(np.exp(log_preds),0)\n",
    "accuracy_np(probs,y), metrics.log_loss(y,probs)"
   ]
  },
  {
   "cell_type": "markdown",
   "metadata": {},
   "source": [
    "This dataset is similar to Imagenet. So training convolutional layers wont help ,uch. so no need to unfreeze"
   ]
  },
  {
   "cell_type": "markdown",
   "metadata": {},
   "source": [
    "## Create Submission"
   ]
  },
  {
   "cell_type": "code",
   "execution_count": 66,
   "metadata": {},
   "outputs": [
    {
     "data": {
      "text/plain": [
       "['affenpinscher',\n",
       " 'afghan_hound',\n",
       " 'african_hunting_dog',\n",
       " 'airedale',\n",
       " 'american_staffordshire_terrier',\n",
       " 'appenzeller',\n",
       " 'australian_terrier',\n",
       " 'basenji',\n",
       " 'basset',\n",
       " 'beagle',\n",
       " 'bedlington_terrier',\n",
       " 'bernese_mountain_dog',\n",
       " 'black-and-tan_coonhound',\n",
       " 'blenheim_spaniel',\n",
       " 'bloodhound',\n",
       " 'bluetick',\n",
       " 'border_collie',\n",
       " 'border_terrier',\n",
       " 'borzoi',\n",
       " 'boston_bull',\n",
       " 'bouvier_des_flandres',\n",
       " 'boxer',\n",
       " 'brabancon_griffon',\n",
       " 'briard',\n",
       " 'brittany_spaniel',\n",
       " 'bull_mastiff',\n",
       " 'cairn',\n",
       " 'cardigan',\n",
       " 'chesapeake_bay_retriever',\n",
       " 'chihuahua',\n",
       " 'chow',\n",
       " 'clumber',\n",
       " 'cocker_spaniel',\n",
       " 'collie',\n",
       " 'curly-coated_retriever',\n",
       " 'dandie_dinmont',\n",
       " 'dhole',\n",
       " 'dingo',\n",
       " 'doberman',\n",
       " 'english_foxhound',\n",
       " 'english_setter',\n",
       " 'english_springer',\n",
       " 'entlebucher',\n",
       " 'eskimo_dog',\n",
       " 'flat-coated_retriever',\n",
       " 'french_bulldog',\n",
       " 'german_shepherd',\n",
       " 'german_short-haired_pointer',\n",
       " 'giant_schnauzer',\n",
       " 'golden_retriever',\n",
       " 'gordon_setter',\n",
       " 'great_dane',\n",
       " 'great_pyrenees',\n",
       " 'greater_swiss_mountain_dog',\n",
       " 'groenendael',\n",
       " 'ibizan_hound',\n",
       " 'irish_setter',\n",
       " 'irish_terrier',\n",
       " 'irish_water_spaniel',\n",
       " 'irish_wolfhound',\n",
       " 'italian_greyhound',\n",
       " 'japanese_spaniel',\n",
       " 'keeshond',\n",
       " 'kelpie',\n",
       " 'kerry_blue_terrier',\n",
       " 'komondor',\n",
       " 'kuvasz',\n",
       " 'labrador_retriever',\n",
       " 'lakeland_terrier',\n",
       " 'leonberg',\n",
       " 'lhasa',\n",
       " 'malamute',\n",
       " 'malinois',\n",
       " 'maltese_dog',\n",
       " 'mexican_hairless',\n",
       " 'miniature_pinscher',\n",
       " 'miniature_poodle',\n",
       " 'miniature_schnauzer',\n",
       " 'newfoundland',\n",
       " 'norfolk_terrier',\n",
       " 'norwegian_elkhound',\n",
       " 'norwich_terrier',\n",
       " 'old_english_sheepdog',\n",
       " 'otterhound',\n",
       " 'papillon',\n",
       " 'pekinese',\n",
       " 'pembroke',\n",
       " 'pomeranian',\n",
       " 'pug',\n",
       " 'redbone',\n",
       " 'rhodesian_ridgeback',\n",
       " 'rottweiler',\n",
       " 'saint_bernard',\n",
       " 'saluki',\n",
       " 'samoyed',\n",
       " 'schipperke',\n",
       " 'scotch_terrier',\n",
       " 'scottish_deerhound',\n",
       " 'sealyham_terrier',\n",
       " 'shetland_sheepdog',\n",
       " 'shih-tzu',\n",
       " 'siberian_husky',\n",
       " 'silky_terrier',\n",
       " 'soft-coated_wheaten_terrier',\n",
       " 'staffordshire_bullterrier',\n",
       " 'standard_poodle',\n",
       " 'standard_schnauzer',\n",
       " 'sussex_spaniel',\n",
       " 'tibetan_mastiff',\n",
       " 'tibetan_terrier',\n",
       " 'toy_poodle',\n",
       " 'toy_terrier',\n",
       " 'vizsla',\n",
       " 'walker_hound',\n",
       " 'weimaraner',\n",
       " 'welsh_springer_spaniel',\n",
       " 'west_highland_white_terrier',\n",
       " 'whippet',\n",
       " 'wire-haired_fox_terrier',\n",
       " 'yorkshire_terrier']"
      ]
     },
     "execution_count": 66,
     "metadata": {},
     "output_type": "execute_result"
    }
   ],
   "source": [
    "data.classes"
   ]
  },
  {
   "cell_type": "code",
   "execution_count": 67,
   "metadata": {},
   "outputs": [
    {
     "data": {
      "text/plain": [
       "['test/000621fb3cbb32d8935728e48679680e.jpg',\n",
       " 'test/00102ee9d8eb90812350685311fe5890.jpg',\n",
       " 'test/0012a730dfa437f5f3613fb75efcd4ce.jpg',\n",
       " 'test/001510bc8570bbeee98c8d80c8a95ec1.jpg',\n",
       " 'test/001a5f3114548acdefa3d4da05474c2e.jpg',\n",
       " 'test/00225dcd3e4d2410dd53239f95c0352f.jpg',\n",
       " 'test/002c2a3117c2193b4d26400ce431eebd.jpg',\n",
       " 'test/002c58d413a521ae8d1a5daeb35fc803.jpg',\n",
       " 'test/002f80396f1e3db687c5932d7978b196.jpg',\n",
       " 'test/0036c6bcec6031be9e62a257b1c3c442.jpg',\n",
       " 'test/0041940322116ae58c38130f5a6f71f9.jpg',\n",
       " 'test/0042d6bf3e5f3700865886db32689436.jpg',\n",
       " 'test/004476c96f575879af4af471af65cae8.jpg',\n",
       " 'test/00485d47de966a9437ad3b33ac193b6f.jpg',\n",
       " 'test/00496f65de6cc319145ce97bd6e90360.jpg',\n",
       " 'test/004bf14426d1a830d459a9e0c0721309.jpg',\n",
       " 'test/004c3721eb88358f462cdcec6b2380b7.jpg',\n",
       " 'test/00559f56aab7e0a7749220f6aed65162.jpg',\n",
       " 'test/005b281f1a4d6f29d527c9585e9bd33c.jpg',\n",
       " 'test/005b6c6c76fefd6b458ef6fb6e54da6e.jpg',\n",
       " 'test/006870b49353779b25eeb91fed43c31a.jpg',\n",
       " 'test/0068f3a21b159ece126a28580cdad7a0.jpg',\n",
       " 'test/0069b1cc4546fc98f84f981bf9a0696a.jpg',\n",
       " 'test/0077bc3c63486ff09d3774d956af8f76.jpg',\n",
       " 'test/00780e5d2bf4f7e4b5f96d08ddde669a.jpg',\n",
       " 'test/007ed71136966728f5c0936e23c8286b.jpg',\n",
       " 'test/0081831ceb49cd64212c32b884036b82.jpg',\n",
       " 'test/00846c0edd5aa4f10ee5e9b84d7310a6.jpg',\n",
       " 'test/0092bd9e90a13403373fc0e9e1218938.jpg',\n",
       " 'test/009a3c4f6626e4750f74ceb8e8ed8760.jpg',\n",
       " 'test/00a3edd22dc7859c487a64777fc8d093.jpg',\n",
       " 'test/00a558277e1f03b71d8c813e03344ddf.jpg',\n",
       " 'test/00a6892e5c7f92c1f465e213fd904582.jpg',\n",
       " 'test/00b29dbc49177cd4faeac3c485330af9.jpg',\n",
       " 'test/00b43aa6064fa6733a391d41fe4c6803.jpg',\n",
       " 'test/00b965deff7c711cfeaa927ce52f8653.jpg',\n",
       " 'test/00bbbcb2bf285af6304bd4da0c10299e.jpg',\n",
       " 'test/00bbfaa5b2bff32a3dc8ce1563e484a3.jpg',\n",
       " 'test/00c14d34a725db12068402e4ce714d4c.jpg',\n",
       " 'test/00c610a43b661e4fc612d06db96ce258.jpg',\n",
       " 'test/00c6e480ca61e3d2da272d7b6bee0a9e.jpg',\n",
       " 'test/00d3ae5326883e4330fd4af3db8f2997.jpg',\n",
       " 'test/00d6e16493e6af2886292fa8823bdfe0.jpg',\n",
       " 'test/00d9537c197b7c4c4cdbd5d03c34b58a.jpg',\n",
       " 'test/00e3fd599b69899cba0a4939f66a1745.jpg',\n",
       " 'test/00e51308952848ae67b3ff8b53895119.jpg',\n",
       " 'test/00e71e327e114433191f34054c6bf6f5.jpg',\n",
       " 'test/00e7391275cb71dd573ad429d3d933d6.jpg',\n",
       " 'test/00e98b2021242014c466574d5b6ebc0c.jpg',\n",
       " 'test/00fe03513ca95a133d4ad7cbbdc1da28.jpg',\n",
       " 'test/00ff1cba799d51b0042915e33a823b28.jpg',\n",
       " 'test/010a0d3eb52479f4af474662ee0f67ee.jpg',\n",
       " 'test/0110fb82ad93572bd6f5dae4b048037d.jpg',\n",
       " 'test/011891ea9c5d8f160e21daa97f774e7f.jpg',\n",
       " 'test/012ca7efe684c5cdfb83f35e8fbafe1b.jpg',\n",
       " 'test/0130e4d83375e4b33a6db2c2b59324d5.jpg',\n",
       " 'test/01335e3d4849ec81cc1578aa915227b9.jpg',\n",
       " 'test/0137b490cbe148729cdff53326a41504.jpg',\n",
       " 'test/0138c08d1623fc7c8e8ece99ca1ce78e.jpg',\n",
       " 'test/013c030b78079c77fbe8133d74d58acd.jpg',\n",
       " 'test/013c469ce5bd1117b248883dee30a38d.jpg',\n",
       " 'test/0143aa47cc7cb5926cc32daf3a6a3b3d.jpg',\n",
       " 'test/014da249523b906a840f8c33ae055cf3.jpg',\n",
       " 'test/015a6039ba5ca1a76b7f856c654ee9a1.jpg',\n",
       " 'test/015a6a8a46302983fad0e5ea258b351a.jpg',\n",
       " 'test/01641548f4a2988ee7a2ec783d177a98.jpg',\n",
       " 'test/0169ed6715e26c0c5fb460941c8d3bee.jpg',\n",
       " 'test/017aa2284919402a4da3032182417622.jpg',\n",
       " 'test/018103a0629c87eeba67eda67c235cb7.jpg',\n",
       " 'test/0187ee2ec2367ed4fd060cca9681742a.jpg',\n",
       " 'test/019545d00bc1a0641d7471c1afde42c4.jpg',\n",
       " 'test/0196984af8d9e25aaff3dd2a9df372fa.jpg',\n",
       " 'test/01b09dccd56851eadb6ac3f2add3c822.jpg',\n",
       " 'test/01b2d28b2d793d02043220cb469d87e5.jpg',\n",
       " 'test/01b52961a39ed2f83e5b18ca9e069850.jpg',\n",
       " 'test/01b6b6a0a6fddda170de5b1db776326a.jpg',\n",
       " 'test/01b7405f4c920e98e0a462f3a99b542c.jpg',\n",
       " 'test/01b77c99d6ecf7aee49c8ec326bcb07c.jpg',\n",
       " 'test/01c5377f30398c17dd5b23a32fa66760.jpg',\n",
       " 'test/01cb4c4d181a23e157429168e948fe5a.jpg',\n",
       " 'test/01cb83d33e905e825df41b88dd4ef277.jpg',\n",
       " 'test/01cd792c6360ff9300ca60be40487549.jpg',\n",
       " 'test/01ce0bd1dff470548ac5c5122aa2d44f.jpg',\n",
       " 'test/01d333d5c288be97bffd76005f559f41.jpg',\n",
       " 'test/01d5ffa4de01074483149bec0f6e5a59.jpg',\n",
       " 'test/01d9fc5195f7cd2ca9e12b9c9e3eaca2.jpg',\n",
       " 'test/01deef5e85f2573f4689780b94aa58c0.jpg',\n",
       " 'test/01df86b786d0a5b4cde3713a1314ceaf.jpg',\n",
       " 'test/01f3be56aaa63fb47fd576a17f1f60b6.jpg',\n",
       " 'test/01fc8d4fec16bb8dcb5a0e60db1dc7fb.jpg',\n",
       " 'test/0201de3d74ad48774e0bd55d04d2966d.jpg',\n",
       " 'test/02094b19b383b85741353fc00c085895.jpg',\n",
       " 'test/020999e4f2b9509d90a59de565a0c723.jpg',\n",
       " 'test/020d14c04769cdc0aba82befd41816da.jpg',\n",
       " 'test/02113c6c2c25cb7bfe1d743c17a93b0d.jpg',\n",
       " 'test/021ad1825ea4fc5c0af6edc805fbcb8e.jpg',\n",
       " 'test/02215f26ca6ece8786daecc15c60e774.jpg',\n",
       " 'test/0223272e92ee6b7e9fc4cf48dbd7d167.jpg',\n",
       " 'test/023c0a9675c4e09e7de76be0fad3d52f.jpg',\n",
       " 'test/0243ae2c5882404028214ebc9806b453.jpg',\n",
       " 'test/0248cea990be4ebfbbba3c584f43a645.jpg',\n",
       " 'test/025156133d8d8700f6c7027371b1b8e0.jpg',\n",
       " 'test/0259f8dda68116cff1170758a5fea1db.jpg',\n",
       " 'test/02653e78d9f92bfcf002bd51395b65b7.jpg',\n",
       " 'test/026fd54ef87fdc261fb0fb49cddfddd1.jpg',\n",
       " 'test/0277800862437e1e637bc6e73a928b96.jpg',\n",
       " 'test/02804190c4ffc82b073d9f0036f66bc6.jpg',\n",
       " 'test/028bd6c628883784fd39841e9e26a02c.jpg',\n",
       " 'test/028f76e33c078292b0f5687a7179f15e.jpg',\n",
       " 'test/0292b3dfcab314b7b2bf705f80565508.jpg',\n",
       " 'test/0298eb3d74444d2c405639d51c220bc2.jpg',\n",
       " 'test/02a3052cd5eaf8af934c30bffbd268d3.jpg',\n",
       " 'test/02ad3d182823ba4055223ab2cf7d2ef9.jpg',\n",
       " 'test/02b0ccb5d316cf4662e8784a68e7a3d2.jpg',\n",
       " 'test/02b9adaa40397a4977b9646cc6c939dc.jpg',\n",
       " 'test/02bac257d1266986775db090b547123f.jpg',\n",
       " 'test/02bddf9bf24c6c04e2177d57e23040b1.jpg',\n",
       " 'test/02c0b96061207aabfb04efe8b969feca.jpg',\n",
       " 'test/02cc60bd987fc625224fa28da98f1fac.jpg',\n",
       " 'test/02ce818b70734ce460d0ffc47e6b9682.jpg',\n",
       " 'test/02d4d079928a6435f1154b35d97e0f7f.jpg',\n",
       " 'test/02d71ba8d4464a641ccf16814ba1558b.jpg',\n",
       " 'test/02db0128479b6544c07b3ed247ebc937.jpg',\n",
       " 'test/02e34caac2af8f176f1a0f864e111f61.jpg',\n",
       " 'test/02e513d277125b33ecfac5944dcc8bdb.jpg',\n",
       " 'test/02e9084491b5bad9e905dfef50a85be7.jpg',\n",
       " 'test/02ea6166d772f24caf112171fabd1011.jpg',\n",
       " 'test/02ec16651b25ff76fd995f70a18a56d7.jpg',\n",
       " 'test/02efe659755a4c9d2da69035c43fa5fb.jpg',\n",
       " 'test/02effd5d2e24c8388c716e172261606e.jpg',\n",
       " 'test/02f7caf2655b4b2e31aae3eb63f482e3.jpg',\n",
       " 'test/0308b64972608efa38a5a6b8fc481ba8.jpg',\n",
       " 'test/030e2fa57c7321bd36e7b8c1da96e10b.jpg',\n",
       " 'test/0310279723a11838ba4590b2e25ab4f0.jpg',\n",
       " 'test/03205e3e568c87e1568a8415272a8da4.jpg',\n",
       " 'test/0327f511c69dd282bf222f74c7861674.jpg',\n",
       " 'test/03281ed4ff1f0f4265d9f3d9940a839e.jpg',\n",
       " 'test/0328ce0d5f48e3dbaef86e830e2e9241.jpg',\n",
       " 'test/032b031f2c08f87b76608b2c19851725.jpg',\n",
       " 'test/032b415cb78da68bc4cb6fc86547b310.jpg',\n",
       " 'test/03320bdf508289b449b8cad06fb34bcf.jpg',\n",
       " 'test/033410aef5def3da55d9f0057b46d7a2.jpg',\n",
       " 'test/03461e6eb363992db018686fc1986452.jpg',\n",
       " 'test/0348bdc26f3ddab7bb839fe245f9062f.jpg',\n",
       " 'test/034beab81ed7a5806e3324a08b89b60b.jpg',\n",
       " 'test/03522703178358081aa1775e69d2b891.jpg',\n",
       " 'test/0352bccf264c3928f2b60c6bf20208f9.jpg',\n",
       " 'test/035360df46ab0b91629423b0c1104fe2.jpg',\n",
       " 'test/035cd6cf8f1719fb7e29279610bbe9a3.jpg',\n",
       " 'test/036205f601ec9fc663c913fdb92fa012.jpg',\n",
       " 'test/036a43c7c11584469998cd47c1f27f03.jpg',\n",
       " 'test/036da4b340288c17e5f7f60d2e09a530.jpg',\n",
       " 'test/03700033c5426871aef41ec4b88ff8ec.jpg',\n",
       " 'test/03756256e62264c41917230686526f34.jpg',\n",
       " 'test/037afe7f3a0c7a7fb07e3b07cc5b187d.jpg',\n",
       " 'test/037b1d74a130519ab8b98f70cac57d51.jpg',\n",
       " 'test/038c1c66830a013735970ebed41b2c84.jpg',\n",
       " 'test/039014444919fd5af1d6a33e82a7c0ae.jpg',\n",
       " 'test/0398565dfe69896dca15f8d18a194d85.jpg',\n",
       " 'test/039af4fb60da073f735372d28e0b44c2.jpg',\n",
       " 'test/03a5b7602a741f9c4b5e2afcade4968e.jpg',\n",
       " 'test/03a6a16f43df5f175d99cff6b2bf62bc.jpg',\n",
       " 'test/03a6a4c713d657d53a804ebe1fb2b02c.jpg',\n",
       " 'test/03a6fb1fa2d7812587004a60ade66fed.jpg',\n",
       " 'test/03aeba655b1ad29b77991e44d0230a95.jpg',\n",
       " 'test/03af4f193acc5c87c79b9c8aabcafc7c.jpg',\n",
       " 'test/03af64f714d918ca61ba22d011816beb.jpg',\n",
       " 'test/03b2345b235cda7611adda97fedfd5b5.jpg',\n",
       " 'test/03b4aee397e5dacdc21da01e5a5beeee.jpg',\n",
       " 'test/03b9fadcc1d3f7814294924f20619227.jpg',\n",
       " 'test/03bb0c67dce7792133b3ca579992d370.jpg',\n",
       " 'test/03be4f5a87ec964230a128664c67ca92.jpg',\n",
       " 'test/03c10d7392570e61b4ca96dab7808b33.jpg',\n",
       " 'test/03cd468831ad32cd337a73a7bde9dafa.jpg',\n",
       " 'test/03d495a97c75d45a069d5b86af52197f.jpg',\n",
       " 'test/03f3173218d97d4e386d2daf76622ffe.jpg',\n",
       " 'test/03f71314095db3cb0baadd1a4123ace5.jpg',\n",
       " 'test/04042019929218a5d9ba73e4e568f397.jpg',\n",
       " 'test/0415a2754ad5177df59e62a461604c14.jpg',\n",
       " 'test/041cf5964ef88d5a9bc2484c2fb35e19.jpg',\n",
       " 'test/042bfeb459b50977f590a341dfb20c93.jpg',\n",
       " 'test/04378b6550e324c2edfe51a23ed2f2ee.jpg',\n",
       " 'test/0441fda84f1eab8ddc72a8262a66e626.jpg',\n",
       " 'test/0448e6bdef9a5b0e3748028a76c4dfb0.jpg',\n",
       " 'test/04495ca69f279d9b2c38af99670dbb56.jpg',\n",
       " 'test/044b55c0f3ddceb089854c891c1fc01b.jpg',\n",
       " 'test/0457c8590e1ade1797e9896346e8815f.jpg',\n",
       " 'test/045e084e6ca9f5af87fb0f033670621c.jpg',\n",
       " 'test/045e64275a84a8fef942704c046ad98b.jpg',\n",
       " 'test/0464d087e3f88c601758bd46acfb38a8.jpg',\n",
       " 'test/0467770f34410f3fafd2482342d69f77.jpg',\n",
       " 'test/04713db71e256ff9339b36f8005bae13.jpg',\n",
       " 'test/0476e431ee08d486f1175f1a401dfafc.jpg',\n",
       " 'test/04790ec052c44f082c7f99b1ff26a78c.jpg',\n",
       " 'test/04864e3dd820187bf2d0baba8b94554d.jpg',\n",
       " 'test/048d0f89d66b8a2e7c2b2290f9325e7a.jpg',\n",
       " 'test/0491165f7caba51689465517c89ba6f5.jpg',\n",
       " 'test/049d9283a00a92897209b746362ae0a4.jpg',\n",
       " 'test/04a3ad7890ae7f47daf684021b741d60.jpg',\n",
       " 'test/04b1c700d0afa863c570bacce1fe5512.jpg',\n",
       " 'test/04b1d0a727b5e8a3e0580dbd52aba21a.jpg',\n",
       " 'test/04b9d32fffe1aeb7a22fde9bd859f18f.jpg',\n",
       " 'test/04c32040845967cee2d50a4d97fcd9bd.jpg',\n",
       " 'test/04c3801167f7055e2ed581e05be88902.jpg',\n",
       " 'test/04c7f6600b20b9255b04a76fe6e55023.jpg',\n",
       " 'test/04c946030025d1f2d2d3f5b158f9f30a.jpg',\n",
       " 'test/04d36eed15fe648c54a88e0b5c49deb2.jpg',\n",
       " 'test/04d4dea3ff696392df705c3ef41f470b.jpg',\n",
       " 'test/04d5ea35b89c28e085a1923fd2370d67.jpg',\n",
       " 'test/04de2de8a19aedea44e26c6bf06923f5.jpg',\n",
       " 'test/04ec9d02010d787f46ded19a75429b8b.jpg',\n",
       " 'test/04ecb983b82a9fe8629ca78d15219adb.jpg',\n",
       " 'test/04ed8aeed03953dac6f575148bcb21e1.jpg',\n",
       " 'test/04fb867d6aa1f604d2146196580f209f.jpg',\n",
       " 'test/04fc2616e5e491538a989b7eb80d7860.jpg',\n",
       " 'test/0510df462ecb01edd8ab54deb566ddf6.jpg',\n",
       " 'test/05119632960d53cf29f9409de7694258.jpg',\n",
       " 'test/0518d41fa95b141f8267a3d2e2cef756.jpg',\n",
       " 'test/051c1add9677ef6d143bb2f3f84b0b43.jpg',\n",
       " 'test/051cd7e2894925acccc0afcd9b4dbfe0.jpg',\n",
       " 'test/05240d66709e32c9a6d41ce80f62ce33.jpg',\n",
       " 'test/0533f637900fd6c5a654ee50d3332ac3.jpg',\n",
       " 'test/0536a5378c2bb64f2d458b53994f1b32.jpg',\n",
       " 'test/0537a0ff8ec176736b1b005c08977684.jpg',\n",
       " 'test/054ac219ecd4e281c2cf1b2ee635bb99.jpg',\n",
       " 'test/054d889adc4050ca15d78e2cd2486d1e.jpg',\n",
       " 'test/0551436dc38f714b0444949cd6f46073.jpg',\n",
       " 'test/0551d6061247bb9cb351e94ae392d0ae.jpg',\n",
       " 'test/0552e89f6c0ffaaf0de95ee3fc40d68f.jpg',\n",
       " 'test/055cb4e6ba1540c275d6ccd2c0b52c27.jpg',\n",
       " 'test/055fff6a0ed209707c9b6467a7dd6cbd.jpg',\n",
       " 'test/0568885d3278881be3fa98b4b7e85efb.jpg',\n",
       " 'test/056eca95930e26c627c11e14cd9e1b3a.jpg',\n",
       " 'test/058020dbdbd003cd198e88468b139013.jpg',\n",
       " 'test/058088311a4ff2c40acd1648ed8363fd.jpg',\n",
       " 'test/058449b1062e42da9c45cb434c69d647.jpg',\n",
       " 'test/0584516c9a8865f4cd37f312ff710cbe.jpg',\n",
       " 'test/05863e46ff72f425fb9da5ffcef06c1c.jpg',\n",
       " 'test/058fa786a6a1132e61ba816471262f51.jpg',\n",
       " 'test/058fce4f4149de234daa00bdfd0f80ac.jpg',\n",
       " 'test/059e2ebb636a77c8f8acee87d52d4077.jpg',\n",
       " 'test/05a3c8bda27ea3fc224704ad70779913.jpg',\n",
       " 'test/05b192656006544dc5c12975546ba9db.jpg',\n",
       " 'test/05b5fae69139329bef42256d8dfdedba.jpg',\n",
       " 'test/05bb6919c2dc679ea70ffc632f68ee2b.jpg',\n",
       " 'test/05bf0e1ba6ac406b0881ca42bd9eea97.jpg',\n",
       " 'test/05c32f1b14ec8971333500427eccd98c.jpg',\n",
       " 'test/05d59b50dbf5846845aa3f704393477a.jpg',\n",
       " 'test/05e55165cd0b46a63020f8bfafe694e9.jpg',\n",
       " 'test/05e789faff69d1c30cda54e44d7f0059.jpg',\n",
       " 'test/05eb4d66296f21bc9782688414fdbe17.jpg',\n",
       " 'test/05ee6c4435fb7a602ba89659d5d3ad1a.jpg',\n",
       " 'test/05f2d8cdffa7c13db8940afa9a5fec10.jpg',\n",
       " 'test/05f3b87382efabd41d035224574623c3.jpg',\n",
       " 'test/05f560d4d947f07dcda5199191579122.jpg',\n",
       " 'test/05fba1b035d12542ad00a38461b10c17.jpg',\n",
       " 'test/0603b37c2d81e9ae2e50d68e0a29ffdb.jpg',\n",
       " 'test/0608afccc6d9b117730a2ffdb3314d18.jpg',\n",
       " 'test/0609652d9cc0aa749ec8995ca35fd370.jpg',\n",
       " 'test/060ee0b8632da146446eec70629904fa.jpg',\n",
       " 'test/06123f6d7878605bbe7b17ae80bac9b0.jpg',\n",
       " 'test/062258efb92f99896b96ddeb35b61dfe.jpg',\n",
       " 'test/06245dd80c187262e48f84b13d4b4dea.jpg',\n",
       " 'test/062aa6e6659df80de9399df3742acb98.jpg',\n",
       " 'test/062e065c77d4b759619612133e318dbe.jpg',\n",
       " 'test/0630bc53549c1169cb9c081907a8cb05.jpg',\n",
       " 'test/06356064e630ddcffe936df4c4ba0a6c.jpg',\n",
       " 'test/063ade625f86df218a08dc82ffa12c9d.jpg',\n",
       " 'test/064068bb6bbbba0d460155fd0e6db81e.jpg',\n",
       " 'test/06465c0f73b6cbc78bf6d809c7d63572.jpg',\n",
       " 'test/06482b717bf262e4da3f029d942c4de6.jpg',\n",
       " 'test/0651dce0bd91b1be37dca4299217b0bc.jpg',\n",
       " 'test/0655d32154c2ea4f2c4715ad0ff00652.jpg',\n",
       " 'test/0656848af0bcfa6437e08a084baa1a48.jpg',\n",
       " 'test/0656e4606d4a98f2e8c8452416ac1ea0.jpg',\n",
       " 'test/0658d98859dbf3976a4a2008097e2dfb.jpg',\n",
       " 'test/065e0b70a690e06a826885b454622928.jpg',\n",
       " 'test/06603bac954d5a150ac83836f2bd6c9b.jpg',\n",
       " 'test/06644044c8bbdb99346813d4836aa7af.jpg',\n",
       " 'test/0664df7dcc26386a0adbfa3d875022be.jpg',\n",
       " 'test/066546afd3f63a7d3fd90c5a361ff527.jpg',\n",
       " 'test/066ff75ee40e88d2f0ae78b07935fa2c.jpg',\n",
       " 'test/067e053858f0cdbc2417c0ce58cdfafe.jpg',\n",
       " 'test/0684c3415499ddfd78e945c725066034.jpg',\n",
       " 'test/06884c40e2376b67269360f13ef71b85.jpg',\n",
       " 'test/068a1de8f738cd6b99657974c84f5d40.jpg',\n",
       " 'test/06937730f6c9fbf37d2875c5f00940e3.jpg',\n",
       " 'test/06965d9a055465dc84fcb6e0b7814ece.jpg',\n",
       " 'test/069895f837ed5098e394b082609e94eb.jpg',\n",
       " 'test/069b5a158f61f32d6b43964395beaa49.jpg',\n",
       " 'test/069f97f28c811705453d84528a7af240.jpg',\n",
       " 'test/06a141751c9327ab3afcdea3b0d92968.jpg',\n",
       " 'test/06aed832e3a1e4593a63e3b6490064d9.jpg',\n",
       " 'test/06b3a4da7b96404349e51551bf611551.jpg',\n",
       " 'test/06b727fc8e24e46fd7ea78b08091cab5.jpg',\n",
       " 'test/06be2fe757a1daa5fbcb51fdf2f5c613.jpg',\n",
       " 'test/06c5fbbfbd83eba3dd3993191df0f7ae.jpg',\n",
       " 'test/06c65731c3bb87dfadb14cbc4e7504c7.jpg',\n",
       " 'test/06d0f5ea2a6042fa1dec8b734148edd0.jpg',\n",
       " 'test/06d2d441aceceb5db8599311e8b1c4a3.jpg',\n",
       " 'test/06e39dddab2ff9c09b1e734b68bd219c.jpg',\n",
       " 'test/06e9d34793f7cb6915f3f2b2e6f7fabe.jpg',\n",
       " 'test/06eb6e8527837abe14e0c05b310a5de9.jpg',\n",
       " 'test/06ebeba909aa6f0c21eb28796a8d9fbb.jpg',\n",
       " 'test/06ecb29a374579fb320c1c7d2801cbe1.jpg',\n",
       " 'test/06ed14407c9ba6d19add971f9b730dd3.jpg',\n",
       " 'test/06fb0df3d5a54b2f8f4d9295c0c6f4d5.jpg',\n",
       " 'test/07078b939febab04a2b84cefb6f50dd8.jpg',\n",
       " 'test/0708b9e0cb58e97f01afc9033482f88a.jpg',\n",
       " 'test/071524aa73c1fa1fdd60aa54ebfd5719.jpg',\n",
       " 'test/0716352373a28d687d5df097512c5374.jpg',\n",
       " 'test/07165cea9be18c57a340345c02a3e885.jpg',\n",
       " 'test/0716b7a11a2dd4141f3f1a8aa14eea2d.jpg',\n",
       " 'test/07217f9dab968cf02c4cb37acf2acc28.jpg',\n",
       " 'test/073b0f066231ef6c0b2a0e1142dae338.jpg',\n",
       " 'test/0745215532a68e30976e45ea0389ea61.jpg',\n",
       " 'test/07525d1433a6ea0cb8ef07baa6a392bf.jpg',\n",
       " 'test/075c02a433329d00eb726434d8431efd.jpg',\n",
       " 'test/076144231ddb6a687889696e1978edfc.jpg',\n",
       " 'test/0763ebab76bfd9cbfaac696cc604d35e.jpg',\n",
       " 'test/076a3243b06a0e4f304950c212ca5430.jpg',\n",
       " 'test/076bc1ea1425b47d2ed010c3fb3d8617.jpg',\n",
       " 'test/076d962aa496391d14bcf7dd8878a24c.jpg',\n",
       " 'test/0770fe4187dd10984ea1afa07757dc8c.jpg',\n",
       " 'test/07737ae303594890f1ba38b87399ba40.jpg',\n",
       " 'test/077688a43b63922f7879b2fd66d32509.jpg',\n",
       " 'test/077b4c62007a362be52711169abfa4fd.jpg',\n",
       " 'test/077b4fc2385787eaad45dafe0a7a1a20.jpg',\n",
       " 'test/0782d774b978c07620c89cfcb6fb3b9a.jpg',\n",
       " 'test/078a52db2d156257696c771487a6a316.jpg',\n",
       " 'test/078f84bedc233aec44cad8a333be7e83.jpg',\n",
       " 'test/079a40f22b0fad9a66f76797b62bb930.jpg',\n",
       " 'test/079e0634a90b3de0e5c799dda0ca8fd3.jpg',\n",
       " 'test/079f17fc6713f7089e13d0e009bb62b4.jpg',\n",
       " 'test/07a61998ec9044e9c977274476e07681.jpg',\n",
       " 'test/07ad1a0d014793de8c2e104b801c6cda.jpg',\n",
       " 'test/07ad25df7e380e29aa4a5788a96cef73.jpg',\n",
       " 'test/07ae657216e11b5b5d78d89faca53314.jpg',\n",
       " 'test/07b9276c1a3b39979d0f75027fb10dc6.jpg',\n",
       " 'test/07be196f3517e9afe16c0ddc61824628.jpg',\n",
       " 'test/07cbc12094a8f4a54700054222a25da3.jpg',\n",
       " 'test/07ce92f83426286eaba1b9459d305fca.jpg',\n",
       " 'test/07d5ab48d42c8e67b8720ae221ad1962.jpg',\n",
       " 'test/07d94fdf5371753b114f7ce7505d0fe2.jpg',\n",
       " 'test/07d9d2f42eb35dd4d84b184abc4e8412.jpg',\n",
       " 'test/07e4edc428816ffe6b8dd1024bed2782.jpg',\n",
       " 'test/07e56f8e36196be69405e4c524c99b98.jpg',\n",
       " 'test/07e62ee044a6b7d6a45e92c65ff44f4e.jpg',\n",
       " 'test/07ec68dd37d6b9f89e551820f5ca946f.jpg',\n",
       " 'test/07eee2f7339d2ed306bfa6d032b1eee2.jpg',\n",
       " 'test/07f36df95c5fc473f2fbf51c0929ee7d.jpg',\n",
       " 'test/07f7c5497dd9bd91f62b7d292973393b.jpg',\n",
       " 'test/07fecc50840c8da8284ce5dc6552ae8e.jpg',\n",
       " 'test/07ff89277767ddc115adeee8a6f0ceec.jpg',\n",
       " 'test/080a64bd87b1e0f5c96b37acea9da4ee.jpg',\n",
       " 'test/08152b214c5b628d9e70f609230fd51c.jpg',\n",
       " 'test/0820dacdc8a994a932d0bae3abd0a15b.jpg',\n",
       " 'test/0821ea02386d4a714d7b6e39ee5e66e8.jpg',\n",
       " 'test/0823d77ad63ec4493ee762db7edd1ab0.jpg',\n",
       " 'test/0829420985a1d5b647b969d44af3e844.jpg',\n",
       " 'test/0829a60da0c03d84426d455ee8a8de24.jpg',\n",
       " 'test/082d768e587edd63163873ecf146de0b.jpg',\n",
       " 'test/083969d1802423c9d5b1a9f1bb613b67.jpg',\n",
       " 'test/083ee6a9bf4958f0acb86ffe3e5aefff.jpg',\n",
       " 'test/083ee921f066ce08459cb978094fe2cb.jpg',\n",
       " 'test/084585fd8a9fcef3c7261669cacbc1be.jpg',\n",
       " 'test/0845cc245f85d15f4bbd847be7d28e8c.jpg',\n",
       " 'test/084a88db5888d01ee4cdc4607f461ee5.jpg',\n",
       " 'test/0854e34e53c9dd84579d4c37086dbdf5.jpg',\n",
       " 'test/085b91ca1ad46fcd9edd0edbe2b1385f.jpg',\n",
       " 'test/085ee840fecbb0fc74d69d7d8858ebf4.jpg',\n",
       " 'test/08615ed58e50996f7fb47f039e1a7101.jpg',\n",
       " 'test/08680f416f6cf8ab00fcdf51c217b5f7.jpg',\n",
       " 'test/0868fa59f5b4e8c92e3ea230cf912328.jpg',\n",
       " 'test/08699bdbc18bde158cdc4969b6c51d81.jpg',\n",
       " 'test/086a6fe01b1805017e8cef3c9ccb52ab.jpg',\n",
       " 'test/088106301addda7fc9f5a9bd6b79836f.jpg',\n",
       " 'test/088463756041ddbc5f9b905b6ed9a940.jpg',\n",
       " 'test/088caa7edc676bfd9ecb154e1cb4d720.jpg',\n",
       " 'test/0890c992ea2d00c3c2de9e588081a3b9.jpg',\n",
       " 'test/089347d3bc5f6b4a4a7d38d10c8f5d90.jpg',\n",
       " 'test/08b34271d7d196d13bbeeea99504e099.jpg',\n",
       " 'test/08c1a66912af795920a43e563acfe5aa.jpg',\n",
       " 'test/08d5f16507943be640f4592c9d08a798.jpg',\n",
       " 'test/08db69ad154c401de7951c11a15ebf26.jpg',\n",
       " 'test/08db8163ff5451ae44b7496b5c9ee05a.jpg',\n",
       " 'test/08dc47beafdfdc5702dbf168c7eb3456.jpg',\n",
       " 'test/08f4ff17cc6bf754d798eb3b39fafebe.jpg',\n",
       " 'test/08f5846ac17ac1b421305a4cc82c6824.jpg',\n",
       " 'test/08ffbdb8c2abc705348260533f3a0659.jpg',\n",
       " 'test/090179e04f4d8bf313d0fc97c1879b3f.jpg',\n",
       " 'test/0910c194c44f79721d282c8416016dab.jpg',\n",
       " 'test/0917cea14ed14bb43c7ca5ead4f38266.jpg',\n",
       " 'test/092376c380c9d09c4af6e98ef2278925.jpg',\n",
       " 'test/0925832e4d19da79b186f1fc89d59229.jpg',\n",
       " 'test/092b3603e559d05e09e226b56bf5f788.jpg',\n",
       " 'test/093429fa3735918cf4501c167b41aad1.jpg',\n",
       " 'test/093b8af8f6a470fe25730c1d1c891805.jpg',\n",
       " 'test/09427dd054f40eda66d2dc064822c9e6.jpg',\n",
       " 'test/094773990d99685caef6ffbb32e1a248.jpg',\n",
       " 'test/0952c09e62d7de5d54df49e5219517cb.jpg',\n",
       " 'test/0953e8a5ff606ad468a9113317627652.jpg',\n",
       " 'test/0954e09deca15b755d04a7826264da61.jpg',\n",
       " 'test/095aeed9500cd0916d0f8e0a39fd3677.jpg',\n",
       " 'test/095c7d9c973beb0e81bdd2fd7ad102cd.jpg',\n",
       " 'test/09612c47e84bcdf06c8e5a99ac1a8bd2.jpg',\n",
       " 'test/096660fd535bca4359ab3f19882aaaf5.jpg',\n",
       " 'test/09711f031a35c1c8eac66d3fa3cdb000.jpg',\n",
       " 'test/0980f210e23bf1d422f00f1a6f168d20.jpg',\n",
       " 'test/098bfb54af7aa639101b59206962e686.jpg',\n",
       " 'test/098f700ef2234a1ca91614ec51ce3c2b.jpg',\n",
       " 'test/099c7e227b6beaa4e87c893d25f56c63.jpg',\n",
       " 'test/09b770df98721d813129ba5c789b08a5.jpg',\n",
       " 'test/09be34319680d5e6a5608f74d4825271.jpg',\n",
       " 'test/09cbd98c55f58ad0535b5066c72e6e42.jpg',\n",
       " 'test/09d5118c848bc579eff8cfb669fd7aa1.jpg',\n",
       " 'test/09d8b8ff0e64f4e8f908827efdd114ae.jpg',\n",
       " 'test/09db0bb220cdbbc0adca63e38e64ab38.jpg',\n",
       " 'test/09e339bf702691a9f75b0d30cfca4314.jpg',\n",
       " 'test/09e51e17e2b756ff2ace8a87bd1443fa.jpg',\n",
       " 'test/09ef5442c370eb7eeb08e6796c5ff5b5.jpg',\n",
       " 'test/09fddf304d2789cfbb55935237dbac13.jpg',\n",
       " 'test/0a01f3b0c6d250c08785716c562e2d4d.jpg',\n",
       " 'test/0a053ff8908375e9579ead9f3965e0ce.jpg',\n",
       " 'test/0a0b97441050bba8e733506de4655ea1.jpg',\n",
       " 'test/0a0f82d4557f70718efa26f8a8a7773f.jpg',\n",
       " 'test/0a1be1191b5c9d91392bb1e373600259.jpg',\n",
       " 'test/0a28fe94aa27ebd0fa587c8a474117a1.jpg',\n",
       " 'test/0a2a4ced84f11101720e47f4846945c6.jpg',\n",
       " 'test/0a2b5dcf7aac8c4a282ed09b8b5e93f2.jpg',\n",
       " 'test/0a30903466bc4f7532843b0ccdd09e2a.jpg',\n",
       " 'test/0a342feb5c2100a12bcd15326cf266c6.jpg',\n",
       " 'test/0a3900f02e38cd042f23a6be538b95d6.jpg',\n",
       " 'test/0a3f1f6f5f0ede7ea6e27427994d5f62.jpg',\n",
       " 'test/0a4ef19459cd2100977b052de5f46231.jpg',\n",
       " 'test/0a50246e67da6ea8baa16d59a90810e8.jpg',\n",
       " 'test/0a50874d29b277cc889c0aa1cc8cd03c.jpg',\n",
       " 'test/0a51fbac72fac75df279e18e4b1c042f.jpg',\n",
       " 'test/0a54ce47525781f2caa66f65291dddf8.jpg',\n",
       " 'test/0a59d3205cff15e31ee30213b9988e7e.jpg',\n",
       " 'test/0a5b12a0f9fe595d6db6ee36b43725df.jpg',\n",
       " 'test/0a5f4f224f4660a3453a7fa327bec893.jpg',\n",
       " 'test/0a73cae7b4156ca912b24747880aeb65.jpg',\n",
       " 'test/0a7c46f223c4a4b7e7a2f25e8e023d73.jpg',\n",
       " 'test/0a859b76a52d4fac456653a1d45ddf3d.jpg',\n",
       " 'test/0a8d8dda0e354c0571c8d47600ab39a3.jpg',\n",
       " 'test/0a942a4a0b42a50c397ddce75ace89b0.jpg',\n",
       " 'test/0aa1ef16c5738686429329816f3eba76.jpg',\n",
       " 'test/0ab1253d4d22b51d057be123e1585429.jpg',\n",
       " 'test/0ab368e15107ceba01c03f37abf55e66.jpg',\n",
       " 'test/0ab5fe07cda87c279b880a445681ee86.jpg',\n",
       " 'test/0ab729417a79665dc0df24df7e8d000e.jpg',\n",
       " 'test/0ab808aa3571846e50ed74a204662c52.jpg',\n",
       " 'test/0ac820001998537915e7769da3746d27.jpg',\n",
       " 'test/0ad84b0d9083b4e0dd5840ab77c4623b.jpg',\n",
       " 'test/0ada9d43a90298132d5c390f41af325f.jpg',\n",
       " 'test/0ae295e67635319202b6fbc2b0be2fcb.jpg',\n",
       " 'test/0ae4367c7f7149a43b0e5b1c07ce7ed9.jpg',\n",
       " 'test/0ae94221b81d49e01b8fae3dd0f4f882.jpg',\n",
       " 'test/0aedda5dba90a84794d461b6a2f3daec.jpg',\n",
       " 'test/0aee2e38a7ac39c80dbf0dbc81e830a5.jpg',\n",
       " 'test/0aef0a7e7a79092235213555be0e1f52.jpg',\n",
       " 'test/0afdd7296357eed0c69a63fb228645d1.jpg',\n",
       " 'test/0b0053a16fa3093c826e5211ee55a1d2.jpg',\n",
       " 'test/0b0411aa35fd85a85e504793064fc3de.jpg',\n",
       " 'test/0b0a5091be4e49c6b47192a0b88e32b6.jpg',\n",
       " 'test/0b13ba12e03f7d59a2ec9d72abcc64b3.jpg',\n",
       " 'test/0b14484aa2b3035fffa3ad68aafad99c.jpg',\n",
       " 'test/0b246617d6e9e0898cad352a7d5cc82c.jpg',\n",
       " 'test/0b255f836ab0e2c1a76479588fb678b5.jpg',\n",
       " 'test/0b297c77f3c031ee31ae2095e6a72405.jpg',\n",
       " 'test/0b34da5b754b8600edf49e02ce365988.jpg',\n",
       " 'test/0b549d7b0a972428bfca5bec213ce494.jpg',\n",
       " 'test/0b5784f22b6f62ce04c6e1abb72b72a2.jpg',\n",
       " 'test/0b69acfc61048e94c7ba772a1f55012b.jpg',\n",
       " 'test/0b69e164a553cb6397e0a4d15d8539d2.jpg',\n",
       " 'test/0b73c34b32b7cfdec418cccd9b8a1edd.jpg',\n",
       " 'test/0b7fd1d896090abe6b0278995be700cc.jpg',\n",
       " 'test/0b8044ce57a6e825db342168ea2cdf17.jpg',\n",
       " 'test/0b8132fc7939d41b92e13ebffec83261.jpg',\n",
       " 'test/0b8d0cef885d10a5fb4092a406477345.jpg',\n",
       " 'test/0b98d2c4d26387ae0e105aa930a7ce09.jpg',\n",
       " 'test/0b9a8b5c4346c33e21923f10984c8fda.jpg',\n",
       " 'test/0bacfc339a38770af17ed464da321641.jpg',\n",
       " 'test/0bb31d2e7e30340a947dc809f1143b63.jpg',\n",
       " 'test/0bb3fbcaac7d24aa3f24517355d62a27.jpg',\n",
       " 'test/0bb4e3868bcbe0da6779f8fdf3ed3e92.jpg',\n",
       " 'test/0bb63e30692f00bc7bf0ab5ac787b162.jpg',\n",
       " 'test/0bce736f42515d9c8d100f27bc6f42f3.jpg',\n",
       " 'test/0bd08711dd75d82507a002b300f9fc61.jpg',\n",
       " 'test/0bd8f413246354189f1b7f3b0579d209.jpg',\n",
       " 'test/0bdba03280f895fc33c54457fd63bdf2.jpg',\n",
       " 'test/0bdcd4044c3b61e2dc05f7f0cb8ab8e2.jpg',\n",
       " 'test/0be4fb2606e70ec63a47250467ca169f.jpg',\n",
       " 'test/0bf31cf6e8951bca71c2774b3a13e7e2.jpg',\n",
       " 'test/0bf8341365578c865159c299b6c99b83.jpg',\n",
       " 'test/0c0187eb836f871551d1fe2de8061dc9.jpg',\n",
       " 'test/0c0387c405af8bea156fe936837f6bd2.jpg',\n",
       " 'test/0c07dc94a848d6628d118c6934773a1e.jpg',\n",
       " 'test/0c0b3758c1b177b2a2961c1483159898.jpg',\n",
       " 'test/0c1190ac6d3af71a509db2530e78a4d9.jpg',\n",
       " 'test/0c1dcbc3c7d2ce6399fb7aa68a70dcda.jpg',\n",
       " 'test/0c2291678c73982bab16d08c093e69ed.jpg',\n",
       " 'test/0c278ed448bfd1b7f06854a5a9be7128.jpg',\n",
       " 'test/0c2bb0fd894691f734d27c1bbcb149bc.jpg',\n",
       " 'test/0c33d563a236f54a54edaca656ad73ab.jpg',\n",
       " 'test/0c3a0c2dfc46e6eb972e6553d364c71f.jpg',\n",
       " 'test/0c3aff87f7d7f4263b2da9d322393ef9.jpg',\n",
       " 'test/0c4748f4416edb56b232fa715696abcf.jpg',\n",
       " 'test/0c4e4a613e16d0de30c4d13a01d2f8c1.jpg',\n",
       " 'test/0c537142d9389cd3f4a08b689e8185fd.jpg',\n",
       " 'test/0c56abba9f7ff87afbbd1021364739af.jpg',\n",
       " 'test/0c614cc38cd3f9fd0abfbcc502904ead.jpg',\n",
       " 'test/0c6176b396e31ce7666185aa435be7e0.jpg',\n",
       " 'test/0c65c361ccaf8d7e79036a67d6290802.jpg',\n",
       " 'test/0c6d22c1780ac7e3a56af788a7c9c37e.jpg',\n",
       " 'test/0c6e1f42e718ab9b308d12b766797761.jpg',\n",
       " 'test/0c8160a60d1eab51c11cf6d65313047f.jpg',\n",
       " 'test/0c82ccebd8e7cf9b232fe9b294863c69.jpg',\n",
       " 'test/0c83197665c5b99ad02dc6f07fb15e69.jpg',\n",
       " 'test/0c8383a09304fff32064f2054a12153c.jpg',\n",
       " 'test/0c83baf5da23970139017e2cbc54aecf.jpg',\n",
       " 'test/0c84d273699cada291a635c6edd33390.jpg',\n",
       " 'test/0c86aa25b14fcc51db69e652cf399775.jpg',\n",
       " 'test/0c8afe874cdaa93402af403b8720cdbe.jpg',\n",
       " 'test/0c8c480c7a385be3ab227159ab481938.jpg',\n",
       " 'test/0c98f1cc700594739b13255084b2e64b.jpg',\n",
       " 'test/0c998727aba57f2717402d75f1a13f95.jpg',\n",
       " 'test/0c9e9cedfbc9d87afe78eecbbec16b2d.jpg',\n",
       " 'test/0caac09489270f8de833aff88f01c0e6.jpg',\n",
       " 'test/0cac203626ab292bc76e79f266207ce4.jpg',\n",
       " 'test/0cb0cc50ad302ff64f3297ce361ec485.jpg',\n",
       " 'test/0cbe1df9ac49399277c5bcbc4c163f88.jpg',\n",
       " 'test/0cc1b906fda4a6fca942e9f9c10d5ebb.jpg',\n",
       " 'test/0cc20872856b216481952df6d06700bf.jpg',\n",
       " 'test/0cc2a9144cd3a2292a108a28d68c17fe.jpg',\n",
       " 'test/0cc65de0d59f5cb7b7d4b9f8f3265fe3.jpg',\n",
       " 'test/0cc8563200ce8bc07f58bfc07e6f26e8.jpg',\n",
       " 'test/0ccf9351b3b9825b3a66d0542aea348e.jpg',\n",
       " 'test/0cd0200ed88e2deae77d9407a4975f3f.jpg',\n",
       " 'test/0cd23332299c3aff0eaff055e00f55b4.jpg',\n",
       " 'test/0cd8ea2638d5234b80d8836cf98a41d7.jpg',\n",
       " 'test/0cdc399d2f92c6800bf8d3f723040ad4.jpg',\n",
       " 'test/0ce3f883d80da4cbfce335fcfc38b1b2.jpg',\n",
       " 'test/0ce403d6456ed3001f9c9521083c9b30.jpg',\n",
       " 'test/0ce7c1e240ceed52d8789289fe9f3432.jpg',\n",
       " 'test/0cef2f815d1a18a2db6f4134c1228445.jpg',\n",
       " 'test/0cf7c74a10aa9c602d194717ab781794.jpg',\n",
       " 'test/0cfa9ee8a8e0912bb06bfd575f70bfb7.jpg',\n",
       " 'test/0d08bca9c153c3721da8dce6f10ee757.jpg',\n",
       " 'test/0d0964db201a2c0765bde74ca28148ef.jpg',\n",
       " 'test/0d13cb748810b8fca2fe3facc6e9aee4.jpg',\n",
       " 'test/0d14f14ba65c762cb7307c5cfa5f5164.jpg',\n",
       " 'test/0d1985ada774f6522afc2a881396158a.jpg',\n",
       " 'test/0d1e036ce1a811deaf6aceb405e34d50.jpg',\n",
       " 'test/0d2052c227baab35a97ea9d0b767967f.jpg',\n",
       " 'test/0d20ec872931053d937381013e38ddc2.jpg',\n",
       " 'test/0d232196ff8e67750201aa6111e252e1.jpg',\n",
       " 'test/0d23734888782ba88da4bb3c19a12688.jpg',\n",
       " 'test/0d2421d1aaeb809587a95def06c4ae4d.jpg',\n",
       " 'test/0d2eabeabab223d84cc00ffa8aacd16d.jpg',\n",
       " 'test/0d4cf10273dbfdab06eb069fd6cdfa34.jpg',\n",
       " 'test/0d5043156904a8ade08741ce8006fa28.jpg',\n",
       " 'test/0d580b0000ec6948330c3f60db39bf12.jpg',\n",
       " 'test/0d5b801bfeff4eefb3994b8fc59bc2ff.jpg',\n",
       " 'test/0d61e4885d53a0abad1112c4edfa9fda.jpg',\n",
       " 'test/0d6909043999ac138c3ceaaa064ff715.jpg',\n",
       " 'test/0d6a4703b8989cb5c5402b15e7efbdda.jpg',\n",
       " 'test/0d6cef015f132e67900dc13137425a30.jpg',\n",
       " 'test/0d74c3102be15724083f197376478395.jpg',\n",
       " 'test/0d81ae5c4b549b678c83b83f5fbccbbb.jpg',\n",
       " 'test/0d89ad8385e4871589195df66f386b4b.jpg',\n",
       " 'test/0d8ce6159135b56cbc62081ec3b674ac.jpg',\n",
       " 'test/0d8d03b785f5f0e1f5476966cf7dcb25.jpg',\n",
       " 'test/0d907500951c7c38dd9f8a94adb899f7.jpg',\n",
       " 'test/0d995d97a3a9b34790f46a4d39cab12a.jpg',\n",
       " 'test/0da09e8ff1c1fe09c4ff0b18f01f3c70.jpg',\n",
       " 'test/0da82b2cc4e16d44eb83c7b71d7407b3.jpg',\n",
       " 'test/0dac129eab2cf6e788807087e8fbd806.jpg',\n",
       " 'test/0db3f774655ada5d6f78f2a3c31fd295.jpg',\n",
       " 'test/0db93e224b1144f48aa1c9572fa849b1.jpg',\n",
       " 'test/0dbbfd6f80c227c60a79312fb143e6dd.jpg',\n",
       " 'test/0dbf7db28f587285602ef41acfd2d009.jpg',\n",
       " 'test/0dc570ec7086bab004a7e357164c04b8.jpg',\n",
       " 'test/0dd0c324a6f4a599756b3b750165c41a.jpg',\n",
       " 'test/0dd90b931c1817e7e3106a1d3c56545e.jpg',\n",
       " 'test/0de953decddc94fe55b0edfdee1936d4.jpg',\n",
       " 'test/0dee0e6895ebcc7c6d0fe88772619b38.jpg',\n",
       " 'test/0def85fa5e00a462e57fae1db3947a0e.jpg',\n",
       " 'test/0df5d0e873f58e89111b5de3d3fab9d2.jpg',\n",
       " 'test/0dfae5f3f2489c3eb8fba1a9883a31e3.jpg',\n",
       " 'test/0e01744db60c4f9933f9a85022b25324.jpg',\n",
       " 'test/0e052388023bf1ebe8c0d8679e70b989.jpg',\n",
       " 'test/0e0ba1c25d4f30cd8a6b87ecc54f38b6.jpg',\n",
       " 'test/0e116c1a6ba0c9c4fccac09033d3c393.jpg',\n",
       " 'test/0e1ea29028a5b914632b0c30ecf4d3ee.jpg',\n",
       " 'test/0e22117d085da91cba31ad4cc3bf0403.jpg',\n",
       " 'test/0e2f282cd63cb0f4798678a2e658e910.jpg',\n",
       " 'test/0e38176c43c4bfc1db5433fe4d607f1e.jpg',\n",
       " 'test/0e39ccd1021cefe374b0e38fd35b4356.jpg',\n",
       " 'test/0e40ecbb196cf0d7d325a10c32400999.jpg',\n",
       " 'test/0e4b38eb8de2969f87b0f224dfae2af1.jpg',\n",
       " 'test/0e4c14d014ad3e0421933ab29ad7b16c.jpg',\n",
       " 'test/0e4edb98eae12cd4332ff2e2d2c6f1c4.jpg',\n",
       " 'test/0e5df48c6a720cdce7bfcd8064e86f88.jpg',\n",
       " 'test/0e5e614226a9f90dadc315bfba52458f.jpg',\n",
       " 'test/0e5f1ea483aacbd4d42209b1fc69b056.jpg',\n",
       " 'test/0e6885657425d9f98f77422d4a91893d.jpg',\n",
       " 'test/0e6e4329b4f6d74e3225bbf3bb027473.jpg',\n",
       " 'test/0e78b2e7c587a7f503fcfd5be25c23c0.jpg',\n",
       " 'test/0e7baab11c3e1a71d364720ff43aa5b4.jpg',\n",
       " 'test/0e7c2ef54e84c8d021e1c0ea96cad523.jpg',\n",
       " 'test/0e7c7475259b9f0088e6922d5562f36d.jpg',\n",
       " 'test/0e826c710afd789f8db9ff522a7a04c0.jpg',\n",
       " 'test/0e8d997db26798c7c1612847319973e5.jpg',\n",
       " 'test/0e961b7d3738affb462c0ae2528e922f.jpg',\n",
       " 'test/0e9c363076ca2a8fb7b7a1182a7528f1.jpg',\n",
       " 'test/0ea853dcbeabf192889a19926f7fc2fd.jpg',\n",
       " 'test/0eb22da796bce296261373cfc4f3c2c8.jpg',\n",
       " 'test/0ecde220a6c5bc116534f0c79426a09f.jpg',\n",
       " 'test/0ecfbc51c3d5a40221c92a3c54b664b3.jpg',\n",
       " 'test/0ed4f500b04714eb648c0cb21060ec5b.jpg',\n",
       " 'test/0ee14feea6dcd9f065469b85e822546b.jpg',\n",
       " 'test/0ee1a7f6c3469bf308c4bed1d844f221.jpg',\n",
       " 'test/0ef5cb06089e8b91d88a4221cdbe5a1d.jpg',\n",
       " 'test/0ef9fe72e2072e640d8a8a8c6bf9d3e3.jpg',\n",
       " 'test/0efe03910c7c5f576cf52c9e7c28beaa.jpg',\n",
       " 'test/0efe6a6dda65dbb2eb9f3f77fddc97ee.jpg',\n",
       " 'test/0f06bc9d173a94c0c79dcf1cac9511a3.jpg',\n",
       " 'test/0f075ef05225932dba12fb636783680c.jpg',\n",
       " 'test/0f08f61fcbbc43e07a991f52e3e64af4.jpg',\n",
       " 'test/0f09d93e5acf4df2d9038501d434d5e5.jpg',\n",
       " 'test/0f119eb2566f6f11c6cdab8608575f5d.jpg',\n",
       " 'test/0f133e2a0b51fe16f5bacb8b4a980ae6.jpg',\n",
       " 'test/0f13a35521e28485de8cc802e429b324.jpg',\n",
       " 'test/0f15c5e059726aba8d1c3341ffb14881.jpg',\n",
       " 'test/0f19ffd8d0614958442cee26bc199d41.jpg',\n",
       " 'test/0f1bb5b5510c245aa1ec48bdad3495a7.jpg',\n",
       " 'test/0f1f058522972750c6afe200c02a027c.jpg',\n",
       " 'test/0f21800e7f10cc35725b82d34da94ce8.jpg',\n",
       " 'test/0f341494dfeb1318b50d43a4ae74e138.jpg',\n",
       " 'test/0f364859de4b5475265681eab503728e.jpg',\n",
       " 'test/0f3a0d6d2bbac0176da5c1a4b23bec47.jpg',\n",
       " 'test/0f3ac08b6178ce79358ac3f172820258.jpg',\n",
       " 'test/0f3dc83b50a8405f6079ad13c4b727e6.jpg',\n",
       " 'test/0f3f071f6d0afc5bc906aee0cfb3297b.jpg',\n",
       " 'test/0f40071bb6be117fc8ace2c2d2244761.jpg',\n",
       " 'test/0f407611b8b63474157e3de80b4c01bd.jpg',\n",
       " 'test/0f4a636da3a7f4dd52a4498a74653a8a.jpg',\n",
       " 'test/0f4b246cbf26bf1e6f6c89472443bf13.jpg',\n",
       " 'test/0f56064b344e608e11a41e3523eb3b89.jpg',\n",
       " 'test/0f58dffab12b3e92964731f3801ee4b1.jpg',\n",
       " 'test/0f59213057ba694005c0f5d8f32172d7.jpg',\n",
       " 'test/0f629dac2ecc2279f9a9038c7f5787b6.jpg',\n",
       " 'test/0f65462c046af1b3be56b2bc112b90b6.jpg',\n",
       " 'test/0f68ebbd575038862faadf8a59aaa439.jpg',\n",
       " 'test/0f74bcf6beaf43013d8fbacd632f72d7.jpg',\n",
       " 'test/0f76bc5bfac3d245fc0ebb8a231ecac0.jpg',\n",
       " 'test/0f9011ef7da2c18797410191fe7c3e0d.jpg',\n",
       " 'test/0f92e6a8360ab5dfee99711a55a2a6bf.jpg',\n",
       " 'test/0f9c64778bf451d709e54c66868ff8de.jpg',\n",
       " 'test/0fa39bc6bbb7107ae27cba8e244a7e4a.jpg',\n",
       " 'test/0fa8b51dbcf4db355110909c624fb37f.jpg',\n",
       " 'test/0fab604aeee38ca9e533498dff7bbfe6.jpg',\n",
       " 'test/0fb39410b417652816759e4ae87f5f57.jpg',\n",
       " 'test/0fb4de8ba53b256e5b66d432c347ba92.jpg',\n",
       " 'test/0fb5e83ed166d82503b89da3f177aa62.jpg',\n",
       " 'test/0fbce224c3342dfd4fbd5fbe9f911c10.jpg',\n",
       " 'test/0fc0f2141b0ccaf394c6ff12948cd952.jpg',\n",
       " 'test/0fc9788c669fafe1f5c5a6da882d6356.jpg',\n",
       " 'test/0fd64246ae04e2f33cf815ab34b14f04.jpg',\n",
       " 'test/0fda8797dabbe5a4014cd3d0cdecac4e.jpg',\n",
       " 'test/0fe8cd548b03f238fc63415d15228849.jpg',\n",
       " 'test/0fe91bc1fe542f04aaf9a010ef37c2b6.jpg',\n",
       " 'test/0fe9386d16a008c40f260dbf3bef4a00.jpg',\n",
       " 'test/0fea0c2478fcd1e0c53fc025bb2b0183.jpg',\n",
       " 'test/0feb3e06b50cada6f4339058eef8d1b0.jpg',\n",
       " 'test/0ff1051e3806b2f6778db35278de079a.jpg',\n",
       " 'test/0ff286d9ddd36a08df220910ec46a4be.jpg',\n",
       " 'test/0ff3a251ebaa1892f8ee83a5140c87af.jpg',\n",
       " 'test/0ff55c6329f9bfe0f49a02d2d6c20cb4.jpg',\n",
       " 'test/0ff94e4e2944acacbd5e6b0cb8fe381f.jpg',\n",
       " 'test/10026d03b0105b2066cd1f9e1b1d17fa.jpg',\n",
       " 'test/100a74b1948ae91672b2a9f78bae03ee.jpg',\n",
       " 'test/100c1d41e92d58bf47f23ed2492be2b7.jpg',\n",
       " 'test/100c3f2b6b4f8f0b8d256d5da7f75895.jpg',\n",
       " 'test/100db647a48e687caec19226c0834b6c.jpg',\n",
       " 'test/101957d48b542794672e84eeae2f6595.jpg',\n",
       " 'test/101b04a9285eaa095ff49fd96fa1c322.jpg',\n",
       " 'test/103544aea218de82742b8c7630eccd9d.jpg',\n",
       " 'test/103cdc14a648474fa9a85c3542d6821e.jpg',\n",
       " 'test/103fc49f170b6a86eddc9097f2827730.jpg',\n",
       " 'test/1041051d5868744bdbb557de4bcadd64.jpg',\n",
       " 'test/1041538881a6287d803bdfa79743400d.jpg',\n",
       " 'test/104dcfea5f3ab572029acae587e42a79.jpg',\n",
       " 'test/104f49e346bad0509899046665a6292e.jpg',\n",
       " 'test/10599ab6821a2a0a16f4e91ca28b7353.jpg',\n",
       " 'test/10627d3a10a1445e80b99bacc6e169ce.jpg',\n",
       " 'test/10630ca7791c65508f5a460f43c90de7.jpg',\n",
       " 'test/1068f009dde547e7f1b472a538a1348d.jpg',\n",
       " 'test/107016d4f631b9ee6c236b864612fe6f.jpg',\n",
       " 'test/1078b2b256e6b80c89bdca36d76f7d63.jpg',\n",
       " 'test/107cfd7192dd926f205ad8d48fe6a17e.jpg',\n",
       " 'test/10863e6d9d1cb526cc9d90f30a585719.jpg',\n",
       " 'test/108994037a7be72823f6de12a7ccb819.jpg',\n",
       " 'test/1089db65c1121fbf48af002d8db7fe04.jpg',\n",
       " 'test/109433cf9ef7501a038d31f2f4b3f619.jpg',\n",
       " 'test/1098c26307f8cd01a7ba182b090f5e55.jpg',\n",
       " 'test/109a75098635e01f334c4e4281e15276.jpg',\n",
       " 'test/109e30067a68f7b7ab62af7683ab1826.jpg',\n",
       " 'test/10a25198b6d293a07b4c8dcee0c8a5d6.jpg',\n",
       " 'test/10b2f665b8dc7303d020e91d362f4806.jpg',\n",
       " 'test/10c4c824396380cbc41c36f28b1b9baf.jpg',\n",
       " 'test/10cd1f206da577eb0ef2ba6ce012b385.jpg',\n",
       " 'test/10dbf30635323f90703abc5d76493902.jpg',\n",
       " 'test/10dd4c08b975b10fe0af5cbc0fcac3db.jpg',\n",
       " 'test/10f5107a94eaa2355bc66f095e1ee9fc.jpg',\n",
       " 'test/10f80b8de09cb45fa1b66d5f0502e33b.jpg',\n",
       " 'test/10fa39f9e7509328be0ca0d352fcbf37.jpg',\n",
       " 'test/10faaeac53d791eaab517fc05b6a7145.jpg',\n",
       " 'test/110027dd4a1b9de5081064ad66ebc678.jpg',\n",
       " 'test/1103c50b153945c81f75511b8a3fcf44.jpg',\n",
       " 'test/11080bc5dd7d5a15b68fded6d2e19e67.jpg',\n",
       " 'test/1118565dbfef8fe21f68b28100c7c4ef.jpg',\n",
       " 'test/1119c5511941dd992da0f8f66b34e55c.jpg',\n",
       " 'test/111a7820d56b8cca8792215d7def8213.jpg',\n",
       " 'test/111e05cb4c025aa20a1e4c9c854b126d.jpg',\n",
       " 'test/111fb27f743d10119c071278ee65d131.jpg',\n",
       " 'test/11257c237f45cf3482fa033fe809d6a9.jpg',\n",
       " 'test/1125d4384fb215196990c5788a73b0b3.jpg',\n",
       " 'test/1128f324fd4c6bda8ee3914c6df29a06.jpg',\n",
       " 'test/112a5af56da4fba655809ad07a24dcfe.jpg',\n",
       " 'test/112cf5a77c123e8e8a024f26b4154a2d.jpg',\n",
       " 'test/1130570a4b97ef8917dc92463ca6c6b4.jpg',\n",
       " 'test/113ca01bc889d3b8c34fac5e2e3fc50d.jpg',\n",
       " 'test/113e3722370b3cd0d1cfbb44e5b3b840.jpg',\n",
       " 'test/1140e6284f80fc0bc1d668438a417a29.jpg',\n",
       " 'test/114740c10ad87f44b2f7f97ef7c95a91.jpg',\n",
       " 'test/1149cffb0d6c5fe3a8f3cc11e66c6714.jpg',\n",
       " 'test/114a4a1fe266429ccb8ae42b5f8556cf.jpg',\n",
       " 'test/114b457d11f8ece14dd82ea525683a1f.jpg',\n",
       " 'test/114cdd56bf41af845a83404b1a57ab82.jpg',\n",
       " 'test/115207097231aeb2bd45ff9a87b97018.jpg',\n",
       " 'test/11536b27e26da85d43fe32f3b5e03d55.jpg',\n",
       " 'test/115e90d8a953820b54e2a63199223b0a.jpg',\n",
       " 'test/115e99fcb5d2b82c22d58df7d0011069.jpg',\n",
       " 'test/116880ac65a9eb9e5b4a226d7adc5c6e.jpg',\n",
       " 'test/1170736b52a554f7bdfb3425d6ce8980.jpg',\n",
       " 'test/11752752be98909829638b08dbc4eb33.jpg',\n",
       " 'test/11754ee6d33fceb7a8dab2c33f3ba008.jpg',\n",
       " 'test/117b24208be9b26f6604a48f8f2be1b1.jpg',\n",
       " 'test/117ea9f58dbe47140f9f1c3297b0a4b1.jpg',\n",
       " 'test/118784064864f82da57ee41ede5fd59b.jpg',\n",
       " 'test/118e6d01dfdf00c1fc90a52501295d6a.jpg',\n",
       " 'test/11901bce1f422ef3babd9e37d799a9d8.jpg',\n",
       " 'test/119f675da55ad20f8033218d33d3ec7b.jpg',\n",
       " 'test/11a126ba3ccaed35f95547b5f787ea61.jpg',\n",
       " 'test/11a1f410bc886bcd880fb90462c58f23.jpg',\n",
       " 'test/11a2226cad4e1bcebb4015c28fd2c7e3.jpg',\n",
       " 'test/11afb2f9fb9fa4cc2bd7bdb01ba61f55.jpg',\n",
       " 'test/11b5a669c42cb18ce0f354de59d7bf70.jpg',\n",
       " 'test/11b6d3d460aa9c03baa3cdd090307e23.jpg',\n",
       " 'test/11b9304325e35c1689108ba4632daedf.jpg',\n",
       " 'test/11ba3daa43c68b88bc27dc3ff0af397e.jpg',\n",
       " 'test/11da794edbcb3f36ab3bb60427252404.jpg',\n",
       " 'test/11e7cf5d0c964af74cb3418f4d1cd082.jpg',\n",
       " 'test/11ef436b9b2fcafb39fa824d6b9511d0.jpg',\n",
       " 'test/11f1d13042c0409b87fb39414f189e52.jpg',\n",
       " 'test/11f97a2aa89580a78f440a2b320b8a65.jpg',\n",
       " 'test/11f9a644c6e7a1ec847b917e99462e72.jpg',\n",
       " 'test/11fc120159d97b9f6f27e107666e93f6.jpg',\n",
       " 'test/11fd8887c88af2cad11b1f0824bbb3b2.jpg',\n",
       " 'test/1210c8fbfb9ea74e249043df0aade4d0.jpg',\n",
       " 'test/1217ee8c4a27f7d7d3c2175baac8afc2.jpg',\n",
       " 'test/121af8c54411f9e7459e92b62f9e7767.jpg',\n",
       " 'test/122417fa3c0d4cb9bafc24f46727ff9b.jpg',\n",
       " 'test/1226562b158218585b22d807ce5501b9.jpg',\n",
       " 'test/1228d5ff93a39830f6c36012a106f4c5.jpg',\n",
       " 'test/1246d7db07b4d4fab063b13cf3f08578.jpg',\n",
       " 'test/1249cdab2bcf45c77fd7f3e94a185e75.jpg',\n",
       " 'test/124b1ccaba3b9edbd96720b992a30a54.jpg',\n",
       " 'test/124d981715bbd47ed3f80e726ea1d71d.jpg',\n",
       " 'test/12509a44ca95d95a1e803b0a3fba8ce7.jpg',\n",
       " 'test/1253e8ab759fce7e9f9d8831517d7e9a.jpg',\n",
       " 'test/1255d7d9db559f1c70b04dc74b002a98.jpg',\n",
       " 'test/12576fadf1319d363ea0d8d6f29a2895.jpg',\n",
       " 'test/12595290a6be01f4edc990edd1e69a64.jpg',\n",
       " 'test/126ae77a807276714d6d1ea12d6a2007.jpg',\n",
       " 'test/126ee1ee0d0a37e1f5980a73e92703f3.jpg',\n",
       " 'test/1275db6de36ab20a71d3f631085821c2.jpg',\n",
       " 'test/127d5024643ecc0734ea9c2c8c8cbf19.jpg',\n",
       " 'test/129107cbe7b96bdd10d61811c8f70686.jpg',\n",
       " 'test/129edeb395f0b7aa68cc2f886803dd9d.jpg',\n",
       " 'test/12a5a3abbcb676f7eaf490073d30f978.jpg',\n",
       " 'test/12a8312dcf3d19999da1d4ce3c529015.jpg',\n",
       " 'test/12adb23a6969f47b596b2b05af391a3a.jpg',\n",
       " 'test/12befc23d4fc8e63325b22c449d0c30a.jpg',\n",
       " 'test/12c3287c880cb83dfbc9cbce3d2952be.jpg',\n",
       " 'test/12d213e502b778cbe2ee799eb8b0be3f.jpg',\n",
       " 'test/12de4497b6e8192acf57ece5594307af.jpg',\n",
       " 'test/12e5137dc606e09c78c9b27a1891ea87.jpg',\n",
       " 'test/12eb5437f03772e0cbb27269310a3964.jpg',\n",
       " 'test/12fbe9c28a931d4ed89a1ce769d685b0.jpg',\n",
       " 'test/12fc8d15f26d5cb004e386e74a80dcd0.jpg',\n",
       " 'test/13057d95b7696cf26e4884f2273c7f57.jpg',\n",
       " 'test/1305f4db926583cce8a427c84166d875.jpg',\n",
       " 'test/131bdd75158af3e5c2816a330e6f83dd.jpg',\n",
       " 'test/1321965032ec4a37b44a9a3ac62e2f0b.jpg',\n",
       " 'test/1326e98b42f5026ecd51389c4afde535.jpg',\n",
       " 'test/13310834f9938630a69940a37a8be953.jpg',\n",
       " 'test/133ced46ba8853fb83cdd814ca572112.jpg',\n",
       " 'test/1342e9e4ae5b8823d9b8e4a673578bb9.jpg',\n",
       " 'test/13439e269acd95d1173c11e465961aa6.jpg',\n",
       " 'test/1343ec8b64545f22bb76c2668c8cbe9a.jpg',\n",
       " 'test/13557ec58aad7410efbc8f843754988b.jpg',\n",
       " 'test/135bd15fefabe5b16f8c93be850fc36e.jpg',\n",
       " 'test/13649222b59612a699a235551fcd3fdc.jpg',\n",
       " 'test/13671c9ee26df3edcaff33d43c16e9bc.jpg',\n",
       " 'test/136c4388809b3854c866a81a85bcc4ca.jpg',\n",
       " 'test/136c9656679fd881443a2c83f81696df.jpg',\n",
       " 'test/13733ca862e8b3881e35f1bf1a02a8ce.jpg',\n",
       " 'test/13802b88269d75c9bda1c8a2489abc5c.jpg',\n",
       " 'test/1381912fe152f7873af101cf0d51bbaf.jpg',\n",
       " 'test/13837b605ad3176d3114c5f6bd6a653c.jpg',\n",
       " 'test/138698f34f99fb04361bbcf222235bc6.jpg',\n",
       " 'test/138a5ce524f0ef30818208492eb169e3.jpg',\n",
       " 'test/138aaaa3ad8bdee8167bda4ba8dd3875.jpg',\n",
       " 'test/139431b6f6bffc551bf88f65d2e4d170.jpg',\n",
       " 'test/1397ba1a338af3502945e1beec7efabf.jpg',\n",
       " 'test/13992bae26f099e9b8df55860b8acda6.jpg',\n",
       " 'test/13a381ae2724b106211dc638931b43c0.jpg',\n",
       " 'test/13ac212ccfb9ab1b85bf2aa5da2a96bb.jpg',\n",
       " 'test/13ae7a8703585a08642d9598aeb2fbb7.jpg',\n",
       " 'test/13b4953cc9afdcf603692f74a7cf8048.jpg',\n",
       " 'test/13b4ff9966c0eb2586caff2225cac832.jpg',\n",
       " 'test/13b6f9b3dcbab9a4ba4b5c3de3cd5f6f.jpg',\n",
       " 'test/13bbf5b7a9d2372c266af16905acfa25.jpg',\n",
       " 'test/13c4c05d309fd5f8d307735515cc74c4.jpg',\n",
       " 'test/13cce51b2d667bdf3f05beb9a64be795.jpg',\n",
       " 'test/13d4e348df7d68efc1cc4da882c8485b.jpg',\n",
       " 'test/13d754a5773abf7b3671c1b426fb71df.jpg',\n",
       " 'test/13d7f2f5ce86397e813dcf24d6cc449d.jpg',\n",
       " 'test/13dbf5ece2fbece654f6007c0dd9dfe7.jpg',\n",
       " 'test/13dc58cba81afbfeffc64b17c35a44b1.jpg',\n",
       " 'test/13df0e8382cdcb5ed60c853079a3958e.jpg',\n",
       " 'test/13e8727d23e2bb8c8f453379edb2e93e.jpg',\n",
       " 'test/1403ae02b539f0f2aef5b98809b2fb6b.jpg',\n",
       " 'test/1408272ff346207e3bd3c7537412c398.jpg',\n",
       " 'test/1414953b0f826c6f091221629416250a.jpg',\n",
       " 'test/141f98b125b912c3d3e2c4ce431316e4.jpg',\n",
       " 'test/1420501cefa777f0fc62d5e79a1b9628.jpg',\n",
       " 'test/14241fe74d70226c3c9aaf41f0fa7818.jpg',\n",
       " 'test/142cd6e7fec3cb25f5297258999829b9.jpg',\n",
       " 'test/1432736589ff3278a536203f0725fcba.jpg',\n",
       " 'test/1439e842cb9f8b2c3fcc64806cf82728.jpg',\n",
       " 'test/143c4a06b4f57482282f69df69836986.jpg',\n",
       " 'test/1443444abbb6e1d0974a0c8db8b42db9.jpg',\n",
       " 'test/1443f05f5281e3fe986fc40f7ee55c34.jpg',\n",
       " 'test/1448ce088a417e359510c6ec0b847daf.jpg',\n",
       " 'test/14495a39476bf7fb3ef0971c1edd76cb.jpg',\n",
       " 'test/144a87a697d9e819322ff0b8f57075e1.jpg',\n",
       " 'test/145dcdaf22ce5dca3bab26ea4eca752e.jpg',\n",
       " 'test/145e1b4570fd32057e82c8d5754576e5.jpg',\n",
       " 'test/14679a610485f8741de7472af7b22c38.jpg',\n",
       " 'test/147189dcaeffe1678893377fa4916cf1.jpg',\n",
       " 'test/1475328e0e3f2ef000606db1df2dfb3e.jpg',\n",
       " 'test/1479dff3f12686564bab8f9c016f3118.jpg',\n",
       " 'test/14831db5108c3b9c056efe04329a3916.jpg',\n",
       " 'test/148d0eefa7e51f564d04c43bb1a22821.jpg',\n",
       " 'test/148e793bb3b9d3c45de681e744752fcf.jpg',\n",
       " 'test/1493c4814ac4a2094162a8005fdff7f7.jpg',\n",
       " 'test/14957811daeeec6832cf1a03f56341b7.jpg',\n",
       " 'test/149727c54d9ca9e4757bc139afbd7183.jpg',\n",
       " 'test/149bd3015bd10ce3173d14d4450339e3.jpg',\n",
       " 'test/14b0dfc136f86ca7b07dcc5d1837b8b1.jpg',\n",
       " 'test/14bf19a775ba09562b39a639d15e7c01.jpg',\n",
       " 'test/14c184c41c90fdcca3411e730ae4737c.jpg',\n",
       " 'test/14c213ac8dee633a006a846c30fc5801.jpg',\n",
       " 'test/14cc1817643b420a63d4a86b7a2484ce.jpg',\n",
       " 'test/14cc27d72512eded5b580e642fecbe95.jpg',\n",
       " 'test/14ce33cdebd8d5dddeb10af3c1f135b2.jpg',\n",
       " 'test/14dac63a8e92005b685c7d39ddd8ed40.jpg',\n",
       " 'test/14defd8af56bb99f3585114425e4f4dd.jpg',\n",
       " 'test/14e30f71501187fd727a31132162f9d4.jpg',\n",
       " 'test/14e4f44bf8f6cbdb439c7e230ba12f96.jpg',\n",
       " 'test/14edac8c1c5ff73be5da45c527f756a1.jpg',\n",
       " 'test/1509e27988119ea9293c2df2fc1b4b45.jpg',\n",
       " 'test/150d13d574dba18e286f2029ae99b7df.jpg',\n",
       " 'test/1512039a69dd4fd3a0a4a55812f45a1c.jpg',\n",
       " 'test/151b1e8efd6f63184058b983e10ff829.jpg',\n",
       " 'test/151f75753aa3c7533bbf9a67af7eab27.jpg',\n",
       " 'test/152352bc0fca6b9a1081aebf0fd49bde.jpg',\n",
       " 'test/152d976d1498996b68a2ad4c1fba695f.jpg',\n",
       " 'test/1532b029543eac71cc42099d20758c41.jpg',\n",
       " 'test/15394667f518c3a114c389b69afd1e07.jpg',\n",
       " 'test/153c31d4e8da93c86414568a2d6629ce.jpg',\n",
       " 'test/153e0d8f86691d96db98b4c34c0a62b7.jpg',\n",
       " 'test/1549f7a7bd97b1bffad5146b8c7bb73a.jpg',\n",
       " 'test/156a868bd55b6c19a26fd9d92f813085.jpg',\n",
       " 'test/157202e0e3111c28ca1e9fe44a5e5cad.jpg',\n",
       " 'test/157acf40281d77f6fa1e73df81dd91ba.jpg',\n",
       " 'test/157f367e8f71662d79445034b8b7507a.jpg',\n",
       " 'test/15843a88e6981a66185a2a6c85a6168d.jpg',\n",
       " 'test/158601ca828c9c90ed9640d2a6ad2811.jpg',\n",
       " 'test/158e88cf3cb41d3a88308d163eaa2176.jpg',\n",
       " 'test/159ad1ae82deb9139e629a3ac10bbd15.jpg',\n",
       " 'test/15ae8b2ff3d848d68a507281595a04f0.jpg',\n",
       " 'test/15bf9b209d1e2a227028408b617822b2.jpg',\n",
       " 'test/15cc70e270c48a1e19125a172e90a147.jpg',\n",
       " 'test/15d19747ffe5fb9f8a3cb1aa0974483c.jpg',\n",
       " 'test/15d58b312740384cd1fdd289735ca6b5.jpg',\n",
       " 'test/15d67a6eac16feef4d12f44cbcbe289d.jpg',\n",
       " 'test/15dc293771e16bf634691bf78c7da0a7.jpg',\n",
       " 'test/15e18e644542e0c8777d0cc04d5f1469.jpg',\n",
       " 'test/15e1e7f0c942bc77e04097abcf18f6e3.jpg',\n",
       " 'test/15e309c647d4775893d4bc09c4aeed7a.jpg',\n",
       " 'test/15e3385bb48b60e73b0daf9a02749b0b.jpg',\n",
       " 'test/15e68e9c0c2d81303fdfa1b0cfd290f8.jpg',\n",
       " 'test/15eb91d38d13be03d41639899e923053.jpg',\n",
       " 'test/15f7d6903c4de20523875cf8afb7012e.jpg',\n",
       " 'test/15f9bce2f39a0855b04d1fcc173e5f7a.jpg',\n",
       " 'test/15f9e1944262b31e59787377fff818c3.jpg',\n",
       " 'test/15ff3e68e2352305e87acf8905591f9b.jpg',\n",
       " 'test/1603b769f84e574a2cf30f31d6f0c571.jpg',\n",
       " 'test/160b9c3dca1c3031e1e76ffb8ee0a7eb.jpg',\n",
       " 'test/1610cb0315227b74d9c28bb64cb79503.jpg',\n",
       " 'test/161141d06b50fd30b2cf61b2735fb105.jpg',\n",
       " 'test/1611e247bb7055f705bbe0de950ce81e.jpg',\n",
       " 'test/16163a6f2e8065b225219d0f087a6b72.jpg',\n",
       " 'test/1618763d5cd4c51c555ea05a3048a117.jpg',\n",
       " 'test/161b2a67618d2217940282d01d27c32a.jpg',\n",
       " 'test/161d635a663fca71167b03b6957be911.jpg',\n",
       " 'test/16297a865821f0d7e68340892521ea7f.jpg',\n",
       " 'test/162ae1aea046d2fef40ddf3bc40afc08.jpg',\n",
       " 'test/1631337dcfe0e7da41ee17346f76d8cf.jpg',\n",
       " 'test/1638e407075b037a3f024fedaaa0953d.jpg',\n",
       " 'test/1650377ecff48b7449679b7a13083e4e.jpg',\n",
       " 'test/1653005c7bbba1773aa2ddaa949f051f.jpg',\n",
       " 'test/1653d81818079fce0df5db5d9782f53f.jpg',\n",
       " 'test/16550223e691b695df211f649806e380.jpg',\n",
       " 'test/1658042653b53e33372bc4c5fa1ed04b.jpg',\n",
       " 'test/165b0e6408da3a3ec2edcaae70b30b5d.jpg',\n",
       " 'test/165f33c2289a91271048b887941ccf44.jpg',\n",
       " 'test/166b2dcefef9810ef83093f9ca3267b5.jpg',\n",
       " 'test/166e1d76d8d3ebceb9d33944b1353c80.jpg',\n",
       " 'test/166eb761eb90853d24e6d6ca5f89db8c.jpg',\n",
       " 'test/167092ac5cf49b2f6e4cbb4899ab5e84.jpg',\n",
       " 'test/1670edd54db5c0e74147052f5e5c8c13.jpg',\n",
       " 'test/1672018bbbc549cc43a14d9129197f08.jpg',\n",
       " 'test/16767d3cf7be73cc574069ce77dd5c3c.jpg',\n",
       " 'test/1676f01e2a8b79dd3d2aa846da91889a.jpg',\n",
       " 'test/167750ceffff7fb01e189998bbc78541.jpg',\n",
       " 'test/167efda2a6e2b3f7e378094c0ce98ad9.jpg',\n",
       " 'test/16816a9d4db979b3abc8c92404ab67e3.jpg',\n",
       " 'test/168f29c365b28f51c879db88ae3e36ef.jpg',\n",
       " 'test/168fcad3c9a90af9b0d3426ce7577c0c.jpg',\n",
       " 'test/169018ac77af866ad53ff23b2ef1063d.jpg',\n",
       " 'test/1696bdbb672d81a099fa365b41c7dfd2.jpg',\n",
       " 'test/16a6150b6b5a84a2f0ee2c07f79125ff.jpg',\n",
       " 'test/16a7e9f6d674462e90c403dd2044f462.jpg',\n",
       " 'test/16ba21d0aa8ebc2830260518f66efafc.jpg',\n",
       " 'test/16c26e38cb350c186b2ebd8bb228ed90.jpg',\n",
       " 'test/16c99eae8d1d81d632d5a76fa9448a68.jpg',\n",
       " 'test/16cd0ecab645b8d0629296fe0ee728f0.jpg',\n",
       " 'test/16d1f5bfb4ff87c4865f158d8c4a915d.jpg',\n",
       " 'test/16d37a5c6ddaf444ab5585627be4adce.jpg',\n",
       " 'test/16d7e06f92d7def2ff74136dde7a36e1.jpg',\n",
       " 'test/16e8523182b15d1fd9119070fdc56ac8.jpg',\n",
       " 'test/16e979f5cd47a91d0c9aa629668b3487.jpg',\n",
       " 'test/16ead4e130b3e89220eb965932a8682c.jpg',\n",
       " 'test/1701ba292ae8b39d708b155ff95e5293.jpg',\n",
       " 'test/1703181ee84a6931a6d665da5f98d36f.jpg',\n",
       " 'test/1703d520452a9eb5f9c770db0021d302.jpg',\n",
       " 'test/1704866a26e172e1bdf79b2dd8be3dd8.jpg',\n",
       " 'test/171203b31e774b182882632d2ce34989.jpg',\n",
       " 'test/172023a5d50cf0b694e5de405f855d07.jpg',\n",
       " 'test/1720270afa855d0a9eb09a67f2b13d0c.jpg',\n",
       " 'test/1727a53c33d666e3734dc7a11d7dd9a1.jpg',\n",
       " 'test/17280cd4e9a80457d02070d32a73f053.jpg',\n",
       " 'test/1734b70b47ec49ab9e7dc6a119331ffe.jpg',\n",
       " 'test/174e1bc31c5da607dda786cc43eeaa50.jpg',\n",
       " 'test/174fea6abe703dd3f16a9df66d0c4665.jpg',\n",
       " 'test/175988f267bc03d07e7ad7e406abd144.jpg',\n",
       " 'test/175c6d58a4514b8ea8814d26f015cbef.jpg',\n",
       " 'test/175e30d0794ea318192d9a06538f24cf.jpg',\n",
       " 'test/176c320550e2c70f821b43fa452f54fb.jpg',\n",
       " 'test/176db83947685a07cd11fa338bc629d6.jpg',\n",
       " 'test/1773ea6e4ba88b7806c5658a5d05b2ff.jpg',\n",
       " 'test/1780847606b8e5ae281c97b2027127ec.jpg',\n",
       " 'test/178e636aafb169a385215a6daf1cbf5a.jpg',\n",
       " 'test/178ed7eb28e5e914eba9a4ee69e572ea.jpg',\n",
       " 'test/178f52ba324c3408ef540a81307a54a0.jpg',\n",
       " 'test/1790ffb5176e566be9c957bd92265e0a.jpg',\n",
       " 'test/1791edb2de366e05039b6df1dd40c704.jpg',\n",
       " 'test/1799b329a758f8f9411337f44a7765de.jpg',\n",
       " 'test/179ab2ea28b943cb2b8c95f4989766aa.jpg',\n",
       " 'test/17a4665e63f73d0f01089a4e153c33c4.jpg',\n",
       " 'test/17b19a43d3850f943f4fe414be7d7356.jpg',\n",
       " 'test/17b658036c3bdba71b5261f2355cf3c2.jpg',\n",
       " 'test/17b66006b38a52e0df51caf0ed4dd864.jpg',\n",
       " ...]"
      ]
     },
     "execution_count": 67,
     "metadata": {},
     "output_type": "execute_result"
    }
   ],
   "source": [
    "data.test_ds.fnames"
   ]
  },
  {
   "cell_type": "code",
   "execution_count": 69,
   "metadata": {},
   "outputs": [
    {
     "name": "stdout",
     "output_type": "stream",
     "text": [
      "                                              \r"
     ]
    }
   ],
   "source": [
    "log_preds, y = learn.TTA(is_test=True)\n",
    "probs= np.mean(np.exp(log_preds),0)"
   ]
  },
  {
   "cell_type": "code",
   "execution_count": 70,
   "metadata": {},
   "outputs": [
    {
     "data": {
      "text/plain": [
       "(10357, 120)"
      ]
     },
     "execution_count": 70,
     "metadata": {},
     "output_type": "execute_result"
    }
   ],
   "source": [
    "probs.shape"
   ]
  },
  {
   "cell_type": "code",
   "execution_count": 71,
   "metadata": {},
   "outputs": [],
   "source": [
    "df = pd.DataFrame(probs)\n",
    "df.columns = data.classes"
   ]
  },
  {
   "cell_type": "code",
   "execution_count": 72,
   "metadata": {},
   "outputs": [],
   "source": [
    "df.insert(0,'id', [o[5:-4] for o in data.test_ds.fnames])"
   ]
  },
  {
   "cell_type": "code",
   "execution_count": 73,
   "metadata": {},
   "outputs": [
    {
     "data": {
      "text/html": [
       "<div>\n",
       "<style scoped>\n",
       "    .dataframe tbody tr th:only-of-type {\n",
       "        vertical-align: middle;\n",
       "    }\n",
       "\n",
       "    .dataframe tbody tr th {\n",
       "        vertical-align: top;\n",
       "    }\n",
       "\n",
       "    .dataframe thead th {\n",
       "        text-align: right;\n",
       "    }\n",
       "</style>\n",
       "<table border=\"1\" class=\"dataframe\">\n",
       "  <thead>\n",
       "    <tr style=\"text-align: right;\">\n",
       "      <th></th>\n",
       "      <th>id</th>\n",
       "      <th>affenpinscher</th>\n",
       "      <th>afghan_hound</th>\n",
       "      <th>african_hunting_dog</th>\n",
       "      <th>airedale</th>\n",
       "      <th>american_staffordshire_terrier</th>\n",
       "      <th>appenzeller</th>\n",
       "      <th>australian_terrier</th>\n",
       "      <th>basenji</th>\n",
       "      <th>basset</th>\n",
       "      <th>...</th>\n",
       "      <th>toy_poodle</th>\n",
       "      <th>toy_terrier</th>\n",
       "      <th>vizsla</th>\n",
       "      <th>walker_hound</th>\n",
       "      <th>weimaraner</th>\n",
       "      <th>welsh_springer_spaniel</th>\n",
       "      <th>west_highland_white_terrier</th>\n",
       "      <th>whippet</th>\n",
       "      <th>wire-haired_fox_terrier</th>\n",
       "      <th>yorkshire_terrier</th>\n",
       "    </tr>\n",
       "  </thead>\n",
       "  <tbody>\n",
       "    <tr>\n",
       "      <th>0</th>\n",
       "      <td>000621fb3cbb32d8935728e48679680e</td>\n",
       "      <td>9.354342e-09</td>\n",
       "      <td>2.328313e-07</td>\n",
       "      <td>4.824278e-08</td>\n",
       "      <td>2.297397e-09</td>\n",
       "      <td>8.639810e-10</td>\n",
       "      <td>1.977654e-08</td>\n",
       "      <td>1.022322e-08</td>\n",
       "      <td>3.546635e-09</td>\n",
       "      <td>7.111995e-09</td>\n",
       "      <td>...</td>\n",
       "      <td>5.227032e-08</td>\n",
       "      <td>2.216841e-08</td>\n",
       "      <td>5.447583e-09</td>\n",
       "      <td>1.616551e-08</td>\n",
       "      <td>1.900287e-09</td>\n",
       "      <td>3.519948e-09</td>\n",
       "      <td>2.332628e-08</td>\n",
       "      <td>2.102915e-09</td>\n",
       "      <td>6.902151e-08</td>\n",
       "      <td>1.320661e-08</td>\n",
       "    </tr>\n",
       "    <tr>\n",
       "      <th>1</th>\n",
       "      <td>00102ee9d8eb90812350685311fe5890</td>\n",
       "      <td>2.831603e-10</td>\n",
       "      <td>2.072228e-11</td>\n",
       "      <td>1.485326e-10</td>\n",
       "      <td>1.438711e-10</td>\n",
       "      <td>4.197259e-10</td>\n",
       "      <td>3.449879e-11</td>\n",
       "      <td>5.805841e-10</td>\n",
       "      <td>5.743473e-10</td>\n",
       "      <td>3.648087e-10</td>\n",
       "      <td>...</td>\n",
       "      <td>2.419515e-10</td>\n",
       "      <td>1.898645e-10</td>\n",
       "      <td>1.071953e-09</td>\n",
       "      <td>5.205332e-09</td>\n",
       "      <td>8.236555e-10</td>\n",
       "      <td>2.124121e-09</td>\n",
       "      <td>5.075651e-07</td>\n",
       "      <td>1.405850e-10</td>\n",
       "      <td>3.420517e-10</td>\n",
       "      <td>7.401135e-11</td>\n",
       "    </tr>\n",
       "    <tr>\n",
       "      <th>2</th>\n",
       "      <td>0012a730dfa437f5f3613fb75efcd4ce</td>\n",
       "      <td>5.685584e-11</td>\n",
       "      <td>1.156883e-08</td>\n",
       "      <td>2.201817e-09</td>\n",
       "      <td>1.807609e-10</td>\n",
       "      <td>1.810967e-10</td>\n",
       "      <td>1.805234e-10</td>\n",
       "      <td>6.037196e-11</td>\n",
       "      <td>1.285280e-10</td>\n",
       "      <td>1.355260e-08</td>\n",
       "      <td>...</td>\n",
       "      <td>1.882154e-11</td>\n",
       "      <td>6.071673e-09</td>\n",
       "      <td>3.306452e-11</td>\n",
       "      <td>6.280537e-09</td>\n",
       "      <td>1.600099e-09</td>\n",
       "      <td>2.271328e-07</td>\n",
       "      <td>7.207544e-11</td>\n",
       "      <td>5.919483e-09</td>\n",
       "      <td>1.190665e-09</td>\n",
       "      <td>8.085935e-10</td>\n",
       "    </tr>\n",
       "    <tr>\n",
       "      <th>3</th>\n",
       "      <td>001510bc8570bbeee98c8d80c8a95ec1</td>\n",
       "      <td>1.179083e-01</td>\n",
       "      <td>6.723148e-05</td>\n",
       "      <td>1.625346e-05</td>\n",
       "      <td>9.057981e-05</td>\n",
       "      <td>1.192150e-05</td>\n",
       "      <td>1.215668e-04</td>\n",
       "      <td>2.736980e-06</td>\n",
       "      <td>1.534455e-04</td>\n",
       "      <td>2.238207e-04</td>\n",
       "      <td>...</td>\n",
       "      <td>2.707963e-04</td>\n",
       "      <td>1.667985e-05</td>\n",
       "      <td>4.327640e-04</td>\n",
       "      <td>5.266545e-06</td>\n",
       "      <td>2.769412e-05</td>\n",
       "      <td>7.106709e-05</td>\n",
       "      <td>9.736184e-07</td>\n",
       "      <td>2.652377e-03</td>\n",
       "      <td>6.652364e-06</td>\n",
       "      <td>5.728786e-05</td>\n",
       "    </tr>\n",
       "    <tr>\n",
       "      <th>4</th>\n",
       "      <td>001a5f3114548acdefa3d4da05474c2e</td>\n",
       "      <td>4.285334e-02</td>\n",
       "      <td>6.896318e-06</td>\n",
       "      <td>3.930043e-07</td>\n",
       "      <td>8.476086e-08</td>\n",
       "      <td>1.225384e-06</td>\n",
       "      <td>2.789862e-07</td>\n",
       "      <td>1.601033e-05</td>\n",
       "      <td>1.400613e-07</td>\n",
       "      <td>1.017435e-06</td>\n",
       "      <td>...</td>\n",
       "      <td>3.436122e-07</td>\n",
       "      <td>2.336151e-08</td>\n",
       "      <td>8.011359e-07</td>\n",
       "      <td>7.208508e-08</td>\n",
       "      <td>3.374111e-08</td>\n",
       "      <td>1.038270e-07</td>\n",
       "      <td>5.219988e-07</td>\n",
       "      <td>4.716358e-07</td>\n",
       "      <td>1.453883e-05</td>\n",
       "      <td>1.778680e-04</td>\n",
       "    </tr>\n",
       "  </tbody>\n",
       "</table>\n",
       "<p>5 rows × 121 columns</p>\n",
       "</div>"
      ],
      "text/plain": [
       "                                 id  affenpinscher  afghan_hound  \\\n",
       "0  000621fb3cbb32d8935728e48679680e   9.354342e-09  2.328313e-07   \n",
       "1  00102ee9d8eb90812350685311fe5890   2.831603e-10  2.072228e-11   \n",
       "2  0012a730dfa437f5f3613fb75efcd4ce   5.685584e-11  1.156883e-08   \n",
       "3  001510bc8570bbeee98c8d80c8a95ec1   1.179083e-01  6.723148e-05   \n",
       "4  001a5f3114548acdefa3d4da05474c2e   4.285334e-02  6.896318e-06   \n",
       "\n",
       "   african_hunting_dog      airedale  american_staffordshire_terrier  \\\n",
       "0         4.824278e-08  2.297397e-09                    8.639810e-10   \n",
       "1         1.485326e-10  1.438711e-10                    4.197259e-10   \n",
       "2         2.201817e-09  1.807609e-10                    1.810967e-10   \n",
       "3         1.625346e-05  9.057981e-05                    1.192150e-05   \n",
       "4         3.930043e-07  8.476086e-08                    1.225384e-06   \n",
       "\n",
       "    appenzeller  australian_terrier       basenji        basset  \\\n",
       "0  1.977654e-08        1.022322e-08  3.546635e-09  7.111995e-09   \n",
       "1  3.449879e-11        5.805841e-10  5.743473e-10  3.648087e-10   \n",
       "2  1.805234e-10        6.037196e-11  1.285280e-10  1.355260e-08   \n",
       "3  1.215668e-04        2.736980e-06  1.534455e-04  2.238207e-04   \n",
       "4  2.789862e-07        1.601033e-05  1.400613e-07  1.017435e-06   \n",
       "\n",
       "         ...            toy_poodle   toy_terrier        vizsla  walker_hound  \\\n",
       "0        ...          5.227032e-08  2.216841e-08  5.447583e-09  1.616551e-08   \n",
       "1        ...          2.419515e-10  1.898645e-10  1.071953e-09  5.205332e-09   \n",
       "2        ...          1.882154e-11  6.071673e-09  3.306452e-11  6.280537e-09   \n",
       "3        ...          2.707963e-04  1.667985e-05  4.327640e-04  5.266545e-06   \n",
       "4        ...          3.436122e-07  2.336151e-08  8.011359e-07  7.208508e-08   \n",
       "\n",
       "     weimaraner  welsh_springer_spaniel  west_highland_white_terrier  \\\n",
       "0  1.900287e-09            3.519948e-09                 2.332628e-08   \n",
       "1  8.236555e-10            2.124121e-09                 5.075651e-07   \n",
       "2  1.600099e-09            2.271328e-07                 7.207544e-11   \n",
       "3  2.769412e-05            7.106709e-05                 9.736184e-07   \n",
       "4  3.374111e-08            1.038270e-07                 5.219988e-07   \n",
       "\n",
       "        whippet  wire-haired_fox_terrier  yorkshire_terrier  \n",
       "0  2.102915e-09             6.902151e-08       1.320661e-08  \n",
       "1  1.405850e-10             3.420517e-10       7.401135e-11  \n",
       "2  5.919483e-09             1.190665e-09       8.085935e-10  \n",
       "3  2.652377e-03             6.652364e-06       5.728786e-05  \n",
       "4  4.716358e-07             1.453883e-05       1.778680e-04  \n",
       "\n",
       "[5 rows x 121 columns]"
      ]
     },
     "execution_count": 73,
     "metadata": {},
     "output_type": "execute_result"
    }
   ],
   "source": [
    "df.head()"
   ]
  },
  {
   "cell_type": "code",
   "execution_count": 74,
   "metadata": {},
   "outputs": [],
   "source": [
    "SUBM = f'{PATH}/subm/'\n",
    "os.makedirs(SUBM,exist_ok=True)\n",
    "df.to_csv(f'{SUBM}subm.gz', compression='gzip', index=False)"
   ]
  },
  {
   "cell_type": "code",
   "execution_count": 75,
   "metadata": {},
   "outputs": [
    {
     "data": {
      "text/html": [
       "<a href='/fastai/data/dogbreed//subm/subm.gz' target='_blank'>/fastai/data/dogbreed//subm/subm.gz</a><br>"
      ],
      "text/plain": [
       "/fastai/data/dogbreed/subm/subm.gz"
      ]
     },
     "execution_count": 75,
     "metadata": {},
     "output_type": "execute_result"
    }
   ],
   "source": [
    "FileLink(f'{SUBM}subm.gz')"
   ]
  },
  {
   "cell_type": "markdown",
   "metadata": {},
   "source": [
    "## Individual Prediction"
   ]
  },
  {
   "cell_type": "code",
   "execution_count": 76,
   "metadata": {},
   "outputs": [
    {
     "data": {
      "text/plain": [
       "'train/021b5a49189665c0442c19b5b33e8cf1.jpg'"
      ]
     },
     "execution_count": 76,
     "metadata": {},
     "output_type": "execute_result"
    }
   ],
   "source": [
    "fn = data.val_ds.fnames[23]\n",
    "fn"
   ]
  },
  {
   "cell_type": "code",
   "execution_count": 78,
   "metadata": {},
   "outputs": [
    {
     "data": {
      "image/png": "[encoded data removed]",
      "text/plain": [
       "<PIL.Image.Image image mode=RGB size=150x150 at 0x7F1402582978>"
      ]
     },
     "execution_count": 78,
     "metadata": {},
     "output_type": "execute_result"
    }
   ],
   "source": [
    "Image.open(PATH+fn).resize((150,150))"
   ]
  },
  {
   "cell_type": "code",
   "execution_count": 83,
   "metadata": {},
   "outputs": [
    {
     "data": {
      "text/plain": [
       "42"
      ]
     },
     "execution_count": 83,
     "metadata": {},
     "output_type": "execute_result"
    }
   ],
   "source": [
    "#Method  1\n",
    "\n",
    "trn_tfms, val_tfms = tfms_from_model(arch,sz)\n",
    "ds = FilesIndexArrayDataset([fn], np.array([0]), val_tfms, PATH)\n",
    "dl = DataLoader(ds)\n",
    "preds = learn.predict_dl(dl)\n",
    "np.argmax(preds)"
   ]
  },
  {
   "cell_type": "code",
   "execution_count": 84,
   "metadata": {},
   "outputs": [
    {
     "data": {
      "text/plain": [
       "'entlebucher'"
      ]
     },
     "execution_count": 84,
     "metadata": {},
     "output_type": "execute_result"
    }
   ],
   "source": [
    "learn.data.classes[np.argmax(preds)]"
   ]
  },
  {
   "cell_type": "code",
   "execution_count": 85,
   "metadata": {},
   "outputs": [
    {
     "data": {
      "text/plain": [
       "42"
      ]
     },
     "execution_count": 85,
     "metadata": {},
     "output_type": "execute_result"
    }
   ],
   "source": [
    "#Method 2\n",
    "trn_tfms, val_tfms = tfms_from_model(arch,sz)\n",
    "im = val_tfms(open_image(PATH+fn))\n",
    "preds = learn.predict_array(im[None])\n",
    "np.argmax(preds)"
   ]
  },
  {
   "cell_type": "code",
   "execution_count": 87,
   "metadata": {},
   "outputs": [
    {
     "data": {
      "text/plain": [
       "'entlebucher'"
      ]
     },
     "execution_count": 87,
     "metadata": {},
     "output_type": "execute_result"
    }
   ],
   "source": [
    "learn.data.classes[42]"
   ]
  },
  {
   "cell_type": "code",
   "execution_count": 88,
   "metadata": {},
   "outputs": [
    {
     "data": {
      "text/plain": [
       "{'/fastai/data/dogbreed/'}"
      ]
     },
     "execution_count": 88,
     "metadata": {},
     "output_type": "execute_result"
    }
   ],
   "source": [
    "{PATH}"
   ]
  },
  {
   "cell_type": "code",
   "execution_count": 89,
   "metadata": {},
   "outputs": [
    {
     "data": {
      "text/plain": [
       "'/fastai/data/dogbreed/'"
      ]
     },
     "execution_count": 89,
     "metadata": {},
     "output_type": "execute_result"
    }
   ],
   "source": [
    "PATH"
   ]
  },
  {
   "cell_type": "code",
   "execution_count": 153,
   "metadata": {},
   "outputs": [
    {
     "data": {
      "text/plain": [
       "['IMG_0844.jpg',\n",
       " 'IMG_0847.jpg',\n",
       " 'Kenny-1.jpg',\n",
       " 'Kenny-2.jpg',\n",
       " 'Kenny-3.jpg',\n",
       " 'Kenny-4.jpg',\n",
       " 'bulldog.jpeg',\n",
       " 'chihauha.jpeg',\n",
       " 'cocker-spaniel.jpeg',\n",
       " 'gm-sheperd.jpeg',\n",
       " 'great-dane.jpeg',\n",
       " 'pomeranian.jpeg',\n",
       " '330px-Female_German_Shepherd.jpg',\n",
       " 'poodle.jpeg',\n",
       " 'beagle.jpeg']"
      ]
     },
     "execution_count": 153,
     "metadata": {},
     "output_type": "execute_result"
    }
   ],
   "source": [
    "listF = os.listdir(PATH+'mani-test')\n",
    "listF"
   ]
  },
  {
   "cell_type": "code",
   "execution_count": 154,
   "metadata": {},
   "outputs": [
    {
     "data": {
      "image/png": "[encoded data removed]",
      "text/plain": [
       "<PIL.Image.Image image mode=RGB size=150x150 at 0x7F144C2DC208>"
      ]
     },
     "metadata": {},
     "output_type": "display_data"
    },
    {
     "data": {
      "text/plain": [
       "'beagle'"
      ]
     },
     "metadata": {},
     "output_type": "display_data"
    }
   ],
   "source": [
    "trn_tfms, val_tfms = tfms_from_model(arch,sz)\n",
    "im = val_tfms(open_image(PATH+'mani-test/'+ listF[14]))\n",
    "preds = learn.predict_array(im[None])\n",
    "display(Image.open(PATH+'mani-test/'+ listF[14]).resize((150,150)))\n",
    "display(learn.data.classes[np.argmax(preds)])\n"
   ]
  },
  {
   "cell_type": "code",
   "execution_count": null,
   "metadata": {},
   "outputs": [],
   "source": []
  }
 ],
 "metadata": {
  "kernelspec": {
   "display_name": "Python 3",
   "language": "python",
   "name": "python3"
  },
  "language_info": {
   "codemirror_mode": {
    "name": "ipython",
    "version": 3
   },
   "file_extension": ".py",
   "mimetype": "text/x-python",
   "name": "python",
   "nbconvert_exporter": "python",
   "pygments_lexer": "ipython3",
   "version": "3.6.6"
  }
 },
 "nbformat": 4,
 "nbformat_minor": 2
}
